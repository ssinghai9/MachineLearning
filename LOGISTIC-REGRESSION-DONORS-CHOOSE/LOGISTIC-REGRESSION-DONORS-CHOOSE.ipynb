{
 "cells": [
  {
   "cell_type": "markdown",
   "metadata": {
    "toc": true
   },
   "source": [
    "<h1>Table of Contents<span class=\"tocSkip\"></span></h1>\n",
    "<div class=\"toc\"><ul class=\"toc-item\"><li><span><a href=\"#Author-:-SAURABH-SINGHAI\" data-toc-modified-id=\"Author-:-SAURABH-SINGHAI-1\"><span class=\"toc-item-num\">1&nbsp;&nbsp;</span>Author : SAURABH SINGHAI</a></span></li><li><span><a href=\"#About-the-DonorsChoose-Data-Set\" data-toc-modified-id=\"About-the-DonorsChoose-Data-Set-2\"><span class=\"toc-item-num\">2&nbsp;&nbsp;</span>About the DonorsChoose Data Set</a></span><ul class=\"toc-item\"><li><span><a href=\"#Notes-on-the-Essay-Data\" data-toc-modified-id=\"Notes-on-the-Essay-Data-2.1\"><span class=\"toc-item-num\">2.1&nbsp;&nbsp;</span>Notes on the Essay Data</a></span></li></ul></li><li><span><a href=\"#Import-Necessary-Libraries\" data-toc-modified-id=\"Import-Necessary-Libraries-3\"><span class=\"toc-item-num\">3&nbsp;&nbsp;</span>Import Necessary Libraries</a></span></li><li><span><a href=\"#Reading-Data\" data-toc-modified-id=\"Reading-Data-4\"><span class=\"toc-item-num\">4&nbsp;&nbsp;</span>Reading Data</a></span></li><li><span><a href=\"#Approved-And-Non-Approved-Projects\" data-toc-modified-id=\"Approved-And-Non-Approved-Projects-5\"><span class=\"toc-item-num\">5&nbsp;&nbsp;</span>Approved And Non Approved Projects</a></span></li><li><span><a href=\"#Project-Dataframe-shape-and-Column-Values\" data-toc-modified-id=\"Project-Dataframe-shape-and-Column-Values-6\"><span class=\"toc-item-num\">6&nbsp;&nbsp;</span>Project Dataframe shape and Column Values</a></span></li><li><span><a href=\"#Resource-data-shape-and-Column-Values\" data-toc-modified-id=\"Resource-data-shape-and-Column-Values-7\"><span class=\"toc-item-num\">7&nbsp;&nbsp;</span>Resource data shape and Column Values</a></span></li><li><span><a href=\"#Preprocessing-of-project_subject_categories\" data-toc-modified-id=\"Preprocessing-of-project_subject_categories-8\"><span class=\"toc-item-num\">8&nbsp;&nbsp;</span>Preprocessing of <code>project_subject_categories</code></a></span></li><li><span><a href=\"#Preprocessing-of-project_subject_subcategories\" data-toc-modified-id=\"Preprocessing-of-project_subject_subcategories-9\"><span class=\"toc-item-num\">9&nbsp;&nbsp;</span>Preprocessing of <code>project_subject_subcategories</code></a></span></li><li><span><a href=\"#Preprocessing-of--project_grade_category\" data-toc-modified-id=\"Preprocessing-of--project_grade_category-10\"><span class=\"toc-item-num\">10&nbsp;&nbsp;</span>Preprocessing of  <code>project_grade_category</code></a></span></li><li><span><a href=\"#Create-new-column-'Essay'-by-merging-all-project-Essays\" data-toc-modified-id=\"Create-new-column-'Essay'-by-merging-all-project-Essays-11\"><span class=\"toc-item-num\">11&nbsp;&nbsp;</span>Create new column 'Essay' by merging all project Essays</a></span></li><li><span><a href=\"#Use-Decontraction-function-to-decontract-project-essay\" data-toc-modified-id=\"Use-Decontraction-function-to-decontract-project-essay-12\"><span class=\"toc-item-num\">12&nbsp;&nbsp;</span>Use Decontraction function to decontract project essay</a></span></li><li><span><a href=\"#Remove-line-breaks\" data-toc-modified-id=\"Remove-line-breaks-13\"><span class=\"toc-item-num\">13&nbsp;&nbsp;</span>Remove line breaks</a></span></li><li><span><a href=\"#Remove-Special-Chars\" data-toc-modified-id=\"Remove-Special-Chars-14\"><span class=\"toc-item-num\">14&nbsp;&nbsp;</span>Remove Special Chars</a></span></li><li><span><a href=\"#Remove-Stopwards--and-Join-the-essays\" data-toc-modified-id=\"Remove-Stopwards--and-Join-the-essays-15\"><span class=\"toc-item-num\">15&nbsp;&nbsp;</span>Remove Stopwards  and Join the essays</a></span></li><li><span><a href=\"#Drop-essay-columns-1,-2,-3,-4\" data-toc-modified-id=\"Drop-essay-columns-1,-2,-3,-4-16\"><span class=\"toc-item-num\">16&nbsp;&nbsp;</span>Drop essay columns 1, 2, 3, 4</a></span></li><li><span><a href=\"#Preprocessing-of-project_title\" data-toc-modified-id=\"Preprocessing-of-project_title-17\"><span class=\"toc-item-num\">17&nbsp;&nbsp;</span><font color=\"black\">Preprocessing of <code>project_title</code></font></a></span></li><li><span><a href=\"#Drop-column-project_title-and-use-Cleaned_Title\" data-toc-modified-id=\"Drop-column-project_title-and-use-Cleaned_Title-18\"><span class=\"toc-item-num\">18&nbsp;&nbsp;</span>Drop column project_title and use Cleaned_Title</a></span></li><li><span><a href=\"#Add-up-the-price-based-on-project-id\" data-toc-modified-id=\"Add-up-the-price-based-on-project-id-19\"><span class=\"toc-item-num\">19&nbsp;&nbsp;</span>Add up the price based on project id</a></span></li><li><span><a href=\"#Adding-the-word-count-of-essay-and-title-as-new-columns\" data-toc-modified-id=\"Adding-the-word-count-of-essay-and-title-as-new-columns-20\"><span class=\"toc-item-num\">20&nbsp;&nbsp;</span>Adding the word count of essay and title as new columns</a></span></li><li><span><a href=\"#Separate-out-the-Dependant-and-independant-variables\" data-toc-modified-id=\"Separate-out-the-Dependant-and-independant-variables-21\"><span class=\"toc-item-num\">21&nbsp;&nbsp;</span>Separate out the Dependant and independant variables</a></span></li><li><span><a href=\"#Splitting-data-into-Test,Train,CV\" data-toc-modified-id=\"Splitting-data-into-Test,Train,CV-22\"><span class=\"toc-item-num\">22&nbsp;&nbsp;</span>Splitting data into Test,Train,CV</a></span></li><li><span><a href=\"#Vectorize-the-features\" data-toc-modified-id=\"Vectorize-the-features-23\"><span class=\"toc-item-num\">23&nbsp;&nbsp;</span>Vectorize the features</a></span><ul class=\"toc-item\"><li><span><a href=\"#Vectorize-the-Categorical-Features---categories\" data-toc-modified-id=\"Vectorize-the-Categorical-Features---categories-23.1\"><span class=\"toc-item-num\">23.1&nbsp;&nbsp;</span>Vectorize the Categorical Features - categories</a></span></li><li><span><a href=\"#Vectorize-the-Categorical-Features---subcategories\" data-toc-modified-id=\"Vectorize-the-Categorical-Features---subcategories-23.2\"><span class=\"toc-item-num\">23.2&nbsp;&nbsp;</span>Vectorize the Categorical Features - subcategories</a></span></li><li><span><a href=\"#Vectorize-the-Categorical-Features---school-state\" data-toc-modified-id=\"Vectorize-the-Categorical-Features---school-state-23.3\"><span class=\"toc-item-num\">23.3&nbsp;&nbsp;</span>Vectorize the Categorical Features - school state</a></span></li><li><span><a href=\"#Vectorize-the-Categorical-Features---teacher-prefix\" data-toc-modified-id=\"Vectorize-the-Categorical-Features---teacher-prefix-23.4\"><span class=\"toc-item-num\">23.4&nbsp;&nbsp;</span>Vectorize the Categorical Features - teacher prefix</a></span></li><li><span><a href=\"#Vectorize-the-Categorical-Features---project_grade_category\" data-toc-modified-id=\"Vectorize-the-Categorical-Features---project_grade_category-23.5\"><span class=\"toc-item-num\">23.5&nbsp;&nbsp;</span>Vectorize the Categorical Features - project_grade_category</a></span></li><li><span><a href=\"#Vectorize-the-Numerical-Features---teacher_number_of_previously_posted_projects\" data-toc-modified-id=\"Vectorize-the-Numerical-Features---teacher_number_of_previously_posted_projects-23.6\"><span class=\"toc-item-num\">23.6&nbsp;&nbsp;</span>Vectorize the Numerical Features - teacher_number_of_previously_posted_projects</a></span></li><li><span><a href=\"#Vectorize-the-Numerical-Features---price\" data-toc-modified-id=\"Vectorize-the-Numerical-Features---price-23.7\"><span class=\"toc-item-num\">23.7&nbsp;&nbsp;</span>Vectorize the Numerical Features - price</a></span></li><li><span><a href=\"#Vectorize-the-Numerical-Features---quantity\" data-toc-modified-id=\"Vectorize-the-Numerical-Features---quantity-23.8\"><span class=\"toc-item-num\">23.8&nbsp;&nbsp;</span>Vectorize the Numerical Features - quantity</a></span></li><li><span><a href=\"#Vectorize-the-Numerical-Features---essay-count\" data-toc-modified-id=\"Vectorize-the-Numerical-Features---essay-count-23.9\"><span class=\"toc-item-num\">23.9&nbsp;&nbsp;</span>Vectorize the Numerical Features - essay count</a></span></li><li><span><a href=\"#Vectorize-the-Numerical-Features---title-count\" data-toc-modified-id=\"Vectorize-the-Numerical-Features---title-count-23.10\"><span class=\"toc-item-num\">23.10&nbsp;&nbsp;</span>Vectorize the Numerical Features - title count</a></span></li><li><span><a href=\"#Vectorizing-Text-data\" data-toc-modified-id=\"Vectorizing-Text-data-23.11\"><span class=\"toc-item-num\">23.11&nbsp;&nbsp;</span>Vectorizing Text data</a></span><ul class=\"toc-item\"><li><span><a href=\"#Bag-of-words---essay\" data-toc-modified-id=\"Bag-of-words---essay-23.11.1\"><span class=\"toc-item-num\">23.11.1&nbsp;&nbsp;</span>Bag of words - essay</a></span></li><li><span><a href=\"#Bag-of-words---cleaned-title\" data-toc-modified-id=\"Bag-of-words---cleaned-title-23.11.2\"><span class=\"toc-item-num\">23.11.2&nbsp;&nbsp;</span>Bag of words - cleaned title</a></span></li><li><span><a href=\"#TFIDF-vectorizer---essay\" data-toc-modified-id=\"TFIDF-vectorizer---essay-23.11.3\"><span class=\"toc-item-num\">23.11.3&nbsp;&nbsp;</span>TFIDF vectorizer - essay</a></span></li><li><span><a href=\"#TFIDF-vectorizer---cleaned-tittle\" data-toc-modified-id=\"TFIDF-vectorizer---cleaned-tittle-23.11.4\"><span class=\"toc-item-num\">23.11.4&nbsp;&nbsp;</span>TFIDF vectorizer - cleaned tittle</a></span></li><li><span><a href=\"#Using-Pretrained-Models:-Avg-W2V\" data-toc-modified-id=\"Using-Pretrained-Models:-Avg-W2V-23.11.5\"><span class=\"toc-item-num\">23.11.5&nbsp;&nbsp;</span>Using Pretrained Models: Avg W2V</a></span></li><li><span><a href=\"#Using-Pretrained-Models:-TFIDF-weighted-W2V---Essay\" data-toc-modified-id=\"Using-Pretrained-Models:-TFIDF-weighted-W2V---Essay-23.11.6\"><span class=\"toc-item-num\">23.11.6&nbsp;&nbsp;</span>Using Pretrained Models: TFIDF weighted W2V - Essay</a></span></li><li><span><a href=\"#Using-Pretrained-Models:-TFIDF-weighted-W2V---Cleaned-Title\" data-toc-modified-id=\"Using-Pretrained-Models:-TFIDF-weighted-W2V---Cleaned-Title-23.11.7\"><span class=\"toc-item-num\">23.11.7&nbsp;&nbsp;</span>Using Pretrained Models: TFIDF weighted W2V - Cleaned Title</a></span></li></ul></li></ul></li><li><span><a href=\"#Merging-all-the-above-features\" data-toc-modified-id=\"Merging-all-the-above-features-24\"><span class=\"toc-item-num\">24&nbsp;&nbsp;</span>Merging all the above features</a></span><ul class=\"toc-item\"><li><span><a href=\"#BOW\" data-toc-modified-id=\"BOW-24.1\"><span class=\"toc-item-num\">24.1&nbsp;&nbsp;</span>BOW</a></span></li><li><span><a href=\"#TFIDF\" data-toc-modified-id=\"TFIDF-24.2\"><span class=\"toc-item-num\">24.2&nbsp;&nbsp;</span>TFIDF</a></span></li><li><span><a href=\"#Word2Vec\" data-toc-modified-id=\"Word2Vec-24.3\"><span class=\"toc-item-num\">24.3&nbsp;&nbsp;</span>Word2Vec</a></span></li><li><span><a href=\"#TFIDF--WORD2VEC\" data-toc-modified-id=\"TFIDF--WORD2VEC-24.4\"><span class=\"toc-item-num\">24.4&nbsp;&nbsp;</span>TFIDF- WORD2VEC</a></span></li><li><span><a href=\"#MERGE-ONLY-CATEGORICAL-AND-NUMERICAL-DATA\" data-toc-modified-id=\"MERGE-ONLY-CATEGORICAL-AND-NUMERICAL-DATA-24.5\"><span class=\"toc-item-num\">24.5&nbsp;&nbsp;</span>MERGE ONLY CATEGORICAL AND NUMERICAL DATA</a></span></li></ul></li><li><span><a href=\"#Shapes-after-merge\" data-toc-modified-id=\"Shapes-after-merge-25\"><span class=\"toc-item-num\">25&nbsp;&nbsp;</span>Shapes after merge</a></span></li><li><span><a href=\"#-Assignment-5:-Logistic-Regression\" data-toc-modified-id=\"-Assignment-5:-Logistic-Regression-26\"><span class=\"toc-item-num\">26&nbsp;&nbsp;</span> Assignment 5: Logistic Regression</a></span><ul class=\"toc-item\"><li><span><a href=\"#Applying-Logistic-Regression-on-BOW,-SET-1\" data-toc-modified-id=\"Applying-Logistic-Regression-on-BOW,-SET-1-26.1\"><span class=\"toc-item-num\">26.1&nbsp;&nbsp;</span>Applying Logistic Regression on BOW,<font color=\"red\"> SET 1</font></a></span><ul class=\"toc-item\"><li><span><a href=\"#Hyperparameter-tuning-for-finiding-optimal-ALPHA-using-ROC_AUC_Score\" data-toc-modified-id=\"Hyperparameter-tuning-for-finiding-optimal-ALPHA-using-ROC_AUC_Score-26.1.1\"><span class=\"toc-item-num\">26.1.1&nbsp;&nbsp;</span>Hyperparameter tuning for finiding optimal ALPHA using ROC_AUC_Score</a></span></li><li><span><a href=\"#Plot-ROC_AUC_score-VS-different-ALPHA-values-(Train-and-CV-set)\" data-toc-modified-id=\"Plot-ROC_AUC_score-VS-different-ALPHA-values-(Train-and-CV-set)-26.1.2\"><span class=\"toc-item-num\">26.1.2&nbsp;&nbsp;</span>Plot ROC_AUC_score VS different ALPHA values (Train and CV set)</a></span></li><li><span><a href=\"#Find-the-best-ALPHA-value-from-the-result\" data-toc-modified-id=\"Find-the-best-ALPHA-value-from-the-result-26.1.3\"><span class=\"toc-item-num\">26.1.3&nbsp;&nbsp;</span>Find the best ALPHA value from the result</a></span></li><li><span><a href=\"#Train-the-model-on-the-optimal-ALPHA-value-and-run-the-Test-Dataset\" data-toc-modified-id=\"Train-the-model-on-the-optimal-ALPHA-value-and-run-the-Test-Dataset-26.1.4\"><span class=\"toc-item-num\">26.1.4&nbsp;&nbsp;</span>Train the model on the optimal ALPHA value and run the Test Dataset</a></span></li><li><span><a href=\"#Get-the-confusion-matrix-for-the-BOW\" data-toc-modified-id=\"Get-the-confusion-matrix-for-the-BOW-26.1.5\"><span class=\"toc-item-num\">26.1.5&nbsp;&nbsp;</span>Get the confusion matrix for the BOW</a></span></li></ul></li><li><span><a href=\"#Applying-Logistic-Regression-on-TFIDF,-SET-2\" data-toc-modified-id=\"Applying-Logistic-Regression-on-TFIDF,-SET-2-26.2\"><span class=\"toc-item-num\">26.2&nbsp;&nbsp;</span>Applying Logistic Regression on TFIDF,<font color=\"red\"> SET 2</font></a></span><ul class=\"toc-item\"><li><span><a href=\"#Hyperparameter-tuning-for-finiding-optimal-ALPHA-using-ROC_AUC_Score\" data-toc-modified-id=\"Hyperparameter-tuning-for-finiding-optimal-ALPHA-using-ROC_AUC_Score-26.2.1\"><span class=\"toc-item-num\">26.2.1&nbsp;&nbsp;</span>Hyperparameter tuning for finiding optimal ALPHA using ROC_AUC_Score</a></span></li><li><span><a href=\"#Plot-ROC_AUC_score-VS-different-ALPHA-values-(Train-and-CV-set)\" data-toc-modified-id=\"Plot-ROC_AUC_score-VS-different-ALPHA-values-(Train-and-CV-set)-26.2.2\"><span class=\"toc-item-num\">26.2.2&nbsp;&nbsp;</span>Plot ROC_AUC_score VS different ALPHA values (Train and CV set)</a></span></li><li><span><a href=\"#Find-the-best-ALPHA-value-from-the-result\" data-toc-modified-id=\"Find-the-best-ALPHA-value-from-the-result-26.2.3\"><span class=\"toc-item-num\">26.2.3&nbsp;&nbsp;</span>Find the best ALPHA value from the result</a></span></li><li><span><a href=\"#Train-the-model-on-the-optimal-ALPHA-value-and-run-the-Test-Dataset\" data-toc-modified-id=\"Train-the-model-on-the-optimal-ALPHA-value-and-run-the-Test-Dataset-26.2.4\"><span class=\"toc-item-num\">26.2.4&nbsp;&nbsp;</span>Train the model on the optimal ALPHA value and run the Test Dataset</a></span></li><li><span><a href=\"#Get-the-confusion-matrix-for-the-TFIDF\" data-toc-modified-id=\"Get-the-confusion-matrix-for-the-TFIDF-26.2.5\"><span class=\"toc-item-num\">26.2.5&nbsp;&nbsp;</span>Get the confusion matrix for the TFIDF</a></span></li></ul></li><li><span><a href=\"#Applying-Logistic-Regression-on-AVG-W2V,-SET-3\" data-toc-modified-id=\"Applying-Logistic-Regression-on-AVG-W2V,-SET-3-26.3\"><span class=\"toc-item-num\">26.3&nbsp;&nbsp;</span>Applying Logistic Regression on AVG W2V,<font color=\"red\"> SET 3</font></a></span><ul class=\"toc-item\"><li><span><a href=\"#Hyperparameter-tuning-for-finiding-optimal-ALPHA-using-ROC_AUC_Score\" data-toc-modified-id=\"Hyperparameter-tuning-for-finiding-optimal-ALPHA-using-ROC_AUC_Score-26.3.1\"><span class=\"toc-item-num\">26.3.1&nbsp;&nbsp;</span>Hyperparameter tuning for finiding optimal ALPHA using ROC_AUC_Score</a></span></li><li><span><a href=\"#Plot-ROC_AUC_score-VS-different-ALPHA-values-(Train-and-CV-set)\" data-toc-modified-id=\"Plot-ROC_AUC_score-VS-different-ALPHA-values-(Train-and-CV-set)-26.3.2\"><span class=\"toc-item-num\">26.3.2&nbsp;&nbsp;</span>Plot ROC_AUC_score VS different ALPHA values (Train and CV set)</a></span></li><li><span><a href=\"#Find-the-best-ALPHA-value-from-the-result\" data-toc-modified-id=\"Find-the-best-ALPHA-value-from-the-result-26.3.3\"><span class=\"toc-item-num\">26.3.3&nbsp;&nbsp;</span>Find the best ALPHA value from the result</a></span></li><li><span><a href=\"#Train-the-model-on-the-optimal-ALPHA-value-and-run-the-Test-Dataset\" data-toc-modified-id=\"Train-the-model-on-the-optimal-ALPHA-value-and-run-the-Test-Dataset-26.3.4\"><span class=\"toc-item-num\">26.3.4&nbsp;&nbsp;</span>Train the model on the optimal ALPHA value and run the Test Dataset</a></span></li><li><span><a href=\"#Get-the-confusion-matrix-for-the-W2V\" data-toc-modified-id=\"Get-the-confusion-matrix-for-the-W2V-26.3.5\"><span class=\"toc-item-num\">26.3.5&nbsp;&nbsp;</span>Get the confusion matrix for the W2V</a></span></li></ul></li><li><span><a href=\"#Applying-Logistic-Regression-on-TFIDF-W2V,-SET-4\" data-toc-modified-id=\"Applying-Logistic-Regression-on-TFIDF-W2V,-SET-4-26.4\"><span class=\"toc-item-num\">26.4&nbsp;&nbsp;</span>Applying Logistic Regression on TFIDF W2V,<font color=\"red\"> SET 4</font></a></span><ul class=\"toc-item\"><li><span><a href=\"#Hyperparameter-tuning-for-finiding-optimal-ALPHA-using-ROC_AUC_Score\" data-toc-modified-id=\"Hyperparameter-tuning-for-finiding-optimal-ALPHA-using-ROC_AUC_Score-26.4.1\"><span class=\"toc-item-num\">26.4.1&nbsp;&nbsp;</span>Hyperparameter tuning for finiding optimal ALPHA using ROC_AUC_Score</a></span></li><li><span><a href=\"#Plot-ROC_AUC_score-VS-different-ALPHA-values-(Train-and-CV-set)\" data-toc-modified-id=\"Plot-ROC_AUC_score-VS-different-ALPHA-values-(Train-and-CV-set)-26.4.2\"><span class=\"toc-item-num\">26.4.2&nbsp;&nbsp;</span>Plot ROC_AUC_score VS different ALPHA values (Train and CV set)</a></span></li><li><span><a href=\"#Find-the-best-ALPHA-value\" data-toc-modified-id=\"Find-the-best-ALPHA-value-26.4.3\"><span class=\"toc-item-num\">26.4.3&nbsp;&nbsp;</span>Find the best ALPHA value</a></span></li><li><span><a href=\"#Train-the-model-on-the-optimal-ALPHA-value-and-run-the-Test-Dataset\" data-toc-modified-id=\"Train-the-model-on-the-optimal-ALPHA-value-and-run-the-Test-Dataset-26.4.4\"><span class=\"toc-item-num\">26.4.4&nbsp;&nbsp;</span>Train the model on the optimal ALPHA value and run the Test Dataset</a></span></li><li><span><a href=\"#Get-the-confusion-matrix-for-the-TFIDF-W2V\" data-toc-modified-id=\"Get-the-confusion-matrix-for-the-TFIDF-W2V-26.4.5\"><span class=\"toc-item-num\">26.4.5&nbsp;&nbsp;</span>Get the confusion matrix for the TFIDF W2V</a></span></li></ul></li></ul></li><li><span><a href=\"#Applying-Logistic-Regression-on-Non-Text-Data-\" data-toc-modified-id=\"Applying-Logistic-Regression-on-Non-Text-Data--27\"><span class=\"toc-item-num\">27&nbsp;&nbsp;</span>Applying Logistic Regression on Non Text Data </a></span></li><li><span><a href=\"#Conclusions\" data-toc-modified-id=\"Conclusions-28\"><span class=\"toc-item-num\">28&nbsp;&nbsp;</span>Conclusions</a></span></li></ul></div>"
   ]
  },
  {
   "cell_type": "markdown",
   "metadata": {},
   "source": [
    "## Author : SAURABH SINGHAI"
   ]
  },
  {
   "cell_type": "markdown",
   "metadata": {
    "colab_type": "text",
    "id": "-Ab-X-IrCyl0"
   },
   "source": [
    "# DonorsChoose"
   ]
  },
  {
   "cell_type": "markdown",
   "metadata": {
    "colab_type": "text",
    "id": "etNpzy7rCyl2"
   },
   "source": [
    "<p>\n",
    "DonorsChoose.org receives hundreds of thousands of project proposals each year for classroom projects in need of funding. Right now, a large number of volunteers is needed to manually screen each submission before it's approved to be posted on the DonorsChoose.org website.\n",
    "</p>\n",
    "<p>\n",
    "    Next year, DonorsChoose.org expects to receive close to 500,000 project proposals. As a result, there are three main problems they need to solve:\n",
    "<ul>\n",
    "<li>\n",
    "    How to scale current manual processes and resources to screen 500,000 projects so that they can be posted as quickly and as efficiently as possible</li>\n",
    "    <li>How to increase the consistency of project vetting across different volunteers to improve the experience for teachers</li>\n",
    "    <li>How to focus volunteer time on the applications that need the most assistance</li>\n",
    "    </ul>\n",
    "</p>    \n",
    "<p>\n",
    "The goal of the competition is to predict whether or not a DonorsChoose.org project proposal submitted by a teacher will be approved, using the text of project descriptions as well as additional metadata about the project, teacher, and school. DonorsChoose.org can then use this information to identify projects most likely to need further review before approval.\n",
    "</p>"
   ]
  },
  {
   "cell_type": "markdown",
   "metadata": {
    "colab_type": "text",
    "id": "kO2Kg7TgCyl4"
   },
   "source": [
    "## About the DonorsChoose Data Set\n",
    "\n",
    "The `train.csv` data set provided by DonorsChoose contains the following features:\n",
    "\n",
    "Feature | Description \n",
    "----------|---------------\n",
    "**`project_id`** | A unique identifier for the proposed project. **Example:** `p036502`   \n",
    "**`project_title`**    | Title of the project. **Examples:**<br><ul><li><code>Art Will Make You Happy!</code></li><li><code>First Grade Fun</code></li></ul> \n",
    "**`project_grade_category`** | Grade level of students for which the project is targeted. One of the following enumerated values: <br/><ul><li><code>Grades PreK-2</code></li><li><code>Grades 3-5</code></li><li><code>Grades 6-8</code></li><li><code>Grades 9-12</code></li></ul>  \n",
    " **`project_subject_categories`** | One or more (comma-separated) subject categories for the project from the following enumerated list of values:  <br/><ul><li><code>Applied Learning</code></li><li><code>Care &amp; Hunger</code></li><li><code>Health &amp; Sports</code></li><li><code>History &amp; Civics</code></li><li><code>Literacy &amp; Language</code></li><li><code>Math &amp; Science</code></li><li><code>Music &amp; The Arts</code></li><li><code>Special Needs</code></li><li><code>Warmth</code></li></ul><br/> **Examples:** <br/><ul><li><code>Music &amp; The Arts</code></li><li><code>Literacy &amp; Language, Math &amp; Science</code></li>  \n",
    "  **`school_state`** | State where school is located ([Two-letter U.S. postal code](https://en.wikipedia.org/wiki/List_of_U.S._state_abbreviations#Postal_codes)). **Example:** `WY`\n",
    "**`project_subject_subcategories`** | One or more (comma-separated) subject subcategories for the project. **Examples:** <br/><ul><li><code>Literacy</code></li><li><code>Literature &amp; Writing, Social Sciences</code></li></ul> \n",
    "**`project_resource_summary`** | An explanation of the resources needed for the project. **Example:** <br/><ul><li><code>My students need hands on literacy materials to manage sensory needs!</code</li></ul> \n",
    "**`project_essay_1`**    | First application essay<sup>*</sup>  \n",
    "**`project_essay_2`**    | Second application essay<sup>*</sup> \n",
    "**`project_essay_3`**    | Third application essay<sup>*</sup> \n",
    "**`project_essay_4`**    | Fourth application essay<sup>*</sup> \n",
    "**`project_submitted_datetime`** | Datetime when project application was submitted. **Example:** `2016-04-28 12:43:56.245`   \n",
    "**`teacher_id`** | A unique identifier for the teacher of the proposed project. **Example:** `bdf8baa8fedef6bfeec7ae4ff1c15c56`  \n",
    "**`teacher_prefix`** | Teacher's title. One of the following enumerated values: <br/><ul><li><code>nan</code></li><li><code>Dr.</code></li><li><code>Mr.</code></li><li><code>Mrs.</code></li><li><code>Ms.</code></li><li><code>Teacher.</code></li></ul>  \n",
    "**`teacher_number_of_previously_posted_projects`** | Number of project applications previously submitted by the same teacher. **Example:** `2` \n",
    "\n",
    "<sup>*</sup> See the section <b>Notes on the Essay Data</b> for more details about these features.\n",
    "\n",
    "Additionally, the `resources.csv` data set provides more data about the resources required for each project. Each line in this file represents a resource required by a project:\n",
    "\n",
    "Feature | Description \n",
    "----------|---------------\n",
    "**`id`** | A `project_id` value from the `train.csv` file.  **Example:** `p036502`   \n",
    "**`description`** | Desciption of the resource. **Example:** `Tenor Saxophone Reeds, Box of 25`   \n",
    "**`quantity`** | Quantity of the resource required. **Example:** `3`   \n",
    "**`price`** | Price of the resource required. **Example:** `9.95`   \n",
    "\n",
    "**Note:** Many projects require multiple resources. The `id` value corresponds to a `project_id` in train.csv, so you use it as a key to retrieve all resources needed for a project:\n",
    "\n",
    "The data set contains the following label (the value you will attempt to predict):\n",
    "\n",
    "Label | Description\n",
    "----------|---------------\n",
    "`project_is_approved` | A binary flag indicating whether DonorsChoose approved the project. A value of `0` indicates the project was not approved, and a value of `1` indicates the project was approved."
   ]
  },
  {
   "cell_type": "markdown",
   "metadata": {
    "colab_type": "text",
    "id": "dBGA_YStCyl6"
   },
   "source": [
    "### Notes on the Essay Data\n",
    "\n",
    "<ul>\n",
    "Prior to May 17, 2016, the prompts for the essays were as follows:\n",
    "<li>__project_essay_1:__ \"Introduce us to your classroom\"</li>\n",
    "<li>__project_essay_2:__ \"Tell us more about your students\"</li>\n",
    "<li>__project_essay_3:__ \"Describe how your students will use the materials you're requesting\"</li>\n",
    "<li>__project_essay_3:__ \"Close by sharing why your project will make a difference\"</li>\n",
    "</ul>\n",
    "\n",
    "\n",
    "<ul>\n",
    "Starting on May 17, 2016, the number of essays was reduced from 4 to 2, and the prompts for the first 2 essays were changed to the following:<br>\n",
    "<li>__project_essay_1:__ \"Describe your students: What makes your students special? Specific details about their background, your neighborhood, and your school are all helpful.\"</li>\n",
    "<li>__project_essay_2:__ \"About your project: How will these materials make a difference in your students' learning and improve their school lives?\"</li>\n",
    "<br>For all projects with project_submitted_datetime of 2016-05-17 and later, the values of project_essay_3 and project_essay_4 will be NaN.\n",
    "</ul>\n"
   ]
  },
  {
   "cell_type": "markdown",
   "metadata": {},
   "source": [
    "## Import Necessary Libraries"
   ]
  },
  {
   "cell_type": "code",
   "execution_count": 1,
   "metadata": {
    "ExecuteTime": {
     "end_time": "2019-12-13T17:50:44.509663Z",
     "start_time": "2019-12-13T17:50:25.476547Z"
    },
    "colab": {},
    "colab_type": "code",
    "id": "XTrCJ5p9Cyl7",
    "outputId": "06c35f2f-d281-4345-9668-f8f44b28d6ac"
   },
   "outputs": [
    {
     "name": "stderr",
     "output_type": "stream",
     "text": [
      "IOPub data rate exceeded.\n",
      "The notebook server will temporarily stop sending output\n",
      "to the client in order to avoid crashing it.\n",
      "To change this limit, set the config variable\n",
      "`--NotebookApp.iopub_data_rate_limit`.\n"
     ]
    }
   ],
   "source": [
    "%matplotlib inline\n",
    "import warnings\n",
    "warnings.filterwarnings(\"ignore\")\n",
    "\n",
    "import sqlite3\n",
    "import pandas as pd\n",
    "import numpy as np\n",
    "import nltk\n",
    "import string\n",
    "import matplotlib.pyplot as plt\n",
    "import seaborn as sns\n",
    "from sklearn.feature_extraction.text import TfidfTransformer\n",
    "from sklearn.feature_extraction.text import TfidfVectorizer\n",
    "\n",
    "from sklearn.feature_extraction.text import CountVectorizer\n",
    "from sklearn.metrics import confusion_matrix\n",
    "from sklearn import metrics\n",
    "from sklearn.metrics import roc_curve, auc\n",
    "from nltk.stem.porter import PorterStemmer\n",
    "\n",
    "import re\n",
    "# Tutorial about Python regular expressions: https://pymotw.com/2/re/\n",
    "import string\n",
    "from nltk.corpus import stopwords\n",
    "from nltk.stem import PorterStemmer\n",
    "from nltk.stem.wordnet import WordNetLemmatizer\n",
    "\n",
    "from gensim.models import Word2Vec\n",
    "from gensim.models import KeyedVectors\n",
    "import pickle\n",
    "\n",
    "from tqdm import tqdm\n",
    "import os\n",
    "\n",
    "#from plotly import plotly\n",
    "import plotly.offline as offline\n",
    "import plotly.graph_objs as go\n",
    "offline.init_notebook_mode()\n",
    "from collections import Counter"
   ]
  },
  {
   "cell_type": "markdown",
   "metadata": {
    "colab_type": "text",
    "id": "MjknLZQqCymQ"
   },
   "source": [
    "## Reading Data"
   ]
  },
  {
   "cell_type": "code",
   "execution_count": 2,
   "metadata": {
    "ExecuteTime": {
     "end_time": "2019-12-13T17:50:49.940604Z",
     "start_time": "2019-12-13T17:50:44.509663Z"
    },
    "colab": {},
    "colab_type": "code",
    "collapsed": true,
    "id": "abtcqBS8CymT"
   },
   "outputs": [],
   "source": [
    "project_data = pd.read_csv('train_data.csv')\n",
    "resource_data = pd.read_csv('resources.csv')\n",
    "project_data['teacher_prefix']=project_data['teacher_prefix'].fillna(' ')"
   ]
  },
  {
   "cell_type": "markdown",
   "metadata": {},
   "source": [
    "## Approved And Non Approved Projects"
   ]
  },
  {
   "cell_type": "code",
   "execution_count": 3,
   "metadata": {
    "ExecuteTime": {
     "end_time": "2019-12-13T17:50:50.008978Z",
     "start_time": "2019-12-13T17:50:49.940604Z"
    }
   },
   "outputs": [
    {
     "name": "stdout",
     "output_type": "stream",
     "text": [
      "Project Not Approved & Approved Count=\n",
      " 1    92706\n",
      "0    16542\n",
      "Name: project_is_approved, dtype: int64\n",
      "Number of projects approved for funding  92706 = 84.8583040422 %\n",
      "Number of projects not approved for funding  16542 = 15.1416959578 %\n"
     ]
    }
   ],
   "source": [
    "y_value_counts = project_data['project_is_approved'].value_counts()\n",
    "\n",
    "print(\"Project Not Approved & Approved Count=\\n\",y_value_counts)\n",
    "\n",
    "print(\"Number of projects approved for funding \", y_value_counts[1], \"=\", (y_value_counts[1]/(y_value_counts[1]+y_value_counts[0]))*100,\"%\")\n",
    "\n",
    "print(\"Number of projects not approved for funding \", y_value_counts[0], \"=\", (y_value_counts[0]/(y_value_counts[1]+y_value_counts[0]))*100,\"%\")"
   ]
  },
  {
   "cell_type": "markdown",
   "metadata": {},
   "source": [
    "## Project Dataframe shape and Column Values"
   ]
  },
  {
   "cell_type": "code",
   "execution_count": 4,
   "metadata": {
    "ExecuteTime": {
     "end_time": "2019-12-13T17:50:50.098987Z",
     "start_time": "2019-12-13T17:50:50.012977Z"
    },
    "colab": {},
    "colab_type": "code",
    "id": "Prf2ghjDCymX",
    "outputId": "226c1b3c-35c9-48bd-afc9-7a819c871e8d"
   },
   "outputs": [
    {
     "name": "stdout",
     "output_type": "stream",
     "text": [
      "Number of data points in project data (109248, 17)\n",
      "**************************************************\n",
      "The attributes of data : ['Unnamed: 0' 'id' 'teacher_id' 'teacher_prefix' 'school_state'\n",
      " 'project_submitted_datetime' 'project_grade_category'\n",
      " 'project_subject_categories' 'project_subject_subcategories'\n",
      " 'project_title' 'project_essay_1' 'project_essay_2' 'project_essay_3'\n",
      " 'project_essay_4' 'project_resource_summary'\n",
      " 'teacher_number_of_previously_posted_projects' 'project_is_approved']\n"
     ]
    }
   ],
   "source": [
    "print(\"Number of data points in project data\", project_data.shape)\n",
    "print('*'*50)\n",
    "print(\"The attributes of data :\", project_data.columns.values)"
   ]
  },
  {
   "cell_type": "markdown",
   "metadata": {},
   "source": [
    "## Resource data shape and Column Values"
   ]
  },
  {
   "cell_type": "code",
   "execution_count": 5,
   "metadata": {
    "ExecuteTime": {
     "end_time": "2019-12-13T17:50:50.320805Z",
     "start_time": "2019-12-13T17:50:50.101984Z"
    },
    "colab": {},
    "colab_type": "code",
    "id": "ntdWuRoUCymj",
    "outputId": "7f1911f2-61b8-4069-bfb0-9fdfeb2419e3"
   },
   "outputs": [
    {
     "name": "stdout",
     "output_type": "stream",
     "text": [
      "Number of data points in resource data (1541272, 4)\n",
      "**************************************************\n",
      "['id' 'description' 'quantity' 'price']\n"
     ]
    },
    {
     "data": {
      "text/html": [
       "<div>\n",
       "<style>\n",
       "    .dataframe thead tr:only-child th {\n",
       "        text-align: right;\n",
       "    }\n",
       "\n",
       "    .dataframe thead th {\n",
       "        text-align: left;\n",
       "    }\n",
       "\n",
       "    .dataframe tbody tr th {\n",
       "        vertical-align: top;\n",
       "    }\n",
       "</style>\n",
       "<table border=\"1\" class=\"dataframe\">\n",
       "  <thead>\n",
       "    <tr style=\"text-align: right;\">\n",
       "      <th></th>\n",
       "      <th>id</th>\n",
       "      <th>description</th>\n",
       "      <th>quantity</th>\n",
       "      <th>price</th>\n",
       "    </tr>\n",
       "  </thead>\n",
       "  <tbody>\n",
       "    <tr>\n",
       "      <th>0</th>\n",
       "      <td>p233245</td>\n",
       "      <td>LC652 - Lakeshore Double-Space Mobile Drying Rack</td>\n",
       "      <td>1</td>\n",
       "      <td>149.00</td>\n",
       "    </tr>\n",
       "    <tr>\n",
       "      <th>1</th>\n",
       "      <td>p069063</td>\n",
       "      <td>Bouncy Bands for Desks (Blue support pipes)</td>\n",
       "      <td>3</td>\n",
       "      <td>14.95</td>\n",
       "    </tr>\n",
       "    <tr>\n",
       "      <th>2</th>\n",
       "      <td>p069063</td>\n",
       "      <td>Cory Stories: A Kid's Book About Living With Adhd</td>\n",
       "      <td>1</td>\n",
       "      <td>8.45</td>\n",
       "    </tr>\n",
       "    <tr>\n",
       "      <th>3</th>\n",
       "      <td>p069063</td>\n",
       "      <td>Dixon Ticonderoga Wood-Cased #2 HB Pencils, Bo...</td>\n",
       "      <td>2</td>\n",
       "      <td>13.59</td>\n",
       "    </tr>\n",
       "    <tr>\n",
       "      <th>4</th>\n",
       "      <td>p069063</td>\n",
       "      <td>EDUCATIONAL INSIGHTS FLUORESCENT LIGHT FILTERS...</td>\n",
       "      <td>3</td>\n",
       "      <td>24.95</td>\n",
       "    </tr>\n",
       "  </tbody>\n",
       "</table>\n",
       "</div>"
      ],
      "text/plain": [
       "        id                                        description  quantity  \\\n",
       "0  p233245  LC652 - Lakeshore Double-Space Mobile Drying Rack         1   \n",
       "1  p069063        Bouncy Bands for Desks (Blue support pipes)         3   \n",
       "2  p069063  Cory Stories: A Kid's Book About Living With Adhd         1   \n",
       "3  p069063  Dixon Ticonderoga Wood-Cased #2 HB Pencils, Bo...         2   \n",
       "4  p069063  EDUCATIONAL INSIGHTS FLUORESCENT LIGHT FILTERS...         3   \n",
       "\n",
       "    price  \n",
       "0  149.00  \n",
       "1   14.95  \n",
       "2    8.45  \n",
       "3   13.59  \n",
       "4   24.95  "
      ]
     },
     "execution_count": 5,
     "metadata": {},
     "output_type": "execute_result"
    }
   ],
   "source": [
    "print(\"Number of data points in resource data\", resource_data.shape)\n",
    "print('*'*50)\n",
    "print(resource_data.columns.values)\n",
    "resource_data.head(5)"
   ]
  },
  {
   "cell_type": "markdown",
   "metadata": {
    "colab_type": "text",
    "id": "6WZaYhwJCymp"
   },
   "source": [
    "## Preprocessing of `project_subject_categories`"
   ]
  },
  {
   "cell_type": "code",
   "execution_count": 6,
   "metadata": {
    "ExecuteTime": {
     "end_time": "2019-12-13T17:50:51.461176Z",
     "start_time": "2019-12-13T17:50:50.324804Z"
    },
    "colab": {},
    "colab_type": "code",
    "collapsed": true,
    "id": "Mdkhq7PRCymr"
   },
   "outputs": [],
   "source": [
    "catogories = list(project_data['project_subject_categories'].values)\n",
    "# remove special characters from list of strings python: https://stackoverflow.com/a/47301924/4084039\n",
    "\n",
    "# https://www.geeksforgeeks.org/removing-stop-words-nltk-python/\n",
    "# https://stackoverflow.com/questions/23669024/how-to-strip-a-specific-word-from-a-string\n",
    "# https://stackoverflow.com/questions/8270092/remove-all-whitespace-in-a-string-in-python\n",
    "cat_list = []\n",
    "for i in catogories:\n",
    "    temp = \"\"\n",
    "    # consider we have text like this \"Math & Science, Warmth, Care & Hunger\"\n",
    "    for j in i.split(','): # it will split it in three parts [\"Math & Science\", \"Warmth\", \"Care & Hunger\"]\n",
    "        if 'The' in j.split(): # this will split each of the catogory based on space \"Math & Science\"=> \"Math\",\"&\", \"Science\"\n",
    "            j=j.replace('The','') # if we have the words \"The\" we are going to replace it with ''(i.e removing 'The')\n",
    "        j = j.replace(' ','') # we are placeing all the ' '(space) with ''(empty) ex:\"Math & Science\"=>\"Math&Science\"\n",
    "        temp+=j.strip()+\" \" #\" abc \".strip() will return \"abc\", remove the trailing spaces\n",
    "        temp = temp.replace('&','_') # we are replacing the & value into \n",
    "    cat_list.append(temp.strip())\n",
    "    \n",
    "project_data['clean_categories'] = cat_list\n",
    "project_data.drop(['project_subject_categories'], axis=1, inplace=True)\n",
    "\n",
    "from collections import Counter\n",
    "my_counter = Counter()\n",
    "for word in project_data['clean_categories'].values:\n",
    "    my_counter.update(word.split())\n",
    "\n",
    "cat_dict = dict(my_counter)\n",
    "sorted_cat_dict = dict(sorted(cat_dict.items(), key=lambda kv: kv[1]))\n"
   ]
  },
  {
   "cell_type": "markdown",
   "metadata": {
    "colab_type": "text",
    "id": "386yx3T2Cymv"
   },
   "source": [
    "## Preprocessing of `project_subject_subcategories`"
   ]
  },
  {
   "cell_type": "code",
   "execution_count": 7,
   "metadata": {
    "ExecuteTime": {
     "end_time": "2019-12-13T17:50:52.558604Z",
     "start_time": "2019-12-13T17:50:51.465180Z"
    },
    "colab": {},
    "colab_type": "code",
    "collapsed": true,
    "id": "4QSP0r8XCymw"
   },
   "outputs": [],
   "source": [
    "sub_catogories = list(project_data['project_subject_subcategories'].values)\n",
    "# remove special characters from list of strings python: https://stackoverflow.com/a/47301924/4084039\n",
    "\n",
    "# https://www.geeksforgeeks.org/removing-stop-words-nltk-python/\n",
    "# https://stackoverflow.com/questions/23669024/how-to-strip-a-specific-word-from-a-string\n",
    "# https://stackoverflow.com/questions/8270092/remove-all-whitespace-in-a-string-in-python\n",
    "\n",
    "sub_cat_list = []\n",
    "for i in sub_catogories:\n",
    "    temp = \"\"\n",
    "    # consider we have text like this \"Math & Science, Warmth, Care & Hunger\"\n",
    "    for j in i.split(','): # it will split it in three parts [\"Math & Science\", \"Warmth\", \"Care & Hunger\"]\n",
    "        if 'The' in j.split(): # this will split each of the catogory based on space \"Math & Science\"=> \"Math\",\"&\", \"Science\"\n",
    "            j=j.replace('The','') # if we have the words \"The\" we are going to replace it with ''(i.e removing 'The')\n",
    "        j = j.replace(' ','') # we are placeing all the ' '(space) with ''(empty) ex:\"Math & Science\"=>\"Math&Science\"\n",
    "        temp +=j.strip()+\" \"#\" abc \".strip() will return \"abc\", remove the trailing spaces\n",
    "        temp = temp.replace('&','_')\n",
    "    sub_cat_list.append(temp.strip())\n",
    "\n",
    "project_data['clean_subcategories'] = sub_cat_list\n",
    "project_data.drop(['project_subject_subcategories'], axis=1, inplace=True)\n",
    "\n",
    "# count of all the words in corpus python: https://stackoverflow.com/a/22898595/4084039\n",
    "my_counter = Counter()\n",
    "for word in project_data['clean_subcategories'].values:\n",
    "    my_counter.update(word.split())\n",
    "    \n",
    "sub_cat_dict = dict(my_counter)\n",
    "sorted_sub_cat_dict = dict(sorted(sub_cat_dict.items(), key=lambda kv: kv[1]))"
   ]
  },
  {
   "cell_type": "markdown",
   "metadata": {},
   "source": [
    "## Preprocessing of  `project_grade_category`"
   ]
  },
  {
   "cell_type": "code",
   "execution_count": 8,
   "metadata": {
    "ExecuteTime": {
     "end_time": "2019-12-13T17:50:52.571532Z",
     "start_time": "2019-12-13T17:50:52.558604Z"
    }
   },
   "outputs": [
    {
     "name": "stdout",
     "output_type": "stream",
     "text": [
      "['Grades PreK-2' 'Grades 6-8' 'Grades 6-8' 'Grades PreK-2' 'Grades PreK-2'\n",
      " 'Grades 3-5' 'Grades 6-8' 'Grades 3-5' 'Grades PreK-2' 'Grades PreK-2']\n"
     ]
    }
   ],
   "source": [
    "print(project_data[\"project_grade_category\"].values[0:10])"
   ]
  },
  {
   "cell_type": "code",
   "execution_count": 9,
   "metadata": {
    "ExecuteTime": {
     "end_time": "2019-12-13T17:50:52.930008Z",
     "start_time": "2019-12-13T17:50:52.574531Z"
    }
   },
   "outputs": [
    {
     "name": "stdout",
     "output_type": "stream",
     "text": [
      "['Grades_PreK_2' 'Grades_6_8' 'Grades_6_8' 'Grades_PreK_2' 'Grades_PreK_2'\n",
      " 'Grades_3_5' 'Grades_6_8' 'Grades_3_5' 'Grades_PreK_2' 'Grades_PreK_2']\n"
     ]
    }
   ],
   "source": [
    "project_data[\"project_grade_category\"] = project_data[\"project_grade_category\"].str.replace(\" \", \"_\")\n",
    "project_data[\"project_grade_category\"] = project_data[\"project_grade_category\"].str.replace(\"-\", \"_\")\n",
    "\n",
    "print(project_data[\"project_grade_category\"].values[0:10])"
   ]
  },
  {
   "cell_type": "markdown",
   "metadata": {
    "colab_type": "text",
    "id": "NANzhWlLCynN"
   },
   "source": [
    "## Create new column 'Essay' by merging all project Essays"
   ]
  },
  {
   "cell_type": "code",
   "execution_count": 10,
   "metadata": {
    "ExecuteTime": {
     "end_time": "2019-12-13T17:50:53.947464Z",
     "start_time": "2019-12-13T17:50:52.934009Z"
    },
    "colab": {},
    "colab_type": "code",
    "collapsed": true,
    "id": "yqsmu-BTCynQ"
   },
   "outputs": [],
   "source": [
    "# merge two column text dataframe: \n",
    "project_data[\"essay\"] = project_data[\"project_essay_1\"].map(str) +\\\n",
    "                        project_data[\"project_essay_2\"].map(str) + \\\n",
    "                        project_data[\"project_essay_3\"].map(str) + \\\n",
    "                        project_data[\"project_essay_4\"].map(str)"
   ]
  },
  {
   "cell_type": "code",
   "execution_count": 11,
   "metadata": {
    "ExecuteTime": {
     "end_time": "2019-12-13T17:50:53.961557Z",
     "start_time": "2019-12-13T17:50:53.947464Z"
    },
    "colab": {},
    "colab_type": "code",
    "id": "xxtnd3maCynV",
    "outputId": "2002cbb7-9006-4764-ee13-c990d1a3a99e"
   },
   "outputs": [
    {
     "data": {
      "text/plain": [
       "0    My students are English learners that are work...\n",
       "1    Our students arrive to our school eager to lea...\n",
       "2    \\r\\n\\\"True champions aren't always the ones th...\n",
       "3    I work at a unique school filled with both ESL...\n",
       "4    Our second grade classroom next year will be m...\n",
       "Name: essay, dtype: object"
      ]
     },
     "execution_count": 11,
     "metadata": {},
     "output_type": "execute_result"
    }
   ],
   "source": [
    "project_data['essay'].head(5)"
   ]
  },
  {
   "cell_type": "code",
   "execution_count": 12,
   "metadata": {
    "ExecuteTime": {
     "end_time": "2019-12-13T17:50:54.094987Z",
     "start_time": "2019-12-13T17:50:53.964557Z"
    },
    "colab": {},
    "colab_type": "code",
    "id": "TCl7L1DhCyne",
    "outputId": "c1e9c200-8868-4b26-adbd-7836d815abef"
   },
   "outputs": [
    {
     "name": "stdout",
     "output_type": "stream",
     "text": [
      "My students are English learners that are working on English as their second or third languages. We are a melting pot of refugees, immigrants, and native-born Americans bringing the gift of language to our school. \\r\\n\\r\\n We have over 24 languages represented in our English Learner program with students at every level of mastery.  We also have over 40 countries represented with the families within our school.  Each student brings a wealth of knowledge and experiences to us that open our eyes to new cultures, beliefs, and respect.\\\"The limits of your language are the limits of your world.\\\"-Ludwig Wittgenstein  Our English learner's have a strong support system at home that begs for more resources.  Many times our parents are learning to read and speak English along side of their children.  Sometimes this creates barriers for parents to be able to help their child learn phonetics, letter recognition, and other reading skills.\\r\\n\\r\\nBy providing these dvd's and players, students are able to continue their mastery of the English language even if no one at home is able to assist.  All families with students within the Level 1 proficiency status, will be a offered to be a part of this program.  These educational videos will be specially chosen by the English Learner Teacher and will be sent home regularly to watch.  The videos are to help the child develop early reading skills.\\r\\n\\r\\nParents that do not have access to a dvd player will have the opportunity to check out a dvd player to use for the year.  The plan is to use these videos and educational dvd's for the years to come for other EL students.\\r\\nnannan\n"
     ]
    }
   ],
   "source": [
    "# printing some random reviews\n",
    "print(project_data['essay'].values[0])\n"
   ]
  },
  {
   "cell_type": "markdown",
   "metadata": {},
   "source": [
    "## Use Decontraction function to decontract project essay"
   ]
  },
  {
   "cell_type": "code",
   "execution_count": 13,
   "metadata": {
    "ExecuteTime": {
     "end_time": "2019-12-13T17:50:54.247679Z",
     "start_time": "2019-12-13T17:50:54.099982Z"
    },
    "colab": {},
    "colab_type": "code",
    "collapsed": true,
    "id": "Yqj4vGVoCynh"
   },
   "outputs": [],
   "source": [
    "# https://stackoverflow.com/a/47091490/4084039\n",
    "import re\n",
    "\n",
    "def decontracted(phrase):\n",
    "    # specific\n",
    "    phrase = re.sub(r\"won't\", \"will not\", phrase)\n",
    "    phrase = re.sub(r\"can\\'t\", \"can not\", phrase)\n",
    "\n",
    "    # general\n",
    "    phrase = re.sub(r\"n\\'t\", \" not\", phrase)\n",
    "    phrase = re.sub(r\"\\'re\", \" are\", phrase)\n",
    "    phrase = re.sub(r\"\\'s\", \" is\", phrase)\n",
    "    phrase = re.sub(r\"\\'d\", \" would\", phrase)\n",
    "    phrase = re.sub(r\"\\'ll\", \" will\", phrase)\n",
    "    phrase = re.sub(r\"\\'t\", \" not\", phrase)\n",
    "    phrase = re.sub(r\"\\'ve\", \" have\", phrase)\n",
    "    phrase = re.sub(r\"\\'m\", \" am\", phrase)\n",
    "    return phrase"
   ]
  },
  {
   "cell_type": "code",
   "execution_count": 14,
   "metadata": {
    "ExecuteTime": {
     "end_time": "2019-12-13T17:50:54.381078Z",
     "start_time": "2019-12-13T17:50:54.250680Z"
    },
    "colab": {},
    "colab_type": "code",
    "id": "aDUbe9piCynj",
    "outputId": "cd082bbf-9ba2-4373-ea65-73c45627bb7d"
   },
   "outputs": [
    {
     "name": "stdout",
     "output_type": "stream",
     "text": [
      "Our students arrive to our school eager to learn. They are polite, generous, and strive to be the best they can be. They know that with an education, they can succeed in life and help improve on the lives that they have now.\\r\\n\\r\\nOur school focuses on families with low incomes and tries to give each student the education they deserve. While we do not have much, the students use the materials they are given and do the very best they can with them.The projector we need for our school is very crucial for the academic improvement of our students. As technology continues to grow, there are so many resources in the internet that we as teachers use to further the growth of our students. However, our school is very limited with resources - particularly, technology - and without it, we are at a disadvantage. One of the things that could really help our classrooms is a projector.\\r\\n\\r\\n\\r\\nWith a projector, not only is it crucial with instruction, but also for the growth of our students. With a projector, we can show presentations, documentaries, photos of historical land sites, math problems and so much more. With a projector, we can make teaching and learning easier while also targeting the different types of learners we have in our classrooms:  auditory, visual, kinesthetic, etc. \\r\\nnannan\n",
      "==================================================\n"
     ]
    }
   ],
   "source": [
    "sent = decontracted(project_data['essay'].values[1])\n",
    "print(sent)\n",
    "print(\"=\"*50)"
   ]
  },
  {
   "cell_type": "markdown",
   "metadata": {},
   "source": [
    "## Remove line breaks"
   ]
  },
  {
   "cell_type": "code",
   "execution_count": 15,
   "metadata": {
    "ExecuteTime": {
     "end_time": "2019-12-13T17:50:54.558881Z",
     "start_time": "2019-12-13T17:50:54.384076Z"
    },
    "colab": {},
    "colab_type": "code",
    "id": "vXSbHYJ4Cynp",
    "outputId": "1becc1e1-bb25-48aa-f44f-32c99df9e13a"
   },
   "outputs": [
    {
     "name": "stdout",
     "output_type": "stream",
     "text": [
      "Our students arrive to our school eager to learn. They are polite, generous, and strive to be the best they can be. They know that with an education, they can succeed in life and help improve on the lives that they have now.    Our school focuses on families with low incomes and tries to give each student the education they deserve. While we do not have much, the students use the materials they are given and do the very best they can with them.The projector we need for our school is very crucial for the academic improvement of our students. As technology continues to grow, there are so many resources in the internet that we as teachers use to further the growth of our students. However, our school is very limited with resources - particularly, technology - and without it, we are at a disadvantage. One of the things that could really help our classrooms is a projector.      With a projector, not only is it crucial with instruction, but also for the growth of our students. With a projector, we can show presentations, documentaries, photos of historical land sites, math problems and so much more. With a projector, we can make teaching and learning easier while also targeting the different types of learners we have in our classrooms:  auditory, visual, kinesthetic, etc.   nannan\n"
     ]
    }
   ],
   "source": [
    "# \\r \\n \\t remove from string python: http://texthandler.com/info/remove-line-breaks-python/\n",
    "sent = sent.replace('\\\\r', ' ')\n",
    "sent = sent.replace('\\\\\"', ' ')\n",
    "sent = sent.replace('\\\\n', ' ')\n",
    "print(sent)"
   ]
  },
  {
   "cell_type": "markdown",
   "metadata": {},
   "source": [
    "## Remove Special Chars"
   ]
  },
  {
   "cell_type": "code",
   "execution_count": 16,
   "metadata": {
    "ExecuteTime": {
     "end_time": "2019-12-13T17:50:54.725300Z",
     "start_time": "2019-12-13T17:50:54.561878Z"
    },
    "colab": {},
    "colab_type": "code",
    "id": "67Agrz_YCynt",
    "outputId": "ec6bf4e3-c419-4740-9989-fa53128abe20"
   },
   "outputs": [
    {
     "name": "stdout",
     "output_type": "stream",
     "text": [
      "Our students arrive to our school eager to learn They are polite generous and strive to be the best they can be They know that with an education they can succeed in life and help improve on the lives that they have now Our school focuses on families with low incomes and tries to give each student the education they deserve While we do not have much the students use the materials they are given and do the very best they can with them The projector we need for our school is very crucial for the academic improvement of our students As technology continues to grow there are so many resources in the internet that we as teachers use to further the growth of our students However our school is very limited with resources particularly technology and without it we are at a disadvantage One of the things that could really help our classrooms is a projector With a projector not only is it crucial with instruction but also for the growth of our students With a projector we can show presentations documentaries photos of historical land sites math problems and so much more With a projector we can make teaching and learning easier while also targeting the different types of learners we have in our classrooms auditory visual kinesthetic etc nannan\n"
     ]
    }
   ],
   "source": [
    "#remove spacial character: https://stackoverflow.com/a/5843547/4084039\n",
    "sent = re.sub('[^A-Za-z0-9]+', ' ', sent)\n",
    "print(sent)"
   ]
  },
  {
   "cell_type": "markdown",
   "metadata": {},
   "source": [
    "## Remove Stopwards  and Join the essays"
   ]
  },
  {
   "cell_type": "code",
   "execution_count": 17,
   "metadata": {
    "ExecuteTime": {
     "end_time": "2019-12-13T17:50:55.039653Z",
     "start_time": "2019-12-13T17:50:54.729298Z"
    },
    "colab": {},
    "colab_type": "code",
    "collapsed": true,
    "id": "hhyPw-8wCyny"
   },
   "outputs": [],
   "source": [
    "# https://gist.github.com/sebleier/554280\n",
    "# we are removing the words from the stop words list: 'no', 'nor', 'not'\n",
    "stopwords= ['i', 'me', 'my', 'myself', 'we', 'our', 'ours', 'ourselves', 'you', \"you're\", \"you've\",\\\n",
    "            \"you'll\", \"you'd\", 'your', 'yours', 'yourself', 'yourselves', 'he', 'him', 'his', 'himself', \\\n",
    "            'she', \"she's\", 'her', 'hers', 'herself', 'it', \"it's\", 'its', 'itself', 'they', 'them', 'their',\\\n",
    "            'theirs', 'themselves', 'what', 'which', 'who', 'whom', 'this', 'that', \"that'll\", 'these', 'those', \\\n",
    "            'am', 'is', 'are', 'was', 'were', 'be', 'been', 'being', 'have', 'has', 'had', 'having', 'do', 'does', \\\n",
    "            'did', 'doing', 'a', 'an', 'the', 'and', 'but', 'if', 'or', 'because', 'as', 'until', 'while', 'of', \\\n",
    "            'at', 'by', 'for', 'with', 'about', 'against', 'between', 'into', 'through', 'during', 'before', 'after',\\\n",
    "            'above', 'below', 'to', 'from', 'up', 'down', 'in', 'out', 'on', 'off', 'over', 'under', 'again', 'further',\\\n",
    "            'then', 'once', 'here', 'there', 'when', 'where', 'why', 'how', 'all', 'any', 'both', 'each', 'few', 'more',\\\n",
    "            'most', 'other', 'some', 'such', 'only', 'own', 'same', 'so', 'than', 'too', 'very', \\\n",
    "            's', 't', 'can', 'will', 'just', 'don', \"don't\", 'should', \"should've\", 'now', 'd', 'll', 'm', 'o', 're', \\\n",
    "            've', 'y', 'ain', 'aren', \"aren't\", 'couldn', \"couldn't\", 'didn', \"didn't\", 'doesn', \"doesn't\", 'hadn',\\\n",
    "            \"hadn't\", 'hasn', \"hasn't\", 'haven', \"haven't\", 'isn', \"isn't\", 'ma', 'mightn', \"mightn't\", 'mustn',\\\n",
    "            \"mustn't\", 'needn', \"needn't\", 'shan', \"shan't\", 'shouldn', \"shouldn't\", 'wasn', \"wasn't\", 'weren', \"weren't\", \\\n",
    "            'won', \"won't\", 'wouldn', \"wouldn't\"]"
   ]
  },
  {
   "cell_type": "code",
   "execution_count": 18,
   "metadata": {
    "ExecuteTime": {
     "end_time": "2019-12-13T17:50:55.155517Z",
     "start_time": "2019-12-13T17:50:55.044651Z"
    },
    "colab": {},
    "colab_type": "code",
    "collapsed": true,
    "id": "d6RCdphRCyn0",
    "outputId": "a59d693e-fa5b-4821-e173-e308905b96d5"
   },
   "outputs": [],
   "source": [
    "# Combining all the above stundents \n",
    "def Text_cleaner(data):\n",
    "    from tqdm import tqdm\n",
    "    preprocessed_essays = []\n",
    "    # tqdm is for printing the status bar\n",
    "    for sentance in tqdm(data.values):\n",
    "        sent = decontracted(sentance)\n",
    "        sent = sent.replace('\\\\r', ' ')\n",
    "        sent = sent.replace('\\\\\"', ' ')\n",
    "        sent = sent.replace('\\\\n', ' ')\n",
    "        sent = re.sub('[^A-Za-z0-9]+', ' ', sent)\n",
    "        # https://gist.github.com/sebleier/554280\n",
    "        sent = ' '.join(e for e in sent.split() if e.lower() not in stopwords)\n",
    "        preprocessed_essays.append(sent.lower().strip())\n",
    "    return preprocessed_essays"
   ]
  },
  {
   "cell_type": "code",
   "execution_count": 19,
   "metadata": {
    "ExecuteTime": {
     "end_time": "2019-12-13T17:52:25.508865Z",
     "start_time": "2019-12-13T17:50:55.158517Z"
    },
    "colab": {},
    "colab_type": "code",
    "id": "rPo9cLvNCyn3",
    "outputId": "f4069bd0-65e3-46af-e799-f7e9132301bb"
   },
   "outputs": [
    {
     "name": "stderr",
     "output_type": "stream",
     "text": [
      "100%|████████████████████████████████████████████████████████████████████████| 109248/109248 [01:30<00:00, 1212.73it/s]\n"
     ]
    }
   ],
   "source": [
    "# after preprocesing\n",
    "preprocessed_essays=Text_cleaner(project_data['essay'])"
   ]
  },
  {
   "cell_type": "code",
   "execution_count": 20,
   "metadata": {
    "ExecuteTime": {
     "end_time": "2019-12-13T17:52:25.518861Z",
     "start_time": "2019-12-13T17:52:25.508865Z"
    }
   },
   "outputs": [
    {
     "data": {
      "text/plain": [
       "'students arrive school eager learn polite generous strive best know education succeed life help improve lives school focuses families low incomes tries give student education deserve not much students use materials given best projector need school crucial academic improvement students technology continues grow many resources internet teachers use growth students however school limited resources particularly technology without disadvantage one things could really help classrooms projector projector not crucial instruction also growth students projector show presentations documentaries photos historical land sites math problems much projector make teaching learning easier also targeting different types learners classrooms auditory visual kinesthetic etc nannan'"
      ]
     },
     "execution_count": 20,
     "metadata": {},
     "output_type": "execute_result"
    }
   ],
   "source": [
    "preprocessed_essays[1]"
   ]
  },
  {
   "cell_type": "markdown",
   "metadata": {},
   "source": [
    "## Drop essay columns 1, 2, 3, 4"
   ]
  },
  {
   "cell_type": "code",
   "execution_count": 21,
   "metadata": {
    "ExecuteTime": {
     "end_time": "2019-12-13T17:52:26.307768Z",
     "start_time": "2019-12-13T17:52:25.521858Z"
    }
   },
   "outputs": [
    {
     "data": {
      "text/html": [
       "<div>\n",
       "<style>\n",
       "    .dataframe thead tr:only-child th {\n",
       "        text-align: right;\n",
       "    }\n",
       "\n",
       "    .dataframe thead th {\n",
       "        text-align: left;\n",
       "    }\n",
       "\n",
       "    .dataframe tbody tr th {\n",
       "        vertical-align: top;\n",
       "    }\n",
       "</style>\n",
       "<table border=\"1\" class=\"dataframe\">\n",
       "  <thead>\n",
       "    <tr style=\"text-align: right;\">\n",
       "      <th></th>\n",
       "      <th>Unnamed: 0</th>\n",
       "      <th>id</th>\n",
       "      <th>teacher_id</th>\n",
       "      <th>teacher_prefix</th>\n",
       "      <th>school_state</th>\n",
       "      <th>project_submitted_datetime</th>\n",
       "      <th>project_grade_category</th>\n",
       "      <th>project_title</th>\n",
       "      <th>project_resource_summary</th>\n",
       "      <th>teacher_number_of_previously_posted_projects</th>\n",
       "      <th>project_is_approved</th>\n",
       "      <th>clean_categories</th>\n",
       "      <th>clean_subcategories</th>\n",
       "      <th>essay</th>\n",
       "    </tr>\n",
       "  </thead>\n",
       "  <tbody>\n",
       "    <tr>\n",
       "      <th>0</th>\n",
       "      <td>160221</td>\n",
       "      <td>p253737</td>\n",
       "      <td>c90749f5d961ff158d4b4d1e7dc665fc</td>\n",
       "      <td>Mrs.</td>\n",
       "      <td>IN</td>\n",
       "      <td>2016-12-05 13:43:57</td>\n",
       "      <td>Grades_PreK_2</td>\n",
       "      <td>Educational Support for English Learners at Home</td>\n",
       "      <td>My students need opportunities to practice beg...</td>\n",
       "      <td>0</td>\n",
       "      <td>0</td>\n",
       "      <td>Literacy_Language</td>\n",
       "      <td>ESL Literacy</td>\n",
       "      <td>students english learners working english seco...</td>\n",
       "    </tr>\n",
       "    <tr>\n",
       "      <th>1</th>\n",
       "      <td>140945</td>\n",
       "      <td>p258326</td>\n",
       "      <td>897464ce9ddc600bced1151f324dd63a</td>\n",
       "      <td>Mr.</td>\n",
       "      <td>FL</td>\n",
       "      <td>2016-10-25 09:22:10</td>\n",
       "      <td>Grades_6_8</td>\n",
       "      <td>Wanted: Projector for Hungry Learners</td>\n",
       "      <td>My students need a projector to help with view...</td>\n",
       "      <td>7</td>\n",
       "      <td>1</td>\n",
       "      <td>History_Civics Health_Sports</td>\n",
       "      <td>Civics_Government TeamSports</td>\n",
       "      <td>students arrive school eager learn polite gene...</td>\n",
       "    </tr>\n",
       "    <tr>\n",
       "      <th>2</th>\n",
       "      <td>21895</td>\n",
       "      <td>p182444</td>\n",
       "      <td>3465aaf82da834c0582ebd0ef8040ca0</td>\n",
       "      <td>Ms.</td>\n",
       "      <td>AZ</td>\n",
       "      <td>2016-08-31 12:03:56</td>\n",
       "      <td>Grades_6_8</td>\n",
       "      <td>Soccer Equipment for AWESOME Middle School Stu...</td>\n",
       "      <td>My students need shine guards, athletic socks,...</td>\n",
       "      <td>1</td>\n",
       "      <td>0</td>\n",
       "      <td>Health_Sports</td>\n",
       "      <td>Health_Wellness TeamSports</td>\n",
       "      <td>true champions not always ones win guts mia ha...</td>\n",
       "    </tr>\n",
       "    <tr>\n",
       "      <th>3</th>\n",
       "      <td>45</td>\n",
       "      <td>p246581</td>\n",
       "      <td>f3cb9bffbba169bef1a77b243e620b60</td>\n",
       "      <td>Mrs.</td>\n",
       "      <td>KY</td>\n",
       "      <td>2016-10-06 21:16:17</td>\n",
       "      <td>Grades_PreK_2</td>\n",
       "      <td>Techie Kindergarteners</td>\n",
       "      <td>My students need to engage in Reading and Math...</td>\n",
       "      <td>4</td>\n",
       "      <td>1</td>\n",
       "      <td>Literacy_Language Math_Science</td>\n",
       "      <td>Literacy Mathematics</td>\n",
       "      <td>work unique school filled esl english second l...</td>\n",
       "    </tr>\n",
       "    <tr>\n",
       "      <th>4</th>\n",
       "      <td>172407</td>\n",
       "      <td>p104768</td>\n",
       "      <td>be1f7507a41f8479dc06f047086a39ec</td>\n",
       "      <td>Mrs.</td>\n",
       "      <td>TX</td>\n",
       "      <td>2016-07-11 01:10:09</td>\n",
       "      <td>Grades_PreK_2</td>\n",
       "      <td>Interactive Math Tools</td>\n",
       "      <td>My students need hands on practice in mathemat...</td>\n",
       "      <td>1</td>\n",
       "      <td>1</td>\n",
       "      <td>Math_Science</td>\n",
       "      <td>Mathematics</td>\n",
       "      <td>second grade classroom next year made around 2...</td>\n",
       "    </tr>\n",
       "  </tbody>\n",
       "</table>\n",
       "</div>"
      ],
      "text/plain": [
       "   Unnamed: 0       id                        teacher_id teacher_prefix  \\\n",
       "0      160221  p253737  c90749f5d961ff158d4b4d1e7dc665fc           Mrs.   \n",
       "1      140945  p258326  897464ce9ddc600bced1151f324dd63a            Mr.   \n",
       "2       21895  p182444  3465aaf82da834c0582ebd0ef8040ca0            Ms.   \n",
       "3          45  p246581  f3cb9bffbba169bef1a77b243e620b60           Mrs.   \n",
       "4      172407  p104768  be1f7507a41f8479dc06f047086a39ec           Mrs.   \n",
       "\n",
       "  school_state project_submitted_datetime project_grade_category  \\\n",
       "0           IN        2016-12-05 13:43:57          Grades_PreK_2   \n",
       "1           FL        2016-10-25 09:22:10             Grades_6_8   \n",
       "2           AZ        2016-08-31 12:03:56             Grades_6_8   \n",
       "3           KY        2016-10-06 21:16:17          Grades_PreK_2   \n",
       "4           TX        2016-07-11 01:10:09          Grades_PreK_2   \n",
       "\n",
       "                                       project_title  \\\n",
       "0   Educational Support for English Learners at Home   \n",
       "1              Wanted: Projector for Hungry Learners   \n",
       "2  Soccer Equipment for AWESOME Middle School Stu...   \n",
       "3                             Techie Kindergarteners   \n",
       "4                             Interactive Math Tools   \n",
       "\n",
       "                            project_resource_summary  \\\n",
       "0  My students need opportunities to practice beg...   \n",
       "1  My students need a projector to help with view...   \n",
       "2  My students need shine guards, athletic socks,...   \n",
       "3  My students need to engage in Reading and Math...   \n",
       "4  My students need hands on practice in mathemat...   \n",
       "\n",
       "   teacher_number_of_previously_posted_projects  project_is_approved  \\\n",
       "0                                             0                    0   \n",
       "1                                             7                    1   \n",
       "2                                             1                    0   \n",
       "3                                             4                    1   \n",
       "4                                             1                    1   \n",
       "\n",
       "                 clean_categories           clean_subcategories  \\\n",
       "0               Literacy_Language                  ESL Literacy   \n",
       "1    History_Civics Health_Sports  Civics_Government TeamSports   \n",
       "2                   Health_Sports    Health_Wellness TeamSports   \n",
       "3  Literacy_Language Math_Science          Literacy Mathematics   \n",
       "4                    Math_Science                   Mathematics   \n",
       "\n",
       "                                               essay  \n",
       "0  students english learners working english seco...  \n",
       "1  students arrive school eager learn polite gene...  \n",
       "2  true champions not always ones win guts mia ha...  \n",
       "3  work unique school filled esl english second l...  \n",
       "4  second grade classroom next year made around 2...  "
      ]
     },
     "execution_count": 21,
     "metadata": {},
     "output_type": "execute_result"
    }
   ],
   "source": [
    "project_data['essay'] = preprocessed_essays\n",
    "project_data.drop(['project_essay_1'], axis=1, inplace=True)\n",
    "project_data.drop(['project_essay_2'], axis=1, inplace=True)\n",
    "project_data.drop(['project_essay_3'], axis=1, inplace=True)\n",
    "project_data.drop(['project_essay_4'], axis=1, inplace=True)\n",
    "project_data.head()"
   ]
  },
  {
   "cell_type": "markdown",
   "metadata": {
    "colab_type": "text",
    "id": "QeUw6WMKCyn7"
   },
   "source": [
    "<h2><font color='black'>Preprocessing of `project_title`</font></h2>"
   ]
  },
  {
   "cell_type": "code",
   "execution_count": 22,
   "metadata": {
    "ExecuteTime": {
     "end_time": "2019-12-13T17:52:30.280738Z",
     "start_time": "2019-12-13T17:52:26.307768Z"
    },
    "colab": {},
    "colab_type": "code",
    "id": "Ql9ttfW3Cyn7"
   },
   "outputs": [
    {
     "name": "stderr",
     "output_type": "stream",
     "text": [
      "100%|███████████████████████████████████████████████████████████████████████| 109248/109248 [00:03<00:00, 27653.10it/s]\n"
     ]
    }
   ],
   "source": [
    "# similarly you can preprocess the titles also\n",
    "preprocessed_project_title=Text_cleaner(project_data['project_title'])"
   ]
  },
  {
   "cell_type": "code",
   "execution_count": 23,
   "metadata": {
    "ExecuteTime": {
     "end_time": "2019-12-13T17:52:30.292652Z",
     "start_time": "2019-12-13T17:52:30.284738Z"
    }
   },
   "outputs": [
    {
     "data": {
      "text/plain": [
       "'wanted projector hungry learners'"
      ]
     },
     "execution_count": 23,
     "metadata": {},
     "output_type": "execute_result"
    }
   ],
   "source": [
    "preprocessed_project_title[1]"
   ]
  },
  {
   "cell_type": "markdown",
   "metadata": {},
   "source": [
    "## Drop column project_title and use Cleaned_Title"
   ]
  },
  {
   "cell_type": "code",
   "execution_count": 24,
   "metadata": {
    "ExecuteTime": {
     "end_time": "2019-12-13T17:52:30.562523Z",
     "start_time": "2019-12-13T17:52:30.295647Z"
    },
    "collapsed": true
   },
   "outputs": [],
   "source": [
    "project_data['Cleaned_title']= preprocessed_project_title\n",
    "project_data.drop(['project_title'], axis=1, inplace=True)"
   ]
  },
  {
   "cell_type": "markdown",
   "metadata": {
    "colab_type": "text",
    "id": "NQg4ZfFtCyn9"
   },
   "source": [
    "## Add up the price based on project id"
   ]
  },
  {
   "cell_type": "code",
   "execution_count": 25,
   "metadata": {
    "ExecuteTime": {
     "end_time": "2019-12-13T17:52:31.975924Z",
     "start_time": "2019-12-13T17:52:30.570518Z"
    },
    "collapsed": true
   },
   "outputs": [],
   "source": [
    "price_data = resource_data.groupby('id').agg({'price':'sum', 'quantity':'sum'}).reset_index()\n",
    "project_data = pd.merge(project_data, price_data, on='id', how='left')"
   ]
  },
  {
   "cell_type": "code",
   "execution_count": 26,
   "metadata": {
    "ExecuteTime": {
     "end_time": "2019-12-13T17:52:31.985213Z",
     "start_time": "2019-12-13T17:52:31.977944Z"
    },
    "colab": {},
    "colab_type": "code",
    "id": "V4GS54ZTCyn-",
    "outputId": "febd575b-ed33-454e-d2d5-e8f6f635d117"
   },
   "outputs": [
    {
     "data": {
      "text/plain": [
       "Index(['Unnamed: 0', 'id', 'teacher_id', 'teacher_prefix', 'school_state',\n",
       "       'project_submitted_datetime', 'project_grade_category',\n",
       "       'project_resource_summary',\n",
       "       'teacher_number_of_previously_posted_projects', 'project_is_approved',\n",
       "       'clean_categories', 'clean_subcategories', 'essay', 'Cleaned_title',\n",
       "       'price', 'quantity'],\n",
       "      dtype='object')"
      ]
     },
     "execution_count": 26,
     "metadata": {},
     "output_type": "execute_result"
    }
   ],
   "source": [
    "project_data.columns"
   ]
  },
  {
   "cell_type": "code",
   "execution_count": 27,
   "metadata": {
    "ExecuteTime": {
     "end_time": "2019-12-13T17:52:32.328052Z",
     "start_time": "2019-12-13T17:52:31.988212Z"
    },
    "collapsed": true
   },
   "outputs": [],
   "source": [
    "project_data.drop(['project_resource_summary'], axis=1, inplace=True)\n",
    "project_data.drop(['Unnamed: 0'], axis=1, inplace=True)\n",
    "project_data.drop(['id'], axis=1, inplace=True)\n",
    "project_data.drop(['teacher_id'], axis=1, inplace=True)"
   ]
  },
  {
   "cell_type": "markdown",
   "metadata": {},
   "source": [
    "## Adding the word count of essay and title as new columns"
   ]
  },
  {
   "cell_type": "code",
   "execution_count": 28,
   "metadata": {
    "ExecuteTime": {
     "end_time": "2019-12-13T17:52:32.456019Z",
     "start_time": "2019-12-13T17:52:32.328052Z"
    },
    "collapsed": true
   },
   "outputs": [],
   "source": [
    "project_data['essay_count']=project_data['essay'].str.len()\n",
    "project_data['title_count']=project_data['Cleaned_title'].str.len()"
   ]
  },
  {
   "cell_type": "markdown",
   "metadata": {
    "colab_type": "text",
    "id": "6FDsc1epCyoD"
   },
   "source": [
    "we are going to consider\n",
    "\n",
    "       - school_state : categorical data\n",
    "       - clean_categories : categorical data\n",
    "       - clean_subcategories : categorical data\n",
    "       - project_grade_category : categorical data\n",
    "       - teacher_prefix : categorical data\n",
    "       \n",
    "       - project_title : text data\n",
    "       - text : text data\n",
    "       - project_resource_summary: text data (optinal)\n",
    "       \n",
    "       - quantity : numerical (optinal)\n",
    "       - teacher_number_of_previously_posted_projects : numerical\n",
    "       - price : numerical\n",
    "       \n",
    "       -Length of words in essay\n",
    "       -Length of words in title"
   ]
  },
  {
   "cell_type": "markdown",
   "metadata": {},
   "source": [
    "## Separate out the Dependant and independant variables "
   ]
  },
  {
   "cell_type": "code",
   "execution_count": 29,
   "metadata": {
    "ExecuteTime": {
     "end_time": "2019-12-13T17:52:32.609396Z",
     "start_time": "2019-12-13T17:52:32.459018Z"
    }
   },
   "outputs": [
    {
     "data": {
      "text/plain": [
       "(109248, 13)"
      ]
     },
     "execution_count": 29,
     "metadata": {},
     "output_type": "execute_result"
    }
   ],
   "source": [
    "#https://stackoverflow.com/questions/29763620/how-to-select-all-columns-except-one-column-in-pandas\n",
    "X=project_data.loc[:, project_data.columns != 'project_is_approved']\n",
    "y=project_data['project_is_approved']\n",
    "X.shape"
   ]
  },
  {
   "cell_type": "markdown",
   "metadata": {},
   "source": [
    "## Splitting data into Test,Train,CV"
   ]
  },
  {
   "cell_type": "code",
   "execution_count": 30,
   "metadata": {
    "ExecuteTime": {
     "end_time": "2019-12-13T17:52:32.913501Z",
     "start_time": "2019-12-13T17:52:32.612395Z"
    }
   },
   "outputs": [
    {
     "name": "stdout",
     "output_type": "stream",
     "text": [
      "(53531, 13)\n",
      "(32775, 13)\n",
      "(22942, 13)\n",
      "(53531,)\n",
      "(32775,)\n",
      "(22942,)\n"
     ]
    }
   ],
   "source": [
    "# https://scikit-learn.org/stable/modules/generated/sklearn.model_selection.train_test_split.html\n",
    "\n",
    "from sklearn.model_selection import train_test_split\n",
    "\n",
    "X_train,X_test,y_train, y_test=train_test_split(X, y, test_size=0.3, random_state=0,stratify=y)\n",
    "X_train,X_cv,y_train,y_cv=train_test_split(X_train, y_train, test_size=0.3, random_state=0,stratify=y_train)\n",
    "\n",
    "print(X_train.shape)\n",
    "print(X_test.shape)\n",
    "print(X_cv.shape)\n",
    "print(y_train.shape)\n",
    "print(y_test.shape)\n",
    "print(y_cv.shape)\n"
   ]
  },
  {
   "cell_type": "code",
   "execution_count": 31,
   "metadata": {
    "ExecuteTime": {
     "end_time": "2019-12-13T17:52:32.935580Z",
     "start_time": "2019-12-13T17:52:32.913501Z"
    }
   },
   "outputs": [
    {
     "data": {
      "text/html": [
       "<div>\n",
       "<style>\n",
       "    .dataframe thead tr:only-child th {\n",
       "        text-align: right;\n",
       "    }\n",
       "\n",
       "    .dataframe thead th {\n",
       "        text-align: left;\n",
       "    }\n",
       "\n",
       "    .dataframe tbody tr th {\n",
       "        vertical-align: top;\n",
       "    }\n",
       "</style>\n",
       "<table border=\"1\" class=\"dataframe\">\n",
       "  <thead>\n",
       "    <tr style=\"text-align: right;\">\n",
       "      <th></th>\n",
       "      <th>teacher_prefix</th>\n",
       "      <th>school_state</th>\n",
       "      <th>project_submitted_datetime</th>\n",
       "      <th>project_grade_category</th>\n",
       "      <th>teacher_number_of_previously_posted_projects</th>\n",
       "      <th>clean_categories</th>\n",
       "      <th>clean_subcategories</th>\n",
       "      <th>essay</th>\n",
       "      <th>Cleaned_title</th>\n",
       "      <th>price</th>\n",
       "      <th>quantity</th>\n",
       "      <th>essay_count</th>\n",
       "      <th>title_count</th>\n",
       "    </tr>\n",
       "  </thead>\n",
       "  <tbody>\n",
       "    <tr>\n",
       "      <th>0</th>\n",
       "      <td>Mrs.</td>\n",
       "      <td>IN</td>\n",
       "      <td>2016-12-05 13:43:57</td>\n",
       "      <td>Grades_PreK_2</td>\n",
       "      <td>0</td>\n",
       "      <td>Literacy_Language</td>\n",
       "      <td>ESL Literacy</td>\n",
       "      <td>students english learners working english seco...</td>\n",
       "      <td>educational support english learners home</td>\n",
       "      <td>154.6</td>\n",
       "      <td>23</td>\n",
       "      <td>1075</td>\n",
       "      <td>41</td>\n",
       "    </tr>\n",
       "    <tr>\n",
       "      <th>1</th>\n",
       "      <td>Mr.</td>\n",
       "      <td>FL</td>\n",
       "      <td>2016-10-25 09:22:10</td>\n",
       "      <td>Grades_6_8</td>\n",
       "      <td>7</td>\n",
       "      <td>History_Civics Health_Sports</td>\n",
       "      <td>Civics_Government TeamSports</td>\n",
       "      <td>students arrive school eager learn polite gene...</td>\n",
       "      <td>wanted projector hungry learners</td>\n",
       "      <td>299.0</td>\n",
       "      <td>1</td>\n",
       "      <td>768</td>\n",
       "      <td>32</td>\n",
       "    </tr>\n",
       "  </tbody>\n",
       "</table>\n",
       "</div>"
      ],
      "text/plain": [
       "  teacher_prefix school_state project_submitted_datetime  \\\n",
       "0           Mrs.           IN        2016-12-05 13:43:57   \n",
       "1            Mr.           FL        2016-10-25 09:22:10   \n",
       "\n",
       "  project_grade_category  teacher_number_of_previously_posted_projects  \\\n",
       "0          Grades_PreK_2                                             0   \n",
       "1             Grades_6_8                                             7   \n",
       "\n",
       "               clean_categories           clean_subcategories  \\\n",
       "0             Literacy_Language                  ESL Literacy   \n",
       "1  History_Civics Health_Sports  Civics_Government TeamSports   \n",
       "\n",
       "                                               essay  \\\n",
       "0  students english learners working english seco...   \n",
       "1  students arrive school eager learn polite gene...   \n",
       "\n",
       "                               Cleaned_title  price  quantity  essay_count  \\\n",
       "0  educational support english learners home  154.6        23         1075   \n",
       "1           wanted projector hungry learners  299.0         1          768   \n",
       "\n",
       "   title_count  \n",
       "0           41  \n",
       "1           32  "
      ]
     },
     "execution_count": 31,
     "metadata": {},
     "output_type": "execute_result"
    }
   ],
   "source": [
    "X.head(2)"
   ]
  },
  {
   "cell_type": "markdown",
   "metadata": {},
   "source": [
    "## Vectorize the features"
   ]
  },
  {
   "cell_type": "markdown",
   "metadata": {},
   "source": [
    "### Vectorize the Categorical Features - categories"
   ]
  },
  {
   "cell_type": "code",
   "execution_count": 32,
   "metadata": {
    "ExecuteTime": {
     "end_time": "2019-12-13T17:52:33.844708Z",
     "start_time": "2019-12-13T17:52:32.939337Z"
    },
    "colab": {},
    "colab_type": "code",
    "id": "_5mt7VMXCyoF",
    "outputId": "0dbca3d7-df66-46b6-d9b3-a4035f29f8ab"
   },
   "outputs": [
    {
     "name": "stdout",
     "output_type": "stream",
     "text": [
      "['AppliedLearning', 'Care_Hunger', 'Health_Sports', 'History_Civics', 'Literacy_Language', 'Math_Science', 'Music_Arts', 'SpecialNeeds', 'Warmth']\n",
      "Shape of matrix after one hot encodig  (53531, 9)\n"
     ]
    }
   ],
   "source": [
    "# we use count vectorizer to convert the values into one \n",
    "from sklearn.feature_extraction.text import CountVectorizer\n",
    "vectorizer = CountVectorizer(lowercase=False, binary=True)\n",
    "vectorizer.fit(X_train['clean_categories'].values)\n",
    "\n",
    "# we use the fitted CountVectorizer to transform the text to vector\n",
    "X_train_clean_categories=vectorizer.transform(X_train['clean_categories'].values)\n",
    "X_test_clean_categories=vectorizer.transform(X_test['clean_categories'].values)\n",
    "X_cv_clean_categories=vectorizer.transform(X_cv['clean_categories'].values)\n",
    "\n",
    "\n",
    "print(vectorizer.get_feature_names())\n",
    "print(\"Shape of matrix after one hot encodig \",X_train_clean_categories.shape)"
   ]
  },
  {
   "cell_type": "markdown",
   "metadata": {},
   "source": [
    "### Vectorize the Categorical Features - subcategories"
   ]
  },
  {
   "cell_type": "code",
   "execution_count": 33,
   "metadata": {
    "ExecuteTime": {
     "end_time": "2019-12-13T17:52:34.689088Z",
     "start_time": "2019-12-13T17:52:33.848707Z"
    },
    "colab": {},
    "colab_type": "code",
    "id": "npr7SzACCyoH",
    "outputId": "68c81ac7-c96e-4a19-849e-6b8213608464"
   },
   "outputs": [
    {
     "name": "stdout",
     "output_type": "stream",
     "text": [
      "['AppliedSciences', 'Care_Hunger', 'CharacterEducation', 'Civics_Government', 'College_CareerPrep', 'CommunityService', 'ESL', 'EarlyDevelopment', 'Economics', 'EnvironmentalScience', 'Extracurricular', 'FinancialLiteracy', 'ForeignLanguages', 'Gym_Fitness', 'Health_LifeScience', 'Health_Wellness', 'History_Geography', 'Literacy', 'Literature_Writing', 'Mathematics', 'Music', 'NutritionEducation', 'Other', 'ParentInvolvement', 'PerformingArts', 'SocialSciences', 'SpecialNeeds', 'TeamSports', 'VisualArts', 'Warmth']\n",
      "Shape of matrix after one hot encodig  (53531, 30)\n"
     ]
    }
   ],
   "source": [
    "vectorizer = CountVectorizer(lowercase=False, binary=True)\n",
    "vectorizer.fit(X_train['clean_subcategories'].values)\n",
    "\n",
    "# we use the fitted CountVectorizer to convert the text to vector\n",
    "X_train_clean_sub_categories=vectorizer.transform(X_train['clean_subcategories'].values)\n",
    "X_test_clean_sub_categories=vectorizer.transform(X_test['clean_subcategories'].values)\n",
    "X_cv_clean_sub_categories=vectorizer.transform(X_cv['clean_subcategories'].values)\n",
    "\n",
    "\n",
    "print(vectorizer.get_feature_names())\n",
    "print(\"Shape of matrix after one hot encodig \",X_train_clean_sub_categories.shape)"
   ]
  },
  {
   "cell_type": "markdown",
   "metadata": {},
   "source": [
    "### Vectorize the Categorical Features - school state"
   ]
  },
  {
   "cell_type": "code",
   "execution_count": 34,
   "metadata": {
    "ExecuteTime": {
     "end_time": "2019-12-13T17:52:35.365441Z",
     "start_time": "2019-12-13T17:52:34.689088Z"
    },
    "colab": {},
    "colab_type": "code",
    "id": "0ecQOf-JCyoL"
   },
   "outputs": [
    {
     "name": "stdout",
     "output_type": "stream",
     "text": [
      "['AK', 'AL', 'AR', 'AZ', 'CA', 'CO', 'CT', 'DC', 'DE', 'FL', 'GA', 'HI', 'IA', 'ID', 'IL', 'IN', 'KS', 'KY', 'LA', 'MA', 'MD', 'ME', 'MI', 'MN', 'MO', 'MS', 'MT', 'NC', 'ND', 'NE', 'NH', 'NJ', 'NM', 'NV', 'NY', 'OH', 'OK', 'OR', 'PA', 'RI', 'SC', 'SD', 'TN', 'TX', 'UT', 'VA', 'VT', 'WA', 'WI', 'WV', 'WY']\n",
      "Shape of matrix after one hot encodig  (53531, 51)\n"
     ]
    }
   ],
   "source": [
    "vectorizer = CountVectorizer(lowercase=False, binary=True)\n",
    "vectorizer.fit(X_train['school_state'].values)\n",
    "\n",
    "# we use the fitted CountVectorizer to convert the text to vector\n",
    "X_train_skl_state=vectorizer.transform(X_train['school_state'].values)\n",
    "X_test_skl_state=vectorizer.transform(X_test['school_state'].values)\n",
    "X_cv_skl_state=vectorizer.transform(X_cv['school_state'].values)\n",
    "\n",
    "\n",
    "print(vectorizer.get_feature_names())\n",
    "print(\"Shape of matrix after one hot encodig \",X_train_skl_state.shape)"
   ]
  },
  {
   "cell_type": "markdown",
   "metadata": {},
   "source": [
    "### Vectorize the Categorical Features - teacher prefix"
   ]
  },
  {
   "cell_type": "code",
   "execution_count": 35,
   "metadata": {
    "ExecuteTime": {
     "end_time": "2019-12-13T17:52:36.018704Z",
     "start_time": "2019-12-13T17:52:35.365441Z"
    }
   },
   "outputs": [
    {
     "name": "stdout",
     "output_type": "stream",
     "text": [
      "['Dr', 'Mr', 'Mrs', 'Ms', 'Teacher']\n",
      "Shape of matrix after one hot encodig  (53531, 5)\n"
     ]
    }
   ],
   "source": [
    "vectorizer = CountVectorizer(lowercase=False, binary=True)\n",
    "vectorizer.fit(X_train['teacher_prefix'].values)\n",
    "\n",
    "# we use the fitted CountVectorizer to convert the text to vector\n",
    "X_train_teacher_prefix=vectorizer.transform(X_train['teacher_prefix'].values)\n",
    "X_test_teacher_prefix=vectorizer.transform(X_test['teacher_prefix'].values)\n",
    "X_cv_teacher_prefix=vectorizer.transform(X_cv['teacher_prefix'].values)\n",
    "\n",
    "\n",
    "print(vectorizer.get_feature_names())\n",
    "print(\"Shape of matrix after one hot encodig \",X_train_teacher_prefix.shape)\n"
   ]
  },
  {
   "cell_type": "markdown",
   "metadata": {},
   "source": [
    "### Vectorize the Categorical Features - project_grade_category"
   ]
  },
  {
   "cell_type": "code",
   "execution_count": 36,
   "metadata": {
    "ExecuteTime": {
     "end_time": "2019-12-13T17:52:36.754595Z",
     "start_time": "2019-12-13T17:52:36.022704Z"
    }
   },
   "outputs": [
    {
     "name": "stdout",
     "output_type": "stream",
     "text": [
      "['Grades_3_5', 'Grades_6_8', 'Grades_9_12', 'Grades_PreK_2']\n",
      "Shape of matrix after one hot encodig  (53531, 4)\n"
     ]
    }
   ],
   "source": [
    "vectorizer = CountVectorizer(lowercase=False, binary=True)\n",
    "vectorizer.fit(X_train['project_grade_category'].values)\n",
    "\n",
    "# we use the fitted CountVectorizer to convert the text to vector\n",
    "X_train_project_grade_category=vectorizer.transform(X_train['project_grade_category'].values)\n",
    "X_test_project_grade_category=vectorizer.transform(X_test['project_grade_category'].values)\n",
    "X_cv_project_grade_category=vectorizer.transform(X_cv['project_grade_category'].values)\n",
    "\n",
    "\n",
    "print(vectorizer.get_feature_names())\n",
    "print(\"Shape of matrix after one hot encodig \",X_train_project_grade_category.shape)\n"
   ]
  },
  {
   "cell_type": "markdown",
   "metadata": {},
   "source": [
    "### Vectorize the Numerical Features - teacher_number_of_previously_posted_projects"
   ]
  },
  {
   "cell_type": "code",
   "execution_count": 37,
   "metadata": {
    "ExecuteTime": {
     "end_time": "2019-12-13T17:52:36.841529Z",
     "start_time": "2019-12-13T17:52:36.754595Z"
    }
   },
   "outputs": [
    {
     "name": "stdout",
     "output_type": "stream",
     "text": [
      "X_train_price_standardized dimension is--> 2\n",
      "==================================================\n",
      "X_train_price_standardized shape is-->  (53531, 1)\n",
      "==================================================\n",
      "After normalize-->\n",
      " [[ 0.00107381]\n",
      " [ 0.00071588]\n",
      " [ 0.00876948]\n",
      " [ 0.00053691]\n",
      " [ 0.00053691]\n",
      " [ 0.0028635 ]\n",
      " [ 0.00304247]\n",
      " [ 0.        ]\n",
      " [ 0.00196866]\n",
      " [ 0.00071588]]\n",
      "==================================================\n",
      "After normalize-->\n",
      " [[ 0.        ]\n",
      " [ 0.0011172 ]\n",
      " [ 0.00044688]\n",
      " [ 0.00044688]\n",
      " [ 0.        ]\n",
      " [ 0.        ]\n",
      " [ 0.        ]\n",
      " [ 0.00022344]\n",
      " [ 0.        ]\n",
      " [ 0.00558599]]\n",
      "==================================================\n"
     ]
    }
   ],
   "source": [
    "# check this one: https://www.youtube.com/watch?v=0HOqOcln3Z4&t=530s\n",
    "# standardization sklearn: https://scikit-learn.org/stable/modules/generated/sklearn.preprocessing.StandardScaler.html\n",
    "# https://scikit-learn.org/stable/modules/generated/sklearn.preprocessing.Normalizer.html#sklearn.preprocessing.Normalizer\n",
    "\n",
    "from sklearn.preprocessing import MinMaxScaler\n",
    "from sklearn.preprocessing import Normalizer\n",
    "from sklearn import preprocessing\n",
    "\n",
    "X=X_train['teacher_number_of_previously_posted_projects'].values.reshape(1,-1)\n",
    "ppp_scalar = Normalizer().fit(X)\n",
    "\n",
    "# Now standardize the data with above maen and variance.\n",
    "X_train_prev_proj = ppp_scalar.transform(X_train['teacher_number_of_previously_posted_projects'].values.reshape(1,-1))\n",
    "X_test_prev_proj = ppp_scalar.transform(X_test['teacher_number_of_previously_posted_projects'].values.reshape(1,-1))\n",
    "X_cv_prev_proj = ppp_scalar.transform(X_cv['teacher_number_of_previously_posted_projects'].values.reshape(1,-1))\n",
    "\n",
    "# Make sure to reshape it back Else it will give error while merging\n",
    "X_train_prev_proj_standardized=X_train_prev_proj.reshape(-1,1)\n",
    "\n",
    "X_test_prev_proj_standardized=X_test_prev_proj.reshape(-1,1)\n",
    "\n",
    "X_cv_prev_proj_standardized=X_cv_prev_proj.reshape(-1,1)\n",
    "\n",
    "\n",
    "print(\"X_train_price_standardized dimension is-->\", X_train_prev_proj_standardized.ndim)\n",
    "print(\"==\"*25)\n",
    "print(\"X_train_price_standardized shape is--> \", X_train_prev_proj_standardized.shape)\n",
    "print(\"==\"*25)\n",
    "print(\"After normalize-->\\n\",X_test_prev_proj_standardized[:10])\n",
    "print(\"==\"*25)\n",
    "print(\"After normalize-->\\n\",X_cv_prev_proj_standardized[:10])\n",
    "print(\"==\"*25)"
   ]
  },
  {
   "cell_type": "markdown",
   "metadata": {},
   "source": [
    "### Vectorize the Numerical Features - price"
   ]
  },
  {
   "cell_type": "code",
   "execution_count": 38,
   "metadata": {
    "ExecuteTime": {
     "end_time": "2019-12-13T17:52:37.018489Z",
     "start_time": "2019-12-13T17:52:36.844768Z"
    }
   },
   "outputs": [
    {
     "name": "stdout",
     "output_type": "stream",
     "text": [
      "X_train_price_standardized dimension is--> 2\n",
      "==================================================\n",
      "X_train_price_standardized shape is-->  (53531, 1)\n",
      "==================================================\n",
      "After normalize-->\n",
      " [[ 0.00434408]\n",
      " [ 0.00157362]\n",
      " [ 0.00158861]\n",
      " [ 0.00549255]\n",
      " [ 0.00454119]\n",
      " [ 0.00117084]\n",
      " [ 0.00208285]\n",
      " [ 0.00181301]\n",
      " [ 0.00119778]\n",
      " [ 0.00173794]]\n",
      "==================================================\n",
      "After normalize-->\n",
      " [[ 0.00239887]\n",
      " [ 0.00199007]\n",
      " [ 0.00138773]\n",
      " [ 0.01330296]\n",
      " [ 0.00199856]\n",
      " [ 0.00334289]\n",
      " [ 0.00516327]\n",
      " [ 0.00019611]\n",
      " [ 0.00305634]\n",
      " [ 0.0001918 ]]\n",
      "==================================================\n"
     ]
    }
   ],
   "source": [
    "# check this one: https://www.youtube.com/watch?v=0HOqOcln3Z4&t=530s\n",
    "# standardization sklearn: https://scikit-learn.org/stable/modules/generated/sklearn.preprocessing.StandardScaler.html\n",
    "# https://scikit-learn.org/stable/modules/generated/sklearn.preprocessing.Normalizer.html#sklearn.preprocessing.Normalizer\n",
    "\n",
    "from sklearn.preprocessing import MinMaxScaler\n",
    "from sklearn.preprocessing import Normalizer\n",
    "from sklearn import preprocessing\n",
    "\n",
    "X=X_train['price'].values.reshape(1,-1)\n",
    "price_scalar = Normalizer().fit(X)\n",
    "\n",
    "# Now standardize the data with above maen and variance.\n",
    "X_train_price_standardized = price_scalar.transform(X_train['price'].values.reshape(1,-1))\n",
    "X_test_price_standardized = price_scalar.transform(X_test['price'].values.reshape(1,-1))\n",
    "X_cv_price_standardized = price_scalar.transform(X_cv['price'].values.reshape(1,-1))\n",
    "\n",
    "# Make sure to reshape it back Else it will give error while merging\n",
    "X_train_price_standardized=X_train_price_standardized.reshape(-1,1)\n",
    "\n",
    "X_test_price_standardized=X_test_price_standardized.reshape(-1,1)\n",
    "\n",
    "X_cv_price_standardized=X_cv_price_standardized.reshape(-1,1)\n",
    "\n",
    "\n",
    "print(\"X_train_price_standardized dimension is-->\", X_train_price_standardized.ndim)\n",
    "print(\"==\"*25)\n",
    "print(\"X_train_price_standardized shape is--> \", X_train_price_standardized.shape)\n",
    "print(\"==\"*25)\n",
    "print(\"After normalize-->\\n\",X_test_price_standardized[:10])\n",
    "print(\"==\"*25)\n",
    "print(\"After normalize-->\\n\",X_cv_price_standardized[:10])\n",
    "print(\"==\"*25)"
   ]
  },
  {
   "cell_type": "markdown",
   "metadata": {},
   "source": [
    "### Vectorize the Numerical Features - quantity"
   ]
  },
  {
   "cell_type": "code",
   "execution_count": 39,
   "metadata": {
    "ExecuteTime": {
     "end_time": "2019-12-13T17:52:37.113402Z",
     "start_time": "2019-12-13T17:52:37.018489Z"
    },
    "collapsed": true
   },
   "outputs": [],
   "source": [
    "X=X_train['quantity'].values.reshape(1,-1)\n",
    "quantity_scalar = Normalizer().fit(X)\n",
    "\n",
    "# Now standardize the data with above maen and variance.\n",
    "X_train_quantity_standardized = quantity_scalar.transform(X_train['quantity'].values.reshape(1,-1))\n",
    "X_test_quantity_standardized = quantity_scalar.transform(X_test['quantity'].values.reshape(1,-1))\n",
    "X_cv_quantity_standardized = quantity_scalar.transform(X_cv['quantity'].values.reshape(1,-1))\n",
    "\n",
    "X_train_quantity_standardized =X_train_quantity_standardized.reshape(-1,1)\n",
    "X_test_quantity_standardized = X_test_quantity_standardized.reshape(-1,1)\n",
    "X_cv_quantity_standardized =X_cv_quantity_standardized.reshape(-1,1)\n"
   ]
  },
  {
   "cell_type": "markdown",
   "metadata": {},
   "source": [
    "### Vectorize the Numerical Features - essay count"
   ]
  },
  {
   "cell_type": "code",
   "execution_count": 40,
   "metadata": {
    "ExecuteTime": {
     "end_time": "2019-12-13T17:52:37.207326Z",
     "start_time": "2019-12-13T17:52:37.116401Z"
    },
    "collapsed": true
   },
   "outputs": [],
   "source": [
    "X=X_train['essay_count'].values.reshape(1,-1)\n",
    "count_scalar = Normalizer().fit(X)\n",
    "\n",
    "\n",
    "# Now standardize the data with above maen and variance.\n",
    "X_train_essay_count_standardized = count_scalar.transform(X_train['essay_count'].values.reshape(1,-1))\n",
    "X_test_essay_count_standardized = count_scalar.transform(X_test['essay_count'].values.reshape(1,-1))\n",
    "X_cv_essay_count_standardized = count_scalar.transform(X_cv['essay_count'].values.reshape(1,-1))\n",
    "\n",
    "X_train_essay_count_standardized = X_train_essay_count_standardized.reshape(-1,1)\n",
    "X_test_essay_count_standardized =X_test_essay_count_standardized.reshape(-1,1)\n",
    "X_cv_essay_count_standardized = X_cv_essay_count_standardized.reshape(-1,1)\n",
    "\n"
   ]
  },
  {
   "cell_type": "markdown",
   "metadata": {},
   "source": [
    "### Vectorize the Numerical Features - title count"
   ]
  },
  {
   "cell_type": "code",
   "execution_count": 41,
   "metadata": {
    "ExecuteTime": {
     "end_time": "2019-12-13T17:52:37.300985Z",
     "start_time": "2019-12-13T17:52:37.210324Z"
    },
    "collapsed": true
   },
   "outputs": [],
   "source": [
    "X=X_train['title_count'].values.reshape(1,-1)\n",
    "count_scalar = Normalizer().fit(X)\n",
    "\n",
    "# Now standardize the data with above maen and variance.\n",
    "X_train_title_count_standardized = count_scalar.transform(X_train['title_count'].values.reshape(1,-1))\n",
    "X_test_title_count_standardized = count_scalar.transform(X_test['title_count'].values.reshape(1,-1))\n",
    "X_cv_title_count_standardized = count_scalar.transform(X_cv['title_count'].values.reshape(1,-1))\n",
    "\n",
    "X_train_title_count_standardized = X_train_title_count_standardized.reshape(-1,1)\n",
    "X_test_title_count_standardized = X_test_title_count_standardized.reshape(-1,1)\n",
    "X_cv_title_count_standardized = X_cv_title_count_standardized.reshape(-1,1)\n",
    "\n"
   ]
  },
  {
   "cell_type": "markdown",
   "metadata": {
    "colab_type": "text",
    "id": "5YnkzKnmCyoN"
   },
   "source": [
    "### Vectorizing Text data"
   ]
  },
  {
   "cell_type": "markdown",
   "metadata": {
    "colab_type": "text",
    "id": "W544CoFtCyoN"
   },
   "source": [
    "#### Bag of words - essay"
   ]
  },
  {
   "cell_type": "code",
   "execution_count": 42,
   "metadata": {
    "ExecuteTime": {
     "end_time": "2019-12-13T17:55:18.683453Z",
     "start_time": "2019-12-13T17:52:37.303984Z"
    },
    "colab": {},
    "colab_type": "code",
    "id": "2D93QosECyoP",
    "outputId": "ca16a2b1-fde3-46c0-a026-6a839ffa6e4a"
   },
   "outputs": [
    {
     "name": "stdout",
     "output_type": "stream",
     "text": [
      "Shape of matrix after one hot encodig  (53531, 5000)\n"
     ]
    }
   ],
   "source": [
    "# We are considering only the words which appeared in at least 10 documents(rows or projects).\n",
    "vectorizer = CountVectorizer(min_df=10,ngram_range=(1,4), max_features=5000)\n",
    "vectorizer.fit(X_train['essay'])\n",
    "\n",
    "# we use the fitted CountVectorizer to convert the text to vector\n",
    "X_train_essay_bow=vectorizer.transform(X_train['essay'].values)\n",
    "X_test_essay_bow=vectorizer.transform(X_test['essay'].values)\n",
    "X_cv_essay_bow=vectorizer.transform(X_cv['essay'].values)\n",
    "\n",
    "\n",
    "print(\"Shape of matrix after one hot encodig \",X_train_essay_bow.shape)"
   ]
  },
  {
   "cell_type": "markdown",
   "metadata": {},
   "source": [
    "#### Bag of words - cleaned title"
   ]
  },
  {
   "cell_type": "code",
   "execution_count": 43,
   "metadata": {
    "ExecuteTime": {
     "end_time": "2019-12-13T17:55:22.360600Z",
     "start_time": "2019-12-13T17:55:18.683453Z"
    },
    "colab": {},
    "colab_type": "code",
    "id": "rvPTRSkrCyoU"
   },
   "outputs": [
    {
     "name": "stdout",
     "output_type": "stream",
     "text": [
      "Shape of matrix after one hot encodig  (53531, 3346)\n"
     ]
    }
   ],
   "source": [
    "# you can vectorize the title also \n",
    "# before you vectorize the title make sure you preprocess it\n",
    "vectorizer = CountVectorizer(min_df=5)\n",
    "vectorizer.fit(X_train['Cleaned_title'])\n",
    "\n",
    "# we use the fitted CountVectorizer to convert the text to vector\n",
    "X_train_cleaned_title_bow=vectorizer.transform(X_train['Cleaned_title'].values)\n",
    "X_test_cleaned_title_bow=vectorizer.transform(X_test['Cleaned_title'].values)\n",
    "X_cv_cleaned_title_bow=vectorizer.transform(X_cv['Cleaned_title'].values)\n",
    "\n",
    "\n",
    "print(\"Shape of matrix after one hot encodig \",X_train_cleaned_title_bow.shape)\n",
    "\n"
   ]
  },
  {
   "cell_type": "markdown",
   "metadata": {
    "colab_type": "text",
    "id": "gK_SHRpTCyol"
   },
   "source": [
    "#### TFIDF vectorizer - essay"
   ]
  },
  {
   "cell_type": "code",
   "execution_count": 44,
   "metadata": {
    "ExecuteTime": {
     "end_time": "2019-12-13T17:58:03.782801Z",
     "start_time": "2019-12-13T17:55:22.364603Z"
    },
    "colab": {},
    "colab_type": "code",
    "id": "l0gzc2iwCyoo",
    "outputId": "3ada03da-5eec-4a16-c7bd-915d1c9352ae"
   },
   "outputs": [
    {
     "name": "stdout",
     "output_type": "stream",
     "text": [
      "Shape of matrix after one hot encodig  (53531, 5000)\n"
     ]
    }
   ],
   "source": [
    "from sklearn.feature_extraction.text import TfidfVectorizer\n",
    "vectorizer = TfidfVectorizer(min_df=10,ngram_range=(1,4), max_features=5000)\n",
    "vectorizer.fit(X_train['essay'])\n",
    "\n",
    "# we use the fitted CountVectorizer to convert the text to vector\n",
    "X_train_essay_tfidf=vectorizer.transform(X_train['essay'].values)\n",
    "X_test_essay_tfidf=vectorizer.transform(X_test['essay'].values)\n",
    "X_cv_essay_tfidf=vectorizer.transform(X_cv['essay'].values)\n",
    "\n",
    "\n",
    "print(\"Shape of matrix after one hot encodig \",X_train_essay_tfidf.shape)\n"
   ]
  },
  {
   "cell_type": "markdown",
   "metadata": {},
   "source": [
    "#### TFIDF vectorizer - cleaned tittle"
   ]
  },
  {
   "cell_type": "code",
   "execution_count": 45,
   "metadata": {
    "ExecuteTime": {
     "end_time": "2019-12-13T17:58:07.303925Z",
     "start_time": "2019-12-13T17:58:03.783852Z"
    }
   },
   "outputs": [
    {
     "name": "stdout",
     "output_type": "stream",
     "text": [
      "Shape of matrix after one hot encodig  (53531, 3346)\n"
     ]
    }
   ],
   "source": [
    "# Similarly you can vectorize for title alsovectorizer = TfidfVectorizer(min_df=10)\n",
    "vectorizer = TfidfVectorizer(min_df=5)\n",
    "\n",
    "# you can vectorize the title also \n",
    "# before you vectorize the title make sure you preprocess it\n",
    "vectorizer.fit(X_train['Cleaned_title'])\n",
    "\n",
    "# we use the fitted CountVectorizer to convert the text to vector\n",
    "X_train_cleaned_title_tfidf=vectorizer.transform(X_train['Cleaned_title'].values)\n",
    "X_test_cleaned_title_tfidf=vectorizer.transform(X_test['Cleaned_title'].values)\n",
    "X_cv_cleaned_title_tfidf=vectorizer.transform(X_cv['Cleaned_title'].values)\n",
    "\n",
    "\n",
    "print(\"Shape of matrix after one hot encodig \",X_train_cleaned_title_tfidf.shape)\n",
    "\n"
   ]
  },
  {
   "cell_type": "markdown",
   "metadata": {
    "colab_type": "text",
    "id": "YHwGesZUCyo1"
   },
   "source": [
    "#### Using Pretrained Models: Avg W2V"
   ]
  },
  {
   "cell_type": "code",
   "execution_count": 46,
   "metadata": {
    "ExecuteTime": {
     "end_time": "2019-12-13T17:58:07.322853Z",
     "start_time": "2019-12-13T17:58:07.305448Z"
    },
    "colab": {},
    "colab_type": "code",
    "id": "FcsomcruCyo2",
    "outputId": "9876bfe7-73e1-454a-b937-f66fae906539",
    "scrolled": true
   },
   "outputs": [
    {
     "data": {
      "text/plain": [
       "'\\n# Reading glove vectors in python: https://stackoverflow.com/a/38230349/4084039\\ndef loadGloveModel(gloveFile):\\n    print (\"Loading Glove Model\")\\n    f = open(gloveFile,\\'r\\', encoding=\"utf8\")\\n    model = {}\\n    for line in tqdm(f):\\n        splitLine = line.split()\\n        word = splitLine[0]\\n        embedding = np.array([float(val) for val in splitLine[1:]])\\n        model[word] = embedding\\n    print (\"Done.\",len(model),\" words loaded!\")\\n    return model\\nmodel = loadGloveModel(\\'glove.42B.300d.txt\\')\\n\\n# ============================\\nOutput:\\n    \\nLoading Glove Model\\n1917495it [06:32, 4879.69it/s]\\nDone. 1917495  words loaded!\\n\\n# ============================\\n\\nwords = []\\nfor i in preproced_texts:\\n    words.extend(i.split(\\' \\'))\\n\\nfor i in preproced_titles:\\n    words.extend(i.split(\\' \\'))\\nprint(\"all the words in the coupus\", len(words))\\nwords = set(words)\\nprint(\"the unique words in the coupus\", len(words))\\n\\ninter_words = set(model.keys()).intersection(words)\\nprint(\"The number of words that are present in both glove vectors and our coupus\",       len(inter_words),\"(\",np.round(len(inter_words)/len(words)*100,3),\"%)\")\\n\\nwords_courpus = {}\\nwords_glove = set(model.keys())\\nfor i in words:\\n    if i in words_glove:\\n        words_courpus[i] = model[i]\\nprint(\"word 2 vec length\", len(words_courpus))\\n\\n\\n# stronging variables into pickle files python: http://www.jessicayung.com/how-to-use-pickle-to-save-and-load-variables-in-python/\\n\\nimport pickle\\nwith open(\\'glove_vectors\\', \\'wb\\') as f:\\n    pickle.dump(words_courpus, f)\\n\\n\\n'"
      ]
     },
     "execution_count": 46,
     "metadata": {},
     "output_type": "execute_result"
    }
   ],
   "source": [
    "'''\n",
    "# Reading glove vectors in python: https://stackoverflow.com/a/38230349/4084039\n",
    "def loadGloveModel(gloveFile):\n",
    "    print (\"Loading Glove Model\")\n",
    "    f = open(gloveFile,'r', encoding=\"utf8\")\n",
    "    model = {}\n",
    "    for line in tqdm(f):\n",
    "        splitLine = line.split()\n",
    "        word = splitLine[0]\n",
    "        embedding = np.array([float(val) for val in splitLine[1:]])\n",
    "        model[word] = embedding\n",
    "    print (\"Done.\",len(model),\" words loaded!\")\n",
    "    return model\n",
    "model = loadGloveModel('glove.42B.300d.txt')\n",
    "\n",
    "# ============================\n",
    "Output:\n",
    "    \n",
    "Loading Glove Model\n",
    "1917495it [06:32, 4879.69it/s]\n",
    "Done. 1917495  words loaded!\n",
    "\n",
    "# ============================\n",
    "\n",
    "words = []\n",
    "for i in preproced_texts:\n",
    "    words.extend(i.split(' '))\n",
    "\n",
    "for i in preproced_titles:\n",
    "    words.extend(i.split(' '))\n",
    "print(\"all the words in the coupus\", len(words))\n",
    "words = set(words)\n",
    "print(\"the unique words in the coupus\", len(words))\n",
    "\n",
    "inter_words = set(model.keys()).intersection(words)\n",
    "print(\"The number of words that are present in both glove vectors and our coupus\", \\\n",
    "      len(inter_words),\"(\",np.round(len(inter_words)/len(words)*100,3),\"%)\")\n",
    "\n",
    "words_courpus = {}\n",
    "words_glove = set(model.keys())\n",
    "for i in words:\n",
    "    if i in words_glove:\n",
    "        words_courpus[i] = model[i]\n",
    "print(\"word 2 vec length\", len(words_courpus))\n",
    "\n",
    "\n",
    "# stronging variables into pickle files python: http://www.jessicayung.com/how-to-use-pickle-to-save-and-load-variables-in-python/\n",
    "\n",
    "import pickle\n",
    "with open('glove_vectors', 'wb') as f:\n",
    "    pickle.dump(words_courpus, f)\n",
    "\n",
    "\n",
    "'''"
   ]
  },
  {
   "cell_type": "code",
   "execution_count": 47,
   "metadata": {
    "ExecuteTime": {
     "end_time": "2019-12-13T17:58:08.603786Z",
     "start_time": "2019-12-13T17:58:07.326958Z"
    },
    "colab": {},
    "colab_type": "code",
    "collapsed": true,
    "id": "Gu0YB3p4Cyo8"
   },
   "outputs": [],
   "source": [
    "# stronging variables into pickle files python: http://www.jessicayung.com/how-to-use-pickle-to-save-and-load-variables-in-python/\n",
    "# make sure you have the glove_vectors file\n",
    "with open('glove_vectors', 'rb') as f:\n",
    "    model = pickle.load(f)\n",
    "    glove_words =  set(model.keys())"
   ]
  },
  {
   "cell_type": "code",
   "execution_count": 48,
   "metadata": {
    "ExecuteTime": {
     "end_time": "2019-12-13T17:58:44.538183Z",
     "start_time": "2019-12-13T17:58:08.603786Z"
    },
    "colab": {},
    "colab_type": "code",
    "id": "TEKi0VqVCyo_",
    "outputId": "23b34800-bc16-471c-c966-256d45cbdbcd",
    "scrolled": true
   },
   "outputs": [
    {
     "name": "stderr",
     "output_type": "stream",
     "text": [
      "100%|██████████████████████████████████████████████████████████████████████████| 53531/53531 [00:16<00:00, 3293.93it/s]\n",
      "100%|██████████████████████████████████████████████████████████████████████████| 32775/32775 [00:10<00:00, 3086.73it/s]\n",
      "100%|██████████████████████████████████████████████████████████████████████████| 22942/22942 [00:07<00:00, 3265.88it/s]\n",
      "100%|█████████████████████████████████████████████████████████████████████████| 53531/53531 [00:00<00:00, 58675.92it/s]\n",
      "100%|█████████████████████████████████████████████████████████████████████████| 32775/32775 [00:00<00:00, 55678.92it/s]\n",
      "100%|█████████████████████████████████████████████████████████████████████████| 22942/22942 [00:00<00:00, 51208.30it/s]\n"
     ]
    }
   ],
   "source": [
    "# average Word2Vec\n",
    "# compute average word2vec for each review.\n",
    "def avg_w2v_vectors(preprocessed_essays):\n",
    "    avg_w2v_vectors_text = []; # the avg-w2v for each sentence/review is stored in this list\n",
    "    for sentence in tqdm(preprocessed_essays): # for each review/sentence\n",
    "        vector = np.zeros(300) # as word vectors are of zero length\n",
    "        cnt_words =0; # num of words with a valid vector in the sentence/review\n",
    "        for word in sentence.split(): # for each word in a review/sentence\n",
    "            if word in glove_words:\n",
    "                vector += model[word]\n",
    "                cnt_words += 1\n",
    "        if cnt_words != 0:\n",
    "            vector /= cnt_words\n",
    "        avg_w2v_vectors_text.append(vector)\n",
    "    return avg_w2v_vectors_text\n",
    "\n",
    "X_train_essay_w2v=avg_w2v_vectors(X_train['essay'])\n",
    "X_test_essay_w2v=avg_w2v_vectors(X_test['essay'])\n",
    "X_cv_essay_w2v=avg_w2v_vectors(X_cv['essay'])\n",
    "\n",
    "X_train_cleaned_title_w2v=avg_w2v_vectors(X_train['Cleaned_title'])\n",
    "X_test_cleaned_title_w2v=avg_w2v_vectors(X_test['Cleaned_title'])\n",
    "X_cv_cleaned_title_w2v=avg_w2v_vectors(X_cv['Cleaned_title'])\n",
    "\n"
   ]
  },
  {
   "cell_type": "markdown",
   "metadata": {
    "colab_type": "text",
    "id": "_s3QN_ZNCypD"
   },
   "source": [
    "#### Using Pretrained Models: TFIDF weighted W2V - Essay"
   ]
  },
  {
   "cell_type": "code",
   "execution_count": 49,
   "metadata": {
    "ExecuteTime": {
     "end_time": "2019-12-13T17:58:52.113253Z",
     "start_time": "2019-12-13T17:58:44.538183Z"
    }
   },
   "outputs": [
    {
     "name": "stdout",
     "output_type": "stream",
     "text": [
      "42499\n"
     ]
    }
   ],
   "source": [
    "# S = [\"abc def pqr\", \"def def def abc\", \"pqr pqr def\"]\n",
    "tfidf_model = TfidfVectorizer()\n",
    "tfidf_model.fit(X_train['essay'])\n",
    "# we are converting a dictionary with word as a key, and the idf as a value\n",
    "dictionary = dict(zip(tfidf_model.get_feature_names(), list(tfidf_model.idf_)))\n",
    "tfidf_words_essay = set(tfidf_model.get_feature_names())\n",
    "print(len(tfidf_words_essay))\n",
    "\n"
   ]
  },
  {
   "cell_type": "code",
   "execution_count": 50,
   "metadata": {
    "ExecuteTime": {
     "end_time": "2019-12-13T18:02:53.997016Z",
     "start_time": "2019-12-13T17:58:52.113253Z"
    },
    "colab": {},
    "colab_type": "code",
    "id": "8aB83HDUCypL",
    "outputId": "c1329ce0-bc01-443f-f1c8-bd2ce2bd50f3",
    "scrolled": true
   },
   "outputs": [
    {
     "name": "stderr",
     "output_type": "stream",
     "text": [
      "100%|███████████████████████████████████████████████████████████████████████████| 53531/53531 [01:58<00:00, 452.16it/s]\n",
      "100%|███████████████████████████████████████████████████████████████████████████| 32775/32775 [01:12<00:00, 454.01it/s]\n",
      "100%|███████████████████████████████████████████████████████████████████████████| 22942/22942 [00:51<00:00, 447.76it/s]\n"
     ]
    }
   ],
   "source": [
    "# average Word2Vec\n",
    "# compute average word2vec for each review.\n",
    "def tfidf_w2v_vectors(tfidf_words,preprocessed_essays):\n",
    "    tfidf_w2v_vectors_text = []; # the avg-w2v for each sentence/review is stored in this list\n",
    "    for sentence in tqdm(preprocessed_essays): # for each review/sentence\n",
    "        vector = np.zeros(300) # as word vectors are of zero length\n",
    "        tf_idf_weight =0; # num of words with a valid vector in the sentence/review\n",
    "        for word in sentence.split(): # for each word in a review/sentence\n",
    "            if (word in glove_words) and (word in tfidf_words):\n",
    "                vec = model[word] # getting the vector for each word\n",
    "                # here we are multiplying idf value(dictionary[word]) and the tf value((sentence.count(word)/len(sentence.split())))\n",
    "                tf_idf = dictionary[word]*(sentence.count(word)/len(sentence.split())) # getting the tfidf value for each word\n",
    "                vector += (vec * tf_idf) # calculating tfidf weighted w2v\n",
    "                tf_idf_weight += tf_idf\n",
    "        if tf_idf_weight != 0:\n",
    "            vector /= tf_idf_weight\n",
    "        tfidf_w2v_vectors_text.append(vector)\n",
    "    return tfidf_w2v_vectors_text\n",
    "\n",
    "X_train_essay_tfidf_w2v=tfidf_w2v_vectors(tfidf_words_essay,X_train['essay'])\n",
    "X_test_essay_tfidf_w2v=tfidf_w2v_vectors(tfidf_words_essay,X_test['essay'])\n",
    "X_cv_essay_tfidf_w2v=tfidf_w2v_vectors(tfidf_words_essay,X_cv['essay'])\n",
    "\n"
   ]
  },
  {
   "cell_type": "markdown",
   "metadata": {},
   "source": [
    "#### Using Pretrained Models: TFIDF weighted W2V - Cleaned Title"
   ]
  },
  {
   "cell_type": "code",
   "execution_count": 51,
   "metadata": {
    "ExecuteTime": {
     "end_time": "2019-12-13T18:02:54.514821Z",
     "start_time": "2019-12-13T18:02:53.997016Z"
    },
    "colab": {},
    "colab_type": "code",
    "id": "yknBsjfOCypP"
   },
   "outputs": [
    {
     "name": "stdout",
     "output_type": "stream",
     "text": [
      "12119\n"
     ]
    }
   ],
   "source": [
    "# S = [\"abc def pqr\", \"def def def abc\", \"pqr pqr def\"]\n",
    "tfidf_model = TfidfVectorizer()\n",
    "tfidf_model.fit(X_train['Cleaned_title'])\n",
    "# we are converting a dictionary with word as a key, and the idf as a value\n",
    "dictionary = dict(zip(tfidf_model.get_feature_names(), list(tfidf_model.idf_)))\n",
    "tfidf_words_Cleaned_title = set(tfidf_model.get_feature_names())\n",
    "print(len(tfidf_words_Cleaned_title))\n"
   ]
  },
  {
   "cell_type": "code",
   "execution_count": 52,
   "metadata": {
    "ExecuteTime": {
     "end_time": "2019-12-13T18:02:58.445223Z",
     "start_time": "2019-12-13T18:02:54.514821Z"
    }
   },
   "outputs": [
    {
     "name": "stderr",
     "output_type": "stream",
     "text": [
      "100%|█████████████████████████████████████████████████████████████████████████| 53531/53531 [00:01<00:00, 26779.73it/s]\n",
      "100%|█████████████████████████████████████████████████████████████████████████| 32775/32775 [00:01<00:00, 29829.80it/s]\n",
      "100%|█████████████████████████████████████████████████████████████████████████| 22942/22942 [00:00<00:00, 28951.86it/s]\n"
     ]
    }
   ],
   "source": [
    "X_train_cleaned_title_tfidf_w2v=tfidf_w2v_vectors(tfidf_words_Cleaned_title,X_train['Cleaned_title'])\n",
    "X_test_cleaned_title_tfidf_w2v=tfidf_w2v_vectors(tfidf_words_Cleaned_title,X_test['Cleaned_title'])\n",
    "X_cv_cleaned_title_tfidf_w2v=tfidf_w2v_vectors(tfidf_words_Cleaned_title,X_cv['Cleaned_title'])\n"
   ]
  },
  {
   "cell_type": "code",
   "execution_count": 53,
   "metadata": {
    "ExecuteTime": {
     "end_time": "2019-12-13T18:02:58.456893Z",
     "start_time": "2019-12-13T18:02:58.449173Z"
    },
    "collapsed": true
   },
   "outputs": [],
   "source": [
    "\n",
    "X_train_prev_proj=X_train['teacher_number_of_previously_posted_projects'][:,np.newaxis]\n",
    "\n",
    "X_test_prev_proj=X_test['teacher_number_of_previously_posted_projects'][:,np.newaxis]\n",
    "\n",
    "X_cv_prev_proj=X_cv['teacher_number_of_previously_posted_projects'][:,np.newaxis]\n"
   ]
  },
  {
   "cell_type": "markdown",
   "metadata": {
    "colab_type": "text",
    "id": "5UbaJH21Cypa"
   },
   "source": [
    "## Merging all the above features"
   ]
  },
  {
   "cell_type": "markdown",
   "metadata": {
    "colab_type": "text",
    "id": "fAZixvIeCypb"
   },
   "source": [
    "### BOW"
   ]
  },
  {
   "cell_type": "code",
   "execution_count": 54,
   "metadata": {
    "ExecuteTime": {
     "end_time": "2019-12-13T18:03:02.956084Z",
     "start_time": "2019-12-13T18:02:58.459890Z"
    },
    "colab": {},
    "colab_type": "code",
    "id": "J7uuEmryCype",
    "outputId": "b0360c1d-592a-4bd7-b8c7-a20d91219fa8"
   },
   "outputs": [
    {
     "name": "stdout",
     "output_type": "stream",
     "text": [
      "(53531, 8451)\n",
      "(32775, 8451)\n",
      "(22942, 8451)\n"
     ]
    }
   ],
   "source": [
    "# merge two sparse matrices: https://stackoverflow.com/a/19710648/4084039\n",
    "from scipy.sparse import hstack\n",
    "\n",
    "# with the same hstack function we are concatinating a sparse matrix and a dense matirx :)\n",
    "X_train_bow = hstack((X_train_clean_categories, X_train_clean_sub_categories,X_train_skl_state,X_train_teacher_prefix,\n",
    "            X_train_project_grade_category,X_train_prev_proj_standardized,X_train_price_standardized,X_train_quantity_standardized,X_train_prev_proj,\n",
    "            X_train_essay_bow,X_train_cleaned_title_bow,X_train_essay_count_standardized,X_train_title_count_standardized\n",
    "            )).toarray()\n",
    "\n",
    "\n",
    "X_test_bow = hstack((X_test_clean_categories, X_test_clean_sub_categories,X_test_skl_state,X_test_teacher_prefix,\n",
    "            X_test_project_grade_category,X_test_prev_proj_standardized,X_test_price_standardized,X_test_quantity_standardized,X_test_prev_proj,\n",
    "            X_test_essay_bow,X_test_cleaned_title_bow,X_test_essay_count_standardized,X_test_title_count_standardized\n",
    "            )).toarray()\n",
    "\n",
    "\n",
    "X_cv_bow = hstack((X_cv_clean_categories, X_cv_clean_sub_categories,X_cv_skl_state,X_cv_teacher_prefix,\n",
    "            X_cv_project_grade_category,X_cv_prev_proj_standardized,X_cv_price_standardized,X_cv_quantity_standardized,X_cv_prev_proj,\n",
    "            X_cv_essay_bow,X_cv_cleaned_title_bow,X_cv_essay_count_standardized,X_cv_title_count_standardized\n",
    "            )).toarray()\n",
    "\n",
    "\n",
    "print(X_train_bow.shape)\n",
    "print(X_test_bow.shape)\n",
    "print(X_cv_bow.shape)\n"
   ]
  },
  {
   "cell_type": "markdown",
   "metadata": {},
   "source": [
    "### TFIDF"
   ]
  },
  {
   "cell_type": "code",
   "execution_count": 55,
   "metadata": {
    "ExecuteTime": {
     "end_time": "2019-12-13T18:03:05.518963Z",
     "start_time": "2019-12-13T18:03:02.957403Z"
    },
    "collapsed": true
   },
   "outputs": [],
   "source": [
    "# with the same hstack function we are concatinating a sparse matrix and a dense matirx :)\n",
    "X_train_tfidf = hstack((X_train_clean_categories, X_train_clean_sub_categories,X_train_skl_state,X_train_teacher_prefix,\n",
    "            X_train_project_grade_category,X_train_prev_proj_standardized,X_train_price_standardized,X_train_quantity_standardized,X_train_prev_proj,\n",
    "            X_train_essay_tfidf,X_train_cleaned_title_tfidf,X_train_essay_count_standardized,X_train_title_count_standardized\n",
    "            )).toarray()"
   ]
  },
  {
   "cell_type": "code",
   "execution_count": 56,
   "metadata": {
    "ExecuteTime": {
     "end_time": "2019-12-13T18:03:13.509506Z",
     "start_time": "2019-12-13T18:03:05.518963Z"
    },
    "collapsed": true
   },
   "outputs": [],
   "source": [
    "X_test_tfidf = hstack((X_test_clean_categories, X_test_clean_sub_categories,X_test_skl_state,X_test_teacher_prefix,\n",
    "            X_test_project_grade_category,X_test_prev_proj_standardized,X_test_price_standardized,X_test_quantity_standardized,X_test_prev_proj,\n",
    "            X_test_essay_tfidf,X_test_cleaned_title_tfidf,X_test_essay_count_standardized,X_test_title_count_standardized\n",
    "            )).toarray()\n"
   ]
  },
  {
   "cell_type": "code",
   "execution_count": 57,
   "metadata": {
    "ExecuteTime": {
     "end_time": "2019-12-13T18:03:21.539924Z",
     "start_time": "2019-12-13T18:03:13.772468Z"
    }
   },
   "outputs": [
    {
     "name": "stdout",
     "output_type": "stream",
     "text": [
      "(53531, 8451)\n",
      "(32775, 8451)\n",
      "(22942, 8451)\n"
     ]
    }
   ],
   "source": [
    "X_cv_tfidf = hstack((X_cv_clean_categories, X_cv_clean_sub_categories,X_cv_skl_state,X_cv_teacher_prefix,\n",
    "            X_cv_project_grade_category,X_cv_prev_proj_standardized,X_cv_price_standardized,X_cv_quantity_standardized,X_cv_prev_proj,\n",
    "            X_cv_essay_tfidf,X_cv_cleaned_title_tfidf,X_cv_essay_count_standardized,X_cv_title_count_standardized\n",
    "            )).toarray()\n",
    "\n",
    "\n",
    "print(X_train_tfidf.shape)\n",
    "print(X_test_tfidf.shape)\n",
    "print(X_cv_tfidf.shape)"
   ]
  },
  {
   "cell_type": "markdown",
   "metadata": {},
   "source": [
    "### Word2Vec"
   ]
  },
  {
   "cell_type": "code",
   "execution_count": 58,
   "metadata": {
    "ExecuteTime": {
     "end_time": "2019-12-13T18:03:31.462504Z",
     "start_time": "2019-12-13T18:03:21.567917Z"
    }
   },
   "outputs": [
    {
     "name": "stdout",
     "output_type": "stream",
     "text": [
      "(53531, 705)\n",
      "(32775, 705)\n",
      "(22942, 705)\n"
     ]
    }
   ],
   "source": [
    "# with the same hstack function we are concatinating a sparse matrix and a dense matirx :)\n",
    "X_train_w2v = hstack((X_train_clean_categories, X_train_clean_sub_categories,X_train_skl_state,X_train_teacher_prefix,\n",
    "            X_train_project_grade_category,X_train_prev_proj_standardized,X_train_price_standardized,X_train_quantity_standardized,X_train_prev_proj,\n",
    "            X_train_essay_w2v,X_train_cleaned_title_w2v,X_train_essay_count_standardized,X_train_title_count_standardized\n",
    "            )).toarray()\n",
    "\n",
    "\n",
    "X_test_w2v = hstack((X_test_clean_categories, X_test_clean_sub_categories,X_test_skl_state,X_test_teacher_prefix,\n",
    "            X_test_project_grade_category,X_test_prev_proj_standardized,X_test_price_standardized,X_test_quantity_standardized,X_test_prev_proj,\n",
    "            X_test_essay_w2v,X_test_cleaned_title_w2v,X_test_essay_count_standardized,X_test_title_count_standardized\n",
    "            )).toarray()\n",
    "\n",
    "\n",
    "X_cv_w2v = hstack((X_cv_clean_categories, X_cv_clean_sub_categories,X_cv_skl_state,X_cv_teacher_prefix,\n",
    "            X_cv_project_grade_category,X_cv_prev_proj_standardized,X_cv_price_standardized,X_cv_quantity_standardized,X_cv_prev_proj,\n",
    "            X_cv_essay_w2v,X_cv_cleaned_title_w2v,X_cv_essay_count_standardized,X_cv_title_count_standardized\n",
    "            )).toarray()\n",
    "\n",
    "\n",
    "print(X_train_w2v.shape)\n",
    "print(X_test_w2v.shape)\n",
    "print(X_cv_w2v.shape)\n"
   ]
  },
  {
   "cell_type": "markdown",
   "metadata": {},
   "source": [
    "### TFIDF- WORD2VEC"
   ]
  },
  {
   "cell_type": "code",
   "execution_count": 59,
   "metadata": {
    "ExecuteTime": {
     "end_time": "2019-12-13T18:03:42.431884Z",
     "start_time": "2019-12-13T18:03:31.466505Z"
    }
   },
   "outputs": [
    {
     "name": "stdout",
     "output_type": "stream",
     "text": [
      "(53531, 705)\n",
      "(32775, 705)\n",
      "(22942, 705)\n"
     ]
    }
   ],
   "source": [
    "# with the same hstack function we are concatinating a sparse matrix and a dense matirx :)\n",
    "X_train_tfidf_w2v = hstack((X_train_clean_categories, X_train_clean_sub_categories,X_train_skl_state,X_train_teacher_prefix,\n",
    "            X_train_project_grade_category,X_train_prev_proj_standardized,X_train_price_standardized,X_train_quantity_standardized,X_train_prev_proj,\n",
    "            X_train_essay_tfidf_w2v,X_train_cleaned_title_tfidf_w2v,X_train_essay_count_standardized,X_train_title_count_standardized\n",
    "            )).toarray()\n",
    "\n",
    "\n",
    "X_test_tfidf_w2v = hstack((X_test_clean_categories, X_test_clean_sub_categories,X_test_skl_state,X_test_teacher_prefix,\n",
    "            X_test_project_grade_category,X_test_prev_proj_standardized,X_test_price_standardized,X_test_quantity_standardized,X_test_prev_proj,\n",
    "            X_test_essay_tfidf_w2v,X_test_cleaned_title_tfidf_w2v,X_test_essay_count_standardized,X_test_title_count_standardized\n",
    "            )).toarray()\n",
    "\n",
    "\n",
    "X_cv_tfidf_w2v = hstack((X_cv_clean_categories, X_cv_clean_sub_categories,X_cv_skl_state,X_cv_teacher_prefix,\n",
    "            X_cv_project_grade_category,X_cv_prev_proj_standardized,X_cv_price_standardized,X_cv_quantity_standardized,X_cv_prev_proj,\n",
    "            X_cv_essay_tfidf_w2v,X_cv_cleaned_title_tfidf_w2v,X_cv_essay_count_standardized,X_cv_title_count_standardized\n",
    "            )).toarray()\n",
    "\n",
    "\n",
    "print(X_train_tfidf_w2v.shape)\n",
    "print(X_test_tfidf_w2v.shape)\n",
    "print(X_cv_tfidf_w2v.shape)\n"
   ]
  },
  {
   "cell_type": "markdown",
   "metadata": {},
   "source": [
    "### MERGE ONLY CATEGORICAL AND NUMERICAL DATA"
   ]
  },
  {
   "cell_type": "code",
   "execution_count": 60,
   "metadata": {
    "ExecuteTime": {
     "end_time": "2019-12-13T18:03:43.185672Z",
     "start_time": "2019-12-13T18:03:42.434425Z"
    }
   },
   "outputs": [
    {
     "name": "stdout",
     "output_type": "stream",
     "text": [
      "(53531, 103)\n",
      "(32775, 103)\n",
      "(22942, 103)\n"
     ]
    }
   ],
   "source": [
    "# with the same hstack function we are concatinating a sparse matrix and a dense matirx :)\n",
    "X_train_no_text = hstack((X_train_clean_categories, X_train_clean_sub_categories,X_train_skl_state,X_train_teacher_prefix,\n",
    "            X_train_project_grade_category,X_train_prev_proj_standardized,X_train_price_standardized,X_train_quantity_standardized,X_train_prev_proj\n",
    "           )).toarray()\n",
    "\n",
    "\n",
    "X_test_no_text = hstack((X_test_clean_categories, X_test_clean_sub_categories,X_test_skl_state,X_test_teacher_prefix,\n",
    "            X_test_project_grade_category,X_test_prev_proj_standardized,X_test_price_standardized,X_test_quantity_standardized,X_test_prev_proj\n",
    "            )).toarray()\n",
    "\n",
    "\n",
    "X_cv_no_text = hstack((X_cv_clean_categories, X_cv_clean_sub_categories,X_cv_skl_state,X_cv_teacher_prefix,\n",
    "            X_cv_project_grade_category,X_cv_prev_proj_standardized,X_cv_price_standardized,X_cv_quantity_standardized,X_cv_prev_proj\n",
    "            )).toarray()\n",
    "\n",
    "\n",
    "print(X_train_no_text.shape)\n",
    "print(X_test_no_text.shape)\n",
    "print(X_cv_no_text.shape)"
   ]
  },
  {
   "cell_type": "markdown",
   "metadata": {
    "colab_type": "text",
    "id": "u7svGNyWCypl"
   },
   "source": [
    "## Shapes after merge"
   ]
  },
  {
   "cell_type": "code",
   "execution_count": 61,
   "metadata": {
    "ExecuteTime": {
     "end_time": "2019-12-13T18:03:43.818327Z",
     "start_time": "2019-12-13T18:03:43.189672Z"
    }
   },
   "outputs": [
    {
     "name": "stdout",
     "output_type": "stream",
     "text": [
      "(53531, 8451)\n",
      "(22942, 8451)\n",
      "(32775, 8451)\n",
      "==================================================\n",
      "(53531, 8451)\n",
      "(22942, 8451)\n",
      "(32775, 8451)\n",
      "==================================================\n",
      "(53531, 705)\n",
      "(22942, 705)\n",
      "(32775, 705)\n",
      "==================================================\n",
      "(53531, 705)\n",
      "(22942, 705)\n",
      "(32775, 705)\n",
      "==================================================\n",
      "(53531,)\n",
      "(32775,)\n",
      "(22942,)\n"
     ]
    }
   ],
   "source": [
    "print(X_train_bow.shape)\n",
    "print(X_cv_bow.shape)\n",
    "print(X_test_bow.shape)\n",
    "\n",
    "print('='*50)\n",
    "print(X_train_tfidf.shape)\n",
    "print(X_cv_tfidf.shape)\n",
    "print(X_test_tfidf.shape)\n",
    "\n",
    "print('='*50)\n",
    "print(X_train_w2v.shape)\n",
    "print(X_cv_w2v.shape)\n",
    "print(X_test_w2v.shape)\n",
    "\n",
    "print('='*50)\n",
    "print(X_train_tfidf_w2v.shape)\n",
    "print(X_cv_tfidf_w2v.shape)\n",
    "print(X_test_tfidf_w2v.shape)\n",
    "\n",
    "print('='*50)\n",
    "print(y_train.shape)\n",
    "print(y_test.shape)\n",
    "print(y_cv.shape)\n"
   ]
  },
  {
   "cell_type": "code",
   "execution_count": 62,
   "metadata": {
    "ExecuteTime": {
     "end_time": "2019-12-13T18:03:43.901370Z",
     "start_time": "2019-12-13T18:03:43.818327Z"
    },
    "collapsed": true
   },
   "outputs": [],
   "source": [
    "from sklearn.linear_model import LogisticRegression\n",
    "from sklearn.metrics import roc_auc_score\n",
    "\n",
    "summary=[]"
   ]
  },
  {
   "cell_type": "markdown",
   "metadata": {
    "colab_type": "text",
    "id": "UL8bHrflCyps"
   },
   "source": [
    "<h2> Assignment 5: Logistic Regression</h2>"
   ]
  },
  {
   "cell_type": "markdown",
   "metadata": {},
   "source": [
    "### Applying Logistic Regression on BOW,<font color='red'> SET 1</font>"
   ]
  },
  {
   "cell_type": "markdown",
   "metadata": {},
   "source": [
    "#### Hyperparameter tuning for finiding optimal ALPHA using ROC_AUC_Score"
   ]
  },
  {
   "cell_type": "code",
   "execution_count": 63,
   "metadata": {
    "ExecuteTime": {
     "end_time": "2019-12-13T18:17:44.085611Z",
     "start_time": "2019-12-13T18:03:43.910366Z"
    },
    "colab": {},
    "colab_type": "code",
    "id": "Tsay467cCypt"
   },
   "outputs": [
    {
     "name": "stderr",
     "output_type": "stream",
     "text": [
      "100%|███████████████████████████████████████████████████████████████████████████████████| 8/8 [13:58<00:00, 104.84s/it]\n"
     ]
    },
    {
     "name": "stdout",
     "output_type": "stream",
     "text": [
      "{0.0001: 0.69022771703123464, 0.001: 0.71625750134936461, 0.01: 0.70827603782786785, 0.1: 0.68484780953442159, 1: 0.66866066854436246, 10: 0.65591414113992952, 100: 0.65655488971524534, 1000: 0.64670435069687304}\n",
      "{0.0001: 0.71101637787815142, 0.001: 0.76999552906146707, 0.01: 0.82298649350681807, 0.1: 0.85502805397816983, 1: 0.87938099623787669, 10: 0.89065178657057831, 100: 0.88846243633475597, 1000: 0.89350069054964298}\n"
     ]
    }
   ],
   "source": [
    "\n",
    "from sklearn.linear_model import LogisticRegression\n",
    "from sklearn.metrics import roc_auc_score\n",
    "\n",
    "summary=[]\n",
    "roc_auc_score_cv_bow_dict={}\n",
    "roc_auc_score_train_bow_dict={}\n",
    "cValues = [.0001,.001, .01, .1, 1, 10, 100, 1000]\n",
    "\n",
    "for i in tqdm(cValues):\n",
    "    lr = LogisticRegression(penalty='l2',C= i,class_weight='balanced')\n",
    "\n",
    "    # 0.fitting the model on X_train\n",
    "    lr.fit(X_train_bow, y_train)\n",
    "\n",
    "    # 1.predict the response on the CV data\n",
    "    pred_bow_cv = lr.predict_proba(X_cv_bow)\n",
    "    \n",
    "    # 2.evaluate CV roc_auc\n",
    "    roc_auc_cv = roc_auc_score(y_cv,pred_bow_cv[:,1])\n",
    "    \n",
    "    # 3.insert into dict of CV data\n",
    "    roc_auc_score_cv_bow_dict[i]=roc_auc_cv\n",
    "    \n",
    "    # 1.predict the response on the TRAIN data\n",
    "    pred_bow_train = lr.predict_proba(X_train_bow)\n",
    "    \n",
    "    # 2.evaluate train roc_auc\n",
    "    roc_auc_train =roc_auc_score(y_train,pred_bow_train[:,1])\n",
    "    \n",
    "    # 3.insert into dict of train data\n",
    "    roc_auc_score_train_bow_dict[i]=roc_auc_train\n",
    "    \n",
    "\n",
    "    \n",
    "    \n",
    "print(roc_auc_score_cv_bow_dict)\n",
    "print(roc_auc_score_train_bow_dict)"
   ]
  },
  {
   "cell_type": "markdown",
   "metadata": {},
   "source": [
    "#### Plot ROC_AUC_score VS different ALPHA values (Train and CV set)"
   ]
  },
  {
   "cell_type": "code",
   "execution_count": 64,
   "metadata": {
    "ExecuteTime": {
     "end_time": "2019-12-13T18:17:45.630610Z",
     "start_time": "2019-12-13T18:17:44.089609Z"
    }
   },
   "outputs": [
    {
     "data": {
      "image/png": "[encoded data removed]",
      "text/plain": [
       "<matplotlib.figure.Figure at 0x2301459e780>"
      ]
     },
     "metadata": {},
     "output_type": "display_data"
    }
   ],
   "source": [
    "#https://stackoverflow.com/questions/37266341/plotting-a-python-dict-in-order-of-key-values/37266356\n",
    "import math\n",
    "\n",
    "lists1 = sorted(roc_auc_score_cv_bow_dict.items())\n",
    "x1, y1 = zip(*lists1) # unpack a list of pairs into two tuples\n",
    "lists2 = sorted(roc_auc_score_train_bow_dict.items())\n",
    "x2, y2 = zip(*lists2) # unpack a list of pairs into two tuples\n",
    "\n",
    "x1=[math.log10(i) for i in list(x1)]\n",
    "x2=[math.log10(i) for i in list(x2)]\n",
    "\n",
    "plt.xlabel('C')\n",
    "plt.ylabel('roc_auc_score')\n",
    "\n",
    "plt.title('Hyper parameter tuning')\n",
    "\n",
    "plt.plot(x1, y1,label=\"CV\")\n",
    "plt.plot(x2, y2,label='Train')\n",
    "\n",
    "plt.legend()\n",
    "plt.grid()\n",
    "plt.show()"
   ]
  },
  {
   "cell_type": "markdown",
   "metadata": {},
   "source": [
    "#### Find the best ALPHA value from the result"
   ]
  },
  {
   "cell_type": "code",
   "execution_count": 65,
   "metadata": {
    "ExecuteTime": {
     "end_time": "2019-12-13T18:17:45.730803Z",
     "start_time": "2019-12-13T18:17:45.630610Z"
    }
   },
   "outputs": [
    {
     "name": "stdout",
     "output_type": "stream",
     "text": [
      "Dictionary Contents-->\n",
      " {0.0001: 0.69022771703123464, 0.001: 0.71625750134936461, 0.01: 0.70827603782786785, 0.1: 0.68484780953442159, 1: 0.66866066854436246, 10: 0.65591414113992952, 100: 0.65655488971524534, 1000: 0.64670435069687304}\n",
      "==================================================\n",
      "Keys in the list are-->\n",
      " [0.0001, 0.001, 0.01, 0.1, 1, 10, 100, 1000]\n",
      "==================================================\n",
      "Values in the list are-->\n",
      " [0.69022771703123464, 0.71625750134936461, 0.70827603782786785, 0.68484780953442159, 0.66866066854436246, 0.65591414113992952, 0.65655488971524534, 0.64670435069687304]\n",
      "==================================================\n",
      "Maximum k is 0.001 \n",
      "==================================================\n",
      "0.001\n"
     ]
    }
   ],
   "source": [
    "# This function returns the key (K) with max value in the dictionary\n",
    "def find_highest_hyperparam(mydict):\n",
    "    #print dictionary contents\n",
    "    print(\"Dictionary Contents-->\\n\",mydict)\n",
    "    print(\"=\"*50)\n",
    "    #find maximum value from dixtionary\n",
    "    maxval=max(mydict.values())\n",
    "    \n",
    "    # make a list of keys\n",
    "    keys = list(mydict.keys())\n",
    "    print(\"Keys in the list are-->\\n\", keys)\n",
    "    print(\"=\"*50)\n",
    "    # make a list of values\n",
    "    vals = list(mydict.values())\n",
    "    print(\"Values in the list are-->\\n\", vals)\n",
    "    print(\"=\"*50)\n",
    "    # find the index of max value and use it to find corresponding key\n",
    "    k=(keys[vals.index(maxval)])\n",
    "    print(\"Maximum k is {0} \".format(k))\n",
    "    print(\"=\"*50)\n",
    "    return(k)\n",
    "\n",
    "print(find_highest_hyperparam(roc_auc_score_cv_bow_dict))"
   ]
  },
  {
   "cell_type": "markdown",
   "metadata": {},
   "source": [
    "#### Train the model on the optimal ALPHA value and run the Test Dataset\n",
    " \n",
    "    -- Plot the ROC curve for BOW using the test and train Dataset"
   ]
  },
  {
   "cell_type": "code",
   "execution_count": 66,
   "metadata": {
    "ExecuteTime": {
     "end_time": "2019-12-13T18:17:58.708617Z",
     "start_time": "2019-12-13T18:17:45.733802Z"
    }
   },
   "outputs": [
    {
     "name": "stdout",
     "output_type": "stream",
     "text": [
      "Dictionary Contents-->\n",
      " {0.0001: 0.69022771703123464, 0.001: 0.71625750134936461, 0.01: 0.70827603782786785, 0.1: 0.68484780953442159, 1: 0.66866066854436246, 10: 0.65591414113992952, 100: 0.65655488971524534, 1000: 0.64670435069687304}\n",
      "==================================================\n",
      "Keys in the list are-->\n",
      " [0.0001, 0.001, 0.01, 0.1, 1, 10, 100, 1000]\n",
      "==================================================\n",
      "Values in the list are-->\n",
      " [0.69022771703123464, 0.71625750134936461, 0.70827603782786785, 0.68484780953442159, 0.66866066854436246, 0.65591414113992952, 0.65655488971524534, 0.64670435069687304]\n",
      "==================================================\n",
      "Maximum k is 0.001 \n",
      "==================================================\n",
      "pred_bow_test_scores-->\n",
      " [[ 0.68719591  0.31280409]\n",
      " [ 0.2906323   0.7093677 ]\n",
      " [ 0.26707153  0.73292847]\n",
      " ..., \n",
      " [ 0.54952012  0.45047988]\n",
      " [ 0.51186613  0.48813387]\n",
      " [ 0.35549141  0.64450859]]\n",
      "pred_bow_train_scores-->\n",
      " [[ 0.33848587  0.66151413]\n",
      " [ 0.24350352  0.75649648]\n",
      " [ 0.28349582  0.71650418]\n",
      " ..., \n",
      " [ 0.39005275  0.60994725]\n",
      " [ 0.35908812  0.64091188]\n",
      " [ 0.5219915   0.4780085 ]]\n",
      "Dictionary Contents-->\n",
      " {0.0001: 0.69022771703123464, 0.001: 0.71625750134936461, 0.01: 0.70827603782786785, 0.1: 0.68484780953442159, 1: 0.66866066854436246, 10: 0.65591414113992952, 100: 0.65655488971524534, 1000: 0.64670435069687304}\n",
      "==================================================\n",
      "Keys in the list are-->\n",
      " [0.0001, 0.001, 0.01, 0.1, 1, 10, 100, 1000]\n",
      "==================================================\n",
      "Values in the list are-->\n",
      " [0.69022771703123464, 0.71625750134936461, 0.70827603782786785, 0.68484780953442159, 0.66866066854436246, 0.65591414113992952, 0.65655488971524534, 0.64670435069687304]\n",
      "==================================================\n",
      "Maximum k is 0.001 \n",
      "==================================================\n"
     ]
    },
    {
     "data": {
      "image/png": "[encoded data removed]",
      "text/plain": [
       "<matplotlib.figure.Figure at 0x22fa270d908>"
      ]
     },
     "metadata": {},
     "output_type": "display_data"
    }
   ],
   "source": [
    "# train model on the best k\n",
    "lr = LogisticRegression(penalty='l2', C= find_highest_hyperparam(roc_auc_score_cv_bow_dict),class_weight='balanced')\n",
    "# fitting the model on train\n",
    "\n",
    "lr.fit(X_train_bow, y_train)\n",
    "\n",
    "pred_bow_test = lr.predict(X_test_bow) # **we will use it in confusion matrix\n",
    "pred_bow_train = lr.predict(X_train_bow) # **we will use it in confusion matrix\n",
    "\n",
    "#https://stackoverflow.com/questions/52910061/implementing-roc-curves-for-k-nn-machine-learning-algorithm-using-python-and-scip_scores = knn.predict_proba(X_test)\n",
    "pred_bow_test_scores=lr.predict_proba(X_test_bow)\n",
    "print(\"pred_bow_test_scores-->\\n\", pred_bow_test_scores)\n",
    "\n",
    "pred_bow_train_scores=lr.predict_proba(X_train_bow)\n",
    "print(\"pred_bow_train_scores-->\\n\", pred_bow_train_scores)\n",
    "\n",
    "# Calculate fpr, tpr for test \n",
    "fpr_test, tpr_test, threshold_test = roc_curve(y_test, pred_bow_test_scores[:,1])\n",
    "\n",
    "# Calculate fpr, tpr for train \n",
    "fpr_train, tpr_train, threshold_train = roc_curve(y_train, pred_bow_train_scores[:,1])\n",
    "\n",
    "# Calculate auc from fpr, tpr for test \n",
    "roc_auc_test = auc(fpr_test, tpr_test)\n",
    "\n",
    "# Calculate auc from fpr, tpr for train \n",
    "roc_auc_train = auc(fpr_train, tpr_train)\n",
    "\n",
    "#save ALPHA & roc_auc_test score (AUC of fpr_test and tpr_test) for final summary\n",
    "summary.append(['BOW',find_highest_hyperparam(roc_auc_score_cv_bow_dict),roc_auc_test])\n",
    "\n",
    "plt.title('Receiver Operating Characteristic')\n",
    "plt.plot(fpr_test, tpr_test, 'r', label = 'AUC_test = %0.2f' % roc_auc_test)\n",
    "\n",
    "plt.plot(fpr_train, tpr_train, 'b', label = 'AUC_train = %0.2f' % roc_auc_train)\n",
    "\n",
    "plt.legend(loc = 'lower right')\n",
    "plt.plot([0, 1], [0, 1],'g--')\n",
    "plt.xlim([0, 1])\n",
    "plt.ylim([0, 1])\n",
    "plt.ylabel('True Positive Rate')\n",
    "plt.xlabel('False Positive Rate')\n",
    "plt.title('ROC Curve of BOW-KNN')\n",
    "plt.show()\n"
   ]
  },
  {
   "cell_type": "markdown",
   "metadata": {},
   "source": [
    "#### Get the confusion matrix for the BOW "
   ]
  },
  {
   "cell_type": "code",
   "execution_count": 67,
   "metadata": {
    "ExecuteTime": {
     "end_time": "2019-12-13T18:17:59.130862Z",
     "start_time": "2019-12-13T18:17:58.718672Z"
    }
   },
   "outputs": [
    {
     "name": "stdout",
     "output_type": "stream",
     "text": [
      "[[ 5831  2274]\n",
      " [14136 31290]]\n",
      "Training CM for BOW\n"
     ]
    },
    {
     "data": {
      "text/plain": [
       "Text(0.5,1,'Confusion Matrix')"
      ]
     },
     "execution_count": 67,
     "metadata": {},
     "output_type": "execute_result"
    },
    {
     "data": {
      "image/png": "[encoded data removed]",
      "text/plain": [
       "<matplotlib.figure.Figure at 0x22fa2717240>"
      ]
     },
     "metadata": {},
     "output_type": "display_data"
    }
   ],
   "source": [
    "#https://stackoverflow.com/questions/35572000/how-can-i-plot-a-confusion-matrix\n",
    "import seaborn as sns\n",
    "import matplotlib.pyplot as plt\n",
    "ax= plt.subplot()\n",
    "# Make confusion matrix for y_train vs predicted(X_train_bow)\n",
    "cm = confusion_matrix(y_train, pred_bow_train)\n",
    "print(cm) \n",
    "\n",
    "sns.heatmap(cm, annot=True, ax = ax,cmap=\"summer\", fmt='g')\n",
    "print(\"Training CM for BOW\")\n",
    "# labels, title and ticks\n",
    "ax.set_xlabel('Predicted labels')\n",
    "ax.set_ylabel('True labels')\n",
    "ax.set_title('Confusion Matrix')"
   ]
  },
  {
   "cell_type": "code",
   "execution_count": 68,
   "metadata": {
    "ExecuteTime": {
     "end_time": "2019-12-13T18:17:59.499574Z",
     "start_time": "2019-12-13T18:17:59.130862Z"
    }
   },
   "outputs": [
    {
     "name": "stdout",
     "output_type": "stream",
     "text": [
      "==================================================\n",
      "Testing CM for BOW\n",
      "[[ 3192  1771]\n",
      " [ 8977 18835]]\n"
     ]
    },
    {
     "data": {
      "text/plain": [
       "Text(0.5,1,'Confusion Matrix')"
      ]
     },
     "execution_count": 68,
     "metadata": {},
     "output_type": "execute_result"
    },
    {
     "data": {
      "image/png": "[encoded data removed]",
      "text/plain": [
       "<matplotlib.figure.Figure at 0x22fa2713f98>"
      ]
     },
     "metadata": {},
     "output_type": "display_data"
    }
   ],
   "source": [
    "print(\"=\"*50)\n",
    "print(\"Testing CM for BOW\")\n",
    "ax= plt.subplot()\n",
    "# Make confusion matrix for y_test vs predicted(X_test_bow)\n",
    "cm = confusion_matrix(y_test, pred_bow_test)\n",
    "print(cm) \n",
    "\n",
    "sns.heatmap(cm, annot=True, ax = ax,cmap=\"summer\",fmt='g')\n",
    "# labels, title and ticks\n",
    "ax.set_xlabel('Predicted labels')\n",
    "ax.set_ylabel('True labels')\n",
    "ax.set_title('Confusion Matrix')"
   ]
  },
  {
   "cell_type": "markdown",
   "metadata": {
    "colab_type": "text",
    "id": "B1dIm8PiCypw"
   },
   "source": [
    "\n"
   ]
  },
  {
   "cell_type": "markdown",
   "metadata": {
    "colab_type": "text",
    "id": "s85gPOAbCyp1"
   },
   "source": [
    "### Applying Logistic Regression on TFIDF,<font color='red'> SET 2</font>"
   ]
  },
  {
   "cell_type": "markdown",
   "metadata": {},
   "source": [
    "#### Hyperparameter tuning for finiding optimal ALPHA using ROC_AUC_Score"
   ]
  },
  {
   "cell_type": "code",
   "execution_count": 69,
   "metadata": {
    "ExecuteTime": {
     "end_time": "2019-12-13T18:23:19.090040Z",
     "start_time": "2019-12-13T18:17:59.503573Z"
    },
    "colab": {},
    "colab_type": "code",
    "id": "Tsay467cCypt"
   },
   "outputs": [
    {
     "name": "stderr",
     "output_type": "stream",
     "text": [
      "100%|████████████████████████████████████████████████████████████████████████████████████| 8/8 [05:19<00:00, 39.92s/it]\n"
     ]
    },
    {
     "name": "stdout",
     "output_type": "stream",
     "text": [
      "{0.0001: 0.58771578152725479, 0.001: 0.60728353477102326, 0.01: 0.67138731359517223, 0.1: 0.71448349942671963, 1: 0.70146013492581427, 10: 0.67076763497993075, 100: 0.65464457624037153, 1000: 0.64850134475138865}\n",
      "{0.0001: 0.5949227809080142, 0.001: 0.62190124861707419, 0.01: 0.70489413631834819, 0.1: 0.79387372777815757, 1: 0.85989935078365554, 10: 0.88643172144062055, 100: 0.89267312012597833, 1000: 0.89409949102570652}\n"
     ]
    }
   ],
   "source": [
    "\n",
    "roc_auc_score_cv_tfidf_dict={}\n",
    "roc_auc_score_train_tfidf_dict={}\n",
    "\n",
    "cValues = [.0001,.001, .01, .1, 1, 10, 100, 1000]\n",
    "\n",
    "for i in tqdm(cValues):\n",
    "    lr = LogisticRegression(penalty='l2',C= i,class_weight='balanced')\n",
    "\n",
    "     # fitting the model on crossvalidation train\n",
    "    lr.fit(X_train_tfidf, y_train)\n",
    "\n",
    "    # predict the response on the crossvalidation train\n",
    "    pred_tfidf_cv = lr.predict_proba(X_cv_tfidf)\n",
    "    \n",
    "    #evaluate CV roc_auc\n",
    "    roc_auc_cv =roc_auc_score(y_cv,pred_tfidf_cv[:,1])\n",
    "    \n",
    "    #insert into dict\n",
    "    roc_auc_score_cv_tfidf_dict[i]=roc_auc_cv\n",
    "    \n",
    "    # predict the response on the train\n",
    "    pred_tfidf_train = lr.predict_proba(X_train_tfidf)\n",
    "    \n",
    "    #evaluate train roc_auc\n",
    "    roc_auc_train =roc_auc_score(y_train,pred_tfidf_train[:,1])\n",
    "    \n",
    "    #insert into dict\n",
    "    roc_auc_score_train_tfidf_dict[i]=roc_auc_train\n",
    "    \n",
    "    \n",
    "    \n",
    "print(roc_auc_score_cv_tfidf_dict)\n",
    "print(roc_auc_score_train_tfidf_dict)\n"
   ]
  },
  {
   "cell_type": "markdown",
   "metadata": {},
   "source": [
    "#### Plot ROC_AUC_score VS different ALPHA values (Train and CV set)"
   ]
  },
  {
   "cell_type": "code",
   "execution_count": 70,
   "metadata": {
    "ExecuteTime": {
     "end_time": "2019-12-13T18:23:20.366593Z",
     "start_time": "2019-12-13T18:23:19.175175Z"
    }
   },
   "outputs": [
    {
     "data": {
      "image/png": "[encoded data removed]",
      "text/plain": [
       "<matplotlib.figure.Figure at 0x2303183b7b8>"
      ]
     },
     "metadata": {},
     "output_type": "display_data"
    }
   ],
   "source": [
    "#https://stackoverflow.com/questions/37266341/plotting-a-python-dict-in-order-of-key-values/37266356\n",
    "\n",
    "lists1 = sorted(roc_auc_score_cv_tfidf_dict.items())\n",
    "x1, y1 = zip(*lists1) # unpack a list of pairs into two tuples\n",
    "lists2 = sorted(roc_auc_score_train_tfidf_dict.items())\n",
    "x2, y2 = zip(*lists2) # unpack a list of pairs into two tuples\n",
    "\n",
    "x1=[math.log10(i) for i in list(x1)]\n",
    "x2=[math.log10(i) for i in list(x2)]\n",
    "\n",
    "plt.xlabel('C')\n",
    "plt.ylabel('roc_auc_score')\n",
    "plt.title('Hyper parameter tuning')\n",
    "\n",
    "plt.plot(x1, y1,label=\"CV\")\n",
    "plt.plot(x2, y2,label='Train')\n",
    "plt.legend()\n",
    "plt.grid()\n",
    "plt.show()"
   ]
  },
  {
   "cell_type": "markdown",
   "metadata": {},
   "source": [
    "#### Find the best ALPHA value from the result"
   ]
  },
  {
   "cell_type": "code",
   "execution_count": 71,
   "metadata": {
    "ExecuteTime": {
     "end_time": "2019-12-13T18:23:20.647003Z",
     "start_time": "2019-12-13T18:23:20.368610Z"
    }
   },
   "outputs": [
    {
     "name": "stdout",
     "output_type": "stream",
     "text": [
      "Dictionary Contents-->\n",
      " {0.0001: 0.58771578152725479, 0.001: 0.60728353477102326, 0.01: 0.67138731359517223, 0.1: 0.71448349942671963, 1: 0.70146013492581427, 10: 0.67076763497993075, 100: 0.65464457624037153, 1000: 0.64850134475138865}\n",
      "==================================================\n",
      "Keys in the list are-->\n",
      " [0.0001, 0.001, 0.01, 0.1, 1, 10, 100, 1000]\n",
      "==================================================\n",
      "Values in the list are-->\n",
      " [0.58771578152725479, 0.60728353477102326, 0.67138731359517223, 0.71448349942671963, 0.70146013492581427, 0.67076763497993075, 0.65464457624037153, 0.64850134475138865]\n",
      "==================================================\n",
      "Maximum k is 0.1 \n",
      "==================================================\n",
      "0.1\n"
     ]
    }
   ],
   "source": [
    "print(find_highest_hyperparam(roc_auc_score_cv_tfidf_dict))"
   ]
  },
  {
   "cell_type": "markdown",
   "metadata": {},
   "source": [
    "#### Train the model on the optimal ALPHA value and run the Test Dataset\n",
    " \n",
    "    -- Plot the ROC curve for TFIDF using the test and train Dataset"
   ]
  },
  {
   "cell_type": "code",
   "execution_count": 72,
   "metadata": {
    "ExecuteTime": {
     "end_time": "2019-12-13T18:23:39.196240Z",
     "start_time": "2019-12-13T18:23:20.647003Z"
    }
   },
   "outputs": [
    {
     "name": "stdout",
     "output_type": "stream",
     "text": [
      "Dictionary Contents-->\n",
      " {0.0001: 0.58771578152725479, 0.001: 0.60728353477102326, 0.01: 0.67138731359517223, 0.1: 0.71448349942671963, 1: 0.70146013492581427, 10: 0.67076763497993075, 100: 0.65464457624037153, 1000: 0.64850134475138865}\n",
      "==================================================\n",
      "Keys in the list are-->\n",
      " [0.0001, 0.001, 0.01, 0.1, 1, 10, 100, 1000]\n",
      "==================================================\n",
      "Values in the list are-->\n",
      " [0.58771578152725479, 0.60728353477102326, 0.67138731359517223, 0.71448349942671963, 0.70146013492581427, 0.67076763497993075, 0.65464457624037153, 0.64850134475138865]\n",
      "==================================================\n",
      "Maximum k is 0.1 \n",
      "==================================================\n",
      "Dictionary Contents-->\n",
      " {0.0001: 0.58771578152725479, 0.001: 0.60728353477102326, 0.01: 0.67138731359517223, 0.1: 0.71448349942671963, 1: 0.70146013492581427, 10: 0.67076763497993075, 100: 0.65464457624037153, 1000: 0.64850134475138865}\n",
      "==================================================\n",
      "Keys in the list are-->\n",
      " [0.0001, 0.001, 0.01, 0.1, 1, 10, 100, 1000]\n",
      "==================================================\n",
      "Values in the list are-->\n",
      " [0.58771578152725479, 0.60728353477102326, 0.67138731359517223, 0.71448349942671963, 0.70146013492581427, 0.67076763497993075, 0.65464457624037153, 0.64850134475138865]\n",
      "==================================================\n",
      "Maximum k is 0.1 \n",
      "==================================================\n"
     ]
    },
    {
     "data": {
      "image/png": "[encoded data removed]",
      "text/plain": [
       "<matplotlib.figure.Figure at 0x22fe4f392b0>"
      ]
     },
     "metadata": {},
     "output_type": "display_data"
    }
   ],
   "source": [
    "# train model on the best k\n",
    "\n",
    "lr = LogisticRegression(penalty='l2', C= find_highest_hyperparam(roc_auc_score_cv_tfidf_dict),class_weight='balanced')\n",
    "\n",
    "# fitting the model on crossvalidation train\n",
    "\n",
    "lr.fit(X_train_tfidf, y_train)\n",
    "\n",
    "pred_tfidf_test = lr.predict(X_test_tfidf) # **we will use it in confusion matrix\n",
    "pred_tfidf_train = lr.predict(X_train_tfidf) # **we will use it in confusion matrix\n",
    "\n",
    "#https://stackoverflow.com/questions/52910061/implementing-roc-curves-for-k-nn-machine-learning-algorithm-using-python-and-scip_scores = knn.predict_proba(X_test)\n",
    "pred_tfidf_test_scores=lr.predict_proba(X_test_tfidf)\n",
    "pred_tfidf_train_scores=lr.predict_proba(X_train_tfidf)\n",
    "\n",
    "fpr_test, tpr_test, threshold_test = roc_curve(y_test, pred_tfidf_test_scores[:,1])\n",
    "fpr_train, tpr_train, threshold_train = roc_curve(y_train, pred_tfidf_train_scores[:,1])\n",
    "\n",
    "roc_auc_test = auc(fpr_test, tpr_test)\n",
    "roc_auc_train = auc(fpr_train, tpr_train)\n",
    "\n",
    "#save ALPHA & roc_auc_test score (AUC of fpr_test and tpr_test) for final summary\n",
    "summary.append(['TFIDF',find_highest_hyperparam(roc_auc_score_cv_tfidf_dict),roc_auc_test])\n",
    "\n",
    "plt.title('Receiver Operating Characteristic')\n",
    "plt.plot(fpr_test, tpr_test, 'r', label = 'AUC_test = %0.2f' % roc_auc_test)\n",
    "plt.plot(fpr_train, tpr_train, 'b', label = 'AUC_train = %0.2f' % roc_auc_train)\n",
    "plt.legend(loc = 'lower right')\n",
    "plt.plot([0, 1], [0, 1],'g--')\n",
    "plt.xlim([0, 1])\n",
    "plt.ylim([0, 1])\n",
    "plt.ylabel('True Positive Rate')\n",
    "plt.xlabel('False Positive Rate')\n",
    "plt.title('ROC Curve of TFIDF-KNN')\n",
    "plt.show()\n"
   ]
  },
  {
   "cell_type": "markdown",
   "metadata": {},
   "source": [
    "#### Get the confusion matrix for the TFIDF"
   ]
  },
  {
   "cell_type": "code",
   "execution_count": 73,
   "metadata": {
    "ExecuteTime": {
     "end_time": "2019-12-13T18:23:39.739310Z",
     "start_time": "2019-12-13T18:23:39.196240Z"
    }
   },
   "outputs": [
    {
     "name": "stdout",
     "output_type": "stream",
     "text": [
      "[[ 6011  2094]\n",
      " [13393 32033]]\n",
      "Training CM for tfidf\n"
     ]
    },
    {
     "data": {
      "text/plain": [
       "Text(0.5,1,'Confusion Matrix')"
      ]
     },
     "execution_count": 73,
     "metadata": {},
     "output_type": "execute_result"
    },
    {
     "data": {
      "image/png": "[encoded data removed]",
      "text/plain": [
       "<matplotlib.figure.Figure at 0x23031835208>"
      ]
     },
     "metadata": {},
     "output_type": "display_data"
    }
   ],
   "source": [
    "#https://stackoverflow.com/questions/35572000/how-can-i-plot-a-confusion-matrix\n",
    "import seaborn as sns\n",
    "import matplotlib.pyplot as plt\n",
    "ax= plt.subplot()\n",
    "# Make confusion matrix for y_train vs predicted(X_train_bow)\n",
    "cm = confusion_matrix(y_train, pred_tfidf_train)\n",
    "print(cm) \n",
    "\n",
    "sns.heatmap(cm, annot=True, ax = ax,cmap=\"summer\", fmt='g')\n",
    "print(\"Training CM for tfidf\")\n",
    "# labels, title and ticks\n",
    "ax.set_xlabel('Predicted labels')\n",
    "ax.set_ylabel('True labels')\n",
    "ax.set_title('Confusion Matrix')\n",
    "\n"
   ]
  },
  {
   "cell_type": "code",
   "execution_count": 74,
   "metadata": {
    "ExecuteTime": {
     "end_time": "2019-12-13T18:23:40.245873Z",
     "start_time": "2019-12-13T18:23:39.747306Z"
    }
   },
   "outputs": [
    {
     "name": "stdout",
     "output_type": "stream",
     "text": [
      "==================================================\n",
      "Testing CM for tfidf\n",
      "[[ 3144  1819]\n",
      " [ 8731 19081]]\n"
     ]
    },
    {
     "data": {
      "text/plain": [
       "Text(0.5,1,'Confusion Matrix')"
      ]
     },
     "execution_count": 74,
     "metadata": {},
     "output_type": "execute_result"
    },
    {
     "data": {
      "image/png": "[encoded data removed]",
      "text/plain": [
       "<matplotlib.figure.Figure at 0x23031ba4cf8>"
      ]
     },
     "metadata": {},
     "output_type": "display_data"
    }
   ],
   "source": [
    "print(\"=\"*50)\n",
    "print(\"Testing CM for tfidf\")\n",
    "ax= plt.subplot()\n",
    "# Make confusion matrix for y_test vs predicted(X_test_bow)\n",
    "cm = confusion_matrix(y_test, pred_tfidf_test)\n",
    "print(cm) \n",
    "\n",
    "sns.heatmap(cm, annot=True, ax = ax,cmap=\"summer\",fmt='g')\n",
    "# labels, title and ticks\n",
    "ax.set_xlabel('Predicted labels')\n",
    "ax.set_ylabel('True labels')\n",
    "ax.set_title('Confusion Matrix')"
   ]
  },
  {
   "cell_type": "markdown",
   "metadata": {
    "colab_type": "text",
    "id": "oq3NW2CbCyp3"
   },
   "source": [
    "### Applying Logistic Regression on AVG W2V,<font color='red'> SET 3</font>"
   ]
  },
  {
   "cell_type": "markdown",
   "metadata": {},
   "source": [
    "#### Hyperparameter tuning for finiding optimal ALPHA using ROC_AUC_Score"
   ]
  },
  {
   "cell_type": "code",
   "execution_count": 75,
   "metadata": {
    "ExecuteTime": {
     "end_time": "2019-12-13T18:42:47.947680Z",
     "start_time": "2019-12-13T18:23:40.249872Z"
    },
    "colab": {},
    "colab_type": "code",
    "id": "Tsay467cCypt"
   },
   "outputs": [
    {
     "name": "stderr",
     "output_type": "stream",
     "text": [
      "100%|███████████████████████████████████████████████████████████████████████████████████| 8/8 [19:07<00:00, 143.39s/it]\n"
     ]
    },
    {
     "name": "stdout",
     "output_type": "stream",
     "text": [
      "{0.0001: 0.62522872365781845, 0.001: 0.65418415695141907, 0.01: 0.68302523580907881, 0.1: 0.70144981434186204, 1: 0.70694910349315998, 10: 0.71168424063982183, 100: 0.71766118948249102, 1000: 0.71873645238532058}\n",
      "{0.0001: 0.63271295360531454, 0.001: 0.66895104437739894, 0.01: 0.70568386903792368, 0.1: 0.72888044043293976, 1: 0.73827848034154586, 10: 0.74302348759660175, 100: 0.74770649218788976, 1000: 0.74925494543083859}\n"
     ]
    }
   ],
   "source": [
    "\n",
    "roc_auc_score_cv_w2v_dict={}\n",
    "roc_auc_score_train_w2v_dict={}\n",
    "\n",
    "cValues = [.0001,.001, .01, .1, 1, 10, 100, 1000]\n",
    "\n",
    "for i in tqdm(cValues):\n",
    "    lr = LogisticRegression(penalty='l2',C= i,class_weight='balanced')\n",
    "\n",
    "     # fitting the model on crossvalidation train\n",
    "    lr.fit(X_train_w2v, y_train)\n",
    "\n",
    "    # predict the response on the crossvalidation train\n",
    "    pred_w2v_cv = lr.predict_proba(X_cv_w2v)\n",
    "    \n",
    "    #evaluate CV roc_auc\n",
    "    roc_auc_cv =roc_auc_score(y_cv,pred_w2v_cv[:,1])\n",
    "    \n",
    "    #insert into dict\n",
    "    roc_auc_score_cv_w2v_dict[i]=roc_auc_cv\n",
    "    \n",
    "    # predict the response on the train\n",
    "    pred_w2v_train = lr.predict_proba(X_train_w2v)\n",
    "    \n",
    "    #evaluate train roc_auc\n",
    "    roc_auc_train =roc_auc_score(y_train,pred_w2v_train[:,1])\n",
    "    \n",
    "    #insert into dict\n",
    "    roc_auc_score_train_w2v_dict[i]=roc_auc_train\n",
    "    \n",
    "    \n",
    "    \n",
    "print(roc_auc_score_cv_w2v_dict)\n",
    "print(roc_auc_score_train_w2v_dict)\n"
   ]
  },
  {
   "cell_type": "markdown",
   "metadata": {},
   "source": [
    "#### Plot ROC_AUC_score VS different ALPHA values (Train and CV set)"
   ]
  },
  {
   "cell_type": "code",
   "execution_count": 76,
   "metadata": {
    "ExecuteTime": {
     "end_time": "2019-12-13T18:42:48.454440Z",
     "start_time": "2019-12-13T18:42:47.951679Z"
    }
   },
   "outputs": [
    {
     "data": {
      "image/png": "[encoded data removed]",
      "text/plain": [
       "<matplotlib.figure.Figure at 0x23031ca15c0>"
      ]
     },
     "metadata": {},
     "output_type": "display_data"
    }
   ],
   "source": [
    "#https://stackoverflow.com/questions/37266341/plotting-a-python-dict-in-order-of-key-values/37266356\n",
    "\n",
    "lists1 = sorted(roc_auc_score_cv_w2v_dict.items())\n",
    "x1, y1 = zip(*lists1) # unpack a list of pairs into two tuples\n",
    "lists2 = sorted(roc_auc_score_train_w2v_dict.items())\n",
    "x2, y2 = zip(*lists2) # unpack a list of pairs into two tuples\n",
    "\n",
    "x1=[math.log10(i) for i in list(x1)]\n",
    "x2=[math.log10(i) for i in list(x2)]\n",
    "\n",
    "plt.xlabel('C')\n",
    "plt.ylabel('roc_auc_score')\n",
    "plt.title('Hyper parameter tuning')\n",
    "plt.plot(x1, y1,label=\"CV\")\n",
    "plt.plot(x2, y2,label='Train')\n",
    "plt.legend()\n",
    "plt.grid()\n",
    "plt.show()\n"
   ]
  },
  {
   "cell_type": "markdown",
   "metadata": {},
   "source": [
    "#### Find the best ALPHA value from the result"
   ]
  },
  {
   "cell_type": "code",
   "execution_count": 77,
   "metadata": {
    "ExecuteTime": {
     "end_time": "2019-12-13T18:42:48.510424Z",
     "start_time": "2019-12-13T18:42:48.458438Z"
    }
   },
   "outputs": [
    {
     "name": "stdout",
     "output_type": "stream",
     "text": [
      "Dictionary Contents-->\n",
      " {0.0001: 0.62522872365781845, 0.001: 0.65418415695141907, 0.01: 0.68302523580907881, 0.1: 0.70144981434186204, 1: 0.70694910349315998, 10: 0.71168424063982183, 100: 0.71766118948249102, 1000: 0.71873645238532058}\n",
      "==================================================\n",
      "Keys in the list are-->\n",
      " [0.0001, 0.001, 0.01, 0.1, 1, 10, 100, 1000]\n",
      "==================================================\n",
      "Values in the list are-->\n",
      " [0.62522872365781845, 0.65418415695141907, 0.68302523580907881, 0.70144981434186204, 0.70694910349315998, 0.71168424063982183, 0.71766118948249102, 0.71873645238532058]\n",
      "==================================================\n",
      "Maximum k is 1000 \n",
      "==================================================\n",
      "1000\n"
     ]
    }
   ],
   "source": [
    "print(find_highest_hyperparam(roc_auc_score_cv_w2v_dict))"
   ]
  },
  {
   "cell_type": "markdown",
   "metadata": {},
   "source": [
    "#### Train the model on the optimal ALPHA value and run the Test Dataset\n",
    " \n",
    "    -- Plot the ROC curve for w2v using the test and train Dataset"
   ]
  },
  {
   "cell_type": "code",
   "execution_count": 78,
   "metadata": {
    "ExecuteTime": {
     "end_time": "2019-12-13T18:52:26.810623Z",
     "start_time": "2019-12-13T18:42:48.514424Z"
    }
   },
   "outputs": [
    {
     "name": "stdout",
     "output_type": "stream",
     "text": [
      "Dictionary Contents-->\n",
      " {0.0001: 0.62522872365781845, 0.001: 0.65418415695141907, 0.01: 0.68302523580907881, 0.1: 0.70144981434186204, 1: 0.70694910349315998, 10: 0.71168424063982183, 100: 0.71766118948249102, 1000: 0.71873645238532058}\n",
      "==================================================\n",
      "Keys in the list are-->\n",
      " [0.0001, 0.001, 0.01, 0.1, 1, 10, 100, 1000]\n",
      "==================================================\n",
      "Values in the list are-->\n",
      " [0.62522872365781845, 0.65418415695141907, 0.68302523580907881, 0.70144981434186204, 0.70694910349315998, 0.71168424063982183, 0.71766118948249102, 0.71873645238532058]\n",
      "==================================================\n",
      "Maximum k is 1000 \n",
      "==================================================\n",
      "Dictionary Contents-->\n",
      " {0.0001: 0.62522872365781845, 0.001: 0.65418415695141907, 0.01: 0.68302523580907881, 0.1: 0.70144981434186204, 1: 0.70694910349315998, 10: 0.71168424063982183, 100: 0.71766118948249102, 1000: 0.71873645238532058}\n",
      "==================================================\n",
      "Keys in the list are-->\n",
      " [0.0001, 0.001, 0.01, 0.1, 1, 10, 100, 1000]\n",
      "==================================================\n",
      "Values in the list are-->\n",
      " [0.62522872365781845, 0.65418415695141907, 0.68302523580907881, 0.70144981434186204, 0.70694910349315998, 0.71168424063982183, 0.71766118948249102, 0.71873645238532058]\n",
      "==================================================\n",
      "Maximum k is 1000 \n",
      "==================================================\n"
     ]
    },
    {
     "data": {
      "image/png": "[encoded data removed]",
      "text/plain": [
       "<matplotlib.figure.Figure at 0x23031bc1e80>"
      ]
     },
     "metadata": {},
     "output_type": "display_data"
    }
   ],
   "source": [
    "# train model on the best k\n",
    "lr = LogisticRegression(penalty='l2', C= find_highest_hyperparam(roc_auc_score_cv_w2v_dict),class_weight='balanced')\n",
    "\n",
    "# fitting the model on crossvalidation train\n",
    "\n",
    "lr.fit(X_train_w2v, y_train)\n",
    "\n",
    "pred_w2v_test = lr.predict(X_test_w2v) # **we will use it in confusion matrix\n",
    "pred_w2v_train = lr.predict(X_train_w2v) # **we will use it in confusion matrix\n",
    "\n",
    "#https://stackoverflow.com/questions/52910061/implementing-roc-curves-for-k-nn-machine-learning-algorithm-using-python-and-scip_scores = knn.predict_proba(X_test)\n",
    "pred_w2v_test_scores=lr.predict_proba(X_test_w2v)\n",
    "pred_w2v_train_scores=lr.predict_proba(X_train_w2v)\n",
    "\n",
    "fpr_test, tpr_test, threshold_test = roc_curve(y_test, pred_w2v_test_scores[:,1])\n",
    "fpr_train, tpr_train, threshold_train = roc_curve(y_train, pred_w2v_train_scores[:,1])\n",
    "\n",
    "roc_auc_test = auc(fpr_test, tpr_test)\n",
    "roc_auc_train = auc(fpr_train, tpr_train)\n",
    "\n",
    "#save ALPHA & roc_auc_test score (AUC of fpr_test and tpr_test) for final summary\n",
    "summary.append(['W2V',find_highest_hyperparam(roc_auc_score_cv_w2v_dict),roc_auc_test])\n",
    "\n",
    "plt.title('Receiver Operating Characteristic')\n",
    "plt.plot(fpr_test, tpr_test, 'r', label = 'AUC_test = %0.2f' % roc_auc_test)\n",
    "plt.plot(fpr_train, tpr_train, 'b', label = 'AUC_train = %0.2f' % roc_auc_train)\n",
    "plt.legend(loc = 'lower right')\n",
    "plt.plot([0, 1], [0, 1],'g--')\n",
    "plt.xlim([0, 1])\n",
    "plt.ylim([0, 1])\n",
    "plt.ylabel('True Positive Rate')\n",
    "plt.xlabel('False Positive Rate')\n",
    "plt.title('ROC Curve of W2V')\n",
    "plt.show()"
   ]
  },
  {
   "cell_type": "markdown",
   "metadata": {},
   "source": [
    "#### Get the confusion matrix for the W2V"
   ]
  },
  {
   "cell_type": "code",
   "execution_count": 79,
   "metadata": {
    "ExecuteTime": {
     "end_time": "2019-12-13T18:52:27.158566Z",
     "start_time": "2019-12-13T18:52:26.810623Z"
    }
   },
   "outputs": [
    {
     "name": "stdout",
     "output_type": "stream",
     "text": [
      "[[ 5618  2487]\n",
      " [14604 30822]]\n",
      "Training CM for BOW\n"
     ]
    },
    {
     "data": {
      "text/plain": [
       "Text(0.5,1,'Confusion Matrix')"
      ]
     },
     "execution_count": 79,
     "metadata": {},
     "output_type": "execute_result"
    },
    {
     "data": {
      "image/png": "[encoded data removed]",
      "text/plain": [
       "<matplotlib.figure.Figure at 0x23031cceb38>"
      ]
     },
     "metadata": {},
     "output_type": "display_data"
    }
   ],
   "source": [
    "#https://stackoverflow.com/questions/35572000/how-can-i-plot-a-confusion-matrix\n",
    "import seaborn as sns\n",
    "import matplotlib.pyplot as plt\n",
    "ax= plt.subplot()\n",
    "# Make confusion matrix for y_train vs predicted(X_train_bow)\n",
    "cm = confusion_matrix(y_train, pred_w2v_train)\n",
    "print(cm) \n",
    "\n",
    "sns.heatmap(cm, annot=True, ax = ax,cmap=\"summer\", fmt='g')\n",
    "print(\"Training CM for BOW\")\n",
    "# labels, title and ticks\n",
    "ax.set_xlabel('Predicted labels')\n",
    "ax.set_ylabel('True labels')\n",
    "ax.set_title('Confusion Matrix')"
   ]
  },
  {
   "cell_type": "code",
   "execution_count": 80,
   "metadata": {
    "ExecuteTime": {
     "end_time": "2019-12-13T18:52:27.460789Z",
     "start_time": "2019-12-13T18:52:27.162565Z"
    }
   },
   "outputs": [
    {
     "name": "stdout",
     "output_type": "stream",
     "text": [
      "==================================================\n",
      "Testing CM for BOW\n",
      "[[ 2929  2034]\n",
      " [ 7394 20418]]\n"
     ]
    },
    {
     "data": {
      "text/plain": [
       "Text(0.5,1,'Confusion Matrix')"
      ]
     },
     "execution_count": 80,
     "metadata": {},
     "output_type": "execute_result"
    },
    {
     "data": {
      "image/png": "[encoded data removed]",
      "text/plain": [
       "<matplotlib.figure.Figure at 0x23021654240>"
      ]
     },
     "metadata": {},
     "output_type": "display_data"
    }
   ],
   "source": [
    "print(\"=\"*50)\n",
    "print(\"Testing CM for BOW\")\n",
    "ax= plt.subplot()\n",
    "# Make confusion matrix for y_test vs predicted(X_test_bow)\n",
    "cm = confusion_matrix(y_test, pred_w2v_test)\n",
    "print(cm) \n",
    "\n",
    "sns.heatmap(cm, annot=True, ax = ax,cmap=\"summer\",fmt='g')\n",
    "# labels, title and ticks\n",
    "ax.set_xlabel('Predicted labels')\n",
    "ax.set_ylabel('True labels')\n",
    "ax.set_title('Confusion Matrix')"
   ]
  },
  {
   "cell_type": "markdown",
   "metadata": {
    "colab_type": "text",
    "id": "TJLjbsNYCyp5"
   },
   "source": [
    "### Applying Logistic Regression on TFIDF W2V,<font color='red'> SET 4</font>"
   ]
  },
  {
   "cell_type": "markdown",
   "metadata": {},
   "source": [
    "#### Hyperparameter tuning for finiding optimal ALPHA using ROC_AUC_Score"
   ]
  },
  {
   "cell_type": "code",
   "execution_count": 81,
   "metadata": {
    "ExecuteTime": {
     "end_time": "2019-12-13T19:11:40.486181Z",
     "start_time": "2019-12-13T18:52:27.472824Z"
    },
    "colab": {},
    "colab_type": "code",
    "id": "b-sFaOjWCyp6"
   },
   "outputs": [
    {
     "name": "stderr",
     "output_type": "stream",
     "text": [
      "100%|███████████████████████████████████████████████████████████████████████████████████| 8/8 [19:12<00:00, 144.11s/it]\n"
     ]
    },
    {
     "name": "stdout",
     "output_type": "stream",
     "text": [
      "{0.0001: 0.64157314265862264, 0.001: 0.67477537796107601, 0.01: 0.69497410627587319, 0.1: 0.69922555106891093, 1: 0.6993460712405366, 10: 0.7041526983920825, 100: 0.71077425493959712, 1000: 0.71194138286835118}\n",
      "{0.0001: 0.64722754415374339, 0.001: 0.68824002472936097, 0.01: 0.71648901197799231, 0.1: 0.7282782502896088, 1: 0.73153410718241973, 10: 0.7356641424238235, 100: 0.74061008524334149, 1000: 0.74200810570481812}\n"
     ]
    }
   ],
   "source": [
    "\n",
    "from sklearn.linear_model import LogisticRegression\n",
    "from sklearn.metrics import roc_auc_score\n",
    "\n",
    "roc_auc_score_cv_tfidf_w2v_dict={}\n",
    "roc_auc_score_train_tfidf_w2v_dict={}\n",
    "\n",
    "cValues = [.0001,.001, .01, .1, 1, 10, 100, 1000]\n",
    "\n",
    "for i in tqdm(cValues):\n",
    "    lr = LogisticRegression(penalty='l2',C= i,class_weight='balanced')\n",
    "\n",
    "     # fitting the model on crossvalidation train\n",
    "    lr.fit(X_train_tfidf_w2v, y_train)\n",
    "\n",
    "    # predict the response on the crossvalidation train\n",
    "    pred_tfidf_w2v_cv = lr.predict_proba(X_cv_tfidf_w2v)\n",
    "    \n",
    "    #evaluate CV roc_auc\n",
    "    roc_auc_cv =roc_auc_score(y_cv,pred_tfidf_w2v_cv[:,1])\n",
    "    \n",
    "    #insert into dict\n",
    "    roc_auc_score_cv_tfidf_w2v_dict[i]=roc_auc_cv\n",
    "    \n",
    "    # predict the response on the train\n",
    "    pred_tfidf_w2v_train = lr.predict_proba(X_train_tfidf_w2v)\n",
    "    \n",
    "    #evaluate train roc_auc\n",
    "    roc_auc_train =roc_auc_score(y_train,pred_tfidf_w2v_train[:,1])\n",
    "    \n",
    "    #insert into dict\n",
    "    roc_auc_score_train_tfidf_w2v_dict[i]=roc_auc_train\n",
    "    \n",
    "    \n",
    "    \n",
    "print(roc_auc_score_cv_tfidf_w2v_dict)\n",
    "print(roc_auc_score_train_tfidf_w2v_dict)\n"
   ]
  },
  {
   "cell_type": "markdown",
   "metadata": {},
   "source": [
    "#### Plot ROC_AUC_score VS different ALPHA values (Train and CV set)"
   ]
  },
  {
   "cell_type": "code",
   "execution_count": 82,
   "metadata": {
    "ExecuteTime": {
     "end_time": "2019-12-13T19:11:40.784544Z",
     "start_time": "2019-12-13T19:11:40.486181Z"
    }
   },
   "outputs": [
    {
     "data": {
      "image/png": "[encoded data removed]",
      "text/plain": [
       "<matplotlib.figure.Figure at 0x230a735f470>"
      ]
     },
     "metadata": {},
     "output_type": "display_data"
    }
   ],
   "source": [
    "#https://stackoverflow.com/questions/37266341/plotting-a-python-dict-in-order-of-key-values/37266356\n",
    "import math\n",
    "\n",
    "lists1 = sorted(roc_auc_score_cv_tfidf_w2v_dict.items())\n",
    "x1, y1 = zip(*lists1) # unpack a list of pairs into two tuples\n",
    "lists2 = sorted(roc_auc_score_train_tfidf_w2v_dict.items())\n",
    "x2, y2 = zip(*lists2) # unpack a list of pairs into two tuples\n",
    "\n",
    "x1=[math.log10(i) for i in list(x1)]\n",
    "x2=[math.log10(i) for i in list(x2)]\n",
    "\n",
    "plt.xlabel('k')\n",
    "plt.ylabel('roc_auc_score')\n",
    "plt.title('Hyper parameter tuning')\n",
    "plt.plot(x1, y1,label=\"CV\")\n",
    "plt.plot(x2, y2,label='Train')\n",
    "plt.legend()\n",
    "plt.grid()\n",
    "plt.show()\n"
   ]
  },
  {
   "cell_type": "markdown",
   "metadata": {},
   "source": [
    "#### Find the best ALPHA value"
   ]
  },
  {
   "cell_type": "code",
   "execution_count": 83,
   "metadata": {
    "ExecuteTime": {
     "end_time": "2019-12-13T19:11:40.836904Z",
     "start_time": "2019-12-13T19:11:40.788543Z"
    }
   },
   "outputs": [
    {
     "name": "stdout",
     "output_type": "stream",
     "text": [
      "Dictionary Contents-->\n",
      " {0.0001: 0.64157314265862264, 0.001: 0.67477537796107601, 0.01: 0.69497410627587319, 0.1: 0.69922555106891093, 1: 0.6993460712405366, 10: 0.7041526983920825, 100: 0.71077425493959712, 1000: 0.71194138286835118}\n",
      "==================================================\n",
      "Keys in the list are-->\n",
      " [0.0001, 0.001, 0.01, 0.1, 1, 10, 100, 1000]\n",
      "==================================================\n",
      "Values in the list are-->\n",
      " [0.64157314265862264, 0.67477537796107601, 0.69497410627587319, 0.69922555106891093, 0.6993460712405366, 0.7041526983920825, 0.71077425493959712, 0.71194138286835118]\n",
      "==================================================\n",
      "Maximum k is 1000 \n",
      "==================================================\n",
      "1000\n"
     ]
    }
   ],
   "source": [
    "print(find_highest_hyperparam(roc_auc_score_cv_tfidf_w2v_dict))\n"
   ]
  },
  {
   "cell_type": "markdown",
   "metadata": {},
   "source": [
    "#### Train the model on the optimal ALPHA value and run the Test Dataset"
   ]
  },
  {
   "cell_type": "code",
   "execution_count": 84,
   "metadata": {
    "ExecuteTime": {
     "end_time": "2019-12-13T19:20:46.467745Z",
     "start_time": "2019-12-13T19:11:40.868896Z"
    }
   },
   "outputs": [
    {
     "name": "stdout",
     "output_type": "stream",
     "text": [
      "Dictionary Contents-->\n",
      " {0.0001: 0.64157314265862264, 0.001: 0.67477537796107601, 0.01: 0.69497410627587319, 0.1: 0.69922555106891093, 1: 0.6993460712405366, 10: 0.7041526983920825, 100: 0.71077425493959712, 1000: 0.71194138286835118}\n",
      "==================================================\n",
      "Keys in the list are-->\n",
      " [0.0001, 0.001, 0.01, 0.1, 1, 10, 100, 1000]\n",
      "==================================================\n",
      "Values in the list are-->\n",
      " [0.64157314265862264, 0.67477537796107601, 0.69497410627587319, 0.69922555106891093, 0.6993460712405366, 0.7041526983920825, 0.71077425493959712, 0.71194138286835118]\n",
      "==================================================\n",
      "Maximum k is 1000 \n",
      "==================================================\n",
      "Dictionary Contents-->\n",
      " {0.0001: 0.64157314265862264, 0.001: 0.67477537796107601, 0.01: 0.69497410627587319, 0.1: 0.69922555106891093, 1: 0.6993460712405366, 10: 0.7041526983920825, 100: 0.71077425493959712, 1000: 0.71194138286835118}\n",
      "==================================================\n",
      "Keys in the list are-->\n",
      " [0.0001, 0.001, 0.01, 0.1, 1, 10, 100, 1000]\n",
      "==================================================\n",
      "Values in the list are-->\n",
      " [0.64157314265862264, 0.67477537796107601, 0.69497410627587319, 0.69922555106891093, 0.6993460712405366, 0.7041526983920825, 0.71077425493959712, 0.71194138286835118]\n",
      "==================================================\n",
      "Maximum k is 1000 \n",
      "==================================================\n"
     ]
    },
    {
     "data": {
      "image/png": "[encoded data removed]",
      "text/plain": [
       "<matplotlib.figure.Figure at 0x230a733c208>"
      ]
     },
     "metadata": {},
     "output_type": "display_data"
    }
   ],
   "source": [
    "# train model on the best k\n",
    "\n",
    "lr = LogisticRegression(penalty='l2', C= find_highest_hyperparam(roc_auc_score_cv_tfidf_w2v_dict),class_weight='balanced')\n",
    "# fitting the model on crossvalidation train\n",
    "\n",
    "lr.fit(X_train_tfidf_w2v, y_train)\n",
    "\n",
    "pred_tfidf_w2v_test = lr.predict(X_test_tfidf_w2v) # **we will use it in confusion matrix\n",
    "pred_tfidf_w2v_train = lr.predict(X_train_tfidf_w2v) # **we will use it in confusion matrix\n",
    "\n",
    "#https://stackoverflow.com/questions/52910061/implementing-roc-curves-for-k-nn-machine-learning-algorithm-using-python-and-scip_scores = knn.predict_proba(X_test)\n",
    "pred_tfidf_w2v_test_scores=lr.predict_proba(X_test_tfidf_w2v)\n",
    "pred_tfidf_w2v_train_scores=lr.predict_proba(X_train_tfidf_w2v)\n",
    "\n",
    "fpr_test, tpr_test, threshold_test = roc_curve(y_test, pred_tfidf_w2v_test_scores[:,1])\n",
    "fpr_train, tpr_train, threshold_train = roc_curve(y_train, pred_tfidf_w2v_train_scores[:,1])\n",
    "\n",
    "roc_auc_test = auc(fpr_test, tpr_test)\n",
    "roc_auc_train = auc(fpr_train, tpr_train)\n",
    "\n",
    "#save ALPHA & roc_auc_test score (AUC of fpr_test and tpr_test) for final summary\n",
    "summary.append(['TFIDF_W2V',find_highest_hyperparam(roc_auc_score_cv_tfidf_w2v_dict),roc_auc_test])\n",
    "\n",
    "plt.title('Receiver Operating Characteristic')\n",
    "plt.plot(fpr_test, tpr_test, 'r', label = 'AUC_test = %0.2f' % roc_auc_test)\n",
    "plt.plot(fpr_train, tpr_train, 'b', label = 'AUC_train = %0.2f' % roc_auc_train)\n",
    "plt.legend(loc = 'lower right')\n",
    "plt.plot([0, 1], [0, 1],'g--')\n",
    "plt.xlim([0, 1])\n",
    "plt.ylim([0, 1])\n",
    "plt.ylabel('True Positive Rate')\n",
    "plt.xlabel('False Positive Rate')\n",
    "plt.title('ROC Curve of TFIDF_W2V-KNN')\n",
    "plt.show()\n"
   ]
  },
  {
   "cell_type": "markdown",
   "metadata": {},
   "source": [
    "#### Get the confusion matrix for the TFIDF W2V "
   ]
  },
  {
   "cell_type": "code",
   "execution_count": 85,
   "metadata": {
    "ExecuteTime": {
     "end_time": "2019-12-13T19:20:46.869851Z",
     "start_time": "2019-12-13T19:20:46.467745Z"
    }
   },
   "outputs": [
    {
     "name": "stdout",
     "output_type": "stream",
     "text": [
      "[[ 5679  2426]\n",
      " [15362 30064]]\n",
      "Training CM for BOW\n"
     ]
    },
    {
     "data": {
      "text/plain": [
       "Text(0.5,1,'Confusion Matrix')"
      ]
     },
     "execution_count": 85,
     "metadata": {},
     "output_type": "execute_result"
    },
    {
     "data": {
      "image/png": "[encoded data removed]",
      "text/plain": [
       "<matplotlib.figure.Figure at 0x230a7350160>"
      ]
     },
     "metadata": {},
     "output_type": "display_data"
    }
   ],
   "source": [
    "#https://stackoverflow.com/questions/35572000/how-can-i-plot-a-confusion-matrix\n",
    "import seaborn as sns\n",
    "import matplotlib.pyplot as plt\n",
    "ax= plt.subplot()\n",
    "# Make confusion matrix for y_train vs predicted(X_train_bow)\n",
    "cm = confusion_matrix(y_train, pred_tfidf_w2v_train)\n",
    "print(cm) \n",
    "\n",
    "sns.heatmap(cm, annot=True, ax = ax,cmap=\"summer\", fmt='g')\n",
    "print(\"Training CM for BOW\")\n",
    "# labels, title and ticks\n",
    "ax.set_xlabel('Predicted labels')\n",
    "ax.set_ylabel('True labels')\n",
    "ax.set_title('Confusion Matrix')"
   ]
  },
  {
   "cell_type": "code",
   "execution_count": 86,
   "metadata": {
    "ExecuteTime": {
     "end_time": "2019-12-13T19:20:47.204577Z",
     "start_time": "2019-12-13T19:20:46.869851Z"
    }
   },
   "outputs": [
    {
     "name": "stdout",
     "output_type": "stream",
     "text": [
      "==================================================\n",
      "Testing CM for tfidf\n",
      "[[ 2972  1991]\n",
      " [ 7833 19979]]\n"
     ]
    },
    {
     "data": {
      "text/plain": [
       "Text(0.5,1,'Confusion Matrix')"
      ]
     },
     "execution_count": 86,
     "metadata": {},
     "output_type": "execute_result"
    },
    {
     "data": {
      "image/png": "[encoded data removed]",
      "text/plain": [
       "<matplotlib.figure.Figure at 0x22fa0840358>"
      ]
     },
     "metadata": {},
     "output_type": "display_data"
    }
   ],
   "source": [
    "print(\"=\"*50)\n",
    "print(\"Testing CM for tfidf\")\n",
    "ax= plt.subplot()\n",
    "# Make confusion matrix for y_test vs predicted(X_test_bow)\n",
    "cm = confusion_matrix(y_test, pred_tfidf_w2v_test)\n",
    "print(cm) \n",
    "\n",
    "sns.heatmap(cm, annot=True, ax = ax,cmap=\"summer\",fmt='g')\n",
    "# labels, title and ticks\n",
    "ax.set_xlabel('Predicted labels')\n",
    "ax.set_ylabel('True labels')\n",
    "ax.set_title('Confusion Matrix')"
   ]
  },
  {
   "cell_type": "markdown",
   "metadata": {
    "colab_type": "text",
    "id": "G60n-gK8Cyp7"
   },
   "source": [
    "<h2>Applying Logistic Regression on Non Text Data </h2>"
   ]
  },
  {
   "cell_type": "code",
   "execution_count": 87,
   "metadata": {
    "ExecuteTime": {
     "end_time": "2019-12-13T19:21:09.391662Z",
     "start_time": "2019-12-13T19:20:47.212574Z"
    }
   },
   "outputs": [
    {
     "name": "stderr",
     "output_type": "stream",
     "text": [
      "100%|████████████████████████████████████████████████████████████████████████████████████| 8/8 [00:22<00:00,  2.76s/it]\n"
     ]
    },
    {
     "name": "stdout",
     "output_type": "stream",
     "text": [
      "{0.0001: 0.58072467266597183, 0.001: 0.58162689574932702, 0.01: 0.58346224452414652, 0.1: 0.58323950917077028, 1: 0.58972518295822596, 10: 0.60896465883106643, 100: 0.61624303626730093, 1000: 0.61712148356412999}\n",
      "{0.0001: 0.58702980351364542, 0.001: 0.59226767056225804, 0.01: 0.59646306282566308, 0.1: 0.59755855819959569, 1: 0.60279398349270064, 10: 0.6188016762991071, 100: 0.62657291765039669, 1000: 0.62761228795668877}\n"
     ]
    }
   ],
   "source": [
    "\n",
    "roc_auc_score_cv_no_text_dict={}\n",
    "roc_auc_score_train_no_text_dict={}\n",
    "\n",
    "cValues = [.0001,.001, .01, .1, 1, 10, 100, 1000]\n",
    "\n",
    "for i in tqdm(cValues):\n",
    "    lr = LogisticRegression(penalty='l2',C= i,class_weight='balanced')\n",
    "\n",
    "     # fitting the model on crossvalidation train\n",
    "    lr.fit(X_train_no_text, y_train)\n",
    "\n",
    "    # predict the response on the crossvalidation train\n",
    "    pred_no_text_cv = lr.predict_proba(X_cv_no_text)\n",
    "    \n",
    "    #evaluate CV roc_auc\n",
    "    roc_auc_cv =roc_auc_score(y_cv,pred_no_text_cv[:,1])\n",
    "    \n",
    "    #insert into dict\n",
    "    roc_auc_score_cv_no_text_dict[i]=roc_auc_cv\n",
    "    \n",
    "    # predict the response on the train\n",
    "    pred_no_text_train = lr.predict_proba(X_train_no_text)\n",
    "    \n",
    "    #evaluate train roc_auc\n",
    "    roc_auc_train =roc_auc_score(y_train,pred_no_text_train[:,1])\n",
    "    \n",
    "    #insert into dict\n",
    "    roc_auc_score_train_no_text_dict[i]=roc_auc_train\n",
    "    \n",
    "    \n",
    "    \n",
    "print(roc_auc_score_cv_no_text_dict)\n",
    "print(roc_auc_score_train_no_text_dict)\n"
   ]
  },
  {
   "cell_type": "code",
   "execution_count": 88,
   "metadata": {
    "ExecuteTime": {
     "end_time": "2019-12-13T19:21:09.656550Z",
     "start_time": "2019-12-13T19:21:09.391662Z"
    }
   },
   "outputs": [
    {
     "data": {
      "image/png": "[encoded data removed]",
      "text/plain": [
       "<matplotlib.figure.Figure at 0x22fa088f6a0>"
      ]
     },
     "metadata": {},
     "output_type": "display_data"
    }
   ],
   "source": [
    "#https://stackoverflow.com/questions/37266341/plotting-a-python-dict-in-order-of-key-values/37266356\n",
    "\n",
    "lists1 = sorted(roc_auc_score_cv_no_text_dict.items())\n",
    "x1, y1 = zip(*lists1) # unpack a list of pairs into two tuples\n",
    "lists2 = sorted(roc_auc_score_train_no_text_dict.items())\n",
    "x2, y2 = zip(*lists2) # unpack a list of pairs into two tuples\n",
    "\n",
    "x1=[math.log10(i) for i in list(x1)]\n",
    "x2=[math.log10(i) for i in list(x2)]\n",
    "\n",
    "plt.xlabel('C')\n",
    "plt.ylabel('roc_auc_score')\n",
    "plt.title('Hyper parameter tuning')\n",
    "plt.plot(x1, y1,label=\"CV\")\n",
    "plt.plot(x2, y2,label='Train')\n",
    "plt.legend()\n",
    "plt.grid()\n",
    "plt.show()"
   ]
  },
  {
   "cell_type": "code",
   "execution_count": 89,
   "metadata": {
    "ExecuteTime": {
     "end_time": "2019-12-13T19:21:09.714425Z",
     "start_time": "2019-12-13T19:21:09.664547Z"
    }
   },
   "outputs": [
    {
     "name": "stdout",
     "output_type": "stream",
     "text": [
      "Dictionary Contents-->\n",
      " {0.0001: 0.58072467266597183, 0.001: 0.58162689574932702, 0.01: 0.58346224452414652, 0.1: 0.58323950917077028, 1: 0.58972518295822596, 10: 0.60896465883106643, 100: 0.61624303626730093, 1000: 0.61712148356412999}\n",
      "==================================================\n",
      "Keys in the list are-->\n",
      " [0.0001, 0.001, 0.01, 0.1, 1, 10, 100, 1000]\n",
      "==================================================\n",
      "Values in the list are-->\n",
      " [0.58072467266597183, 0.58162689574932702, 0.58346224452414652, 0.58323950917077028, 0.58972518295822596, 0.60896465883106643, 0.61624303626730093, 0.61712148356412999]\n",
      "==================================================\n",
      "Maximum k is 1000 \n",
      "==================================================\n",
      "1000\n"
     ]
    }
   ],
   "source": [
    "print(find_highest_hyperparam(roc_auc_score_cv_no_text_dict))"
   ]
  },
  {
   "cell_type": "code",
   "execution_count": 90,
   "metadata": {
    "ExecuteTime": {
     "end_time": "2019-12-13T19:21:20.052001Z",
     "start_time": "2019-12-13T19:21:09.718420Z"
    }
   },
   "outputs": [
    {
     "name": "stdout",
     "output_type": "stream",
     "text": [
      "Dictionary Contents-->\n",
      " {0.0001: 0.58072467266597183, 0.001: 0.58162689574932702, 0.01: 0.58346224452414652, 0.1: 0.58323950917077028, 1: 0.58972518295822596, 10: 0.60896465883106643, 100: 0.61624303626730093, 1000: 0.61712148356412999}\n",
      "==================================================\n",
      "Keys in the list are-->\n",
      " [0.0001, 0.001, 0.01, 0.1, 1, 10, 100, 1000]\n",
      "==================================================\n",
      "Values in the list are-->\n",
      " [0.58072467266597183, 0.58162689574932702, 0.58346224452414652, 0.58323950917077028, 0.58972518295822596, 0.60896465883106643, 0.61624303626730093, 0.61712148356412999]\n",
      "==================================================\n",
      "Maximum k is 1000 \n",
      "==================================================\n",
      "Dictionary Contents-->\n",
      " {0.0001: 0.58072467266597183, 0.001: 0.58162689574932702, 0.01: 0.58346224452414652, 0.1: 0.58323950917077028, 1: 0.58972518295822596, 10: 0.60896465883106643, 100: 0.61624303626730093, 1000: 0.61712148356412999}\n",
      "==================================================\n",
      "Keys in the list are-->\n",
      " [0.0001, 0.001, 0.01, 0.1, 1, 10, 100, 1000]\n",
      "==================================================\n",
      "Values in the list are-->\n",
      " [0.58072467266597183, 0.58162689574932702, 0.58346224452414652, 0.58323950917077028, 0.58972518295822596, 0.60896465883106643, 0.61624303626730093, 0.61712148356412999]\n",
      "==================================================\n",
      "Maximum k is 1000 \n",
      "==================================================\n"
     ]
    },
    {
     "data": {
      "image/png": "[encoded data removed]",
      "text/plain": [
       "<matplotlib.figure.Figure at 0x22fa08ba550>"
      ]
     },
     "metadata": {},
     "output_type": "display_data"
    }
   ],
   "source": [
    "# train model on the best k\n",
    "lr = LogisticRegression(penalty='l2', C= find_highest_hyperparam(roc_auc_score_cv_no_text_dict),class_weight='balanced')\n",
    "# fitting the model on crossvalidation train\n",
    "\n",
    "lr.fit(X_train_no_text, y_train)\n",
    "\n",
    "pred_no_text_test = lr.predict(X_test_no_text) # **we will use it in confusion matrix\n",
    "pred_no_text_train = lr.predict(X_train_no_text) # **we will use it in confusion matrix\n",
    "\n",
    "#https://stackoverflow.com/questions/52910061/implementing-roc-curves-for-k-nn-machine-learning-algorithm-using-python-and-scip_scores = knn.predict_proba(X_test)\n",
    "pred_no_text_test_scores=lr.predict_proba(X_test_no_text)\n",
    "pred_no_text_train_scores=lr.predict_proba(X_train_no_text)\n",
    "\n",
    "fpr_test, tpr_test, threshold_test = roc_curve(y_test, pred_no_text_test_scores[:,1])\n",
    "fpr_train, tpr_train, threshold_train = roc_curve(y_train, pred_no_text_train_scores[:,1])\n",
    "roc_auc_test = auc(fpr_test, tpr_test)\n",
    "roc_auc_train = auc(fpr_train, tpr_train)\n",
    "\n",
    "#save ALPHA & roc_auc_test score (AUC of fpr_test and tpr_test) for final summary\n",
    "summary.append(['No_Text',find_highest_hyperparam(roc_auc_score_cv_no_text_dict),roc_auc_test])\n",
    "\n",
    "plt.title('Receiver Operating Characteristic')\n",
    "plt.plot(fpr_test, tpr_test, 'r', label = 'AUC_test = %0.2f' % roc_auc_test)\n",
    "plt.plot(fpr_train, tpr_train, 'b', label = 'AUC_train = %0.2f' % roc_auc_train)\n",
    "plt.legend(loc = 'lower right')\n",
    "plt.plot([0, 1], [0, 1],'g--')\n",
    "plt.xlim([0, 1])\n",
    "plt.ylim([0, 1])\n",
    "plt.ylabel('True Positive Rate')\n",
    "plt.xlabel('False Positive Rate')\n",
    "\n",
    "plt.title('ROC Curve of no_text')\n",
    "plt.show()\n"
   ]
  },
  {
   "cell_type": "code",
   "execution_count": 91,
   "metadata": {
    "ExecuteTime": {
     "end_time": "2019-12-13T19:21:20.412606Z",
     "start_time": "2019-12-13T19:21:20.052001Z"
    }
   },
   "outputs": [
    {
     "name": "stdout",
     "output_type": "stream",
     "text": [
      "[[ 4687  3418]\n",
      " [18146 27280]]\n",
      "Training CM for NO_TEXT\n"
     ]
    },
    {
     "data": {
      "text/plain": [
       "Text(0.5,1,'Confusion Matrix')"
      ]
     },
     "execution_count": 91,
     "metadata": {},
     "output_type": "execute_result"
    },
    {
     "data": {
      "image/png": "[encoded data removed]",
      "text/plain": [
       "<matplotlib.figure.Figure at 0x22fa08a0358>"
      ]
     },
     "metadata": {},
     "output_type": "display_data"
    }
   ],
   "source": [
    "#https://stackoverflow.com/questions/35572000/how-can-i-plot-a-confusion-matrix\n",
    "import seaborn as sns\n",
    "import matplotlib.pyplot as plt\n",
    "ax= plt.subplot()\n",
    "# Make confusion matrix for y_train vs predicted(X_train_bow)\n",
    "cm = confusion_matrix(y_train, pred_no_text_train)\n",
    "print(cm) \n",
    "\n",
    "sns.heatmap(cm, annot=True, ax = ax,cmap=\"summer\", fmt='g')\n",
    "print(\"Training CM for NO_TEXT\")\n",
    "# labels, title and ticks\n",
    "ax.set_xlabel('Predicted labels')\n",
    "ax.set_ylabel('True labels')\n",
    "ax.set_title('Confusion Matrix')\n",
    "\n",
    "\n"
   ]
  },
  {
   "cell_type": "code",
   "execution_count": 92,
   "metadata": {
    "ExecuteTime": {
     "end_time": "2019-12-13T19:21:20.749198Z",
     "start_time": "2019-12-13T19:21:20.416605Z"
    }
   },
   "outputs": [
    {
     "name": "stdout",
     "output_type": "stream",
     "text": [
      "==================================================\n",
      "Testing CM for NO_TEXT\n",
      "[[ 3187  1776]\n",
      " [13074 14738]]\n"
     ]
    },
    {
     "data": {
      "text/plain": [
       "Text(0.5,1,'Confusion Matrix')"
      ]
     },
     "execution_count": 92,
     "metadata": {},
     "output_type": "execute_result"
    },
    {
     "data": {
      "image/png": "[encoded data removed]",
      "text/plain": [
       "<matplotlib.figure.Figure at 0x23021bf3080>"
      ]
     },
     "metadata": {},
     "output_type": "display_data"
    }
   ],
   "source": [
    "print(\"=\"*50)\n",
    "print(\"Testing CM for NO_TEXT\")\n",
    "ax= plt.subplot()\n",
    "# Make confusion matrix for y_test vs predicted(X_test_bow)\n",
    "cm = confusion_matrix(y_test, pred_no_text_test)\n",
    "print(cm) \n",
    "\n",
    "sns.heatmap(cm, annot=True, ax = ax,cmap=\"summer\",fmt='g')\n",
    "# labels, title and ticks\n",
    "ax.set_xlabel('Predicted labels')\n",
    "ax.set_ylabel('True labels')\n",
    "ax.set_title('Confusion Matrix')"
   ]
  },
  {
   "cell_type": "markdown",
   "metadata": {
    "colab_type": "text",
    "id": "bemispVtCyp-"
   },
   "source": [
    "<h2>Conclusions</h2>"
   ]
  },
  {
   "cell_type": "code",
   "execution_count": 93,
   "metadata": {
    "ExecuteTime": {
     "end_time": "2019-12-13T19:21:21.582279Z",
     "start_time": "2019-12-13T19:21:20.749198Z"
    },
    "colab": {},
    "colab_type": "code",
    "id": "zRO-VPG2Cyp_"
   },
   "outputs": [
    {
     "name": "stdout",
     "output_type": "stream",
     "text": [
      "+------------+-----------------+----------------+\n",
      "| Vectorizer | Hyper parameter |      AUC       |\n",
      "+------------+-----------------+----------------+\n",
      "|    BOW     |      0.001      | 0.713624228611 |\n",
      "|   TFIDF    |       0.1       | 0.713494033179 |\n",
      "|    W2V     |       1000      | 0.717755656927 |\n",
      "| TFIDF_W2V  |       1000      | 0.710858378029 |\n",
      "|  No_Text   |       1000      | 0.619591557418 |\n",
      "+------------+-----------------+----------------+\n"
     ]
    }
   ],
   "source": [
    "# Please compare all your models using Prettytable library\n",
    "from prettytable import PrettyTable\n",
    "\n",
    "x = PrettyTable()\n",
    "x.field_names = [\"Vectorizer\", \"Hyper parameter\", \"AUC\"]\n",
    "\n",
    "for each in summary:\n",
    "    x.add_row(each)\n",
    "\n",
    "print(x)"
   ]
  }
 ],
 "metadata": {
  "colab": {
   "collapsed_sections": [
    "0d0QeeQ-CyoD",
    "5YnkzKnmCyoN",
    "W544CoFtCyoN",
    "gK_SHRpTCyol",
    "YHwGesZUCyo1",
    "_s3QN_ZNCypD",
    "B1dIm8PiCypw",
    "s85gPOAbCyp1",
    "oq3NW2CbCyp3",
    "TJLjbsNYCyp5"
   ],
   "name": "3_DonorsChoose_KNN.ipynb",
   "provenance": [],
   "version": "0.3.2"
  },
  "kernelspec": {
   "display_name": "Python 3",
   "language": "python",
   "name": "python3"
  },
  "language_info": {
   "codemirror_mode": {
    "name": "ipython",
    "version": 3
   },
   "file_extension": ".py",
   "mimetype": "text/x-python",
   "name": "python",
   "nbconvert_exporter": "python",
   "pygments_lexer": "ipython3",
   "version": "3.6.3"
  },
  "notify_time": "30",
  "toc": {
   "base_numbering": 1,
   "nav_menu": {},
   "number_sections": true,
   "sideBar": true,
   "skip_h1_title": true,
   "title_cell": "Table of Contents",
   "title_sidebar": "Contents",
   "toc_cell": true,
   "toc_position": {
    "height": "calc(100% - 180px)",
    "left": "10px",
    "top": "150px",
    "width": "587px"
   },
   "toc_section_display": true,
   "toc_window_display": true
  },
  "varInspector": {
   "cols": {
    "lenName": 16,
    "lenType": 16,
    "lenVar": 40
   },
   "kernels_config": {
    "python": {
     "delete_cmd_postfix": "",
     "delete_cmd_prefix": "del ",
     "library": "var_list.py",
     "varRefreshCmd": "print(var_dic_list())"
    },
    "r": {
     "delete_cmd_postfix": ") ",
     "delete_cmd_prefix": "rm(",
     "library": "var_list.r",
     "varRefreshCmd": "cat(var_dic_list()) "
    }
   },
   "types_to_exclude": [
    "module",
    "function",
    "builtin_function_or_method",
    "instance",
    "_Feature"
   ],
   "window_display": false
  }
 },
 "nbformat": 4,
 "nbformat_minor": 1
}
