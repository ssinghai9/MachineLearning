{
 "cells": [
  {
   "cell_type": "markdown",
   "metadata": {
    "toc": true
   },
   "source": [
    "<h1>Table of Contents<span class=\"tocSkip\"></span></h1>\n",
    "<div class=\"toc\"><ul class=\"toc-item\"><li><span><a href=\"#Author-:-SAURABH-SINGHAI\" data-toc-modified-id=\"Author-:-SAURABH-SINGHAI-1\"><span class=\"toc-item-num\">1&nbsp;&nbsp;</span>Author : SAURABH SINGHAI</a></span></li><li><span><a href=\"#About-the-DonorsChoose-Data-Set\" data-toc-modified-id=\"About-the-DonorsChoose-Data-Set-2\"><span class=\"toc-item-num\">2&nbsp;&nbsp;</span>About the DonorsChoose Data Set</a></span><ul class=\"toc-item\"><li><span><a href=\"#Notes-on-the-Essay-Data\" data-toc-modified-id=\"Notes-on-the-Essay-Data-2.1\"><span class=\"toc-item-num\">2.1&nbsp;&nbsp;</span>Notes on the Essay Data</a></span></li></ul></li><li><span><a href=\"#Import-Libraries\" data-toc-modified-id=\"Import-Libraries-3\"><span class=\"toc-item-num\">3&nbsp;&nbsp;</span>Import Libraries</a></span></li><li><span><a href=\"#Reading-Data\" data-toc-modified-id=\"Reading-Data-4\"><span class=\"toc-item-num\">4&nbsp;&nbsp;</span>Reading Data</a></span></li><li><span><a href=\"#Approved-And-Non-Approved-Projects\" data-toc-modified-id=\"Approved-And-Non-Approved-Projects-5\"><span class=\"toc-item-num\">5&nbsp;&nbsp;</span>Approved And Non Approved Projects</a></span></li><li><span><a href=\"#Project-Dataframe-shape-and-Column-Values\" data-toc-modified-id=\"Project-Dataframe-shape-and-Column-Values-6\"><span class=\"toc-item-num\">6&nbsp;&nbsp;</span>Project Dataframe shape and Column Values</a></span></li><li><span><a href=\"#Preprocessing-of-project_subject_categories\" data-toc-modified-id=\"Preprocessing-of-project_subject_categories-7\"><span class=\"toc-item-num\">7&nbsp;&nbsp;</span>Preprocessing of <code>project_subject_categories</code></a></span></li><li><span><a href=\"#Preprocessing-of-project_subject_subcategories\" data-toc-modified-id=\"Preprocessing-of-project_subject_subcategories-8\"><span class=\"toc-item-num\">8&nbsp;&nbsp;</span>Preprocessing of <code>project_subject_subcategories</code></a></span></li><li><span><a href=\"#Preprocessing-of--project_grade_category\" data-toc-modified-id=\"Preprocessing-of--project_grade_category-9\"><span class=\"toc-item-num\">9&nbsp;&nbsp;</span>Preprocessing of  <code>project_grade_category</code></a></span></li><li><span><a href=\"#Create-new-column-'Essay'-by-merging-all-project-Essays\" data-toc-modified-id=\"Create-new-column-'Essay'-by-merging-all-project-Essays-10\"><span class=\"toc-item-num\">10&nbsp;&nbsp;</span>Create new column 'Essay' by merging all project Essays</a></span></li><li><span><a href=\"#Use-Decontraction-function-to-decontract-project-essay\" data-toc-modified-id=\"Use-Decontraction-function-to-decontract-project-essay-11\"><span class=\"toc-item-num\">11&nbsp;&nbsp;</span>Use Decontraction function to decontract project essay</a></span></li><li><span><a href=\"#Remove-line-breaks\" data-toc-modified-id=\"Remove-line-breaks-12\"><span class=\"toc-item-num\">12&nbsp;&nbsp;</span>Remove line breaks</a></span></li><li><span><a href=\"#Remove-Special-Chars\" data-toc-modified-id=\"Remove-Special-Chars-13\"><span class=\"toc-item-num\">13&nbsp;&nbsp;</span>Remove Special Chars</a></span></li><li><span><a href=\"#Remove-Stopwards--and-Join-the-essays\" data-toc-modified-id=\"Remove-Stopwards--and-Join-the-essays-14\"><span class=\"toc-item-num\">14&nbsp;&nbsp;</span>Remove Stopwards  and Join the essays</a></span></li><li><span><a href=\"#Remove-Stopwards--and-Join-the-essays\" data-toc-modified-id=\"Remove-Stopwards--and-Join-the-essays-15\"><span class=\"toc-item-num\">15&nbsp;&nbsp;</span>Remove Stopwards  and Join the essays</a></span></li><li><span><a href=\"#-Preprocessing-of-project_title\" data-toc-modified-id=\"-Preprocessing-of-project_title-16\"><span class=\"toc-item-num\">16&nbsp;&nbsp;</span> Preprocessing of <code>project_title</code></a></span></li><li><span><a href=\"#Drop-column-project_title-and-use-Cleaned_Title\" data-toc-modified-id=\"Drop-column-project_title-and-use-Cleaned_Title-17\"><span class=\"toc-item-num\">17&nbsp;&nbsp;</span>Drop column project_title and use Cleaned_Title</a></span></li><li><span><a href=\"#Add-up-the-price-based-on-project-id\" data-toc-modified-id=\"Add-up-the-price-based-on-project-id-18\"><span class=\"toc-item-num\">18&nbsp;&nbsp;</span>Add up the price based on project id</a></span></li><li><span><a href=\"#Adding-the-word-count-of-essay-and-title-as-new-columns\" data-toc-modified-id=\"Adding-the-word-count-of-essay-and-title-as-new-columns-19\"><span class=\"toc-item-num\">19&nbsp;&nbsp;</span>Adding the word count of essay and title as new columns</a></span></li><li><span><a href=\"#Separate-out-the-Dependant-and-independant-variables\" data-toc-modified-id=\"Separate-out-the-Dependant-and-independant-variables-20\"><span class=\"toc-item-num\">20&nbsp;&nbsp;</span>Separate out the Dependant and independant variables</a></span></li><li><span><a href=\"#Splitting-data-into-Test,Train,CV-with-Startified-Sampling\" data-toc-modified-id=\"Splitting-data-into-Test,Train,CV-with-Startified-Sampling-21\"><span class=\"toc-item-num\">21&nbsp;&nbsp;</span>Splitting data into Test,Train,CV with Startified Sampling</a></span></li><li><span><a href=\"#Vectorize-the-features\" data-toc-modified-id=\"Vectorize-the-features-22\"><span class=\"toc-item-num\">22&nbsp;&nbsp;</span>Vectorize the features</a></span><ul class=\"toc-item\"><li><span><a href=\"#Vectorize-the-Categorical-Features---categories\" data-toc-modified-id=\"Vectorize-the-Categorical-Features---categories-22.1\"><span class=\"toc-item-num\">22.1&nbsp;&nbsp;</span>Vectorize the Categorical Features - categories</a></span></li><li><span><a href=\"#Vectorize-the-Categorical-Features---subcategories\" data-toc-modified-id=\"Vectorize-the-Categorical-Features---subcategories-22.2\"><span class=\"toc-item-num\">22.2&nbsp;&nbsp;</span>Vectorize the Categorical Features - subcategories</a></span></li><li><span><a href=\"#Vectorize-the-Categorical-Features---school-state\" data-toc-modified-id=\"Vectorize-the-Categorical-Features---school-state-22.3\"><span class=\"toc-item-num\">22.3&nbsp;&nbsp;</span>Vectorize the Categorical Features - school state</a></span></li><li><span><a href=\"#Vectorize-the-Categorical-Features---teacher-prefix\" data-toc-modified-id=\"Vectorize-the-Categorical-Features---teacher-prefix-22.4\"><span class=\"toc-item-num\">22.4&nbsp;&nbsp;</span>Vectorize the Categorical Features - teacher prefix</a></span></li><li><span><a href=\"#Vectorize-the-Categorical-Features---project_grade_category\" data-toc-modified-id=\"Vectorize-the-Categorical-Features---project_grade_category-22.5\"><span class=\"toc-item-num\">22.5&nbsp;&nbsp;</span>Vectorize the Categorical Features - project_grade_category</a></span></li><li><span><a href=\"#Vectorize-the-Numerical-Features---price\" data-toc-modified-id=\"Vectorize-the-Numerical-Features---price-22.6\"><span class=\"toc-item-num\">22.6&nbsp;&nbsp;</span>Vectorize the Numerical Features - price</a></span></li><li><span><a href=\"#Vectorize-the-Numerical-Features---quantity\" data-toc-modified-id=\"Vectorize-the-Numerical-Features---quantity-22.7\"><span class=\"toc-item-num\">22.7&nbsp;&nbsp;</span>Vectorize the Numerical Features - quantity</a></span></li><li><span><a href=\"#Vectorize-the-Numerical-Features---essay-count\" data-toc-modified-id=\"Vectorize-the-Numerical-Features---essay-count-22.8\"><span class=\"toc-item-num\">22.8&nbsp;&nbsp;</span>Vectorize the Numerical Features - essay count</a></span></li><li><span><a href=\"#Vectorize-the-Numerical-Features---title-count\" data-toc-modified-id=\"Vectorize-the-Numerical-Features---title-count-22.9\"><span class=\"toc-item-num\">22.9&nbsp;&nbsp;</span>Vectorize the Numerical Features - title count</a></span></li><li><span><a href=\"#Vectorizing-Text-data\" data-toc-modified-id=\"Vectorizing-Text-data-22.10\"><span class=\"toc-item-num\">22.10&nbsp;&nbsp;</span>Vectorizing Text data</a></span><ul class=\"toc-item\"><li><span><a href=\"#Bag-of-word\" data-toc-modified-id=\"Bag-of-word-22.10.1\"><span class=\"toc-item-num\">22.10.1&nbsp;&nbsp;</span>Bag of word</a></span></li><li><span><a href=\"#TFIDF-vectorizer\" data-toc-modified-id=\"TFIDF-vectorizer-22.10.2\"><span class=\"toc-item-num\">22.10.2&nbsp;&nbsp;</span>TFIDF vectorizer</a></span></li></ul></li></ul></li><li><span><a href=\"#Merging-all-the-above-features\" data-toc-modified-id=\"Merging-all-the-above-features-23\"><span class=\"toc-item-num\">23&nbsp;&nbsp;</span>Merging all the above features</a></span></li><li><span><a href=\"#Appling-NB()-on-different-kind-of-featurization-as-mentioned-in-the-instructions\" data-toc-modified-id=\"Appling-NB()-on-different-kind-of-featurization-as-mentioned-in-the-instructions-24\"><span class=\"toc-item-num\">24&nbsp;&nbsp;</span>Appling NB() on different kind of featurization as mentioned in the instructions</a></span><ul class=\"toc-item\"><li><span><a href=\"#Applying-Naive-Bayes-on-BOW,-SET-1\" data-toc-modified-id=\"Applying-Naive-Bayes-on-BOW,-SET-1-24.1\"><span class=\"toc-item-num\">24.1&nbsp;&nbsp;</span>Applying Naive Bayes on BOW,<font color=\"red\"> SET 1</font></a></span><ul class=\"toc-item\"><li><span><a href=\"#Plot-ROC_AUC_score-VS-different-alpha-values-(Train-and-CV-set\" data-toc-modified-id=\"Plot-ROC_AUC_score-VS-different-alpha-values-(Train-and-CV-set-24.1.1\"><span class=\"toc-item-num\">24.1.1&nbsp;&nbsp;</span>Plot ROC_AUC_score VS different alpha values (Train and CV set</a></span></li><li><span><a href=\"#Find-the-best-alpha-value-from-the-result\" data-toc-modified-id=\"Find-the-best-alpha-value-from-the-result-24.1.2\"><span class=\"toc-item-num\">24.1.2&nbsp;&nbsp;</span>Find the best alpha value from the result</a></span></li><li><span><a href=\"#Train-the-model-on-the-optimal-alpha-value-and-run-the-Test-Dataset\" data-toc-modified-id=\"Train-the-model-on-the-optimal-alpha-value-and-run-the-Test-Dataset-24.1.3\"><span class=\"toc-item-num\">24.1.3&nbsp;&nbsp;</span>Train the model on the optimal alpha value and run the Test Dataset</a></span></li><li><span><a href=\"#Get-the-confusion-matrix-for-the-BOW---NB|\" data-toc-modified-id=\"Get-the-confusion-matrix-for-the-BOW---NB|-24.1.4\"><span class=\"toc-item-num\">24.1.4&nbsp;&nbsp;</span>Get the confusion matrix for the BOW - NB|</a></span></li><li><span><a href=\"#Top-10-important-features-of-negative-and-positive-class-from-SET-1\" data-toc-modified-id=\"Top-10-important-features-of-negative-and-positive-class-from-SET-1-24.1.5\"><span class=\"toc-item-num\">24.1.5&nbsp;&nbsp;</span>Top 10 important features of negative and positive class from<font color=\"red\"> SET 1</font></a></span></li></ul></li><li><span><a href=\"#Applying-Naive-Bayes-on-TFIDF,-SET-2\" data-toc-modified-id=\"Applying-Naive-Bayes-on-TFIDF,-SET-2-24.2\"><span class=\"toc-item-num\">24.2&nbsp;&nbsp;</span>Applying Naive Bayes on TFIDF,<font color=\"red\"> SET 2</font></a></span><ul class=\"toc-item\"><li><span><a href=\"#Plot-ROC_AUC_score-VS-different-Alpha-values-(Train-and-CV-set)\" data-toc-modified-id=\"Plot-ROC_AUC_score-VS-different-Alpha-values-(Train-and-CV-set)-24.2.1\"><span class=\"toc-item-num\">24.2.1&nbsp;&nbsp;</span>Plot ROC_AUC_score VS different Alpha values (Train and CV set)</a></span></li><li><span><a href=\"#Find-the-best-alpha-value-from-the-result\" data-toc-modified-id=\"Find-the-best-alpha-value-from-the-result-24.2.2\"><span class=\"toc-item-num\">24.2.2&nbsp;&nbsp;</span>Find the best alpha value from the result</a></span></li><li><span><a href=\"#Train-the-model-on-the-optimal-alpha-value-and-run-the-Test-Dataset\" data-toc-modified-id=\"Train-the-model-on-the-optimal-alpha-value-and-run-the-Test-Dataset-24.2.3\"><span class=\"toc-item-num\">24.2.3&nbsp;&nbsp;</span>Train the model on the optimal alpha value and run the Test Dataset</a></span></li><li><span><a href=\"#Get-the-confusion-matrix-for-the-TFIDF---NB\" data-toc-modified-id=\"Get-the-confusion-matrix-for-the-TFIDF---NB-24.2.4\"><span class=\"toc-item-num\">24.2.4&nbsp;&nbsp;</span>Get the confusion matrix for the TFIDF - NB</a></span></li><li><span><a href=\"#Top-10-important-features-of-positive-and-negative-class-from-SET-2\" data-toc-modified-id=\"Top-10-important-features-of-positive-and-negative-class-from-SET-2-24.2.5\"><span class=\"toc-item-num\">24.2.5&nbsp;&nbsp;</span>Top 10 important features of positive and negative class from<font color=\"red\"> SET 2</font></a></span></li></ul></li></ul></li><li><span><a href=\"#Conclusions\" data-toc-modified-id=\"Conclusions-25\"><span class=\"toc-item-num\">25&nbsp;&nbsp;</span>Conclusions</a></span></li></ul></div>"
   ]
  },
  {
   "cell_type": "markdown",
   "metadata": {},
   "source": [
    "## Author : SAURABH SINGHAI"
   ]
  },
  {
   "cell_type": "markdown",
   "metadata": {
    "colab_type": "text",
    "id": "7Od5bBp9N1Lg"
   },
   "source": [
    "# DonorsChoose"
   ]
  },
  {
   "cell_type": "markdown",
   "metadata": {
    "colab_type": "text",
    "id": "5u7wpFZwN1Lh"
   },
   "source": [
    "<p>\n",
    "DonorsChoose.org receives hundreds of thousands of project proposals each year for classroom projects in need of funding. Right now, a large number of volunteers is needed to manually screen each submission before it's approved to be posted on the DonorsChoose.org website.\n",
    "</p>\n",
    "<p>\n",
    "    Next year, DonorsChoose.org expects to receive close to 500,000 project proposals. As a result, there are three main problems they need to solve:\n",
    "<ul>\n",
    "<li>\n",
    "    How to scale current manual processes and resources to screen 500,000 projects so that they can be posted as quickly and as efficiently as possible</li>\n",
    "    <li>How to increase the consistency of project vetting across different volunteers to improve the experience for teachers</li>\n",
    "    <li>How to focus volunteer time on the applications that need the most assistance</li>\n",
    "    </ul>\n",
    "</p>    \n",
    "<p>\n",
    "The goal of the competition is to predict whether or not a DonorsChoose.org project proposal submitted by a teacher will be approved, using the text of project descriptions as well as additional metadata about the project, teacher, and school. DonorsChoose.org can then use this information to identify projects most likely to need further review before approval.\n",
    "</p>"
   ]
  },
  {
   "cell_type": "markdown",
   "metadata": {
    "colab_type": "text",
    "id": "keOckW8PN1Li"
   },
   "source": [
    "## About the DonorsChoose Data Set\n",
    "\n",
    "The `train.csv` data set provided by DonorsChoose contains the following features:\n",
    "\n",
    "Feature | Description \n",
    "----------|---------------\n",
    "**`project_id`** | A unique identifier for the proposed project. **Example:** `p036502`   \n",
    "**`project_title`**    | Title of the project. **Examples:**<br><ul><li><code>Art Will Make You Happy!</code></li><li><code>First Grade Fun</code></li></ul> \n",
    "**`project_grade_category`** | Grade level of students for which the project is targeted. One of the following enumerated values: <br/><ul><li><code>Grades PreK-2</code></li><li><code>Grades 3-5</code></li><li><code>Grades 6-8</code></li><li><code>Grades 9-12</code></li></ul>  \n",
    " **`project_subject_categories`** | One or more (comma-separated) subject categories for the project from the following enumerated list of values:  <br/><ul><li><code>Applied Learning</code></li><li><code>Care &amp; Hunger</code></li><li><code>Health &amp; Sports</code></li><li><code>History &amp; Civics</code></li><li><code>Literacy &amp; Language</code></li><li><code>Math &amp; Science</code></li><li><code>Music &amp; The Arts</code></li><li><code>Special Needs</code></li><li><code>Warmth</code></li></ul><br/> **Examples:** <br/><ul><li><code>Music &amp; The Arts</code></li><li><code>Literacy &amp; Language, Math &amp; Science</code></li>  \n",
    "  **`school_state`** | State where school is located ([Two-letter U.S. postal code](https://en.wikipedia.org/wiki/List_of_U.S._state_abbreviations#Postal_codes)). **Example:** `WY`\n",
    "**`project_subject_subcategories`** | One or more (comma-separated) subject subcategories for the project. **Examples:** <br/><ul><li><code>Literacy</code></li><li><code>Literature &amp; Writing, Social Sciences</code></li></ul> \n",
    "**`project_resource_summary`** | An explanation of the resources needed for the project. **Example:** <br/><ul><li><code>My students need hands on literacy materials to manage sensory needs!</code</li></ul> \n",
    "**`project_essay_1`**    | First application essay<sup>*</sup>  \n",
    "**`project_essay_2`**    | Second application essay<sup>*</sup> \n",
    "**`project_essay_3`**    | Third application essay<sup>*</sup> \n",
    "**`project_essay_4`**    | Fourth application essay<sup>*</sup> \n",
    "**`project_submitted_datetime`** | Datetime when project application was submitted. **Example:** `2016-04-28 12:43:56.245`   \n",
    "**`teacher_id`** | A unique identifier for the teacher of the proposed project. **Example:** `bdf8baa8fedef6bfeec7ae4ff1c15c56`  \n",
    "**`teacher_prefix`** | Teacher's title. One of the following enumerated values: <br/><ul><li><code>nan</code></li><li><code>Dr.</code></li><li><code>Mr.</code></li><li><code>Mrs.</code></li><li><code>Ms.</code></li><li><code>Teacher.</code></li></ul>  \n",
    "**`teacher_number_of_previously_posted_projects`** | Number of project applications previously submitted by the same teacher. **Example:** `2` \n",
    "\n",
    "<sup>*</sup> See the section <b>Notes on the Essay Data</b> for more details about these features.\n",
    "\n",
    "Additionally, the `resources.csv` data set provides more data about the resources required for each project. Each line in this file represents a resource required by a project:\n",
    "\n",
    "Feature | Description \n",
    "----------|---------------\n",
    "**`id`** | A `project_id` value from the `train.csv` file.  **Example:** `p036502`   \n",
    "**`description`** | Desciption of the resource. **Example:** `Tenor Saxophone Reeds, Box of 25`   \n",
    "**`quantity`** | Quantity of the resource required. **Example:** `3`   \n",
    "**`price`** | Price of the resource required. **Example:** `9.95`   \n",
    "\n",
    "**Note:** Many projects require multiple resources. The `id` value corresponds to a `project_id` in train.csv, so you use it as a key to retrieve all resources needed for a project:\n",
    "\n",
    "The data set contains the following label (the value you will attempt to predict):\n",
    "\n",
    "Label | Description\n",
    "----------|---------------\n",
    "`project_is_approved` | A binary flag indicating whether DonorsChoose approved the project. A value of `0` indicates the project was not approved, and a value of `1` indicates the project was approved."
   ]
  },
  {
   "cell_type": "markdown",
   "metadata": {
    "colab_type": "text",
    "id": "uxakXcmGN1Lj"
   },
   "source": [
    "### Notes on the Essay Data\n",
    "\n",
    "<ul>\n",
    "Prior to May 17, 2016, the prompts for the essays were as follows:\n",
    "<li>__project_essay_1:__ \"Introduce us to your classroom\"</li>\n",
    "<li>__project_essay_2:__ \"Tell us more about your students\"</li>\n",
    "<li>__project_essay_3:__ \"Describe how your students will use the materials you're requesting\"</li>\n",
    "<li>__project_essay_3:__ \"Close by sharing why your project will make a difference\"</li>\n",
    "</ul>\n",
    "\n",
    "\n",
    "<ul>\n",
    "Starting on May 17, 2016, the number of essays was reduced from 4 to 2, and the prompts for the first 2 essays were changed to the following:<br>\n",
    "<li>__project_essay_1:__ \"Describe your students: What makes your students special? Specific details about their background, your neighborhood, and your school are all helpful.\"</li>\n",
    "<li>__project_essay_2:__ \"About your project: How will these materials make a difference in your students' learning and improve their school lives?\"</li>\n",
    "<br>For all projects with project_submitted_datetime of 2016-05-17 and later, the values of project_essay_3 and project_essay_4 will be NaN.\n",
    "</ul>\n"
   ]
  },
  {
   "cell_type": "markdown",
   "metadata": {},
   "source": [
    "## Import Libraries"
   ]
  },
  {
   "cell_type": "code",
   "execution_count": 1,
   "metadata": {
    "ExecuteTime": {
     "end_time": "2019-12-03T05:42:32.843258Z",
     "start_time": "2019-12-03T05:42:26.698224Z"
    },
    "colab": {},
    "colab_type": "code",
    "id": "Ac3XhloUN1Ll",
    "outputId": "85b85465-2d9f-4fc0-980a-b36834b07c96"
   },
   "outputs": [
    {
     "name": "stderr",
     "output_type": "stream",
     "text": [
      "IOPub data rate exceeded.\n",
      "The notebook server will temporarily stop sending output\n",
      "to the client in order to avoid crashing it.\n",
      "To change this limit, set the config variable\n",
      "`--NotebookApp.iopub_data_rate_limit`.\n"
     ]
    }
   ],
   "source": [
    "%matplotlib inline\n",
    "import warnings\n",
    "warnings.filterwarnings(\"ignore\")\n",
    "\n",
    "import sqlite3\n",
    "import pandas as pd\n",
    "import numpy as np\n",
    "import nltk\n",
    "import string\n",
    "import matplotlib.pyplot as plt\n",
    "import seaborn as sns\n",
    "from sklearn.feature_extraction.text import TfidfTransformer\n",
    "from sklearn.feature_extraction.text import TfidfVectorizer\n",
    "\n",
    "from sklearn.feature_extraction.text import CountVectorizer\n",
    "from sklearn.metrics import confusion_matrix\n",
    "from sklearn import metrics\n",
    "from sklearn.metrics import roc_curve, auc\n",
    "from nltk.stem.porter import PorterStemmer\n",
    "\n",
    "import re\n",
    "# Tutorial about Python regular expressions: https://pymotw.com/2/re/\n",
    "import string\n",
    "from nltk.corpus import stopwords\n",
    "from nltk.stem import PorterStemmer\n",
    "from nltk.stem.wordnet import WordNetLemmatizer\n",
    "\n",
    "from gensim.models import Word2Vec\n",
    "from gensim.models import KeyedVectors\n",
    "import pickle\n",
    "\n",
    "from tqdm import tqdm\n",
    "import os\n",
    "import shutil, os\n",
    "\n",
    "from plotly import plotly\n",
    "import plotly.offline as offline\n",
    "import plotly.graph_objs as go\n",
    "offline.init_notebook_mode()\n",
    "from collections import Counter"
   ]
  },
  {
   "cell_type": "markdown",
   "metadata": {
    "colab_type": "text",
    "id": "So4PAGWPN1Lv"
   },
   "source": [
    "## Reading Data"
   ]
  },
  {
   "cell_type": "code",
   "execution_count": 2,
   "metadata": {
    "ExecuteTime": {
     "end_time": "2019-12-03T05:42:38.803400Z",
     "start_time": "2019-12-03T05:42:32.846567Z"
    },
    "colab": {},
    "colab_type": "code",
    "id": "kV1VkghZN1Lw"
   },
   "outputs": [],
   "source": [
    "#copy files before starting\n",
    "import shutil, os\n",
    " \n",
    "#shutil.copy('D:\\_AI-ML\\Assignments_DonorsChoose_2018\\train_data.csv', 'C:\\Users\\ssinghai\\Downloads')    \n",
    "\n",
    "#shutil.copy(\"D:\\_AI-ML\\Assignments_DonorsChoose_2018\\resources.csv\", 'C:\\Users\\ssinghai\\Downloads')\n",
    "\n",
    "project_data = pd.read_csv('train_data.csv')\n",
    "resource_data = pd.read_csv('resources.csv')\n",
    "project_data['teacher_prefix']=project_data['teacher_prefix'].fillna(' ')"
   ]
  },
  {
   "cell_type": "markdown",
   "metadata": {},
   "source": [
    "## Approved And Non Approved Projects"
   ]
  },
  {
   "cell_type": "code",
   "execution_count": 3,
   "metadata": {
    "ExecuteTime": {
     "end_time": "2019-12-03T05:42:38.868908Z",
     "start_time": "2019-12-03T05:42:38.803400Z"
    },
    "colab": {},
    "colab_type": "code",
    "id": "2XZKpv2zN1L0",
    "outputId": "8f6e9329-73c0-46a1-dcd3-cfbb1ebae005"
   },
   "outputs": [
    {
     "name": "stdout",
     "output_type": "stream",
     "text": [
      "Number of projects thar are approved for funding  92706 , ( 84.8583040422 %)\n",
      "Number of projects thar are not approved for funding  16542 , ( 15.1416959578 %)\n"
     ]
    }
   ],
   "source": [
    "y_value_counts = project_data['project_is_approved'].value_counts()\n",
    "print(\"Number of projects thar are approved for funding \", y_value_counts[1], \", (\", (y_value_counts[1]/(y_value_counts[1]+y_value_counts[0]))*100,\"%)\")\n",
    "print(\"Number of projects thar are not approved for funding \", y_value_counts[0], \", (\", (y_value_counts[0]/(y_value_counts[1]+y_value_counts[0]))*100,\"%)\")"
   ]
  },
  {
   "cell_type": "markdown",
   "metadata": {},
   "source": [
    "## Project Dataframe shape and Column Values"
   ]
  },
  {
   "cell_type": "code",
   "execution_count": 4,
   "metadata": {
    "ExecuteTime": {
     "end_time": "2019-12-03T05:42:38.941260Z",
     "start_time": "2019-12-03T05:42:38.871905Z"
    },
    "colab": {},
    "colab_type": "code",
    "id": "56EW1wdvN1L5",
    "outputId": "bb0af8a7-834e-42ea-afcb-492b1e14d4df"
   },
   "outputs": [
    {
     "name": "stdout",
     "output_type": "stream",
     "text": [
      "Number of data points in train data (109248, 17)\n",
      "--------------------------------------------------\n",
      "The attributes of data : ['Unnamed: 0' 'id' 'teacher_id' 'teacher_prefix' 'school_state'\n",
      " 'project_submitted_datetime' 'project_grade_category'\n",
      " 'project_subject_categories' 'project_subject_subcategories'\n",
      " 'project_title' 'project_essay_1' 'project_essay_2' 'project_essay_3'\n",
      " 'project_essay_4' 'project_resource_summary'\n",
      " 'teacher_number_of_previously_posted_projects' 'project_is_approved']\n"
     ]
    }
   ],
   "source": [
    "print(\"Number of data points in train data\", project_data.shape)\n",
    "print('-'*50)\n",
    "print(\"The attributes of data :\", project_data.columns.values)"
   ]
  },
  {
   "cell_type": "markdown",
   "metadata": {
    "colab_type": "text",
    "id": "49t2H2HwN1L8"
   },
   "source": [
    "## Preprocessing of `project_subject_categories`"
   ]
  },
  {
   "cell_type": "code",
   "execution_count": 5,
   "metadata": {
    "ExecuteTime": {
     "end_time": "2019-12-03T05:42:39.897670Z",
     "start_time": "2019-12-03T05:42:38.941260Z"
    },
    "colab": {},
    "colab_type": "code",
    "collapsed": true,
    "id": "RMx6975eN1L-"
   },
   "outputs": [],
   "source": [
    "catogories = list(project_data['project_subject_categories'].values)\n",
    "# remove special characters from list of strings python: https://stackoverflow.com/a/47301924/4084039\n",
    "\n",
    "# https://www.geeksforgeeks.org/removing-stop-words-nltk-python/\n",
    "# https://stackoverflow.com/questions/23669024/how-to-strip-a-specific-word-from-a-string\n",
    "# https://stackoverflow.com/questions/8270092/remove-all-whitespace-in-a-string-in-python\n",
    "cat_list = []\n",
    "for i in catogories:\n",
    "    temp = \"\"\n",
    "    # consider we have text like this \"Math & Science, Warmth, Care & Hunger\"\n",
    "    for j in i.split(','): # it will split it in three parts [\"Math & Science\", \"Warmth\", \"Care & Hunger\"]\n",
    "        if 'The' in j.split(): # this will split each of the catogory based on space \"Math & Science\"=> \"Math\",\"&\", \"Science\"\n",
    "            j=j.replace('The','') # if we have the words \"The\" we are going to replace it with ''(i.e removing 'The')\n",
    "        j = j.replace(' ','') # we are placeing all the ' '(space) with ''(empty) ex:\"Math & Science\"=>\"Math&Science\"\n",
    "        temp+=j.strip()+\" \" #\" abc \".strip() will return \"abc\", remove the trailing spaces\n",
    "        temp = temp.replace('&','_') # we are replacing the & value into \n",
    "    cat_list.append(temp.strip())\n",
    "    \n",
    "project_data['clean_categories'] = cat_list\n",
    "project_data.drop(['project_subject_categories'], axis=1, inplace=True)\n",
    "\n",
    "from collections import Counter\n",
    "my_counter = Counter()\n",
    "for word in project_data['clean_categories'].values:\n",
    "    my_counter.update(word.split())\n",
    "\n",
    "cat_dict = dict(my_counter)\n",
    "sorted_cat_dict = dict(sorted(cat_dict.items(), key=lambda kv: kv[1]))\n"
   ]
  },
  {
   "cell_type": "markdown",
   "metadata": {
    "colab_type": "text",
    "id": "hIRe9h-PN1MB"
   },
   "source": [
    "## Preprocessing of `project_subject_subcategories`"
   ]
  },
  {
   "cell_type": "code",
   "execution_count": 6,
   "metadata": {
    "ExecuteTime": {
     "end_time": "2019-12-03T05:42:40.769989Z",
     "start_time": "2019-12-03T05:42:39.897670Z"
    },
    "colab": {},
    "colab_type": "code",
    "collapsed": true,
    "id": "KH655NiTN1MD"
   },
   "outputs": [],
   "source": [
    "sub_catogories = list(project_data['project_subject_subcategories'].values)\n",
    "# remove special characters from list of strings python: https://stackoverflow.com/a/47301924/4084039\n",
    "\n",
    "# https://www.geeksforgeeks.org/removing-stop-words-nltk-python/\n",
    "# https://stackoverflow.com/questions/23669024/how-to-strip-a-specific-word-from-a-string\n",
    "# https://stackoverflow.com/questions/8270092/remove-all-whitespace-in-a-string-in-python\n",
    "\n",
    "sub_cat_list = []\n",
    "for i in sub_catogories:\n",
    "    temp = \"\"\n",
    "    # consider we have text like this \"Math & Science, Warmth, Care & Hunger\"\n",
    "    for j in i.split(','): # it will split it in three parts [\"Math & Science\", \"Warmth\", \"Care & Hunger\"]\n",
    "        if 'The' in j.split(): # this will split each of the catogory based on space \"Math & Science\"=> \"Math\",\"&\", \"Science\"\n",
    "            j=j.replace('The','') # if we have the words \"The\" we are going to replace it with ''(i.e removing 'The')\n",
    "        j = j.replace(' ','') # we are placeing all the ' '(space) with ''(empty) ex:\"Math & Science\"=>\"Math&Science\"\n",
    "        temp +=j.strip()+\" \"#\" abc \".strip() will return \"abc\", remove the trailing spaces\n",
    "        temp = temp.replace('&','_')\n",
    "    sub_cat_list.append(temp.strip())\n",
    "\n",
    "project_data['clean_subcategories'] = sub_cat_list\n",
    "project_data.drop(['project_subject_subcategories'], axis=1, inplace=True)\n",
    "\n",
    "# count of all the words in corpus python: https://stackoverflow.com/a/22898595/4084039\n",
    "my_counter = Counter()\n",
    "for word in project_data['clean_subcategories'].values:\n",
    "    my_counter.update(word.split())\n",
    "    \n",
    "sub_cat_dict = dict(my_counter)\n",
    "sorted_sub_cat_dict = dict(sorted(sub_cat_dict.items(), key=lambda kv: kv[1]))"
   ]
  },
  {
   "cell_type": "markdown",
   "metadata": {},
   "source": [
    "## Preprocessing of  `project_grade_category`"
   ]
  },
  {
   "cell_type": "code",
   "execution_count": 7,
   "metadata": {
    "ExecuteTime": {
     "end_time": "2019-12-03T05:42:40.780261Z",
     "start_time": "2019-12-03T05:42:40.769989Z"
    }
   },
   "outputs": [
    {
     "name": "stdout",
     "output_type": "stream",
     "text": [
      "['Grades PreK-2' 'Grades 6-8' 'Grades 6-8' 'Grades PreK-2' 'Grades PreK-2'\n",
      " 'Grades 3-5' 'Grades 6-8' 'Grades 3-5' 'Grades PreK-2' 'Grades PreK-2']\n"
     ]
    }
   ],
   "source": [
    "print(project_data[\"project_grade_category\"].values[0:10])"
   ]
  },
  {
   "cell_type": "code",
   "execution_count": 8,
   "metadata": {
    "ExecuteTime": {
     "end_time": "2019-12-03T05:42:41.010866Z",
     "start_time": "2019-12-03T05:42:40.783260Z"
    }
   },
   "outputs": [
    {
     "name": "stdout",
     "output_type": "stream",
     "text": [
      "['Grades_PreK_2' 'Grades_6_8' 'Grades_6_8' 'Grades_PreK_2' 'Grades_PreK_2'\n",
      " 'Grades_3_5' 'Grades_6_8' 'Grades_3_5' 'Grades_PreK_2' 'Grades_PreK_2']\n"
     ]
    }
   ],
   "source": [
    "project_data[\"project_grade_category\"] = project_data[\"project_grade_category\"].str.replace(\" \", \"_\")\n",
    "project_data[\"project_grade_category\"] = project_data[\"project_grade_category\"].str.replace(\"-\", \"_\")\n",
    "\n",
    "print(project_data[\"project_grade_category\"].values[0:10])"
   ]
  },
  {
   "cell_type": "markdown",
   "metadata": {
    "colab_type": "text",
    "id": "EftBxw8MN1MG"
   },
   "source": [
    "## Create new column 'Essay' by merging all project Essays"
   ]
  },
  {
   "cell_type": "code",
   "execution_count": 9,
   "metadata": {
    "ExecuteTime": {
     "end_time": "2019-12-03T05:42:41.834135Z",
     "start_time": "2019-12-03T05:42:41.010866Z"
    },
    "colab": {},
    "colab_type": "code",
    "collapsed": true,
    "id": "Ak4yp4twN1MH"
   },
   "outputs": [],
   "source": [
    "# merge two column text dataframe: \n",
    "project_data[\"essay\"] = project_data[\"project_essay_1\"].map(str) +\\\n",
    "                        project_data[\"project_essay_2\"].map(str) + \\\n",
    "                        project_data[\"project_essay_3\"].map(str) + \\\n",
    "                        project_data[\"project_essay_4\"].map(str)"
   ]
  },
  {
   "cell_type": "code",
   "execution_count": 10,
   "metadata": {
    "ExecuteTime": {
     "end_time": "2019-12-03T05:42:41.870880Z",
     "start_time": "2019-12-03T05:42:41.834135Z"
    },
    "colab": {},
    "colab_type": "code",
    "id": "q6ST72vNN1MK",
    "outputId": "4ecd7ed3-86c5-48b9-9f4d-2ba8be3237c3"
   },
   "outputs": [
    {
     "data": {
      "text/html": [
       "<div>\n",
       "<style>\n",
       "    .dataframe thead tr:only-child th {\n",
       "        text-align: right;\n",
       "    }\n",
       "\n",
       "    .dataframe thead th {\n",
       "        text-align: left;\n",
       "    }\n",
       "\n",
       "    .dataframe tbody tr th {\n",
       "        vertical-align: top;\n",
       "    }\n",
       "</style>\n",
       "<table border=\"1\" class=\"dataframe\">\n",
       "  <thead>\n",
       "    <tr style=\"text-align: right;\">\n",
       "      <th></th>\n",
       "      <th>Unnamed: 0</th>\n",
       "      <th>id</th>\n",
       "      <th>teacher_id</th>\n",
       "      <th>teacher_prefix</th>\n",
       "      <th>school_state</th>\n",
       "      <th>project_submitted_datetime</th>\n",
       "      <th>project_grade_category</th>\n",
       "      <th>project_title</th>\n",
       "      <th>project_essay_1</th>\n",
       "      <th>project_essay_2</th>\n",
       "      <th>project_essay_3</th>\n",
       "      <th>project_essay_4</th>\n",
       "      <th>project_resource_summary</th>\n",
       "      <th>teacher_number_of_previously_posted_projects</th>\n",
       "      <th>project_is_approved</th>\n",
       "      <th>clean_categories</th>\n",
       "      <th>clean_subcategories</th>\n",
       "      <th>essay</th>\n",
       "    </tr>\n",
       "  </thead>\n",
       "  <tbody>\n",
       "    <tr>\n",
       "      <th>0</th>\n",
       "      <td>160221</td>\n",
       "      <td>p253737</td>\n",
       "      <td>c90749f5d961ff158d4b4d1e7dc665fc</td>\n",
       "      <td>Mrs.</td>\n",
       "      <td>IN</td>\n",
       "      <td>2016-12-05 13:43:57</td>\n",
       "      <td>Grades_PreK_2</td>\n",
       "      <td>Educational Support for English Learners at Home</td>\n",
       "      <td>My students are English learners that are work...</td>\n",
       "      <td>\\\"The limits of your language are the limits o...</td>\n",
       "      <td>NaN</td>\n",
       "      <td>NaN</td>\n",
       "      <td>My students need opportunities to practice beg...</td>\n",
       "      <td>0</td>\n",
       "      <td>0</td>\n",
       "      <td>Literacy_Language</td>\n",
       "      <td>ESL Literacy</td>\n",
       "      <td>My students are English learners that are work...</td>\n",
       "    </tr>\n",
       "    <tr>\n",
       "      <th>1</th>\n",
       "      <td>140945</td>\n",
       "      <td>p258326</td>\n",
       "      <td>897464ce9ddc600bced1151f324dd63a</td>\n",
       "      <td>Mr.</td>\n",
       "      <td>FL</td>\n",
       "      <td>2016-10-25 09:22:10</td>\n",
       "      <td>Grades_6_8</td>\n",
       "      <td>Wanted: Projector for Hungry Learners</td>\n",
       "      <td>Our students arrive to our school eager to lea...</td>\n",
       "      <td>The projector we need for our school is very c...</td>\n",
       "      <td>NaN</td>\n",
       "      <td>NaN</td>\n",
       "      <td>My students need a projector to help with view...</td>\n",
       "      <td>7</td>\n",
       "      <td>1</td>\n",
       "      <td>History_Civics Health_Sports</td>\n",
       "      <td>Civics_Government TeamSports</td>\n",
       "      <td>Our students arrive to our school eager to lea...</td>\n",
       "    </tr>\n",
       "  </tbody>\n",
       "</table>\n",
       "</div>"
      ],
      "text/plain": [
       "   Unnamed: 0       id                        teacher_id teacher_prefix  \\\n",
       "0      160221  p253737  c90749f5d961ff158d4b4d1e7dc665fc           Mrs.   \n",
       "1      140945  p258326  897464ce9ddc600bced1151f324dd63a            Mr.   \n",
       "\n",
       "  school_state project_submitted_datetime project_grade_category  \\\n",
       "0           IN        2016-12-05 13:43:57          Grades_PreK_2   \n",
       "1           FL        2016-10-25 09:22:10             Grades_6_8   \n",
       "\n",
       "                                      project_title  \\\n",
       "0  Educational Support for English Learners at Home   \n",
       "1             Wanted: Projector for Hungry Learners   \n",
       "\n",
       "                                     project_essay_1  \\\n",
       "0  My students are English learners that are work...   \n",
       "1  Our students arrive to our school eager to lea...   \n",
       "\n",
       "                                     project_essay_2 project_essay_3  \\\n",
       "0  \\\"The limits of your language are the limits o...             NaN   \n",
       "1  The projector we need for our school is very c...             NaN   \n",
       "\n",
       "  project_essay_4                           project_resource_summary  \\\n",
       "0             NaN  My students need opportunities to practice beg...   \n",
       "1             NaN  My students need a projector to help with view...   \n",
       "\n",
       "   teacher_number_of_previously_posted_projects  project_is_approved  \\\n",
       "0                                             0                    0   \n",
       "1                                             7                    1   \n",
       "\n",
       "               clean_categories           clean_subcategories  \\\n",
       "0             Literacy_Language                  ESL Literacy   \n",
       "1  History_Civics Health_Sports  Civics_Government TeamSports   \n",
       "\n",
       "                                               essay  \n",
       "0  My students are English learners that are work...  \n",
       "1  Our students arrive to our school eager to lea...  "
      ]
     },
     "execution_count": 10,
     "metadata": {},
     "output_type": "execute_result"
    }
   ],
   "source": [
    "project_data.head(2)"
   ]
  },
  {
   "cell_type": "code",
   "execution_count": 11,
   "metadata": {
    "ExecuteTime": {
     "end_time": "2019-12-03T05:42:41.975950Z",
     "start_time": "2019-12-03T05:42:41.873879Z"
    },
    "colab": {},
    "colab_type": "code",
    "id": "3e3HbKghN1MS",
    "outputId": "705fc20a-f98d-48f1-bc54-8a333b01c034"
   },
   "outputs": [
    {
     "name": "stdout",
     "output_type": "stream",
     "text": [
      "My students are English learners that are working on English as their second or third languages. We are a melting pot of refugees, immigrants, and native-born Americans bringing the gift of language to our school. \\r\\n\\r\\n We have over 24 languages represented in our English Learner program with students at every level of mastery.  We also have over 40 countries represented with the families within our school.  Each student brings a wealth of knowledge and experiences to us that open our eyes to new cultures, beliefs, and respect.\\\"The limits of your language are the limits of your world.\\\"-Ludwig Wittgenstein  Our English learner's have a strong support system at home that begs for more resources.  Many times our parents are learning to read and speak English along side of their children.  Sometimes this creates barriers for parents to be able to help their child learn phonetics, letter recognition, and other reading skills.\\r\\n\\r\\nBy providing these dvd's and players, students are able to continue their mastery of the English language even if no one at home is able to assist.  All families with students within the Level 1 proficiency status, will be a offered to be a part of this program.  These educational videos will be specially chosen by the English Learner Teacher and will be sent home regularly to watch.  The videos are to help the child develop early reading skills.\\r\\n\\r\\nParents that do not have access to a dvd player will have the opportunity to check out a dvd player to use for the year.  The plan is to use these videos and educational dvd's for the years to come for other EL students.\\r\\nnannan\n"
     ]
    }
   ],
   "source": [
    "# printing some random reviews\n",
    "print(project_data['essay'].values[0])\n"
   ]
  },
  {
   "cell_type": "markdown",
   "metadata": {},
   "source": [
    "## Use Decontraction function to decontract project essay"
   ]
  },
  {
   "cell_type": "code",
   "execution_count": 12,
   "metadata": {
    "ExecuteTime": {
     "end_time": "2019-12-03T05:42:42.066795Z",
     "start_time": "2019-12-03T05:42:41.978948Z"
    },
    "colab": {},
    "colab_type": "code",
    "collapsed": true,
    "id": "1nYsCeFCN1MW"
   },
   "outputs": [],
   "source": [
    "# https://stackoverflow.com/a/47091490/4084039\n",
    "import re\n",
    "\n",
    "def decontracted(phrase):\n",
    "    # specific\n",
    "    phrase = re.sub(r\"won't\", \"will not\", phrase)\n",
    "    phrase = re.sub(r\"can\\'t\", \"can not\", phrase)\n",
    "\n",
    "    # general\n",
    "    phrase = re.sub(r\"n\\'t\", \" not\", phrase)\n",
    "    phrase = re.sub(r\"\\'re\", \" are\", phrase)\n",
    "    phrase = re.sub(r\"\\'s\", \" is\", phrase)\n",
    "    phrase = re.sub(r\"\\'d\", \" would\", phrase)\n",
    "    phrase = re.sub(r\"\\'ll\", \" will\", phrase)\n",
    "    phrase = re.sub(r\"\\'t\", \" not\", phrase)\n",
    "    phrase = re.sub(r\"\\'ve\", \" have\", phrase)\n",
    "    phrase = re.sub(r\"\\'m\", \" am\", phrase)\n",
    "    return phrase"
   ]
  },
  {
   "cell_type": "code",
   "execution_count": 13,
   "metadata": {
    "ExecuteTime": {
     "end_time": "2019-12-03T05:42:42.173576Z",
     "start_time": "2019-12-03T05:42:42.069793Z"
    },
    "colab": {},
    "colab_type": "code",
    "id": "qIr2zr3mN1MZ",
    "outputId": "504b60cc-a606-483d-dfd2-443cc3a1cc76"
   },
   "outputs": [
    {
     "name": "stdout",
     "output_type": "stream",
     "text": [
      "My students are English learners that are working on English as their second or third languages. We are a melting pot of refugees, immigrants, and native-born Americans bringing the gift of language to our school. \\r\\n\\r\\n We have over 24 languages represented in our English Learner program with students at every level of mastery.  We also have over 40 countries represented with the families within our school.  Each student brings a wealth of knowledge and experiences to us that open our eyes to new cultures, beliefs, and respect.\\\"The limits of your language are the limits of your world.\\\"-Ludwig Wittgenstein  Our English learner is have a strong support system at home that begs for more resources.  Many times our parents are learning to read and speak English along side of their children.  Sometimes this creates barriers for parents to be able to help their child learn phonetics, letter recognition, and other reading skills.\\r\\n\\r\\nBy providing these dvd is and players, students are able to continue their mastery of the English language even if no one at home is able to assist.  All families with students within the Level 1 proficiency status, will be a offered to be a part of this program.  These educational videos will be specially chosen by the English Learner Teacher and will be sent home regularly to watch.  The videos are to help the child develop early reading skills.\\r\\n\\r\\nParents that do not have access to a dvd player will have the opportunity to check out a dvd player to use for the year.  The plan is to use these videos and educational dvd is for the years to come for other EL students.\\r\\nnannan\n",
      "==================================================\n"
     ]
    }
   ],
   "source": [
    "sent = decontracted(project_data['essay'].values[0])\n",
    "print(sent)\n",
    "print(\"=\"*50)"
   ]
  },
  {
   "cell_type": "markdown",
   "metadata": {},
   "source": [
    "## Remove line breaks"
   ]
  },
  {
   "cell_type": "code",
   "execution_count": 14,
   "metadata": {
    "ExecuteTime": {
     "end_time": "2019-12-03T05:42:42.275997Z",
     "start_time": "2019-12-03T05:42:42.176575Z"
    },
    "colab": {},
    "colab_type": "code",
    "id": "QybPh11vN1Md",
    "outputId": "2c4c7225-d387-4d5c-b9dc-130a88536392"
   },
   "outputs": [
    {
     "name": "stdout",
     "output_type": "stream",
     "text": [
      "My students are English learners that are working on English as their second or third languages. We are a melting pot of refugees, immigrants, and native-born Americans bringing the gift of language to our school.      We have over 24 languages represented in our English Learner program with students at every level of mastery.  We also have over 40 countries represented with the families within our school.  Each student brings a wealth of knowledge and experiences to us that open our eyes to new cultures, beliefs, and respect. The limits of your language are the limits of your world. -Ludwig Wittgenstein  Our English learner is have a strong support system at home that begs for more resources.  Many times our parents are learning to read and speak English along side of their children.  Sometimes this creates barriers for parents to be able to help their child learn phonetics, letter recognition, and other reading skills.    By providing these dvd is and players, students are able to continue their mastery of the English language even if no one at home is able to assist.  All families with students within the Level 1 proficiency status, will be a offered to be a part of this program.  These educational videos will be specially chosen by the English Learner Teacher and will be sent home regularly to watch.  The videos are to help the child develop early reading skills.    Parents that do not have access to a dvd player will have the opportunity to check out a dvd player to use for the year.  The plan is to use these videos and educational dvd is for the years to come for other EL students.  nannan\n"
     ]
    }
   ],
   "source": [
    "# \\r \\n \\t remove from string python: http://texthandler.com/info/remove-line-breaks-python/\n",
    "sent = sent.replace('\\\\r', ' ')\n",
    "sent = sent.replace('\\\\\"', ' ')\n",
    "sent = sent.replace('\\\\n', ' ')\n",
    "print(sent)"
   ]
  },
  {
   "cell_type": "markdown",
   "metadata": {},
   "source": [
    "## Remove Special Chars"
   ]
  },
  {
   "cell_type": "code",
   "execution_count": 15,
   "metadata": {
    "ExecuteTime": {
     "end_time": "2019-12-03T05:42:42.370153Z",
     "start_time": "2019-12-03T05:42:42.278995Z"
    },
    "colab": {},
    "colab_type": "code",
    "id": "irL9f3wBN1Mj",
    "outputId": "355ba527-c3b1-40dd-de66-1df4094f264f"
   },
   "outputs": [
    {
     "name": "stdout",
     "output_type": "stream",
     "text": [
      "My students are English learners that are working on English as their second or third languages We are a melting pot of refugees immigrants and native born Americans bringing the gift of language to our school We have over 24 languages represented in our English Learner program with students at every level of mastery We also have over 40 countries represented with the families within our school Each student brings a wealth of knowledge and experiences to us that open our eyes to new cultures beliefs and respect The limits of your language are the limits of your world Ludwig Wittgenstein Our English learner is have a strong support system at home that begs for more resources Many times our parents are learning to read and speak English along side of their children Sometimes this creates barriers for parents to be able to help their child learn phonetics letter recognition and other reading skills By providing these dvd is and players students are able to continue their mastery of the English language even if no one at home is able to assist All families with students within the Level 1 proficiency status will be a offered to be a part of this program These educational videos will be specially chosen by the English Learner Teacher and will be sent home regularly to watch The videos are to help the child develop early reading skills Parents that do not have access to a dvd player will have the opportunity to check out a dvd player to use for the year The plan is to use these videos and educational dvd is for the years to come for other EL students nannan\n"
     ]
    }
   ],
   "source": [
    "#remove spacial character: https://stackoverflow.com/a/5843547/4084039\n",
    "sent = re.sub('[^A-Za-z0-9]+', ' ', sent)\n",
    "print(sent)"
   ]
  },
  {
   "cell_type": "markdown",
   "metadata": {},
   "source": [
    "## Remove Stopwards  and Join the essays"
   ]
  },
  {
   "cell_type": "code",
   "execution_count": 16,
   "metadata": {
    "ExecuteTime": {
     "end_time": "2019-12-03T05:42:42.475183Z",
     "start_time": "2019-12-03T05:42:42.374152Z"
    },
    "colab": {},
    "colab_type": "code",
    "collapsed": true,
    "id": "mOBm8phKN1Mp"
   },
   "outputs": [],
   "source": [
    "# https://gist.github.com/sebleier/554280\n",
    "# we are removing the words from the stop words list: 'no', 'nor', 'not'\n",
    "stopwords= ['i', 'me', 'my', 'myself', 'we', 'our', 'ours', 'ourselves', 'you', \"you're\", \"you've\",\\\n",
    "            \"you'll\", \"you'd\", 'your', 'yours', 'yourself', 'yourselves', 'he', 'him', 'his', 'himself', \\\n",
    "            'she', \"she's\", 'her', 'hers', 'herself', 'it', \"it's\", 'its', 'itself', 'they', 'them', 'their',\\\n",
    "            'theirs', 'themselves', 'what', 'which', 'who', 'whom', 'this', 'that', \"that'll\", 'these', 'those', \\\n",
    "            'am', 'is', 'are', 'was', 'were', 'be', 'been', 'being', 'have', 'has', 'had', 'having', 'do', 'does', \\\n",
    "            'did', 'doing', 'a', 'an', 'the', 'and', 'but', 'if', 'or', 'because', 'as', 'until', 'while', 'of', \\\n",
    "            'at', 'by', 'for', 'with', 'about', 'against', 'between', 'into', 'through', 'during', 'before', 'after',\\\n",
    "            'above', 'below', 'to', 'from', 'up', 'down', 'in', 'out', 'on', 'off', 'over', 'under', 'again', 'further',\\\n",
    "            'then', 'once', 'here', 'there', 'when', 'where', 'why', 'how', 'all', 'any', 'both', 'each', 'few', 'more',\\\n",
    "            'most', 'other', 'some', 'such', 'only', 'own', 'same', 'so', 'than', 'too', 'very', \\\n",
    "            's', 't', 'can', 'will', 'just', 'don', \"don't\", 'should', \"should've\", 'now', 'd', 'll', 'm', 'o', 're', \\\n",
    "            've', 'y', 'ain', 'aren', \"aren't\", 'couldn', \"couldn't\", 'didn', \"didn't\", 'doesn', \"doesn't\", 'hadn',\\\n",
    "            \"hadn't\", 'hasn', \"hasn't\", 'haven', \"haven't\", 'isn', \"isn't\", 'ma', 'mightn', \"mightn't\", 'mustn',\\\n",
    "            \"mustn't\", 'needn', \"needn't\", 'shan', \"shan't\", 'shouldn', \"shouldn't\", 'wasn', \"wasn't\", 'weren', \"weren't\", \\\n",
    "            'won', \"won't\", 'wouldn', \"wouldn't\"]"
   ]
  },
  {
   "cell_type": "code",
   "execution_count": 17,
   "metadata": {
    "ExecuteTime": {
     "end_time": "2019-12-03T05:42:42.578783Z",
     "start_time": "2019-12-03T05:42:42.475183Z"
    },
    "colab": {},
    "colab_type": "code",
    "collapsed": true,
    "id": "ttJf1f7ON1Mt",
    "outputId": "6437b980-d16d-4f92-c591-9f751a575ecc"
   },
   "outputs": [],
   "source": [
    "# Combining all the above stundents \n",
    "def Text_cleaner(data):\n",
    "    from tqdm import tqdm\n",
    "    preprocessed_essays = []\n",
    "    # tqdm is for printing the status bar\n",
    "    for sentance in tqdm(data.values):\n",
    "        sent = decontracted(sentance)\n",
    "        sent = sent.replace('\\\\r', ' ')\n",
    "        sent = sent.replace('\\\\\"', ' ')\n",
    "        sent = sent.replace('\\\\n', ' ')\n",
    "        sent = re.sub('[^A-Za-z0-9]+', ' ', sent)\n",
    "        # https://gist.github.com/sebleier/554280\n",
    "        sent = ' '.join(e for e in sent.split() if e.lower() not in stopwords)\n",
    "        preprocessed_essays.append(sent.lower().strip())\n",
    "    return preprocessed_essays"
   ]
  },
  {
   "cell_type": "code",
   "execution_count": 18,
   "metadata": {
    "ExecuteTime": {
     "end_time": "2019-12-03T05:43:59.660092Z",
     "start_time": "2019-12-03T05:42:42.580783Z"
    },
    "colab": {},
    "colab_type": "code",
    "id": "sEdZTzI5N1Mx",
    "outputId": "38cf15fb-c78b-4be1-c442-e785be4809d0"
   },
   "outputs": [
    {
     "name": "stderr",
     "output_type": "stream",
     "text": [
      "100%|████████████████████████████████████████████████████████████████████████| 109248/109248 [01:16<00:00, 1420.12it/s]\n"
     ]
    }
   ],
   "source": [
    "# after preprocesing\n",
    "preprocessed_essays=Text_cleaner(project_data['essay'])"
   ]
  },
  {
   "cell_type": "code",
   "execution_count": 19,
   "metadata": {
    "ExecuteTime": {
     "end_time": "2019-12-03T05:43:59.670850Z",
     "start_time": "2019-12-03T05:43:59.661595Z"
    }
   },
   "outputs": [
    {
     "data": {
      "text/plain": [
       "'students arrive school eager learn polite generous strive best know education succeed life help improve lives school focuses families low incomes tries give student education deserve not much students use materials given best projector need school crucial academic improvement students technology continues grow many resources internet teachers use growth students however school limited resources particularly technology without disadvantage one things could really help classrooms projector projector not crucial instruction also growth students projector show presentations documentaries photos historical land sites math problems much projector make teaching learning easier also targeting different types learners classrooms auditory visual kinesthetic etc nannan'"
      ]
     },
     "execution_count": 19,
     "metadata": {},
     "output_type": "execute_result"
    }
   ],
   "source": [
    "preprocessed_essays[1]"
   ]
  },
  {
   "cell_type": "markdown",
   "metadata": {},
   "source": [
    "## Remove Stopwards  and Join the essays"
   ]
  },
  {
   "cell_type": "code",
   "execution_count": 20,
   "metadata": {
    "ExecuteTime": {
     "end_time": "2019-12-03T05:44:00.269202Z",
     "start_time": "2019-12-03T05:43:59.673849Z"
    }
   },
   "outputs": [
    {
     "data": {
      "text/html": [
       "<div>\n",
       "<style>\n",
       "    .dataframe thead tr:only-child th {\n",
       "        text-align: right;\n",
       "    }\n",
       "\n",
       "    .dataframe thead th {\n",
       "        text-align: left;\n",
       "    }\n",
       "\n",
       "    .dataframe tbody tr th {\n",
       "        vertical-align: top;\n",
       "    }\n",
       "</style>\n",
       "<table border=\"1\" class=\"dataframe\">\n",
       "  <thead>\n",
       "    <tr style=\"text-align: right;\">\n",
       "      <th></th>\n",
       "      <th>Unnamed: 0</th>\n",
       "      <th>id</th>\n",
       "      <th>teacher_id</th>\n",
       "      <th>teacher_prefix</th>\n",
       "      <th>school_state</th>\n",
       "      <th>project_submitted_datetime</th>\n",
       "      <th>project_grade_category</th>\n",
       "      <th>project_title</th>\n",
       "      <th>project_resource_summary</th>\n",
       "      <th>teacher_number_of_previously_posted_projects</th>\n",
       "      <th>project_is_approved</th>\n",
       "      <th>clean_categories</th>\n",
       "      <th>clean_subcategories</th>\n",
       "      <th>essay</th>\n",
       "    </tr>\n",
       "  </thead>\n",
       "  <tbody>\n",
       "    <tr>\n",
       "      <th>0</th>\n",
       "      <td>160221</td>\n",
       "      <td>p253737</td>\n",
       "      <td>c90749f5d961ff158d4b4d1e7dc665fc</td>\n",
       "      <td>Mrs.</td>\n",
       "      <td>IN</td>\n",
       "      <td>2016-12-05 13:43:57</td>\n",
       "      <td>Grades_PreK_2</td>\n",
       "      <td>Educational Support for English Learners at Home</td>\n",
       "      <td>My students need opportunities to practice beg...</td>\n",
       "      <td>0</td>\n",
       "      <td>0</td>\n",
       "      <td>Literacy_Language</td>\n",
       "      <td>ESL Literacy</td>\n",
       "      <td>students english learners working english seco...</td>\n",
       "    </tr>\n",
       "    <tr>\n",
       "      <th>1</th>\n",
       "      <td>140945</td>\n",
       "      <td>p258326</td>\n",
       "      <td>897464ce9ddc600bced1151f324dd63a</td>\n",
       "      <td>Mr.</td>\n",
       "      <td>FL</td>\n",
       "      <td>2016-10-25 09:22:10</td>\n",
       "      <td>Grades_6_8</td>\n",
       "      <td>Wanted: Projector for Hungry Learners</td>\n",
       "      <td>My students need a projector to help with view...</td>\n",
       "      <td>7</td>\n",
       "      <td>1</td>\n",
       "      <td>History_Civics Health_Sports</td>\n",
       "      <td>Civics_Government TeamSports</td>\n",
       "      <td>students arrive school eager learn polite gene...</td>\n",
       "    </tr>\n",
       "    <tr>\n",
       "      <th>2</th>\n",
       "      <td>21895</td>\n",
       "      <td>p182444</td>\n",
       "      <td>3465aaf82da834c0582ebd0ef8040ca0</td>\n",
       "      <td>Ms.</td>\n",
       "      <td>AZ</td>\n",
       "      <td>2016-08-31 12:03:56</td>\n",
       "      <td>Grades_6_8</td>\n",
       "      <td>Soccer Equipment for AWESOME Middle School Stu...</td>\n",
       "      <td>My students need shine guards, athletic socks,...</td>\n",
       "      <td>1</td>\n",
       "      <td>0</td>\n",
       "      <td>Health_Sports</td>\n",
       "      <td>Health_Wellness TeamSports</td>\n",
       "      <td>true champions not always ones win guts mia ha...</td>\n",
       "    </tr>\n",
       "    <tr>\n",
       "      <th>3</th>\n",
       "      <td>45</td>\n",
       "      <td>p246581</td>\n",
       "      <td>f3cb9bffbba169bef1a77b243e620b60</td>\n",
       "      <td>Mrs.</td>\n",
       "      <td>KY</td>\n",
       "      <td>2016-10-06 21:16:17</td>\n",
       "      <td>Grades_PreK_2</td>\n",
       "      <td>Techie Kindergarteners</td>\n",
       "      <td>My students need to engage in Reading and Math...</td>\n",
       "      <td>4</td>\n",
       "      <td>1</td>\n",
       "      <td>Literacy_Language Math_Science</td>\n",
       "      <td>Literacy Mathematics</td>\n",
       "      <td>work unique school filled esl english second l...</td>\n",
       "    </tr>\n",
       "    <tr>\n",
       "      <th>4</th>\n",
       "      <td>172407</td>\n",
       "      <td>p104768</td>\n",
       "      <td>be1f7507a41f8479dc06f047086a39ec</td>\n",
       "      <td>Mrs.</td>\n",
       "      <td>TX</td>\n",
       "      <td>2016-07-11 01:10:09</td>\n",
       "      <td>Grades_PreK_2</td>\n",
       "      <td>Interactive Math Tools</td>\n",
       "      <td>My students need hands on practice in mathemat...</td>\n",
       "      <td>1</td>\n",
       "      <td>1</td>\n",
       "      <td>Math_Science</td>\n",
       "      <td>Mathematics</td>\n",
       "      <td>second grade classroom next year made around 2...</td>\n",
       "    </tr>\n",
       "  </tbody>\n",
       "</table>\n",
       "</div>"
      ],
      "text/plain": [
       "   Unnamed: 0       id                        teacher_id teacher_prefix  \\\n",
       "0      160221  p253737  c90749f5d961ff158d4b4d1e7dc665fc           Mrs.   \n",
       "1      140945  p258326  897464ce9ddc600bced1151f324dd63a            Mr.   \n",
       "2       21895  p182444  3465aaf82da834c0582ebd0ef8040ca0            Ms.   \n",
       "3          45  p246581  f3cb9bffbba169bef1a77b243e620b60           Mrs.   \n",
       "4      172407  p104768  be1f7507a41f8479dc06f047086a39ec           Mrs.   \n",
       "\n",
       "  school_state project_submitted_datetime project_grade_category  \\\n",
       "0           IN        2016-12-05 13:43:57          Grades_PreK_2   \n",
       "1           FL        2016-10-25 09:22:10             Grades_6_8   \n",
       "2           AZ        2016-08-31 12:03:56             Grades_6_8   \n",
       "3           KY        2016-10-06 21:16:17          Grades_PreK_2   \n",
       "4           TX        2016-07-11 01:10:09          Grades_PreK_2   \n",
       "\n",
       "                                       project_title  \\\n",
       "0   Educational Support for English Learners at Home   \n",
       "1              Wanted: Projector for Hungry Learners   \n",
       "2  Soccer Equipment for AWESOME Middle School Stu...   \n",
       "3                             Techie Kindergarteners   \n",
       "4                             Interactive Math Tools   \n",
       "\n",
       "                            project_resource_summary  \\\n",
       "0  My students need opportunities to practice beg...   \n",
       "1  My students need a projector to help with view...   \n",
       "2  My students need shine guards, athletic socks,...   \n",
       "3  My students need to engage in Reading and Math...   \n",
       "4  My students need hands on practice in mathemat...   \n",
       "\n",
       "   teacher_number_of_previously_posted_projects  project_is_approved  \\\n",
       "0                                             0                    0   \n",
       "1                                             7                    1   \n",
       "2                                             1                    0   \n",
       "3                                             4                    1   \n",
       "4                                             1                    1   \n",
       "\n",
       "                 clean_categories           clean_subcategories  \\\n",
       "0               Literacy_Language                  ESL Literacy   \n",
       "1    History_Civics Health_Sports  Civics_Government TeamSports   \n",
       "2                   Health_Sports    Health_Wellness TeamSports   \n",
       "3  Literacy_Language Math_Science          Literacy Mathematics   \n",
       "4                    Math_Science                   Mathematics   \n",
       "\n",
       "                                               essay  \n",
       "0  students english learners working english seco...  \n",
       "1  students arrive school eager learn polite gene...  \n",
       "2  true champions not always ones win guts mia ha...  \n",
       "3  work unique school filled esl english second l...  \n",
       "4  second grade classroom next year made around 2...  "
      ]
     },
     "execution_count": 20,
     "metadata": {},
     "output_type": "execute_result"
    }
   ],
   "source": [
    "project_data['essay'] = preprocessed_essays\n",
    "project_data.drop(['project_essay_1'], axis=1, inplace=True)\n",
    "project_data.drop(['project_essay_2'], axis=1, inplace=True)\n",
    "project_data.drop(['project_essay_3'], axis=1, inplace=True)\n",
    "project_data.drop(['project_essay_4'], axis=1, inplace=True)\n",
    "project_data.head(5)"
   ]
  },
  {
   "cell_type": "markdown",
   "metadata": {
    "colab_type": "text",
    "id": "4AFlP-F-N1M0"
   },
   "source": [
    "<h2> Preprocessing of `project_title`</h2>"
   ]
  },
  {
   "cell_type": "code",
   "execution_count": 21,
   "metadata": {
    "ExecuteTime": {
     "end_time": "2019-12-03T05:44:03.749695Z",
     "start_time": "2019-12-03T05:44:00.269202Z"
    },
    "colab": {},
    "colab_type": "code",
    "id": "FCdq9z5FN1M1"
   },
   "outputs": [
    {
     "name": "stderr",
     "output_type": "stream",
     "text": [
      "100%|███████████████████████████████████████████████████████████████████████| 109248/109248 [00:03<00:00, 31566.58it/s]\n"
     ]
    }
   ],
   "source": [
    "# similarly you can preprocess the titles also\n",
    "preprocessed_project_title=Text_cleaner(project_data['project_title'])"
   ]
  },
  {
   "cell_type": "code",
   "execution_count": 22,
   "metadata": {
    "ExecuteTime": {
     "end_time": "2019-12-03T05:44:03.759844Z",
     "start_time": "2019-12-03T05:44:03.749695Z"
    }
   },
   "outputs": [
    {
     "data": {
      "text/plain": [
       "'wanted projector hungry learners'"
      ]
     },
     "execution_count": 22,
     "metadata": {},
     "output_type": "execute_result"
    }
   ],
   "source": [
    "preprocessed_project_title[1]"
   ]
  },
  {
   "cell_type": "markdown",
   "metadata": {},
   "source": [
    "## Drop column project_title and use Cleaned_Title"
   ]
  },
  {
   "cell_type": "code",
   "execution_count": 23,
   "metadata": {
    "ExecuteTime": {
     "end_time": "2019-12-03T05:44:04.011701Z",
     "start_time": "2019-12-03T05:44:03.762843Z"
    },
    "collapsed": true
   },
   "outputs": [],
   "source": [
    "project_data['Cleaned_title']=preprocessed_project_title\n",
    "project_data.drop(['project_title'], axis=1, inplace=True)"
   ]
  },
  {
   "cell_type": "markdown",
   "metadata": {
    "colab_type": "text",
    "id": "js2WD9bON1M5"
   },
   "source": [
    "## Add up the price based on project id"
   ]
  },
  {
   "cell_type": "code",
   "execution_count": 24,
   "metadata": {
    "ExecuteTime": {
     "end_time": "2019-12-03T05:44:05.317811Z",
     "start_time": "2019-12-03T05:44:04.011701Z"
    },
    "colab": {},
    "colab_type": "code",
    "collapsed": true,
    "id": "Kh3xw4fpN1M6",
    "outputId": "0cac8eb3-350f-457b-e139-6340672f06f3"
   },
   "outputs": [],
   "source": [
    "price_data = resource_data.groupby('id').agg({'price':'sum', 'quantity':'sum'}).reset_index()\n",
    "project_data = pd.merge(project_data, price_data, on='id', how='left')"
   ]
  },
  {
   "cell_type": "code",
   "execution_count": 25,
   "metadata": {
    "ExecuteTime": {
     "end_time": "2019-12-03T05:44:05.327852Z",
     "start_time": "2019-12-03T05:44:05.317811Z"
    }
   },
   "outputs": [
    {
     "data": {
      "text/plain": [
       "Index(['Unnamed: 0', 'id', 'teacher_id', 'teacher_prefix', 'school_state',\n",
       "       'project_submitted_datetime', 'project_grade_category',\n",
       "       'project_resource_summary',\n",
       "       'teacher_number_of_previously_posted_projects', 'project_is_approved',\n",
       "       'clean_categories', 'clean_subcategories', 'essay', 'Cleaned_title',\n",
       "       'price', 'quantity'],\n",
       "      dtype='object')"
      ]
     },
     "execution_count": 25,
     "metadata": {},
     "output_type": "execute_result"
    }
   ],
   "source": [
    "project_data.columns"
   ]
  },
  {
   "cell_type": "code",
   "execution_count": 26,
   "metadata": {
    "ExecuteTime": {
     "end_time": "2019-12-03T05:44:05.631843Z",
     "start_time": "2019-12-03T05:44:05.331824Z"
    },
    "collapsed": true
   },
   "outputs": [],
   "source": [
    "project_data.drop(['project_resource_summary'], axis=1, inplace=True)\n",
    "project_data.drop(['Unnamed: 0'], axis=1, inplace=True)\n",
    "project_data.drop(['id'], axis=1, inplace=True)\n",
    "project_data.drop(['teacher_id'], axis=1, inplace=True)\n",
    "\n"
   ]
  },
  {
   "cell_type": "markdown",
   "metadata": {},
   "source": [
    "## Adding the word count of essay and title as new columns"
   ]
  },
  {
   "cell_type": "code",
   "execution_count": 27,
   "metadata": {
    "ExecuteTime": {
     "end_time": "2019-12-03T05:44:05.741853Z",
     "start_time": "2019-12-03T05:44:05.631843Z"
    },
    "collapsed": true
   },
   "outputs": [],
   "source": [
    "project_data['essay_count']=project_data['essay'].str.len()\n",
    "project_data['title_count']=project_data['Cleaned_title'].str.len()"
   ]
  },
  {
   "cell_type": "markdown",
   "metadata": {
    "colab_type": "text",
    "id": "tLfdQa8hN1M9"
   },
   "source": [
    "we are going to consider\n",
    "\n",
    "       - school_state : categorical data\n",
    "       - clean_categories : categorical data\n",
    "       - clean_subcategories : categorical data\n",
    "       - project_grade_category : categorical data\n",
    "       - teacher_prefix : categorical data\n",
    "       \n",
    "       - project_title : text data\n",
    "       - text : text data\n",
    "       - project_resource_summary: text data (optinal)\n",
    "       \n",
    "       - quantity : numerical (optinal)\n",
    "       - teacher_number_of_previously_posted_projects : numerical\n",
    "       - price : numerical"
   ]
  },
  {
   "cell_type": "markdown",
   "metadata": {},
   "source": [
    "## Separate out the Dependant and independant variables "
   ]
  },
  {
   "cell_type": "code",
   "execution_count": 28,
   "metadata": {
    "ExecuteTime": {
     "end_time": "2019-12-03T05:44:05.820375Z",
     "start_time": "2019-12-03T05:44:05.741853Z"
    }
   },
   "outputs": [
    {
     "data": {
      "text/plain": [
       "(109248, 13)"
      ]
     },
     "execution_count": 28,
     "metadata": {},
     "output_type": "execute_result"
    }
   ],
   "source": [
    "#https://stackoverflow.com/questions/29763620/how-to-select-all-columns-except-one-column-in-pandas\n",
    "X=project_data.loc[:, project_data.columns != 'project_is_approved']\n",
    "y=project_data['project_is_approved']\n",
    "X.shape"
   ]
  },
  {
   "cell_type": "markdown",
   "metadata": {},
   "source": [
    "## Splitting data into Test,Train,CV with Startified Sampling"
   ]
  },
  {
   "cell_type": "code",
   "execution_count": 29,
   "metadata": {
    "ExecuteTime": {
     "end_time": "2019-12-03T05:44:06.031714Z",
     "start_time": "2019-12-03T05:44:05.823375Z"
    }
   },
   "outputs": [
    {
     "name": "stdout",
     "output_type": "stream",
     "text": [
      "(53531, 13)\n",
      "(32775, 13)\n",
      "(22942, 13)\n",
      "(53531,)\n",
      "(32775,)\n",
      "(22942,)\n"
     ]
    }
   ],
   "source": [
    "#Splitting data into Test,Train,CV\n",
    "# https://scikit-learn.org/stable/modules/generated/sklearn.model_selection.train_test_split.html\n",
    "\n",
    "from sklearn.model_selection import train_test_split\n",
    "\n",
    "X_train,X_test,y_train, y_test=train_test_split(X, y, test_size=0.3, random_state=0)\n",
    "X_train,X_cv,y_train,y_cv=train_test_split(X_train, y_train, test_size=0.3, random_state=0)\n",
    "\n",
    "\n",
    "print(X_train.shape)\n",
    "print(X_test.shape)\n",
    "print(X_cv.shape)\n",
    "print(y_train.shape)\n",
    "print(y_test.shape)\n",
    "print(y_cv.shape)"
   ]
  },
  {
   "cell_type": "markdown",
   "metadata": {},
   "source": [
    "## Vectorize the features"
   ]
  },
  {
   "cell_type": "markdown",
   "metadata": {},
   "source": [
    "### Vectorize the Categorical Features - categories"
   ]
  },
  {
   "cell_type": "code",
   "execution_count": 30,
   "metadata": {
    "ExecuteTime": {
     "end_time": "2019-12-03T05:44:06.810506Z",
     "start_time": "2019-12-03T05:44:06.034713Z"
    }
   },
   "outputs": [
    {
     "name": "stdout",
     "output_type": "stream",
     "text": [
      "['AppliedLearning', 'Care_Hunger', 'Health_Sports', 'History_Civics', 'Literacy_Language', 'Math_Science', 'Music_Arts', 'SpecialNeeds', 'Warmth']\n",
      "Shape of matrix after one hot encodig  (53531, 9)\n"
     ]
    }
   ],
   "source": [
    "# we use count vectorizer to convert the values into one \n",
    "from sklearn.feature_extraction.text import CountVectorizer\n",
    "vectorizer1 = CountVectorizer(lowercase=False, binary=True)\n",
    "vectorizer1.fit(X_train['clean_categories'].values)\n",
    "feature_names_bow=[]\n",
    "feature_names_tfidf=[]\n",
    "# we use the fitted CountVectorizer to convert the text to vector\n",
    "X_train_clean_categories=vectorizer1.transform(X_train['clean_categories'].values)\n",
    "X_test_clean_categories=vectorizer1.transform(X_test['clean_categories'].values)\n",
    "X_cv_clean_categories=vectorizer1.transform(X_cv['clean_categories'].values)\n",
    "\n",
    "\n",
    "print(vectorizer1.get_feature_names())\n",
    "print(\"Shape of matrix after one hot encodig \",X_train_clean_categories.shape)\n",
    "feature_names_bow.append(vectorizer1.get_feature_names())\n",
    "feature_names_tfidf.append(vectorizer1.get_feature_names())"
   ]
  },
  {
   "cell_type": "markdown",
   "metadata": {},
   "source": [
    "### Vectorize the Categorical Features - subcategories"
   ]
  },
  {
   "cell_type": "code",
   "execution_count": 31,
   "metadata": {
    "ExecuteTime": {
     "end_time": "2019-12-03T05:44:07.594097Z",
     "start_time": "2019-12-03T05:44:06.810506Z"
    }
   },
   "outputs": [
    {
     "name": "stdout",
     "output_type": "stream",
     "text": [
      "['AppliedSciences', 'Care_Hunger', 'CharacterEducation', 'Civics_Government', 'College_CareerPrep', 'CommunityService', 'ESL', 'EarlyDevelopment', 'Economics', 'EnvironmentalScience', 'Extracurricular', 'FinancialLiteracy', 'ForeignLanguages', 'Gym_Fitness', 'Health_LifeScience', 'Health_Wellness', 'History_Geography', 'Literacy', 'Literature_Writing', 'Mathematics', 'Music', 'NutritionEducation', 'Other', 'ParentInvolvement', 'PerformingArts', 'SocialSciences', 'SpecialNeeds', 'TeamSports', 'VisualArts', 'Warmth']\n",
      "Shape of matrix after one hot encodig  (53531, 30)\n"
     ]
    }
   ],
   "source": [
    "vectorizer2 = CountVectorizer(lowercase=False, binary=True)\n",
    "vectorizer2.fit(X_train['clean_subcategories'].values)\n",
    "\n",
    "# we use the fitted CountVectorizer to convert the text to vector\n",
    "X_train_clean_sub_categories=vectorizer2.transform(X_train['clean_subcategories'].values)\n",
    "X_test_clean_sub_categories=vectorizer2.transform(X_test['clean_subcategories'].values)\n",
    "X_cv_clean_sub_categories=vectorizer2.transform(X_cv['clean_subcategories'].values)\n",
    "\n",
    "\n",
    "print(vectorizer2.get_feature_names())\n",
    "print(\"Shape of matrix after one hot encodig \",X_train_clean_sub_categories.shape)\n",
    "feature_names_bow.extend(vectorizer2.get_feature_names())\n",
    "feature_names_tfidf.append(vectorizer2.get_feature_names())"
   ]
  },
  {
   "cell_type": "markdown",
   "metadata": {},
   "source": [
    "### Vectorize the Categorical Features - school state"
   ]
  },
  {
   "cell_type": "code",
   "execution_count": 32,
   "metadata": {
    "ExecuteTime": {
     "end_time": "2019-12-03T05:44:08.279703Z",
     "start_time": "2019-12-03T05:44:07.594097Z"
    }
   },
   "outputs": [
    {
     "name": "stdout",
     "output_type": "stream",
     "text": [
      "['AK', 'AL', 'AR', 'AZ', 'CA', 'CO', 'CT', 'DC', 'DE', 'FL', 'GA', 'HI', 'IA', 'ID', 'IL', 'IN', 'KS', 'KY', 'LA', 'MA', 'MD', 'ME', 'MI', 'MN', 'MO', 'MS', 'MT', 'NC', 'ND', 'NE', 'NH', 'NJ', 'NM', 'NV', 'NY', 'OH', 'OK', 'OR', 'PA', 'RI', 'SC', 'SD', 'TN', 'TX', 'UT', 'VA', 'VT', 'WA', 'WI', 'WV', 'WY']\n",
      "Shape of matrix after one hot encodig  (53531, 51)\n"
     ]
    }
   ],
   "source": [
    "vectorizer3 = CountVectorizer(lowercase=False, binary=True)\n",
    "vectorizer3.fit(X_train['school_state'].values)\n",
    "\n",
    "# we use the fitted CountVectorizer to convert the text to vector\n",
    "X_train_skl_state=vectorizer3.transform(X_train['school_state'].values)\n",
    "X_test_skl_state=vectorizer3.transform(X_test['school_state'].values)\n",
    "X_cv_skl_state=vectorizer3.transform(X_cv['school_state'].values)\n",
    "\n",
    "\n",
    "print(vectorizer3.get_feature_names())\n",
    "print(\"Shape of matrix after one hot encodig \",X_train_skl_state.shape)\n",
    "feature_names_bow.extend(vectorizer3.get_feature_names())\n",
    "feature_names_tfidf.append(vectorizer3.get_feature_names())"
   ]
  },
  {
   "cell_type": "markdown",
   "metadata": {},
   "source": [
    "### Vectorize the Categorical Features - teacher prefix"
   ]
  },
  {
   "cell_type": "code",
   "execution_count": 33,
   "metadata": {
    "ExecuteTime": {
     "end_time": "2019-12-03T05:44:09.006620Z",
     "start_time": "2019-12-03T05:44:08.283700Z"
    }
   },
   "outputs": [
    {
     "name": "stdout",
     "output_type": "stream",
     "text": [
      "['Dr', 'Mr', 'Mrs', 'Ms', 'Teacher']\n",
      "Shape of matrix after one hot encodig  (53531, 5)\n"
     ]
    }
   ],
   "source": [
    "vectorizer4 = CountVectorizer(lowercase=False, binary=True)\n",
    "vectorizer4.fit(X_train['teacher_prefix'].values)\n",
    "\n",
    "# we use the fitted CountVectorizer to convert the text to vector\n",
    "X_train_teacher_prefix=vectorizer4.transform(X_train['teacher_prefix'].values)\n",
    "X_test_teacher_prefix=vectorizer4.transform(X_test['teacher_prefix'].values)\n",
    "X_cv_teacher_prefix=vectorizer4.transform(X_cv['teacher_prefix'].values)\n",
    "\n",
    "\n",
    "print(vectorizer4.get_feature_names())\n",
    "print(\"Shape of matrix after one hot encodig \",X_train_teacher_prefix.shape)\n",
    "feature_names_bow.extend(vectorizer4.get_feature_names())\n",
    "feature_names_tfidf.append(vectorizer4.get_feature_names())"
   ]
  },
  {
   "cell_type": "markdown",
   "metadata": {},
   "source": [
    "### Vectorize the Categorical Features - project_grade_category"
   ]
  },
  {
   "cell_type": "code",
   "execution_count": 34,
   "metadata": {
    "ExecuteTime": {
     "end_time": "2019-12-03T05:44:09.856831Z",
     "start_time": "2019-12-03T05:44:09.006620Z"
    }
   },
   "outputs": [
    {
     "name": "stdout",
     "output_type": "stream",
     "text": [
      "['Grades_3_5', 'Grades_6_8', 'Grades_9_12', 'Grades_PreK_2']\n",
      "Shape of matrix after one hot encodig  (53531, 4)\n"
     ]
    }
   ],
   "source": [
    "\n",
    "vectorizer5 = CountVectorizer(lowercase=False, binary=True)\n",
    "vectorizer5.fit(X_train['project_grade_category'].values)\n",
    "\n",
    "# we use the fitted CountVectorizer to convert the text to vector\n",
    "X_train_project_grade_category=vectorizer5.transform(X_train['project_grade_category'].values)\n",
    "X_test_project_grade_category=vectorizer5.transform(X_test['project_grade_category'].values)\n",
    "X_cv_project_grade_category=vectorizer5.transform(X_cv['project_grade_category'].values)\n",
    "\n",
    "\n",
    "print(vectorizer5.get_feature_names())\n",
    "print(\"Shape of matrix after one hot encodig \",X_train_project_grade_category.shape)\n",
    "feature_names_bow.extend(vectorizer5.get_feature_names())\n",
    "feature_names_tfidf.append(vectorizer5.get_feature_names())"
   ]
  },
  {
   "cell_type": "code",
   "execution_count": 35,
   "metadata": {
    "ExecuteTime": {
     "end_time": "2019-12-03T05:44:09.868646Z",
     "start_time": "2019-12-03T05:44:09.856831Z"
    },
    "collapsed": true
   },
   "outputs": [],
   "source": [
    "X_train_prev_proj=X_train['teacher_number_of_previously_posted_projects'][:,np.newaxis]\n",
    "X_test_prev_proj=X_test['teacher_number_of_previously_posted_projects'][:,np.newaxis]\n",
    "X_cv_prev_proj=X_cv['teacher_number_of_previously_posted_projects'][:,np.newaxis]\n",
    "feature_names_bow.append('teacher_number_of_previously_posted_projects')\n",
    "feature_names_tfidf.append('teacher_number_of_previously_posted_projects')"
   ]
  },
  {
   "cell_type": "markdown",
   "metadata": {},
   "source": [
    "### Vectorize the Numerical Features - price"
   ]
  },
  {
   "cell_type": "code",
   "execution_count": 36,
   "metadata": {
    "ExecuteTime": {
     "end_time": "2019-12-03T05:44:10.050541Z",
     "start_time": "2019-12-03T05:44:09.871642Z"
    }
   },
   "outputs": [
    {
     "name": "stdout",
     "output_type": "stream",
     "text": [
      "X_train['price'].shape--> (53531,)\n",
      "X_train['price'].ndim--> 1\n",
      "before normalize-->\n",
      " 266        105.18\n",
      "106324    1863.96\n",
      "89301       61.97\n",
      "51090       64.46\n",
      "32032      201.69\n",
      "69153       65.98\n",
      "85597      605.22\n",
      "59877      317.47\n",
      "419       1512.73\n",
      "32534      777.94\n",
      "Name: price, dtype: float64\n",
      "==================================================\n",
      "before normalize-->\n",
      " 75155    237.41\n",
      "77488    384.82\n",
      "7803     329.88\n",
      "56268    149.86\n",
      "46902     28.99\n",
      "66547     49.99\n",
      "6472     109.80\n",
      "50630    419.92\n",
      "41045    338.98\n",
      "25093    215.72\n",
      "Name: price, dtype: float64\n",
      "==================================================\n",
      "before normalize-->\n",
      " 58907     440.13\n",
      "66108     299.95\n",
      "55985     115.99\n",
      "97535     437.34\n",
      "6397      774.79\n",
      "105728    499.00\n",
      "29932     110.63\n",
      "86353     197.42\n",
      "51218     464.97\n",
      "50960     109.89\n",
      "Name: price, dtype: float64\n"
     ]
    }
   ],
   "source": [
    "# Check before vectorizing\n",
    "print(\"X_train['price'].shape-->\",X_train['price'].shape)\n",
    "\n",
    "print(\"X_train['price'].ndim-->\",X_train['price'].ndim)\n",
    "\n",
    "print(\"before normalize-->\\n\",X_train['price'][:10])\n",
    "print(\"==\"*25)\n",
    "print(\"before normalize-->\\n\",X_test['price'][:10])\n",
    "print(\"==\"*25)\n",
    "print(\"before normalize-->\\n\",X_cv['price'][:10])"
   ]
  },
  {
   "cell_type": "code",
   "execution_count": 37,
   "metadata": {
    "ExecuteTime": {
     "end_time": "2019-12-03T05:44:10.155102Z",
     "start_time": "2019-12-03T05:44:10.050541Z"
    }
   },
   "outputs": [
    {
     "name": "stdout",
     "output_type": "stream",
     "text": [
      "X_train_price_standardized dimension is--> 2\n",
      "==================================================\n",
      "X_train_price_standardized shape is-->  (53531, 1)\n",
      "==================================================\n",
      "After normalize-->\n",
      " [[ 0.00273872]\n",
      " [ 0.00443921]\n",
      " [ 0.00380544]\n",
      " [ 0.00172876]\n",
      " [ 0.00033442]\n",
      " [ 0.00057668]\n",
      " [ 0.00126663]\n",
      " [ 0.00484412]\n",
      " [ 0.00391041]\n",
      " [ 0.00248851]]\n",
      "==================================================\n",
      "After normalize-->\n",
      " [[ 0.00616436]\n",
      " [ 0.00420103]\n",
      " [ 0.00162453]\n",
      " [ 0.00612528]\n",
      " [ 0.01085153]\n",
      " [ 0.00698888]\n",
      " [ 0.00154946]\n",
      " [ 0.00276502]\n",
      " [ 0.00651226]\n",
      " [ 0.00153909]]\n",
      "==================================================\n"
     ]
    }
   ],
   "source": [
    "# check this one: https://www.youtube.com/watch?v=0HOqOcln3Z4&t=530s\n",
    "# standardization sklearn: https://scikit-learn.org/stable/modules/generated/sklearn.preprocessing.StandardScaler.html\n",
    "# https://scikit-learn.org/stable/modules/generated/sklearn.preprocessing.Normalizer.html#sklearn.preprocessing.Normalizer\n",
    "\n",
    "from sklearn.preprocessing import MinMaxScaler\n",
    "from sklearn.preprocessing import Normalizer\n",
    "from sklearn import preprocessing\n",
    "\n",
    "X=X_train['price'].values.reshape(1,-1)\n",
    "price_scalar = Normalizer().fit(X)\n",
    "\n",
    "# Now standardize the data with above maen and variance.\n",
    "X_train_price_standardized = price_scalar.transform(X_train['price'].values.reshape(1,-1))\n",
    "X_test_price_standardized = price_scalar.transform(X_test['price'].values.reshape(1,-1))\n",
    "X_cv_price_standardized = price_scalar.transform(X_cv['price'].values.reshape(1,-1))\n",
    "\n",
    "# Make sure to reshape it back Else it will give error while merging\n",
    "X_train_price_standardized=X_train_price_standardized.reshape(-1,1)\n",
    "\n",
    "X_test_price_standardized=X_test_price_standardized.reshape(-1,1)\n",
    "\n",
    "X_cv_price_standardized=X_cv_price_standardized.reshape(-1,1)\n",
    "\n",
    "\n",
    "feature_names_bow.extend('price')\n",
    "feature_names_tfidf.append('price')\n",
    "print(\"X_train_price_standardized dimension is-->\", X_train_price_standardized.ndim)\n",
    "print(\"==\"*25)\n",
    "print(\"X_train_price_standardized shape is--> \", X_train_price_standardized.shape)\n",
    "print(\"==\"*25)\n",
    "print(\"After normalize-->\\n\",X_test_price_standardized[:10])\n",
    "print(\"==\"*25)\n",
    "print(\"After normalize-->\\n\",X_cv_price_standardized[:10])\n",
    "print(\"==\"*25)\n",
    "\n",
    "feature_names_bow.extend('price')\n",
    "\n",
    "feature_names_tfidf.append('price')"
   ]
  },
  {
   "cell_type": "markdown",
   "metadata": {},
   "source": [
    "### Vectorize the Numerical Features - quantity"
   ]
  },
  {
   "cell_type": "code",
   "execution_count": 38,
   "metadata": {
    "ExecuteTime": {
     "end_time": "2019-12-03T05:44:10.225106Z",
     "start_time": "2019-12-03T05:44:10.155102Z"
    },
    "collapsed": true
   },
   "outputs": [],
   "source": [
    "X=X_train['quantity'].values.reshape(1,-1)\n",
    "quantity_scalar = Normalizer().fit(X)\n",
    "\n",
    "# Now standardize the data with above maen and variance.\n",
    "X_train_quantity_standardized = quantity_scalar.transform(X_train['quantity'].values.reshape(1,-1))\n",
    "X_test_quantity_standardized = quantity_scalar.transform(X_test['quantity'].values.reshape(1,-1))\n",
    "X_cv_quantity_standardized = quantity_scalar.transform(X_cv['quantity'].values.reshape(1,-1))\n",
    "\n",
    "X_train_quantity_standardized =X_train_quantity_standardized.reshape(-1,1)\n",
    "X_test_quantity_standardized = X_test_quantity_standardized.reshape(-1,1)\n",
    "X_cv_quantity_standardized =X_cv_quantity_standardized.reshape(-1,1)\n",
    "\n",
    "feature_names_bow.extend('quantity')\n",
    "feature_names_tfidf.append('quantity')"
   ]
  },
  {
   "cell_type": "markdown",
   "metadata": {},
   "source": [
    "### Vectorize the Numerical Features - essay count"
   ]
  },
  {
   "cell_type": "code",
   "execution_count": 39,
   "metadata": {
    "ExecuteTime": {
     "end_time": "2019-12-03T05:44:10.326781Z",
     "start_time": "2019-12-03T05:44:10.228106Z"
    },
    "collapsed": true
   },
   "outputs": [],
   "source": [
    "X=X_train['essay_count'].values.reshape(1,-1)\n",
    "count_scalar = Normalizer().fit(X)\n",
    "\n",
    "\n",
    "# Now standardize the data with above maen and variance.\n",
    "X_train_essay_count_standardized = count_scalar.transform(X_train['essay_count'].values.reshape(1,-1))\n",
    "X_test_essay_count_standardized = count_scalar.transform(X_test['essay_count'].values.reshape(1,-1))\n",
    "X_cv_essay_count_standardized = count_scalar.transform(X_cv['essay_count'].values.reshape(1,-1))\n",
    "\n",
    "X_train_essay_count_standardized = X_train_essay_count_standardized.reshape(-1,1)\n",
    "X_test_essay_count_standardized =X_test_essay_count_standardized.reshape(-1,1)\n",
    "X_cv_essay_count_standardized = X_cv_essay_count_standardized.reshape(-1,1)\n",
    "\n",
    "feature_names_bow.extend('essay_count')\n",
    "feature_names_tfidf.append('essay_count')"
   ]
  },
  {
   "cell_type": "markdown",
   "metadata": {},
   "source": [
    "### Vectorize the Numerical Features - title count"
   ]
  },
  {
   "cell_type": "code",
   "execution_count": 40,
   "metadata": {
    "ExecuteTime": {
     "end_time": "2019-12-03T05:44:10.446985Z",
     "start_time": "2019-12-03T05:44:10.329781Z"
    },
    "collapsed": true
   },
   "outputs": [],
   "source": [
    "X=X_train['title_count'].values.reshape(1,-1)\n",
    "count_scalar = Normalizer().fit(X)\n",
    "\n",
    "# Now standardize the data with above maen and variance.\n",
    "X_train_title_count_standardized = count_scalar.transform(X_train['title_count'].values.reshape(1,-1))\n",
    "X_test_title_count_standardized = count_scalar.transform(X_test['title_count'].values.reshape(1,-1))\n",
    "X_cv_title_count_standardized = count_scalar.transform(X_cv['title_count'].values.reshape(1,-1))\n",
    "\n",
    "X_train_title_count_standardized = X_train_title_count_standardized.reshape(-1,1)\n",
    "X_test_title_count_standardized = X_test_title_count_standardized.reshape(-1,1)\n",
    "X_cv_title_count_standardized = X_cv_title_count_standardized.reshape(-1,1)\n",
    "\n",
    "feature_names_bow.extend('title_count')\n",
    "feature_names_tfidf.append('title_count')\n"
   ]
  },
  {
   "cell_type": "markdown",
   "metadata": {},
   "source": [
    "### Vectorizing Text data"
   ]
  },
  {
   "cell_type": "markdown",
   "metadata": {},
   "source": [
    "#### Bag of word"
   ]
  },
  {
   "cell_type": "code",
   "execution_count": 41,
   "metadata": {
    "ExecuteTime": {
     "end_time": "2019-12-03T05:45:08.879079Z",
     "start_time": "2019-12-03T05:44:10.448970Z"
    }
   },
   "outputs": [
    {
     "name": "stdout",
     "output_type": "stream",
     "text": [
      "Shape of matrix after one hot encodig  (53531, 104460)\n"
     ]
    }
   ],
   "source": [
    "# We are considering only the words which appeared in at least 10 documents(rows or projects).\n",
    "vectorizer6 = CountVectorizer(min_df=10,ngram_range=(1,2))\n",
    "vectorizer6.fit(X_train['essay'])\n",
    "\n",
    "# we use the fitted CountVectorizer to convert the text to vector\n",
    "X_train_essay_bow=vectorizer6.transform(X_train['essay'].values)\n",
    "X_test_essay_bow=vectorizer6.transform(X_test['essay'].values)\n",
    "X_cv_essay_bow=vectorizer6.transform(X_cv['essay'].values)\n",
    "\n",
    "\n",
    "print(\"Shape of matrix after one hot encodig \",X_train_essay_bow.shape)\n",
    "feature_names_bow.extend(vectorizer6.get_feature_names())"
   ]
  },
  {
   "cell_type": "code",
   "execution_count": 42,
   "metadata": {
    "ExecuteTime": {
     "end_time": "2019-12-03T05:45:10.013888Z",
     "start_time": "2019-12-03T05:45:08.879079Z"
    }
   },
   "outputs": [
    {
     "name": "stdout",
     "output_type": "stream",
     "text": [
      "Shape of matrix after one hot encodig  (53531, 3334)\n"
     ]
    }
   ],
   "source": [
    "# you can vectorize the title also \n",
    "# before you vectorize the title make sure you preprocess it\n",
    "vectorizer7 = CountVectorizer(min_df=5)\n",
    "vectorizer7.fit(X_train['Cleaned_title'])\n",
    "\n",
    "# we use the fitted CountVectorizer to convert the text to vector\n",
    "X_train_cleaned_title_bow=vectorizer7.transform(X_train['Cleaned_title'].values)\n",
    "X_test_cleaned_title_bow=vectorizer7.transform(X_test['Cleaned_title'].values)\n",
    "X_cv_cleaned_title_bow=vectorizer7.transform(X_cv['Cleaned_title'].values)\n",
    "\n",
    "\n",
    "print(\"Shape of matrix after one hot encodig \",X_train_cleaned_title_bow.shape)\n",
    "feature_names_bow.extend(vectorizer7.get_feature_names())"
   ]
  },
  {
   "cell_type": "markdown",
   "metadata": {},
   "source": [
    "####  TFIDF vectorizer"
   ]
  },
  {
   "cell_type": "code",
   "execution_count": 43,
   "metadata": {
    "ExecuteTime": {
     "end_time": "2019-12-03T05:46:09.238317Z",
     "start_time": "2019-12-03T05:45:10.017890Z"
    }
   },
   "outputs": [
    {
     "name": "stdout",
     "output_type": "stream",
     "text": [
      "Shape of matrix after one hot encodig  (53531, 104460)\n"
     ]
    }
   ],
   "source": [
    "from sklearn.feature_extraction.text import TfidfVectorizer\n",
    "vectorizer8 = TfidfVectorizer(min_df=10,ngram_range=(1,2))\n",
    "vectorizer8.fit(X_train['essay'])\n",
    "\n",
    "# we use the fitted CountVectorizer to convert the text to vector\n",
    "X_train_essay_tfidf=vectorizer8.transform(X_train['essay'].values)\n",
    "X_test_essay_tfidf=vectorizer8.transform(X_test['essay'].values)\n",
    "X_cv_essay_tfidf=vectorizer8.transform(X_cv['essay'].values)\n",
    "\n",
    "\n",
    "print(\"Shape of matrix after one hot encodig \",X_train_essay_tfidf.shape)\n",
    "feature_names_tfidf.append(vectorizer8.get_feature_names())"
   ]
  },
  {
   "cell_type": "code",
   "execution_count": 44,
   "metadata": {
    "ExecuteTime": {
     "end_time": "2019-12-03T05:46:09.574995Z",
     "start_time": "2019-12-03T05:46:09.238317Z"
    },
    "collapsed": true
   },
   "outputs": [],
   "source": [
    "X_train_prev_proj=X_train['teacher_number_of_previously_posted_projects'][:,np.newaxis]\n",
    "X_test_prev_proj=X_test['teacher_number_of_previously_posted_projects'][:,np.newaxis]\n",
    "X_cv_prev_proj=X_cv['teacher_number_of_previously_posted_projects'][:,np.newaxis]\n",
    "feature_names_tfidf.append(vectorizer8.get_feature_names())\n",
    "feature_names_tfidf.append(vectorizer8.get_feature_names())"
   ]
  },
  {
   "cell_type": "code",
   "execution_count": 45,
   "metadata": {
    "ExecuteTime": {
     "end_time": "2019-12-03T05:46:10.656614Z",
     "start_time": "2019-12-03T05:46:09.577993Z"
    }
   },
   "outputs": [
    {
     "name": "stdout",
     "output_type": "stream",
     "text": [
      "Shape of matrix after one hot encodig  (53531, 3334)\n"
     ]
    }
   ],
   "source": [
    "# Similarly you can vectorize for title alsovectorizer = TfidfVectorizer(min_df=10)\n",
    "vectorizer9 = TfidfVectorizer(min_df=5)\n",
    "\n",
    "# you can vectorize the title also \n",
    "# before you vectorize the title make sure you preprocess it\n",
    "vectorizer9.fit(X_train['Cleaned_title'])\n",
    "\n",
    "# we use the fitted CountVectorizer to convert the text to vector\n",
    "X_train_cleaned_title_tfidf=vectorizer9.transform(X_train['Cleaned_title'].values)\n",
    "X_test_cleaned_title_tfidf=vectorizer9.transform(X_test['Cleaned_title'].values)\n",
    "X_cv_cleaned_title_tfidf=vectorizer9.transform(X_cv['Cleaned_title'].values)\n",
    "\n",
    "\n",
    "print(\"Shape of matrix after one hot encodig \",X_train_cleaned_title_tfidf.shape)\n",
    "feature_names_tfidf.append(vectorizer9.get_feature_names())"
   ]
  },
  {
   "cell_type": "code",
   "execution_count": 46,
   "metadata": {
    "ExecuteTime": {
     "end_time": "2019-12-03T05:46:11.238994Z",
     "start_time": "2019-12-03T05:46:10.657689Z"
    }
   },
   "outputs": [
    {
     "data": {
      "text/html": [
       "<div>\n",
       "<style>\n",
       "    .dataframe thead tr:only-child th {\n",
       "        text-align: right;\n",
       "    }\n",
       "\n",
       "    .dataframe thead th {\n",
       "        text-align: left;\n",
       "    }\n",
       "\n",
       "    .dataframe tbody tr th {\n",
       "        vertical-align: top;\n",
       "    }\n",
       "</style>\n",
       "<table border=\"1\" class=\"dataframe\">\n",
       "  <thead>\n",
       "    <tr style=\"text-align: right;\">\n",
       "      <th></th>\n",
       "      <th>000</th>\n",
       "      <th>04</th>\n",
       "      <th>05</th>\n",
       "      <th>10</th>\n",
       "      <th>100</th>\n",
       "      <th>101</th>\n",
       "      <th>10th</th>\n",
       "      <th>11</th>\n",
       "      <th>12</th>\n",
       "      <th>123</th>\n",
       "      <th>...</th>\n",
       "      <th>york</th>\n",
       "      <th>young</th>\n",
       "      <th>youngest</th>\n",
       "      <th>youth</th>\n",
       "      <th>yummy</th>\n",
       "      <th>zen</th>\n",
       "      <th>zenergy</th>\n",
       "      <th>zone</th>\n",
       "      <th>zoo</th>\n",
       "      <th>zoom</th>\n",
       "    </tr>\n",
       "  </thead>\n",
       "  <tbody>\n",
       "    <tr>\n",
       "      <th>0</th>\n",
       "      <td>0.0</td>\n",
       "      <td>0.0</td>\n",
       "      <td>0.0</td>\n",
       "      <td>0.0</td>\n",
       "      <td>0.0</td>\n",
       "      <td>0.0</td>\n",
       "      <td>0.0</td>\n",
       "      <td>0.0</td>\n",
       "      <td>0.0</td>\n",
       "      <td>0.0</td>\n",
       "      <td>...</td>\n",
       "      <td>0.0</td>\n",
       "      <td>0.0</td>\n",
       "      <td>0.0</td>\n",
       "      <td>0.000000</td>\n",
       "      <td>0.0</td>\n",
       "      <td>0.0</td>\n",
       "      <td>0.0</td>\n",
       "      <td>0.0</td>\n",
       "      <td>0.0</td>\n",
       "      <td>0.0</td>\n",
       "    </tr>\n",
       "    <tr>\n",
       "      <th>1</th>\n",
       "      <td>0.0</td>\n",
       "      <td>0.0</td>\n",
       "      <td>0.0</td>\n",
       "      <td>0.0</td>\n",
       "      <td>0.0</td>\n",
       "      <td>0.0</td>\n",
       "      <td>0.0</td>\n",
       "      <td>0.0</td>\n",
       "      <td>0.0</td>\n",
       "      <td>0.0</td>\n",
       "      <td>...</td>\n",
       "      <td>0.0</td>\n",
       "      <td>0.0</td>\n",
       "      <td>0.0</td>\n",
       "      <td>0.000000</td>\n",
       "      <td>0.0</td>\n",
       "      <td>0.0</td>\n",
       "      <td>0.0</td>\n",
       "      <td>0.0</td>\n",
       "      <td>0.0</td>\n",
       "      <td>0.0</td>\n",
       "    </tr>\n",
       "    <tr>\n",
       "      <th>2</th>\n",
       "      <td>0.0</td>\n",
       "      <td>0.0</td>\n",
       "      <td>0.0</td>\n",
       "      <td>0.0</td>\n",
       "      <td>0.0</td>\n",
       "      <td>0.0</td>\n",
       "      <td>0.0</td>\n",
       "      <td>0.0</td>\n",
       "      <td>0.0</td>\n",
       "      <td>0.0</td>\n",
       "      <td>...</td>\n",
       "      <td>0.0</td>\n",
       "      <td>0.0</td>\n",
       "      <td>0.0</td>\n",
       "      <td>0.000000</td>\n",
       "      <td>0.0</td>\n",
       "      <td>0.0</td>\n",
       "      <td>0.0</td>\n",
       "      <td>0.0</td>\n",
       "      <td>0.0</td>\n",
       "      <td>0.0</td>\n",
       "    </tr>\n",
       "    <tr>\n",
       "      <th>3</th>\n",
       "      <td>0.0</td>\n",
       "      <td>0.0</td>\n",
       "      <td>0.0</td>\n",
       "      <td>0.0</td>\n",
       "      <td>0.0</td>\n",
       "      <td>0.0</td>\n",
       "      <td>0.0</td>\n",
       "      <td>0.0</td>\n",
       "      <td>0.0</td>\n",
       "      <td>0.0</td>\n",
       "      <td>...</td>\n",
       "      <td>0.0</td>\n",
       "      <td>0.0</td>\n",
       "      <td>0.0</td>\n",
       "      <td>0.000000</td>\n",
       "      <td>0.0</td>\n",
       "      <td>0.0</td>\n",
       "      <td>0.0</td>\n",
       "      <td>0.0</td>\n",
       "      <td>0.0</td>\n",
       "      <td>0.0</td>\n",
       "    </tr>\n",
       "    <tr>\n",
       "      <th>4</th>\n",
       "      <td>0.0</td>\n",
       "      <td>0.0</td>\n",
       "      <td>0.0</td>\n",
       "      <td>0.0</td>\n",
       "      <td>0.0</td>\n",
       "      <td>0.0</td>\n",
       "      <td>0.0</td>\n",
       "      <td>0.0</td>\n",
       "      <td>0.0</td>\n",
       "      <td>0.0</td>\n",
       "      <td>...</td>\n",
       "      <td>0.0</td>\n",
       "      <td>0.0</td>\n",
       "      <td>0.0</td>\n",
       "      <td>0.000000</td>\n",
       "      <td>0.0</td>\n",
       "      <td>0.0</td>\n",
       "      <td>0.0</td>\n",
       "      <td>0.0</td>\n",
       "      <td>0.0</td>\n",
       "      <td>0.0</td>\n",
       "    </tr>\n",
       "    <tr>\n",
       "      <th>5</th>\n",
       "      <td>0.0</td>\n",
       "      <td>0.0</td>\n",
       "      <td>0.0</td>\n",
       "      <td>0.0</td>\n",
       "      <td>0.0</td>\n",
       "      <td>0.0</td>\n",
       "      <td>0.0</td>\n",
       "      <td>0.0</td>\n",
       "      <td>0.0</td>\n",
       "      <td>0.0</td>\n",
       "      <td>...</td>\n",
       "      <td>0.0</td>\n",
       "      <td>0.0</td>\n",
       "      <td>0.0</td>\n",
       "      <td>0.000000</td>\n",
       "      <td>0.0</td>\n",
       "      <td>0.0</td>\n",
       "      <td>0.0</td>\n",
       "      <td>0.0</td>\n",
       "      <td>0.0</td>\n",
       "      <td>0.0</td>\n",
       "    </tr>\n",
       "    <tr>\n",
       "      <th>6</th>\n",
       "      <td>0.0</td>\n",
       "      <td>0.0</td>\n",
       "      <td>0.0</td>\n",
       "      <td>0.0</td>\n",
       "      <td>0.0</td>\n",
       "      <td>0.0</td>\n",
       "      <td>0.0</td>\n",
       "      <td>0.0</td>\n",
       "      <td>0.0</td>\n",
       "      <td>0.0</td>\n",
       "      <td>...</td>\n",
       "      <td>0.0</td>\n",
       "      <td>0.0</td>\n",
       "      <td>0.0</td>\n",
       "      <td>0.000000</td>\n",
       "      <td>0.0</td>\n",
       "      <td>0.0</td>\n",
       "      <td>0.0</td>\n",
       "      <td>0.0</td>\n",
       "      <td>0.0</td>\n",
       "      <td>0.0</td>\n",
       "    </tr>\n",
       "    <tr>\n",
       "      <th>7</th>\n",
       "      <td>0.0</td>\n",
       "      <td>0.0</td>\n",
       "      <td>0.0</td>\n",
       "      <td>0.0</td>\n",
       "      <td>0.0</td>\n",
       "      <td>0.0</td>\n",
       "      <td>0.0</td>\n",
       "      <td>0.0</td>\n",
       "      <td>0.0</td>\n",
       "      <td>0.0</td>\n",
       "      <td>...</td>\n",
       "      <td>0.0</td>\n",
       "      <td>0.0</td>\n",
       "      <td>0.0</td>\n",
       "      <td>0.000000</td>\n",
       "      <td>0.0</td>\n",
       "      <td>0.0</td>\n",
       "      <td>0.0</td>\n",
       "      <td>0.0</td>\n",
       "      <td>0.0</td>\n",
       "      <td>0.0</td>\n",
       "    </tr>\n",
       "    <tr>\n",
       "      <th>8</th>\n",
       "      <td>0.0</td>\n",
       "      <td>0.0</td>\n",
       "      <td>0.0</td>\n",
       "      <td>0.0</td>\n",
       "      <td>0.0</td>\n",
       "      <td>0.0</td>\n",
       "      <td>0.0</td>\n",
       "      <td>0.0</td>\n",
       "      <td>0.0</td>\n",
       "      <td>0.0</td>\n",
       "      <td>...</td>\n",
       "      <td>0.0</td>\n",
       "      <td>0.0</td>\n",
       "      <td>0.0</td>\n",
       "      <td>0.000000</td>\n",
       "      <td>0.0</td>\n",
       "      <td>0.0</td>\n",
       "      <td>0.0</td>\n",
       "      <td>0.0</td>\n",
       "      <td>0.0</td>\n",
       "      <td>0.0</td>\n",
       "    </tr>\n",
       "    <tr>\n",
       "      <th>9</th>\n",
       "      <td>0.0</td>\n",
       "      <td>0.0</td>\n",
       "      <td>0.0</td>\n",
       "      <td>0.0</td>\n",
       "      <td>0.0</td>\n",
       "      <td>0.0</td>\n",
       "      <td>0.0</td>\n",
       "      <td>0.0</td>\n",
       "      <td>0.0</td>\n",
       "      <td>0.0</td>\n",
       "      <td>...</td>\n",
       "      <td>0.0</td>\n",
       "      <td>0.0</td>\n",
       "      <td>0.0</td>\n",
       "      <td>0.000000</td>\n",
       "      <td>0.0</td>\n",
       "      <td>0.0</td>\n",
       "      <td>0.0</td>\n",
       "      <td>0.0</td>\n",
       "      <td>0.0</td>\n",
       "      <td>0.0</td>\n",
       "    </tr>\n",
       "    <tr>\n",
       "      <th>10</th>\n",
       "      <td>0.0</td>\n",
       "      <td>0.0</td>\n",
       "      <td>0.0</td>\n",
       "      <td>0.0</td>\n",
       "      <td>0.0</td>\n",
       "      <td>0.0</td>\n",
       "      <td>0.0</td>\n",
       "      <td>0.0</td>\n",
       "      <td>0.0</td>\n",
       "      <td>0.0</td>\n",
       "      <td>...</td>\n",
       "      <td>0.0</td>\n",
       "      <td>0.0</td>\n",
       "      <td>0.0</td>\n",
       "      <td>0.000000</td>\n",
       "      <td>0.0</td>\n",
       "      <td>0.0</td>\n",
       "      <td>0.0</td>\n",
       "      <td>0.0</td>\n",
       "      <td>0.0</td>\n",
       "      <td>0.0</td>\n",
       "    </tr>\n",
       "    <tr>\n",
       "      <th>11</th>\n",
       "      <td>0.0</td>\n",
       "      <td>0.0</td>\n",
       "      <td>0.0</td>\n",
       "      <td>0.0</td>\n",
       "      <td>0.0</td>\n",
       "      <td>0.0</td>\n",
       "      <td>0.0</td>\n",
       "      <td>0.0</td>\n",
       "      <td>0.0</td>\n",
       "      <td>0.0</td>\n",
       "      <td>...</td>\n",
       "      <td>0.0</td>\n",
       "      <td>0.0</td>\n",
       "      <td>0.0</td>\n",
       "      <td>0.000000</td>\n",
       "      <td>0.0</td>\n",
       "      <td>0.0</td>\n",
       "      <td>0.0</td>\n",
       "      <td>0.0</td>\n",
       "      <td>0.0</td>\n",
       "      <td>0.0</td>\n",
       "    </tr>\n",
       "    <tr>\n",
       "      <th>12</th>\n",
       "      <td>0.0</td>\n",
       "      <td>0.0</td>\n",
       "      <td>0.0</td>\n",
       "      <td>0.0</td>\n",
       "      <td>0.0</td>\n",
       "      <td>0.0</td>\n",
       "      <td>0.0</td>\n",
       "      <td>0.0</td>\n",
       "      <td>0.0</td>\n",
       "      <td>0.0</td>\n",
       "      <td>...</td>\n",
       "      <td>0.0</td>\n",
       "      <td>0.0</td>\n",
       "      <td>0.0</td>\n",
       "      <td>0.000000</td>\n",
       "      <td>0.0</td>\n",
       "      <td>0.0</td>\n",
       "      <td>0.0</td>\n",
       "      <td>0.0</td>\n",
       "      <td>0.0</td>\n",
       "      <td>0.0</td>\n",
       "    </tr>\n",
       "    <tr>\n",
       "      <th>13</th>\n",
       "      <td>0.0</td>\n",
       "      <td>0.0</td>\n",
       "      <td>0.0</td>\n",
       "      <td>0.0</td>\n",
       "      <td>0.0</td>\n",
       "      <td>0.0</td>\n",
       "      <td>0.0</td>\n",
       "      <td>0.0</td>\n",
       "      <td>0.0</td>\n",
       "      <td>0.0</td>\n",
       "      <td>...</td>\n",
       "      <td>0.0</td>\n",
       "      <td>0.0</td>\n",
       "      <td>0.0</td>\n",
       "      <td>0.000000</td>\n",
       "      <td>0.0</td>\n",
       "      <td>0.0</td>\n",
       "      <td>0.0</td>\n",
       "      <td>0.0</td>\n",
       "      <td>0.0</td>\n",
       "      <td>0.0</td>\n",
       "    </tr>\n",
       "    <tr>\n",
       "      <th>14</th>\n",
       "      <td>0.0</td>\n",
       "      <td>0.0</td>\n",
       "      <td>0.0</td>\n",
       "      <td>0.0</td>\n",
       "      <td>0.0</td>\n",
       "      <td>0.0</td>\n",
       "      <td>0.0</td>\n",
       "      <td>0.0</td>\n",
       "      <td>0.0</td>\n",
       "      <td>0.0</td>\n",
       "      <td>...</td>\n",
       "      <td>0.0</td>\n",
       "      <td>0.0</td>\n",
       "      <td>0.0</td>\n",
       "      <td>0.000000</td>\n",
       "      <td>0.0</td>\n",
       "      <td>0.0</td>\n",
       "      <td>0.0</td>\n",
       "      <td>0.0</td>\n",
       "      <td>0.0</td>\n",
       "      <td>0.0</td>\n",
       "    </tr>\n",
       "    <tr>\n",
       "      <th>15</th>\n",
       "      <td>0.0</td>\n",
       "      <td>0.0</td>\n",
       "      <td>0.0</td>\n",
       "      <td>0.0</td>\n",
       "      <td>0.0</td>\n",
       "      <td>0.0</td>\n",
       "      <td>0.0</td>\n",
       "      <td>0.0</td>\n",
       "      <td>0.0</td>\n",
       "      <td>0.0</td>\n",
       "      <td>...</td>\n",
       "      <td>0.0</td>\n",
       "      <td>0.0</td>\n",
       "      <td>0.0</td>\n",
       "      <td>0.000000</td>\n",
       "      <td>0.0</td>\n",
       "      <td>0.0</td>\n",
       "      <td>0.0</td>\n",
       "      <td>0.0</td>\n",
       "      <td>0.0</td>\n",
       "      <td>0.0</td>\n",
       "    </tr>\n",
       "    <tr>\n",
       "      <th>16</th>\n",
       "      <td>0.0</td>\n",
       "      <td>0.0</td>\n",
       "      <td>0.0</td>\n",
       "      <td>0.0</td>\n",
       "      <td>0.0</td>\n",
       "      <td>0.0</td>\n",
       "      <td>0.0</td>\n",
       "      <td>0.0</td>\n",
       "      <td>0.0</td>\n",
       "      <td>0.0</td>\n",
       "      <td>...</td>\n",
       "      <td>0.0</td>\n",
       "      <td>0.0</td>\n",
       "      <td>0.0</td>\n",
       "      <td>0.000000</td>\n",
       "      <td>0.0</td>\n",
       "      <td>0.0</td>\n",
       "      <td>0.0</td>\n",
       "      <td>0.0</td>\n",
       "      <td>0.0</td>\n",
       "      <td>0.0</td>\n",
       "    </tr>\n",
       "    <tr>\n",
       "      <th>17</th>\n",
       "      <td>0.0</td>\n",
       "      <td>0.0</td>\n",
       "      <td>0.0</td>\n",
       "      <td>0.0</td>\n",
       "      <td>0.0</td>\n",
       "      <td>0.0</td>\n",
       "      <td>0.0</td>\n",
       "      <td>0.0</td>\n",
       "      <td>0.0</td>\n",
       "      <td>0.0</td>\n",
       "      <td>...</td>\n",
       "      <td>0.0</td>\n",
       "      <td>0.0</td>\n",
       "      <td>0.0</td>\n",
       "      <td>0.000000</td>\n",
       "      <td>0.0</td>\n",
       "      <td>0.0</td>\n",
       "      <td>0.0</td>\n",
       "      <td>0.0</td>\n",
       "      <td>0.0</td>\n",
       "      <td>0.0</td>\n",
       "    </tr>\n",
       "    <tr>\n",
       "      <th>18</th>\n",
       "      <td>0.0</td>\n",
       "      <td>0.0</td>\n",
       "      <td>0.0</td>\n",
       "      <td>0.0</td>\n",
       "      <td>0.0</td>\n",
       "      <td>0.0</td>\n",
       "      <td>0.0</td>\n",
       "      <td>0.0</td>\n",
       "      <td>0.0</td>\n",
       "      <td>0.0</td>\n",
       "      <td>...</td>\n",
       "      <td>0.0</td>\n",
       "      <td>0.0</td>\n",
       "      <td>0.0</td>\n",
       "      <td>0.000000</td>\n",
       "      <td>0.0</td>\n",
       "      <td>0.0</td>\n",
       "      <td>0.0</td>\n",
       "      <td>0.0</td>\n",
       "      <td>0.0</td>\n",
       "      <td>0.0</td>\n",
       "    </tr>\n",
       "    <tr>\n",
       "      <th>19</th>\n",
       "      <td>0.0</td>\n",
       "      <td>0.0</td>\n",
       "      <td>0.0</td>\n",
       "      <td>0.0</td>\n",
       "      <td>0.0</td>\n",
       "      <td>0.0</td>\n",
       "      <td>0.0</td>\n",
       "      <td>0.0</td>\n",
       "      <td>0.0</td>\n",
       "      <td>0.0</td>\n",
       "      <td>...</td>\n",
       "      <td>0.0</td>\n",
       "      <td>0.0</td>\n",
       "      <td>0.0</td>\n",
       "      <td>0.000000</td>\n",
       "      <td>0.0</td>\n",
       "      <td>0.0</td>\n",
       "      <td>0.0</td>\n",
       "      <td>0.0</td>\n",
       "      <td>0.0</td>\n",
       "      <td>0.0</td>\n",
       "    </tr>\n",
       "    <tr>\n",
       "      <th>20</th>\n",
       "      <td>0.0</td>\n",
       "      <td>0.0</td>\n",
       "      <td>0.0</td>\n",
       "      <td>0.0</td>\n",
       "      <td>0.0</td>\n",
       "      <td>0.0</td>\n",
       "      <td>0.0</td>\n",
       "      <td>0.0</td>\n",
       "      <td>0.0</td>\n",
       "      <td>0.0</td>\n",
       "      <td>...</td>\n",
       "      <td>0.0</td>\n",
       "      <td>0.0</td>\n",
       "      <td>0.0</td>\n",
       "      <td>0.000000</td>\n",
       "      <td>0.0</td>\n",
       "      <td>0.0</td>\n",
       "      <td>0.0</td>\n",
       "      <td>0.0</td>\n",
       "      <td>0.0</td>\n",
       "      <td>0.0</td>\n",
       "    </tr>\n",
       "    <tr>\n",
       "      <th>21</th>\n",
       "      <td>0.0</td>\n",
       "      <td>0.0</td>\n",
       "      <td>0.0</td>\n",
       "      <td>0.0</td>\n",
       "      <td>0.0</td>\n",
       "      <td>0.0</td>\n",
       "      <td>0.0</td>\n",
       "      <td>0.0</td>\n",
       "      <td>0.0</td>\n",
       "      <td>0.0</td>\n",
       "      <td>...</td>\n",
       "      <td>0.0</td>\n",
       "      <td>0.0</td>\n",
       "      <td>0.0</td>\n",
       "      <td>0.000000</td>\n",
       "      <td>0.0</td>\n",
       "      <td>0.0</td>\n",
       "      <td>0.0</td>\n",
       "      <td>0.0</td>\n",
       "      <td>0.0</td>\n",
       "      <td>0.0</td>\n",
       "    </tr>\n",
       "    <tr>\n",
       "      <th>22</th>\n",
       "      <td>0.0</td>\n",
       "      <td>0.0</td>\n",
       "      <td>0.0</td>\n",
       "      <td>0.0</td>\n",
       "      <td>0.0</td>\n",
       "      <td>0.0</td>\n",
       "      <td>0.0</td>\n",
       "      <td>0.0</td>\n",
       "      <td>0.0</td>\n",
       "      <td>0.0</td>\n",
       "      <td>...</td>\n",
       "      <td>0.0</td>\n",
       "      <td>0.0</td>\n",
       "      <td>0.0</td>\n",
       "      <td>0.000000</td>\n",
       "      <td>0.0</td>\n",
       "      <td>0.0</td>\n",
       "      <td>0.0</td>\n",
       "      <td>0.0</td>\n",
       "      <td>0.0</td>\n",
       "      <td>0.0</td>\n",
       "    </tr>\n",
       "    <tr>\n",
       "      <th>23</th>\n",
       "      <td>0.0</td>\n",
       "      <td>0.0</td>\n",
       "      <td>0.0</td>\n",
       "      <td>0.0</td>\n",
       "      <td>0.0</td>\n",
       "      <td>0.0</td>\n",
       "      <td>0.0</td>\n",
       "      <td>0.0</td>\n",
       "      <td>0.0</td>\n",
       "      <td>0.0</td>\n",
       "      <td>...</td>\n",
       "      <td>0.0</td>\n",
       "      <td>0.0</td>\n",
       "      <td>0.0</td>\n",
       "      <td>0.000000</td>\n",
       "      <td>0.0</td>\n",
       "      <td>0.0</td>\n",
       "      <td>0.0</td>\n",
       "      <td>0.0</td>\n",
       "      <td>0.0</td>\n",
       "      <td>0.0</td>\n",
       "    </tr>\n",
       "    <tr>\n",
       "      <th>24</th>\n",
       "      <td>0.0</td>\n",
       "      <td>0.0</td>\n",
       "      <td>0.0</td>\n",
       "      <td>0.0</td>\n",
       "      <td>0.0</td>\n",
       "      <td>0.0</td>\n",
       "      <td>0.0</td>\n",
       "      <td>0.0</td>\n",
       "      <td>0.0</td>\n",
       "      <td>0.0</td>\n",
       "      <td>...</td>\n",
       "      <td>0.0</td>\n",
       "      <td>0.0</td>\n",
       "      <td>0.0</td>\n",
       "      <td>0.000000</td>\n",
       "      <td>0.0</td>\n",
       "      <td>0.0</td>\n",
       "      <td>0.0</td>\n",
       "      <td>0.0</td>\n",
       "      <td>0.0</td>\n",
       "      <td>0.0</td>\n",
       "    </tr>\n",
       "    <tr>\n",
       "      <th>25</th>\n",
       "      <td>0.0</td>\n",
       "      <td>0.0</td>\n",
       "      <td>0.0</td>\n",
       "      <td>0.0</td>\n",
       "      <td>0.0</td>\n",
       "      <td>0.0</td>\n",
       "      <td>0.0</td>\n",
       "      <td>0.0</td>\n",
       "      <td>0.0</td>\n",
       "      <td>0.0</td>\n",
       "      <td>...</td>\n",
       "      <td>0.0</td>\n",
       "      <td>0.0</td>\n",
       "      <td>0.0</td>\n",
       "      <td>0.000000</td>\n",
       "      <td>0.0</td>\n",
       "      <td>0.0</td>\n",
       "      <td>0.0</td>\n",
       "      <td>0.0</td>\n",
       "      <td>0.0</td>\n",
       "      <td>0.0</td>\n",
       "    </tr>\n",
       "    <tr>\n",
       "      <th>26</th>\n",
       "      <td>0.0</td>\n",
       "      <td>0.0</td>\n",
       "      <td>0.0</td>\n",
       "      <td>0.0</td>\n",
       "      <td>0.0</td>\n",
       "      <td>0.0</td>\n",
       "      <td>0.0</td>\n",
       "      <td>0.0</td>\n",
       "      <td>0.0</td>\n",
       "      <td>0.0</td>\n",
       "      <td>...</td>\n",
       "      <td>0.0</td>\n",
       "      <td>0.0</td>\n",
       "      <td>0.0</td>\n",
       "      <td>0.000000</td>\n",
       "      <td>0.0</td>\n",
       "      <td>0.0</td>\n",
       "      <td>0.0</td>\n",
       "      <td>0.0</td>\n",
       "      <td>0.0</td>\n",
       "      <td>0.0</td>\n",
       "    </tr>\n",
       "    <tr>\n",
       "      <th>27</th>\n",
       "      <td>0.0</td>\n",
       "      <td>0.0</td>\n",
       "      <td>0.0</td>\n",
       "      <td>0.0</td>\n",
       "      <td>0.0</td>\n",
       "      <td>0.0</td>\n",
       "      <td>0.0</td>\n",
       "      <td>0.0</td>\n",
       "      <td>0.0</td>\n",
       "      <td>0.0</td>\n",
       "      <td>...</td>\n",
       "      <td>0.0</td>\n",
       "      <td>0.0</td>\n",
       "      <td>0.0</td>\n",
       "      <td>0.000000</td>\n",
       "      <td>0.0</td>\n",
       "      <td>0.0</td>\n",
       "      <td>0.0</td>\n",
       "      <td>0.0</td>\n",
       "      <td>0.0</td>\n",
       "      <td>0.0</td>\n",
       "    </tr>\n",
       "    <tr>\n",
       "      <th>28</th>\n",
       "      <td>0.0</td>\n",
       "      <td>0.0</td>\n",
       "      <td>0.0</td>\n",
       "      <td>0.0</td>\n",
       "      <td>0.0</td>\n",
       "      <td>0.0</td>\n",
       "      <td>0.0</td>\n",
       "      <td>0.0</td>\n",
       "      <td>0.0</td>\n",
       "      <td>0.0</td>\n",
       "      <td>...</td>\n",
       "      <td>0.0</td>\n",
       "      <td>0.0</td>\n",
       "      <td>0.0</td>\n",
       "      <td>0.000000</td>\n",
       "      <td>0.0</td>\n",
       "      <td>0.0</td>\n",
       "      <td>0.0</td>\n",
       "      <td>0.0</td>\n",
       "      <td>0.0</td>\n",
       "      <td>0.0</td>\n",
       "    </tr>\n",
       "    <tr>\n",
       "      <th>29</th>\n",
       "      <td>0.0</td>\n",
       "      <td>0.0</td>\n",
       "      <td>0.0</td>\n",
       "      <td>0.0</td>\n",
       "      <td>0.0</td>\n",
       "      <td>0.0</td>\n",
       "      <td>0.0</td>\n",
       "      <td>0.0</td>\n",
       "      <td>0.0</td>\n",
       "      <td>0.0</td>\n",
       "      <td>...</td>\n",
       "      <td>0.0</td>\n",
       "      <td>0.0</td>\n",
       "      <td>0.0</td>\n",
       "      <td>0.000000</td>\n",
       "      <td>0.0</td>\n",
       "      <td>0.0</td>\n",
       "      <td>0.0</td>\n",
       "      <td>0.0</td>\n",
       "      <td>0.0</td>\n",
       "      <td>0.0</td>\n",
       "    </tr>\n",
       "    <tr>\n",
       "      <th>...</th>\n",
       "      <td>...</td>\n",
       "      <td>...</td>\n",
       "      <td>...</td>\n",
       "      <td>...</td>\n",
       "      <td>...</td>\n",
       "      <td>...</td>\n",
       "      <td>...</td>\n",
       "      <td>...</td>\n",
       "      <td>...</td>\n",
       "      <td>...</td>\n",
       "      <td>...</td>\n",
       "      <td>...</td>\n",
       "      <td>...</td>\n",
       "      <td>...</td>\n",
       "      <td>...</td>\n",
       "      <td>...</td>\n",
       "      <td>...</td>\n",
       "      <td>...</td>\n",
       "      <td>...</td>\n",
       "      <td>...</td>\n",
       "      <td>...</td>\n",
       "    </tr>\n",
       "    <tr>\n",
       "      <th>53501</th>\n",
       "      <td>0.0</td>\n",
       "      <td>0.0</td>\n",
       "      <td>0.0</td>\n",
       "      <td>0.0</td>\n",
       "      <td>0.0</td>\n",
       "      <td>0.0</td>\n",
       "      <td>0.0</td>\n",
       "      <td>0.0</td>\n",
       "      <td>0.0</td>\n",
       "      <td>0.0</td>\n",
       "      <td>...</td>\n",
       "      <td>0.0</td>\n",
       "      <td>0.0</td>\n",
       "      <td>0.0</td>\n",
       "      <td>0.000000</td>\n",
       "      <td>0.0</td>\n",
       "      <td>0.0</td>\n",
       "      <td>0.0</td>\n",
       "      <td>0.0</td>\n",
       "      <td>0.0</td>\n",
       "      <td>0.0</td>\n",
       "    </tr>\n",
       "    <tr>\n",
       "      <th>53502</th>\n",
       "      <td>0.0</td>\n",
       "      <td>0.0</td>\n",
       "      <td>0.0</td>\n",
       "      <td>0.0</td>\n",
       "      <td>0.0</td>\n",
       "      <td>0.0</td>\n",
       "      <td>0.0</td>\n",
       "      <td>0.0</td>\n",
       "      <td>0.0</td>\n",
       "      <td>0.0</td>\n",
       "      <td>...</td>\n",
       "      <td>0.0</td>\n",
       "      <td>0.0</td>\n",
       "      <td>0.0</td>\n",
       "      <td>0.000000</td>\n",
       "      <td>0.0</td>\n",
       "      <td>0.0</td>\n",
       "      <td>0.0</td>\n",
       "      <td>0.0</td>\n",
       "      <td>0.0</td>\n",
       "      <td>0.0</td>\n",
       "    </tr>\n",
       "    <tr>\n",
       "      <th>53503</th>\n",
       "      <td>0.0</td>\n",
       "      <td>0.0</td>\n",
       "      <td>0.0</td>\n",
       "      <td>0.0</td>\n",
       "      <td>0.0</td>\n",
       "      <td>0.0</td>\n",
       "      <td>0.0</td>\n",
       "      <td>0.0</td>\n",
       "      <td>0.0</td>\n",
       "      <td>0.0</td>\n",
       "      <td>...</td>\n",
       "      <td>0.0</td>\n",
       "      <td>0.0</td>\n",
       "      <td>0.0</td>\n",
       "      <td>0.000000</td>\n",
       "      <td>0.0</td>\n",
       "      <td>0.0</td>\n",
       "      <td>0.0</td>\n",
       "      <td>0.0</td>\n",
       "      <td>0.0</td>\n",
       "      <td>0.0</td>\n",
       "    </tr>\n",
       "    <tr>\n",
       "      <th>53504</th>\n",
       "      <td>0.0</td>\n",
       "      <td>0.0</td>\n",
       "      <td>0.0</td>\n",
       "      <td>0.0</td>\n",
       "      <td>0.0</td>\n",
       "      <td>0.0</td>\n",
       "      <td>0.0</td>\n",
       "      <td>0.0</td>\n",
       "      <td>0.0</td>\n",
       "      <td>0.0</td>\n",
       "      <td>...</td>\n",
       "      <td>0.0</td>\n",
       "      <td>0.0</td>\n",
       "      <td>0.0</td>\n",
       "      <td>0.000000</td>\n",
       "      <td>0.0</td>\n",
       "      <td>0.0</td>\n",
       "      <td>0.0</td>\n",
       "      <td>0.0</td>\n",
       "      <td>0.0</td>\n",
       "      <td>0.0</td>\n",
       "    </tr>\n",
       "    <tr>\n",
       "      <th>53505</th>\n",
       "      <td>0.0</td>\n",
       "      <td>0.0</td>\n",
       "      <td>0.0</td>\n",
       "      <td>0.0</td>\n",
       "      <td>0.0</td>\n",
       "      <td>0.0</td>\n",
       "      <td>0.0</td>\n",
       "      <td>0.0</td>\n",
       "      <td>0.0</td>\n",
       "      <td>0.0</td>\n",
       "      <td>...</td>\n",
       "      <td>0.0</td>\n",
       "      <td>0.0</td>\n",
       "      <td>0.0</td>\n",
       "      <td>0.000000</td>\n",
       "      <td>0.0</td>\n",
       "      <td>0.0</td>\n",
       "      <td>0.0</td>\n",
       "      <td>0.0</td>\n",
       "      <td>0.0</td>\n",
       "      <td>0.0</td>\n",
       "    </tr>\n",
       "    <tr>\n",
       "      <th>53506</th>\n",
       "      <td>0.0</td>\n",
       "      <td>0.0</td>\n",
       "      <td>0.0</td>\n",
       "      <td>0.0</td>\n",
       "      <td>0.0</td>\n",
       "      <td>0.0</td>\n",
       "      <td>0.0</td>\n",
       "      <td>0.0</td>\n",
       "      <td>0.0</td>\n",
       "      <td>0.0</td>\n",
       "      <td>...</td>\n",
       "      <td>0.0</td>\n",
       "      <td>0.0</td>\n",
       "      <td>0.0</td>\n",
       "      <td>0.000000</td>\n",
       "      <td>0.0</td>\n",
       "      <td>0.0</td>\n",
       "      <td>0.0</td>\n",
       "      <td>0.0</td>\n",
       "      <td>0.0</td>\n",
       "      <td>0.0</td>\n",
       "    </tr>\n",
       "    <tr>\n",
       "      <th>53507</th>\n",
       "      <td>0.0</td>\n",
       "      <td>0.0</td>\n",
       "      <td>0.0</td>\n",
       "      <td>0.0</td>\n",
       "      <td>0.0</td>\n",
       "      <td>0.0</td>\n",
       "      <td>0.0</td>\n",
       "      <td>0.0</td>\n",
       "      <td>0.0</td>\n",
       "      <td>0.0</td>\n",
       "      <td>...</td>\n",
       "      <td>0.0</td>\n",
       "      <td>0.0</td>\n",
       "      <td>0.0</td>\n",
       "      <td>0.000000</td>\n",
       "      <td>0.0</td>\n",
       "      <td>0.0</td>\n",
       "      <td>0.0</td>\n",
       "      <td>0.0</td>\n",
       "      <td>0.0</td>\n",
       "      <td>0.0</td>\n",
       "    </tr>\n",
       "    <tr>\n",
       "      <th>53508</th>\n",
       "      <td>0.0</td>\n",
       "      <td>0.0</td>\n",
       "      <td>0.0</td>\n",
       "      <td>0.0</td>\n",
       "      <td>0.0</td>\n",
       "      <td>0.0</td>\n",
       "      <td>0.0</td>\n",
       "      <td>0.0</td>\n",
       "      <td>0.0</td>\n",
       "      <td>0.0</td>\n",
       "      <td>...</td>\n",
       "      <td>0.0</td>\n",
       "      <td>0.0</td>\n",
       "      <td>0.0</td>\n",
       "      <td>0.000000</td>\n",
       "      <td>0.0</td>\n",
       "      <td>0.0</td>\n",
       "      <td>0.0</td>\n",
       "      <td>0.0</td>\n",
       "      <td>0.0</td>\n",
       "      <td>0.0</td>\n",
       "    </tr>\n",
       "    <tr>\n",
       "      <th>53509</th>\n",
       "      <td>0.0</td>\n",
       "      <td>0.0</td>\n",
       "      <td>0.0</td>\n",
       "      <td>0.0</td>\n",
       "      <td>0.0</td>\n",
       "      <td>0.0</td>\n",
       "      <td>0.0</td>\n",
       "      <td>0.0</td>\n",
       "      <td>0.0</td>\n",
       "      <td>0.0</td>\n",
       "      <td>...</td>\n",
       "      <td>0.0</td>\n",
       "      <td>0.0</td>\n",
       "      <td>0.0</td>\n",
       "      <td>0.000000</td>\n",
       "      <td>0.0</td>\n",
       "      <td>0.0</td>\n",
       "      <td>0.0</td>\n",
       "      <td>0.0</td>\n",
       "      <td>0.0</td>\n",
       "      <td>0.0</td>\n",
       "    </tr>\n",
       "    <tr>\n",
       "      <th>53510</th>\n",
       "      <td>0.0</td>\n",
       "      <td>0.0</td>\n",
       "      <td>0.0</td>\n",
       "      <td>0.0</td>\n",
       "      <td>0.0</td>\n",
       "      <td>0.0</td>\n",
       "      <td>0.0</td>\n",
       "      <td>0.0</td>\n",
       "      <td>0.0</td>\n",
       "      <td>0.0</td>\n",
       "      <td>...</td>\n",
       "      <td>0.0</td>\n",
       "      <td>0.0</td>\n",
       "      <td>0.0</td>\n",
       "      <td>0.000000</td>\n",
       "      <td>0.0</td>\n",
       "      <td>0.0</td>\n",
       "      <td>0.0</td>\n",
       "      <td>0.0</td>\n",
       "      <td>0.0</td>\n",
       "      <td>0.0</td>\n",
       "    </tr>\n",
       "    <tr>\n",
       "      <th>53511</th>\n",
       "      <td>0.0</td>\n",
       "      <td>0.0</td>\n",
       "      <td>0.0</td>\n",
       "      <td>0.0</td>\n",
       "      <td>0.0</td>\n",
       "      <td>0.0</td>\n",
       "      <td>0.0</td>\n",
       "      <td>0.0</td>\n",
       "      <td>0.0</td>\n",
       "      <td>0.0</td>\n",
       "      <td>...</td>\n",
       "      <td>0.0</td>\n",
       "      <td>0.0</td>\n",
       "      <td>0.0</td>\n",
       "      <td>0.000000</td>\n",
       "      <td>0.0</td>\n",
       "      <td>0.0</td>\n",
       "      <td>0.0</td>\n",
       "      <td>0.0</td>\n",
       "      <td>0.0</td>\n",
       "      <td>0.0</td>\n",
       "    </tr>\n",
       "    <tr>\n",
       "      <th>53512</th>\n",
       "      <td>0.0</td>\n",
       "      <td>0.0</td>\n",
       "      <td>0.0</td>\n",
       "      <td>0.0</td>\n",
       "      <td>0.0</td>\n",
       "      <td>0.0</td>\n",
       "      <td>0.0</td>\n",
       "      <td>0.0</td>\n",
       "      <td>0.0</td>\n",
       "      <td>0.0</td>\n",
       "      <td>...</td>\n",
       "      <td>0.0</td>\n",
       "      <td>0.0</td>\n",
       "      <td>0.0</td>\n",
       "      <td>0.000000</td>\n",
       "      <td>0.0</td>\n",
       "      <td>0.0</td>\n",
       "      <td>0.0</td>\n",
       "      <td>0.0</td>\n",
       "      <td>0.0</td>\n",
       "      <td>0.0</td>\n",
       "    </tr>\n",
       "    <tr>\n",
       "      <th>53513</th>\n",
       "      <td>0.0</td>\n",
       "      <td>0.0</td>\n",
       "      <td>0.0</td>\n",
       "      <td>0.0</td>\n",
       "      <td>0.0</td>\n",
       "      <td>0.0</td>\n",
       "      <td>0.0</td>\n",
       "      <td>0.0</td>\n",
       "      <td>0.0</td>\n",
       "      <td>0.0</td>\n",
       "      <td>...</td>\n",
       "      <td>0.0</td>\n",
       "      <td>0.0</td>\n",
       "      <td>0.0</td>\n",
       "      <td>0.000000</td>\n",
       "      <td>0.0</td>\n",
       "      <td>0.0</td>\n",
       "      <td>0.0</td>\n",
       "      <td>0.0</td>\n",
       "      <td>0.0</td>\n",
       "      <td>0.0</td>\n",
       "    </tr>\n",
       "    <tr>\n",
       "      <th>53514</th>\n",
       "      <td>0.0</td>\n",
       "      <td>0.0</td>\n",
       "      <td>0.0</td>\n",
       "      <td>0.0</td>\n",
       "      <td>0.0</td>\n",
       "      <td>0.0</td>\n",
       "      <td>0.0</td>\n",
       "      <td>0.0</td>\n",
       "      <td>0.0</td>\n",
       "      <td>0.0</td>\n",
       "      <td>...</td>\n",
       "      <td>0.0</td>\n",
       "      <td>0.0</td>\n",
       "      <td>0.0</td>\n",
       "      <td>0.000000</td>\n",
       "      <td>0.0</td>\n",
       "      <td>0.0</td>\n",
       "      <td>0.0</td>\n",
       "      <td>0.0</td>\n",
       "      <td>0.0</td>\n",
       "      <td>0.0</td>\n",
       "    </tr>\n",
       "    <tr>\n",
       "      <th>53515</th>\n",
       "      <td>0.0</td>\n",
       "      <td>0.0</td>\n",
       "      <td>0.0</td>\n",
       "      <td>0.0</td>\n",
       "      <td>0.0</td>\n",
       "      <td>0.0</td>\n",
       "      <td>0.0</td>\n",
       "      <td>0.0</td>\n",
       "      <td>0.0</td>\n",
       "      <td>0.0</td>\n",
       "      <td>...</td>\n",
       "      <td>0.0</td>\n",
       "      <td>0.0</td>\n",
       "      <td>0.0</td>\n",
       "      <td>0.000000</td>\n",
       "      <td>0.0</td>\n",
       "      <td>0.0</td>\n",
       "      <td>0.0</td>\n",
       "      <td>0.0</td>\n",
       "      <td>0.0</td>\n",
       "      <td>0.0</td>\n",
       "    </tr>\n",
       "    <tr>\n",
       "      <th>53516</th>\n",
       "      <td>0.0</td>\n",
       "      <td>0.0</td>\n",
       "      <td>0.0</td>\n",
       "      <td>0.0</td>\n",
       "      <td>0.0</td>\n",
       "      <td>0.0</td>\n",
       "      <td>0.0</td>\n",
       "      <td>0.0</td>\n",
       "      <td>0.0</td>\n",
       "      <td>0.0</td>\n",
       "      <td>...</td>\n",
       "      <td>0.0</td>\n",
       "      <td>0.0</td>\n",
       "      <td>0.0</td>\n",
       "      <td>0.000000</td>\n",
       "      <td>0.0</td>\n",
       "      <td>0.0</td>\n",
       "      <td>0.0</td>\n",
       "      <td>0.0</td>\n",
       "      <td>0.0</td>\n",
       "      <td>0.0</td>\n",
       "    </tr>\n",
       "    <tr>\n",
       "      <th>53517</th>\n",
       "      <td>0.0</td>\n",
       "      <td>0.0</td>\n",
       "      <td>0.0</td>\n",
       "      <td>0.0</td>\n",
       "      <td>0.0</td>\n",
       "      <td>0.0</td>\n",
       "      <td>0.0</td>\n",
       "      <td>0.0</td>\n",
       "      <td>0.0</td>\n",
       "      <td>0.0</td>\n",
       "      <td>...</td>\n",
       "      <td>0.0</td>\n",
       "      <td>0.0</td>\n",
       "      <td>0.0</td>\n",
       "      <td>0.000000</td>\n",
       "      <td>0.0</td>\n",
       "      <td>0.0</td>\n",
       "      <td>0.0</td>\n",
       "      <td>0.0</td>\n",
       "      <td>0.0</td>\n",
       "      <td>0.0</td>\n",
       "    </tr>\n",
       "    <tr>\n",
       "      <th>53518</th>\n",
       "      <td>0.0</td>\n",
       "      <td>0.0</td>\n",
       "      <td>0.0</td>\n",
       "      <td>0.0</td>\n",
       "      <td>0.0</td>\n",
       "      <td>0.0</td>\n",
       "      <td>0.0</td>\n",
       "      <td>0.0</td>\n",
       "      <td>0.0</td>\n",
       "      <td>0.0</td>\n",
       "      <td>...</td>\n",
       "      <td>0.0</td>\n",
       "      <td>0.0</td>\n",
       "      <td>0.0</td>\n",
       "      <td>0.000000</td>\n",
       "      <td>0.0</td>\n",
       "      <td>0.0</td>\n",
       "      <td>0.0</td>\n",
       "      <td>0.0</td>\n",
       "      <td>0.0</td>\n",
       "      <td>0.0</td>\n",
       "    </tr>\n",
       "    <tr>\n",
       "      <th>53519</th>\n",
       "      <td>0.0</td>\n",
       "      <td>0.0</td>\n",
       "      <td>0.0</td>\n",
       "      <td>0.0</td>\n",
       "      <td>0.0</td>\n",
       "      <td>0.0</td>\n",
       "      <td>0.0</td>\n",
       "      <td>0.0</td>\n",
       "      <td>0.0</td>\n",
       "      <td>0.0</td>\n",
       "      <td>...</td>\n",
       "      <td>0.0</td>\n",
       "      <td>0.0</td>\n",
       "      <td>0.0</td>\n",
       "      <td>0.000000</td>\n",
       "      <td>0.0</td>\n",
       "      <td>0.0</td>\n",
       "      <td>0.0</td>\n",
       "      <td>0.0</td>\n",
       "      <td>0.0</td>\n",
       "      <td>0.0</td>\n",
       "    </tr>\n",
       "    <tr>\n",
       "      <th>53520</th>\n",
       "      <td>0.0</td>\n",
       "      <td>0.0</td>\n",
       "      <td>0.0</td>\n",
       "      <td>0.0</td>\n",
       "      <td>0.0</td>\n",
       "      <td>0.0</td>\n",
       "      <td>0.0</td>\n",
       "      <td>0.0</td>\n",
       "      <td>0.0</td>\n",
       "      <td>0.0</td>\n",
       "      <td>...</td>\n",
       "      <td>0.0</td>\n",
       "      <td>0.0</td>\n",
       "      <td>0.0</td>\n",
       "      <td>0.000000</td>\n",
       "      <td>0.0</td>\n",
       "      <td>0.0</td>\n",
       "      <td>0.0</td>\n",
       "      <td>0.0</td>\n",
       "      <td>0.0</td>\n",
       "      <td>0.0</td>\n",
       "    </tr>\n",
       "    <tr>\n",
       "      <th>53521</th>\n",
       "      <td>0.0</td>\n",
       "      <td>0.0</td>\n",
       "      <td>0.0</td>\n",
       "      <td>0.0</td>\n",
       "      <td>0.0</td>\n",
       "      <td>0.0</td>\n",
       "      <td>0.0</td>\n",
       "      <td>0.0</td>\n",
       "      <td>0.0</td>\n",
       "      <td>0.0</td>\n",
       "      <td>...</td>\n",
       "      <td>0.0</td>\n",
       "      <td>0.0</td>\n",
       "      <td>0.0</td>\n",
       "      <td>0.000000</td>\n",
       "      <td>0.0</td>\n",
       "      <td>0.0</td>\n",
       "      <td>0.0</td>\n",
       "      <td>0.0</td>\n",
       "      <td>0.0</td>\n",
       "      <td>0.0</td>\n",
       "    </tr>\n",
       "    <tr>\n",
       "      <th>53522</th>\n",
       "      <td>0.0</td>\n",
       "      <td>0.0</td>\n",
       "      <td>0.0</td>\n",
       "      <td>0.0</td>\n",
       "      <td>0.0</td>\n",
       "      <td>0.0</td>\n",
       "      <td>0.0</td>\n",
       "      <td>0.0</td>\n",
       "      <td>0.0</td>\n",
       "      <td>0.0</td>\n",
       "      <td>...</td>\n",
       "      <td>0.0</td>\n",
       "      <td>0.0</td>\n",
       "      <td>0.0</td>\n",
       "      <td>0.000000</td>\n",
       "      <td>0.0</td>\n",
       "      <td>0.0</td>\n",
       "      <td>0.0</td>\n",
       "      <td>0.0</td>\n",
       "      <td>0.0</td>\n",
       "      <td>0.0</td>\n",
       "    </tr>\n",
       "    <tr>\n",
       "      <th>53523</th>\n",
       "      <td>0.0</td>\n",
       "      <td>0.0</td>\n",
       "      <td>0.0</td>\n",
       "      <td>0.0</td>\n",
       "      <td>0.0</td>\n",
       "      <td>0.0</td>\n",
       "      <td>0.0</td>\n",
       "      <td>0.0</td>\n",
       "      <td>0.0</td>\n",
       "      <td>0.0</td>\n",
       "      <td>...</td>\n",
       "      <td>0.0</td>\n",
       "      <td>0.0</td>\n",
       "      <td>0.0</td>\n",
       "      <td>0.000000</td>\n",
       "      <td>0.0</td>\n",
       "      <td>0.0</td>\n",
       "      <td>0.0</td>\n",
       "      <td>0.0</td>\n",
       "      <td>0.0</td>\n",
       "      <td>0.0</td>\n",
       "    </tr>\n",
       "    <tr>\n",
       "      <th>53524</th>\n",
       "      <td>0.0</td>\n",
       "      <td>0.0</td>\n",
       "      <td>0.0</td>\n",
       "      <td>0.0</td>\n",
       "      <td>0.0</td>\n",
       "      <td>0.0</td>\n",
       "      <td>0.0</td>\n",
       "      <td>0.0</td>\n",
       "      <td>0.0</td>\n",
       "      <td>0.0</td>\n",
       "      <td>...</td>\n",
       "      <td>0.0</td>\n",
       "      <td>0.0</td>\n",
       "      <td>0.0</td>\n",
       "      <td>0.000000</td>\n",
       "      <td>0.0</td>\n",
       "      <td>0.0</td>\n",
       "      <td>0.0</td>\n",
       "      <td>0.0</td>\n",
       "      <td>0.0</td>\n",
       "      <td>0.0</td>\n",
       "    </tr>\n",
       "    <tr>\n",
       "      <th>53525</th>\n",
       "      <td>0.0</td>\n",
       "      <td>0.0</td>\n",
       "      <td>0.0</td>\n",
       "      <td>0.0</td>\n",
       "      <td>0.0</td>\n",
       "      <td>0.0</td>\n",
       "      <td>0.0</td>\n",
       "      <td>0.0</td>\n",
       "      <td>0.0</td>\n",
       "      <td>0.0</td>\n",
       "      <td>...</td>\n",
       "      <td>0.0</td>\n",
       "      <td>0.0</td>\n",
       "      <td>0.0</td>\n",
       "      <td>0.531105</td>\n",
       "      <td>0.0</td>\n",
       "      <td>0.0</td>\n",
       "      <td>0.0</td>\n",
       "      <td>0.0</td>\n",
       "      <td>0.0</td>\n",
       "      <td>0.0</td>\n",
       "    </tr>\n",
       "    <tr>\n",
       "      <th>53526</th>\n",
       "      <td>0.0</td>\n",
       "      <td>0.0</td>\n",
       "      <td>0.0</td>\n",
       "      <td>0.0</td>\n",
       "      <td>0.0</td>\n",
       "      <td>0.0</td>\n",
       "      <td>0.0</td>\n",
       "      <td>0.0</td>\n",
       "      <td>0.0</td>\n",
       "      <td>0.0</td>\n",
       "      <td>...</td>\n",
       "      <td>0.0</td>\n",
       "      <td>0.0</td>\n",
       "      <td>0.0</td>\n",
       "      <td>0.000000</td>\n",
       "      <td>0.0</td>\n",
       "      <td>0.0</td>\n",
       "      <td>0.0</td>\n",
       "      <td>0.0</td>\n",
       "      <td>0.0</td>\n",
       "      <td>0.0</td>\n",
       "    </tr>\n",
       "    <tr>\n",
       "      <th>53527</th>\n",
       "      <td>0.0</td>\n",
       "      <td>0.0</td>\n",
       "      <td>0.0</td>\n",
       "      <td>0.0</td>\n",
       "      <td>0.0</td>\n",
       "      <td>0.0</td>\n",
       "      <td>0.0</td>\n",
       "      <td>0.0</td>\n",
       "      <td>0.0</td>\n",
       "      <td>0.0</td>\n",
       "      <td>...</td>\n",
       "      <td>0.0</td>\n",
       "      <td>0.0</td>\n",
       "      <td>0.0</td>\n",
       "      <td>0.000000</td>\n",
       "      <td>0.0</td>\n",
       "      <td>0.0</td>\n",
       "      <td>0.0</td>\n",
       "      <td>0.0</td>\n",
       "      <td>0.0</td>\n",
       "      <td>0.0</td>\n",
       "    </tr>\n",
       "    <tr>\n",
       "      <th>53528</th>\n",
       "      <td>0.0</td>\n",
       "      <td>0.0</td>\n",
       "      <td>0.0</td>\n",
       "      <td>0.0</td>\n",
       "      <td>0.0</td>\n",
       "      <td>0.0</td>\n",
       "      <td>0.0</td>\n",
       "      <td>0.0</td>\n",
       "      <td>0.0</td>\n",
       "      <td>0.0</td>\n",
       "      <td>...</td>\n",
       "      <td>0.0</td>\n",
       "      <td>0.0</td>\n",
       "      <td>0.0</td>\n",
       "      <td>0.000000</td>\n",
       "      <td>0.0</td>\n",
       "      <td>0.0</td>\n",
       "      <td>0.0</td>\n",
       "      <td>0.0</td>\n",
       "      <td>0.0</td>\n",
       "      <td>0.0</td>\n",
       "    </tr>\n",
       "    <tr>\n",
       "      <th>53529</th>\n",
       "      <td>0.0</td>\n",
       "      <td>0.0</td>\n",
       "      <td>0.0</td>\n",
       "      <td>0.0</td>\n",
       "      <td>0.0</td>\n",
       "      <td>0.0</td>\n",
       "      <td>0.0</td>\n",
       "      <td>0.0</td>\n",
       "      <td>0.0</td>\n",
       "      <td>0.0</td>\n",
       "      <td>...</td>\n",
       "      <td>0.0</td>\n",
       "      <td>0.0</td>\n",
       "      <td>0.0</td>\n",
       "      <td>0.000000</td>\n",
       "      <td>0.0</td>\n",
       "      <td>0.0</td>\n",
       "      <td>0.0</td>\n",
       "      <td>0.0</td>\n",
       "      <td>0.0</td>\n",
       "      <td>0.0</td>\n",
       "    </tr>\n",
       "    <tr>\n",
       "      <th>53530</th>\n",
       "      <td>0.0</td>\n",
       "      <td>0.0</td>\n",
       "      <td>0.0</td>\n",
       "      <td>0.0</td>\n",
       "      <td>0.0</td>\n",
       "      <td>0.0</td>\n",
       "      <td>0.0</td>\n",
       "      <td>0.0</td>\n",
       "      <td>0.0</td>\n",
       "      <td>0.0</td>\n",
       "      <td>...</td>\n",
       "      <td>0.0</td>\n",
       "      <td>0.0</td>\n",
       "      <td>0.0</td>\n",
       "      <td>0.000000</td>\n",
       "      <td>0.0</td>\n",
       "      <td>0.0</td>\n",
       "      <td>0.0</td>\n",
       "      <td>0.0</td>\n",
       "      <td>0.0</td>\n",
       "      <td>0.0</td>\n",
       "    </tr>\n",
       "  </tbody>\n",
       "</table>\n",
       "<p>53531 rows × 3334 columns</p>\n",
       "</div>"
      ],
      "text/plain": [
       "       000   04   05   10  100  101  10th   11   12  123  ...   york  young  \\\n",
       "0      0.0  0.0  0.0  0.0  0.0  0.0   0.0  0.0  0.0  0.0  ...    0.0    0.0   \n",
       "1      0.0  0.0  0.0  0.0  0.0  0.0   0.0  0.0  0.0  0.0  ...    0.0    0.0   \n",
       "2      0.0  0.0  0.0  0.0  0.0  0.0   0.0  0.0  0.0  0.0  ...    0.0    0.0   \n",
       "3      0.0  0.0  0.0  0.0  0.0  0.0   0.0  0.0  0.0  0.0  ...    0.0    0.0   \n",
       "4      0.0  0.0  0.0  0.0  0.0  0.0   0.0  0.0  0.0  0.0  ...    0.0    0.0   \n",
       "5      0.0  0.0  0.0  0.0  0.0  0.0   0.0  0.0  0.0  0.0  ...    0.0    0.0   \n",
       "6      0.0  0.0  0.0  0.0  0.0  0.0   0.0  0.0  0.0  0.0  ...    0.0    0.0   \n",
       "7      0.0  0.0  0.0  0.0  0.0  0.0   0.0  0.0  0.0  0.0  ...    0.0    0.0   \n",
       "8      0.0  0.0  0.0  0.0  0.0  0.0   0.0  0.0  0.0  0.0  ...    0.0    0.0   \n",
       "9      0.0  0.0  0.0  0.0  0.0  0.0   0.0  0.0  0.0  0.0  ...    0.0    0.0   \n",
       "10     0.0  0.0  0.0  0.0  0.0  0.0   0.0  0.0  0.0  0.0  ...    0.0    0.0   \n",
       "11     0.0  0.0  0.0  0.0  0.0  0.0   0.0  0.0  0.0  0.0  ...    0.0    0.0   \n",
       "12     0.0  0.0  0.0  0.0  0.0  0.0   0.0  0.0  0.0  0.0  ...    0.0    0.0   \n",
       "13     0.0  0.0  0.0  0.0  0.0  0.0   0.0  0.0  0.0  0.0  ...    0.0    0.0   \n",
       "14     0.0  0.0  0.0  0.0  0.0  0.0   0.0  0.0  0.0  0.0  ...    0.0    0.0   \n",
       "15     0.0  0.0  0.0  0.0  0.0  0.0   0.0  0.0  0.0  0.0  ...    0.0    0.0   \n",
       "16     0.0  0.0  0.0  0.0  0.0  0.0   0.0  0.0  0.0  0.0  ...    0.0    0.0   \n",
       "17     0.0  0.0  0.0  0.0  0.0  0.0   0.0  0.0  0.0  0.0  ...    0.0    0.0   \n",
       "18     0.0  0.0  0.0  0.0  0.0  0.0   0.0  0.0  0.0  0.0  ...    0.0    0.0   \n",
       "19     0.0  0.0  0.0  0.0  0.0  0.0   0.0  0.0  0.0  0.0  ...    0.0    0.0   \n",
       "20     0.0  0.0  0.0  0.0  0.0  0.0   0.0  0.0  0.0  0.0  ...    0.0    0.0   \n",
       "21     0.0  0.0  0.0  0.0  0.0  0.0   0.0  0.0  0.0  0.0  ...    0.0    0.0   \n",
       "22     0.0  0.0  0.0  0.0  0.0  0.0   0.0  0.0  0.0  0.0  ...    0.0    0.0   \n",
       "23     0.0  0.0  0.0  0.0  0.0  0.0   0.0  0.0  0.0  0.0  ...    0.0    0.0   \n",
       "24     0.0  0.0  0.0  0.0  0.0  0.0   0.0  0.0  0.0  0.0  ...    0.0    0.0   \n",
       "25     0.0  0.0  0.0  0.0  0.0  0.0   0.0  0.0  0.0  0.0  ...    0.0    0.0   \n",
       "26     0.0  0.0  0.0  0.0  0.0  0.0   0.0  0.0  0.0  0.0  ...    0.0    0.0   \n",
       "27     0.0  0.0  0.0  0.0  0.0  0.0   0.0  0.0  0.0  0.0  ...    0.0    0.0   \n",
       "28     0.0  0.0  0.0  0.0  0.0  0.0   0.0  0.0  0.0  0.0  ...    0.0    0.0   \n",
       "29     0.0  0.0  0.0  0.0  0.0  0.0   0.0  0.0  0.0  0.0  ...    0.0    0.0   \n",
       "...    ...  ...  ...  ...  ...  ...   ...  ...  ...  ...  ...    ...    ...   \n",
       "53501  0.0  0.0  0.0  0.0  0.0  0.0   0.0  0.0  0.0  0.0  ...    0.0    0.0   \n",
       "53502  0.0  0.0  0.0  0.0  0.0  0.0   0.0  0.0  0.0  0.0  ...    0.0    0.0   \n",
       "53503  0.0  0.0  0.0  0.0  0.0  0.0   0.0  0.0  0.0  0.0  ...    0.0    0.0   \n",
       "53504  0.0  0.0  0.0  0.0  0.0  0.0   0.0  0.0  0.0  0.0  ...    0.0    0.0   \n",
       "53505  0.0  0.0  0.0  0.0  0.0  0.0   0.0  0.0  0.0  0.0  ...    0.0    0.0   \n",
       "53506  0.0  0.0  0.0  0.0  0.0  0.0   0.0  0.0  0.0  0.0  ...    0.0    0.0   \n",
       "53507  0.0  0.0  0.0  0.0  0.0  0.0   0.0  0.0  0.0  0.0  ...    0.0    0.0   \n",
       "53508  0.0  0.0  0.0  0.0  0.0  0.0   0.0  0.0  0.0  0.0  ...    0.0    0.0   \n",
       "53509  0.0  0.0  0.0  0.0  0.0  0.0   0.0  0.0  0.0  0.0  ...    0.0    0.0   \n",
       "53510  0.0  0.0  0.0  0.0  0.0  0.0   0.0  0.0  0.0  0.0  ...    0.0    0.0   \n",
       "53511  0.0  0.0  0.0  0.0  0.0  0.0   0.0  0.0  0.0  0.0  ...    0.0    0.0   \n",
       "53512  0.0  0.0  0.0  0.0  0.0  0.0   0.0  0.0  0.0  0.0  ...    0.0    0.0   \n",
       "53513  0.0  0.0  0.0  0.0  0.0  0.0   0.0  0.0  0.0  0.0  ...    0.0    0.0   \n",
       "53514  0.0  0.0  0.0  0.0  0.0  0.0   0.0  0.0  0.0  0.0  ...    0.0    0.0   \n",
       "53515  0.0  0.0  0.0  0.0  0.0  0.0   0.0  0.0  0.0  0.0  ...    0.0    0.0   \n",
       "53516  0.0  0.0  0.0  0.0  0.0  0.0   0.0  0.0  0.0  0.0  ...    0.0    0.0   \n",
       "53517  0.0  0.0  0.0  0.0  0.0  0.0   0.0  0.0  0.0  0.0  ...    0.0    0.0   \n",
       "53518  0.0  0.0  0.0  0.0  0.0  0.0   0.0  0.0  0.0  0.0  ...    0.0    0.0   \n",
       "53519  0.0  0.0  0.0  0.0  0.0  0.0   0.0  0.0  0.0  0.0  ...    0.0    0.0   \n",
       "53520  0.0  0.0  0.0  0.0  0.0  0.0   0.0  0.0  0.0  0.0  ...    0.0    0.0   \n",
       "53521  0.0  0.0  0.0  0.0  0.0  0.0   0.0  0.0  0.0  0.0  ...    0.0    0.0   \n",
       "53522  0.0  0.0  0.0  0.0  0.0  0.0   0.0  0.0  0.0  0.0  ...    0.0    0.0   \n",
       "53523  0.0  0.0  0.0  0.0  0.0  0.0   0.0  0.0  0.0  0.0  ...    0.0    0.0   \n",
       "53524  0.0  0.0  0.0  0.0  0.0  0.0   0.0  0.0  0.0  0.0  ...    0.0    0.0   \n",
       "53525  0.0  0.0  0.0  0.0  0.0  0.0   0.0  0.0  0.0  0.0  ...    0.0    0.0   \n",
       "53526  0.0  0.0  0.0  0.0  0.0  0.0   0.0  0.0  0.0  0.0  ...    0.0    0.0   \n",
       "53527  0.0  0.0  0.0  0.0  0.0  0.0   0.0  0.0  0.0  0.0  ...    0.0    0.0   \n",
       "53528  0.0  0.0  0.0  0.0  0.0  0.0   0.0  0.0  0.0  0.0  ...    0.0    0.0   \n",
       "53529  0.0  0.0  0.0  0.0  0.0  0.0   0.0  0.0  0.0  0.0  ...    0.0    0.0   \n",
       "53530  0.0  0.0  0.0  0.0  0.0  0.0   0.0  0.0  0.0  0.0  ...    0.0    0.0   \n",
       "\n",
       "       youngest     youth  yummy  zen  zenergy  zone  zoo  zoom  \n",
       "0           0.0  0.000000    0.0  0.0      0.0   0.0  0.0   0.0  \n",
       "1           0.0  0.000000    0.0  0.0      0.0   0.0  0.0   0.0  \n",
       "2           0.0  0.000000    0.0  0.0      0.0   0.0  0.0   0.0  \n",
       "3           0.0  0.000000    0.0  0.0      0.0   0.0  0.0   0.0  \n",
       "4           0.0  0.000000    0.0  0.0      0.0   0.0  0.0   0.0  \n",
       "5           0.0  0.000000    0.0  0.0      0.0   0.0  0.0   0.0  \n",
       "6           0.0  0.000000    0.0  0.0      0.0   0.0  0.0   0.0  \n",
       "7           0.0  0.000000    0.0  0.0      0.0   0.0  0.0   0.0  \n",
       "8           0.0  0.000000    0.0  0.0      0.0   0.0  0.0   0.0  \n",
       "9           0.0  0.000000    0.0  0.0      0.0   0.0  0.0   0.0  \n",
       "10          0.0  0.000000    0.0  0.0      0.0   0.0  0.0   0.0  \n",
       "11          0.0  0.000000    0.0  0.0      0.0   0.0  0.0   0.0  \n",
       "12          0.0  0.000000    0.0  0.0      0.0   0.0  0.0   0.0  \n",
       "13          0.0  0.000000    0.0  0.0      0.0   0.0  0.0   0.0  \n",
       "14          0.0  0.000000    0.0  0.0      0.0   0.0  0.0   0.0  \n",
       "15          0.0  0.000000    0.0  0.0      0.0   0.0  0.0   0.0  \n",
       "16          0.0  0.000000    0.0  0.0      0.0   0.0  0.0   0.0  \n",
       "17          0.0  0.000000    0.0  0.0      0.0   0.0  0.0   0.0  \n",
       "18          0.0  0.000000    0.0  0.0      0.0   0.0  0.0   0.0  \n",
       "19          0.0  0.000000    0.0  0.0      0.0   0.0  0.0   0.0  \n",
       "20          0.0  0.000000    0.0  0.0      0.0   0.0  0.0   0.0  \n",
       "21          0.0  0.000000    0.0  0.0      0.0   0.0  0.0   0.0  \n",
       "22          0.0  0.000000    0.0  0.0      0.0   0.0  0.0   0.0  \n",
       "23          0.0  0.000000    0.0  0.0      0.0   0.0  0.0   0.0  \n",
       "24          0.0  0.000000    0.0  0.0      0.0   0.0  0.0   0.0  \n",
       "25          0.0  0.000000    0.0  0.0      0.0   0.0  0.0   0.0  \n",
       "26          0.0  0.000000    0.0  0.0      0.0   0.0  0.0   0.0  \n",
       "27          0.0  0.000000    0.0  0.0      0.0   0.0  0.0   0.0  \n",
       "28          0.0  0.000000    0.0  0.0      0.0   0.0  0.0   0.0  \n",
       "29          0.0  0.000000    0.0  0.0      0.0   0.0  0.0   0.0  \n",
       "...         ...       ...    ...  ...      ...   ...  ...   ...  \n",
       "53501       0.0  0.000000    0.0  0.0      0.0   0.0  0.0   0.0  \n",
       "53502       0.0  0.000000    0.0  0.0      0.0   0.0  0.0   0.0  \n",
       "53503       0.0  0.000000    0.0  0.0      0.0   0.0  0.0   0.0  \n",
       "53504       0.0  0.000000    0.0  0.0      0.0   0.0  0.0   0.0  \n",
       "53505       0.0  0.000000    0.0  0.0      0.0   0.0  0.0   0.0  \n",
       "53506       0.0  0.000000    0.0  0.0      0.0   0.0  0.0   0.0  \n",
       "53507       0.0  0.000000    0.0  0.0      0.0   0.0  0.0   0.0  \n",
       "53508       0.0  0.000000    0.0  0.0      0.0   0.0  0.0   0.0  \n",
       "53509       0.0  0.000000    0.0  0.0      0.0   0.0  0.0   0.0  \n",
       "53510       0.0  0.000000    0.0  0.0      0.0   0.0  0.0   0.0  \n",
       "53511       0.0  0.000000    0.0  0.0      0.0   0.0  0.0   0.0  \n",
       "53512       0.0  0.000000    0.0  0.0      0.0   0.0  0.0   0.0  \n",
       "53513       0.0  0.000000    0.0  0.0      0.0   0.0  0.0   0.0  \n",
       "53514       0.0  0.000000    0.0  0.0      0.0   0.0  0.0   0.0  \n",
       "53515       0.0  0.000000    0.0  0.0      0.0   0.0  0.0   0.0  \n",
       "53516       0.0  0.000000    0.0  0.0      0.0   0.0  0.0   0.0  \n",
       "53517       0.0  0.000000    0.0  0.0      0.0   0.0  0.0   0.0  \n",
       "53518       0.0  0.000000    0.0  0.0      0.0   0.0  0.0   0.0  \n",
       "53519       0.0  0.000000    0.0  0.0      0.0   0.0  0.0   0.0  \n",
       "53520       0.0  0.000000    0.0  0.0      0.0   0.0  0.0   0.0  \n",
       "53521       0.0  0.000000    0.0  0.0      0.0   0.0  0.0   0.0  \n",
       "53522       0.0  0.000000    0.0  0.0      0.0   0.0  0.0   0.0  \n",
       "53523       0.0  0.000000    0.0  0.0      0.0   0.0  0.0   0.0  \n",
       "53524       0.0  0.000000    0.0  0.0      0.0   0.0  0.0   0.0  \n",
       "53525       0.0  0.531105    0.0  0.0      0.0   0.0  0.0   0.0  \n",
       "53526       0.0  0.000000    0.0  0.0      0.0   0.0  0.0   0.0  \n",
       "53527       0.0  0.000000    0.0  0.0      0.0   0.0  0.0   0.0  \n",
       "53528       0.0  0.000000    0.0  0.0      0.0   0.0  0.0   0.0  \n",
       "53529       0.0  0.000000    0.0  0.0      0.0   0.0  0.0   0.0  \n",
       "53530       0.0  0.000000    0.0  0.0      0.0   0.0  0.0   0.0  \n",
       "\n",
       "[53531 rows x 3334 columns]"
      ]
     },
     "execution_count": 46,
     "metadata": {},
     "output_type": "execute_result"
    }
   ],
   "source": [
    "pd.DataFrame(X_train_cleaned_title_tfidf.toarray(),columns=vectorizer9.get_feature_names())"
   ]
  },
  {
   "cell_type": "markdown",
   "metadata": {},
   "source": [
    "## Merging all the above features\n",
    "    --we need to merge all the numerical vectors i.e catogorical, text, numerical vectors"
   ]
  },
  {
   "cell_type": "code",
   "execution_count": 47,
   "metadata": {
    "ExecuteTime": {
     "end_time": "2019-12-03T05:46:17.590480Z",
     "start_time": "2019-12-03T05:46:11.238994Z"
    }
   },
   "outputs": [
    {
     "name": "stdout",
     "output_type": "stream",
     "text": [
      "(53531, 107898)\n",
      "(32775, 107898)\n",
      "(22942, 107898)\n"
     ]
    }
   ],
   "source": [
    "# merge two sparse matrices: https://stackoverflow.com/a/19710648/4084039\n",
    "from scipy.sparse import hstack\n",
    "\n",
    "# with the same hstack function we are concatinating a sparse matrix and a dense matirx :)\n",
    "X_train_bow = hstack((X_train_clean_categories, X_train_clean_sub_categories,X_train_skl_state,X_train_teacher_prefix,\n",
    "            X_train_project_grade_category,X_train_prev_proj,X_train_price_standardized,X_train_quantity_standardized,X_train_essay_count_standardized,X_train_title_count_standardized,\n",
    "            X_train_essay_bow,X_train_cleaned_title_bow\n",
    "            )).tocsr()\n",
    "\n",
    "\n",
    "X_test_bow = hstack((X_test_clean_categories, X_test_clean_sub_categories,X_test_skl_state,X_test_teacher_prefix,\n",
    "            X_test_project_grade_category,X_test_prev_proj,X_test_price_standardized,X_test_quantity_standardized,X_test_essay_count_standardized,X_test_title_count_standardized,\n",
    "            X_test_essay_bow,X_test_cleaned_title_bow\n",
    "            )).tocsr()\n",
    "\n",
    "\n",
    "X_cv_bow = hstack((X_cv_clean_categories, X_cv_clean_sub_categories,X_cv_skl_state,X_cv_teacher_prefix,\n",
    "            X_cv_project_grade_category,X_cv_prev_proj,X_cv_price_standardized,X_cv_quantity_standardized,X_cv_essay_count_standardized,X_cv_title_count_standardized,\n",
    "            X_cv_essay_bow,X_cv_cleaned_title_bow\n",
    "            )).tocsr()\n",
    "\n",
    "\n",
    "\n",
    "print(X_train_bow.shape)\n",
    "print(X_test_bow.shape)\n",
    "print(X_cv_bow.shape)\n"
   ]
  },
  {
   "cell_type": "code",
   "execution_count": 48,
   "metadata": {
    "ExecuteTime": {
     "end_time": "2019-12-03T05:46:23.832531Z",
     "start_time": "2019-12-03T05:46:17.590480Z"
    }
   },
   "outputs": [
    {
     "name": "stdout",
     "output_type": "stream",
     "text": [
      "(53531, 107898)\n",
      "(32775, 107898)\n",
      "(22942, 107898)\n"
     ]
    }
   ],
   "source": [
    "# with the same hstack function we are concatinating a sparse matrix and a dense matirx :)\n",
    "X_train_tfidf = hstack((X_train_clean_categories, X_train_clean_sub_categories,X_train_skl_state,X_train_teacher_prefix,\n",
    "            X_train_project_grade_category,X_train_prev_proj,X_train_price_standardized,X_train_quantity_standardized,X_train_essay_count_standardized,X_train_title_count_standardized,\n",
    "            X_train_essay_tfidf,X_train_cleaned_title_tfidf\n",
    "            )).tocsr()\n",
    "\n",
    "\n",
    "X_test_tfidf = hstack((X_test_clean_categories, X_test_clean_sub_categories,X_test_skl_state,X_test_teacher_prefix,\n",
    "            X_test_project_grade_category,X_test_prev_proj,X_test_price_standardized,X_test_quantity_standardized,X_test_essay_count_standardized,X_test_title_count_standardized,\n",
    "            X_test_essay_tfidf,X_test_cleaned_title_tfidf\n",
    "            )).tocsr()\n",
    "\n",
    "\n",
    "X_cv_tfidf = hstack((X_cv_clean_categories, X_cv_clean_sub_categories,X_cv_skl_state,X_cv_teacher_prefix,\n",
    "            X_cv_project_grade_category,X_cv_prev_proj,X_cv_price_standardized,X_cv_quantity_standardized,X_cv_essay_count_standardized,X_cv_title_count_standardized,\n",
    "            X_cv_essay_tfidf,X_cv_cleaned_title_tfidf\n",
    "            )).tocsr()\n",
    "\n",
    "\n",
    "\n",
    "print(X_train_tfidf.shape)\n",
    "print(X_test_tfidf.shape)\n",
    "print(X_cv_tfidf.shape)\n"
   ]
  },
  {
   "cell_type": "markdown",
   "metadata": {
    "colab_type": "text",
    "id": "58YP-aXEN1OB"
   },
   "source": [
    "# Assignment 4: Naive Bayes"
   ]
  },
  {
   "cell_type": "markdown",
   "metadata": {
    "colab_type": "text",
    "id": "cdOrIZk5N1OB"
   },
   "source": [
    "<ol>\n",
    "    <li><strong>Apply Multinomial NaiveBayes on these feature sets</strong>\n",
    "        <ul>\n",
    "            <li><font color='red'>Set 1</font>: categorical, numerical features + project_title(BOW) + preprocessed_eassay (BOW)</li>\n",
    "            <li><font color='red'>Set 2</font>: categorical, numerical features + project_title(TFIDF)+  preprocessed_eassay (TFIDF)</li>\n",
    "        </ul>\n",
    "    </li>\n",
    "    <br>\n",
    "    <li><strong>The hyper paramter tuning(find best Alpha)</strong>\n",
    "        <ul>\n",
    "    <li>Find the best hyper parameter which will give the maximum <a href='https://www.appliedaicourse.com/course/applied-ai-course-online/lessons/receiver-operating-characteristic-curve-roc-curve-and-auc-1/'>AUC</a> value</li>\n",
    "    <li>Consider a wide range of alpha values for hyperparameter tuning, start as low as 0.00001</li>\n",
    "    <li>Find the best hyper paramter using k-fold cross validation or simple cross validation data</li>\n",
    "    <li>Use gridsearch cv or randomsearch cv or you can also write your own for loops to do this task of hyperparameter tuning</li>\n",
    "        </ul>\n",
    "    </li>\n",
    "    <br>\n",
    "    <li><strong>Feature importance</strong>\n",
    "        <ul>\n",
    "    <li>Find the top 10 features of positive class and top 10 features of negative class for both feature sets <font color='red'>Set 1</font> and <font color='red'>Set 2</font> using absolute values of `coef_` parameter of  <a href='https://scikit-learn.org/stable/modules/generated/sklearn.naive_bayes.MultinomialNB.html'>MultinomialNB</a> and print their corresponding feature names</li>\n",
    "        </ul>\n",
    "    </li>\n",
    "    <br>\n",
    "    <li><strong>Representation of results</strong>\n",
    "        <ul>\n",
    "    <li>You need to plot the performance of model both on train data and cross validation data for each hyper parameter, like shown in the figure. Here on X-axis you will have alpha values, since they have a wide range, just to represent those alpha values on the graph, apply log function on those alpha values.\n",
    "    <img src='train_cv_auc.JPG' width=300px></li>\n",
    "    <li>Once after you found the best hyper parameter, you need to train your model with it, and find the AUC on test data and plot the ROC curve on both train and test.\n",
    "    <img src='train_test_auc.JPG' width=300px></li>\n",
    "    <li>Along with plotting ROC curve, you need to print the <a href='https://www.appliedaicourse.com/course/applied-ai-course-online/lessons/confusion-matrix-tpr-fpr-fnr-tnr-1/'>confusion matrix</a> with predicted and original labels of test data points. Please visualize your confusion matrices using <a href='https://seaborn.pydata.org/generated/seaborn.heatmap.html'>seaborn heatmaps.\n",
    "    <img src='confusion_matrix.png' width=300px></li>\n",
    "        </ul>\n",
    "    </li>\n",
    "    <br>\n",
    "    <li><strong>Conclusion</strong>\n",
    "        <ul>\n",
    "    <li>You need to summarize the results at the end of the notebook, summarize it in the table format. To print out a table please refer to this prettytable library<a href='http://zetcode.com/python/prettytable/'>  link</a> \n",
    "        <img src='summary.JPG' width=400px>\n",
    "    </li>\n",
    "        </ul>\n",
    "</ol>"
   ]
  },
  {
   "cell_type": "markdown",
   "metadata": {
    "colab_type": "text",
    "id": "dQY4H_DjN1OC"
   },
   "source": [
    "<h1>Naive Bayes </h1>"
   ]
  },
  {
   "cell_type": "markdown",
   "metadata": {
    "colab_type": "text",
    "id": "tJemgtg6N1OM"
   },
   "source": [
    "<h2>Appling NB() on different kind of featurization as mentioned in the instructions</h2>\n",
    "<br>Apply Naive Bayes on different kind of featurization as mentioned in the instructions\n",
    "<br> For Every model that you work on make sure you do the step 2 and step 3 of instrucations"
   ]
  },
  {
   "cell_type": "markdown",
   "metadata": {
    "colab_type": "text",
    "id": "xzli_RRdN1OM"
   },
   "source": [
    "### Applying Naive Bayes on BOW,<font color='red'> SET 1</font>"
   ]
  },
  {
   "cell_type": "code",
   "execution_count": 49,
   "metadata": {
    "ExecuteTime": {
     "end_time": "2019-12-03T05:46:27.659991Z",
     "start_time": "2019-12-03T05:46:23.832531Z"
    },
    "colab": {},
    "colab_type": "code",
    "id": "G8sy7LJmN1OO"
   },
   "outputs": [
    {
     "name": "stderr",
     "output_type": "stream",
     "text": [
      "100%|██████████████████████████████████████████████████████████████████████████████████| 10/10 [00:03<00:00,  2.67it/s]\n"
     ]
    },
    {
     "name": "stdout",
     "output_type": "stream",
     "text": [
      "{1e-05: 0.66152146104053844, 0.0001: 0.67491215209550282, 0.001: 0.68668909577056625, 0.01: 0.69720693535987377, 0.1: 0.70416558860397083, 1: 0.70350758071303043, 10: 0.62483456471668353, 100: 0.5, 1000: 0.5}\n",
      "{1e-05: 0.96434304273262716, 0.0001: 0.95963603002349762, 0.001: 0.95252430968095447, 0.01: 0.94119848221110591, 0.1: 0.92163048383794655, 1: 0.87981516490576162, 10: 0.72581729991013488, 100: 0.5, 1000: 0.5}\n"
     ]
    }
   ],
   "source": [
    "# Please write all the code with proper documentation\n",
    "from sklearn.metrics import roc_auc_score,auc\n",
    "from sklearn.naive_bayes import MultinomialNB\n",
    "summary=[]\n",
    "roc_auc_score_cv_bow_dict={}\n",
    "roc_auc_score_train_bow_dict={}\n",
    "\n",
    "alpha=[0.00001,0.0001,0.001,0.01,0.1,1,10,100,1000,1000]\n",
    "for i in tqdm(alpha):\n",
    "    # create instance of model\n",
    "    nb=MultinomialNB(alpha=i, class_prior=[0.5, 0.5])\n",
    "     # fitting the model on crossvalidation train\n",
    "    nb.fit(X_train_bow, y_train)\n",
    "\n",
    "    # predict the response on the crossvalidation train\n",
    "    pred_bow_cv = nb.predict_log_proba(X_cv_bow)\n",
    "    \n",
    "    #evaluate CV roc_auc\n",
    "    roc_auc_cv =roc_auc_score(y_cv,pred_bow_cv[:,1])\n",
    "    \n",
    "    #insert into dict\n",
    "    roc_auc_score_cv_bow_dict[i]=roc_auc_cv\n",
    "    \n",
    "     # fitting the model on crossvalidation train\n",
    "    nb.fit(X_train_bow, y_train)\n",
    "\n",
    "    # predict the response on the train\n",
    "    pred_bow_train = nb.predict_log_proba(X_train_bow)\n",
    "    \n",
    "    #evaluate train roc_auc\n",
    "    roc_auc_train =roc_auc_score(y_train,pred_bow_train[:,1])\n",
    "    \n",
    "    #insert into dict\n",
    "    roc_auc_score_train_bow_dict[i]=roc_auc_train\n",
    "    \n",
    "    \n",
    "    \n",
    "print(roc_auc_score_cv_bow_dict)\n",
    "print(roc_auc_score_train_bow_dict)"
   ]
  },
  {
   "cell_type": "markdown",
   "metadata": {},
   "source": [
    "#### Plot ROC_AUC_score VS different alpha values (Train and CV set"
   ]
  },
  {
   "cell_type": "code",
   "execution_count": 50,
   "metadata": {
    "ExecuteTime": {
     "end_time": "2019-12-03T05:46:27.979546Z",
     "start_time": "2019-12-03T05:46:27.659991Z"
    }
   },
   "outputs": [
    {
     "data": {
      "image/png": "[encoded data removed]",
      "text/plain": [
       "<matplotlib.figure.Figure at 0x1cb5a72bfd0>"
      ]
     },
     "metadata": {},
     "output_type": "display_data"
    }
   ],
   "source": [
    "#https://stackoverflow.com/questions/37266341/plotting-a-python-dict-in-order-of-key-values/37266356\n",
    "import math\n",
    "\n",
    "lists1 = sorted(roc_auc_score_cv_bow_dict.items())\n",
    "x1, y1 = zip(*lists1) # unpack a list of pairs into two tuples\n",
    "\n",
    "lists2 = sorted(roc_auc_score_train_bow_dict.items())\n",
    "x2, y2 = zip(*lists2) # unpack a list of pairs into two tuples\n",
    "\n",
    "x1=[math.log10(i) for i in list(x1)]\n",
    "x2=[math.log10(i) for i in list(x2)]\n",
    "\n",
    "plt.xlabel('log10(alpha)')\n",
    "plt.ylabel('roc_auc_score')\n",
    "plt.title('Hyper parameter tuning')\n",
    "\n",
    "plt.plot(x1, y1,label=\"CV\")\n",
    "plt.plot(x2, y2,label='Train')\n",
    "\n",
    "plt.scatter(x1, y1, label='CV AUC points')\n",
    "plt.scatter(x2, y2, label='Train AUC points')\n",
    "\n",
    "plt.grid()\n",
    "plt.legend()\n",
    "plt.show()"
   ]
  },
  {
   "cell_type": "markdown",
   "metadata": {},
   "source": [
    "#### Find the best alpha value from the result"
   ]
  },
  {
   "cell_type": "code",
   "execution_count": 51,
   "metadata": {
    "ExecuteTime": {
     "end_time": "2019-12-03T05:46:28.007307Z",
     "start_time": "2019-12-03T05:46:27.979546Z"
    },
    "collapsed": true
   },
   "outputs": [],
   "source": [
    "# This function returns the key (K) with max value in the dictionary\n",
    "def find_highest_alpha(mydict):\n",
    "    #print dictionary contents\n",
    "    print(\"Dictionary Contents-->\\n\",mydict)\n",
    "    print(\"=\"*50)\n",
    "    #find maximum value from dixtionary\n",
    "    maxval=max(mydict.values())\n",
    "    \n",
    "    # make a list of keys\n",
    "    keys = list(mydict.keys())\n",
    "    print(\"Keys in the list are-->\\n\", keys)\n",
    "    print(\"=\"*50)\n",
    "    # make a list of values\n",
    "    vals = list(mydict.values())\n",
    "    print(\"Values in the list are-->\\n\", vals)\n",
    "    print(\"=\"*50)\n",
    "    # find the index of max value and use it to find corresponding key\n",
    "    k=(keys[vals.index(maxval)])\n",
    "    print(\"Maximum k is {0} \".format(k))\n",
    "    print(\"=\"*50)\n",
    "    return(k)"
   ]
  },
  {
   "cell_type": "markdown",
   "metadata": {},
   "source": [
    "#### Train the model on the optimal alpha value and run the Test Dataset\n",
    " \n",
    "    -- Plot the ROC curve for BOW using the test and train Dataset"
   ]
  },
  {
   "cell_type": "code",
   "execution_count": 52,
   "metadata": {
    "ExecuteTime": {
     "end_time": "2019-12-03T05:46:29.562059Z",
     "start_time": "2019-12-03T05:46:28.010306Z"
    }
   },
   "outputs": [
    {
     "name": "stdout",
     "output_type": "stream",
     "text": [
      "Dictionary Contents-->\n",
      " {1e-05: 0.66152146104053844, 0.0001: 0.67491215209550282, 0.001: 0.68668909577056625, 0.01: 0.69720693535987377, 0.1: 0.70416558860397083, 1: 0.70350758071303043, 10: 0.62483456471668353, 100: 0.5, 1000: 0.5}\n",
      "==================================================\n",
      "Keys in the list are-->\n",
      " [1e-05, 0.0001, 0.001, 0.01, 0.1, 1, 10, 100, 1000]\n",
      "==================================================\n",
      "Values in the list are-->\n",
      " [0.66152146104053844, 0.67491215209550282, 0.68668909577056625, 0.69720693535987377, 0.70416558860397083, 0.70350758071303043, 0.62483456471668353, 0.5, 0.5]\n",
      "==================================================\n",
      "Maximum k is 0.1 \n",
      "==================================================\n",
      "Dictionary Contents-->\n",
      " {1e-05: 0.66152146104053844, 0.0001: 0.67491215209550282, 0.001: 0.68668909577056625, 0.01: 0.69720693535987377, 0.1: 0.70416558860397083, 1: 0.70350758071303043, 10: 0.62483456471668353, 100: 0.5, 1000: 0.5}\n",
      "==================================================\n",
      "Keys in the list are-->\n",
      " [1e-05, 0.0001, 0.001, 0.01, 0.1, 1, 10, 100, 1000]\n",
      "==================================================\n",
      "Values in the list are-->\n",
      " [0.66152146104053844, 0.67491215209550282, 0.68668909577056625, 0.69720693535987377, 0.70416558860397083, 0.70350758071303043, 0.62483456471668353, 0.5, 0.5]\n",
      "==================================================\n",
      "Maximum k is 0.1 \n",
      "==================================================\n"
     ]
    },
    {
     "data": {
      "image/png": "[encoded data removed]",
      "text/plain": [
       "<matplotlib.figure.Figure at 0x1cb4a896668>"
      ]
     },
     "metadata": {},
     "output_type": "display_data"
    }
   ],
   "source": [
    "# train model on the best alpha\n",
    "nb = MultinomialNB(alpha=find_highest_alpha(roc_auc_score_cv_bow_dict))\n",
    "\n",
    "# fitting the model on crossvalidation train\n",
    "nb.fit(X_train_bow, y_train)\n",
    "\n",
    "# predict the response on the crossvalidation train\n",
    "pred_bow_test = nb.predict(X_test_bow) # **we will use it in confusion matrix\n",
    "pred_bow_train = nb.predict(X_train_bow) # **we will use it in confusion matrix\n",
    "\n",
    "#https://stackoverflow.com/questions/52910061/implementing-roc-curves-for-k-nn-machine-learning-algorithm-using-python-and-scip_scores = knn.predict_proba(X_test)\n",
    "pred_bow_test_scores=nb.predict_log_proba(X_test_bow)\n",
    "pred_bow_train_scores=nb.predict_log_proba(X_train_bow)\n",
    "\n",
    "fpr_test, tpr_test, threshold_test = roc_curve(y_test, pred_bow_test_scores[:, 1])\n",
    "fpr_train, tpr_train, threshold_train = roc_curve(y_train, pred_bow_train_scores[:, 1])\n",
    "\n",
    "#calculated AUC\n",
    "roc_auc_test = auc(fpr_test, tpr_test)\n",
    "roc_auc_train = auc(fpr_train, tpr_train)\n",
    "\n",
    "#save ALPHA & roc_auc_test score (AUC of fpr_test and tpr_test) for final summary\n",
    "summary.append(['BOW',find_highest_alpha(roc_auc_score_cv_bow_dict),roc_auc_test])\n",
    "\n",
    "plt.title('Receiver Operating Characteristic')\n",
    "plt.plot(fpr_test, tpr_test, 'r', label = 'AUC_test = %0.2f' % roc_auc_test)\n",
    "plt.plot(fpr_train, tpr_train, 'b', label = 'AUC_train = %0.2f' % roc_auc_train)\n",
    "plt.legend(loc = 'lower right')\n",
    "plt.plot([0, 1], [0, 1],'g--')\n",
    "plt.xlim([0, 1])\n",
    "plt.ylim([0, 1])\n",
    "plt.ylabel('True Positive Rate')\n",
    "plt.xlabel('False Positive Rate')\n",
    "plt.title('ROC Curve of BOW-NB')\n",
    "plt.show()\n"
   ]
  },
  {
   "cell_type": "markdown",
   "metadata": {},
   "source": [
    "#### Get the confusion matrix for the BOW - NB|"
   ]
  },
  {
   "cell_type": "code",
   "execution_count": 53,
   "metadata": {
    "ExecuteTime": {
     "end_time": "2019-12-03T05:46:29.882790Z",
     "start_time": "2019-12-03T05:46:29.562059Z"
    }
   },
   "outputs": [
    {
     "name": "stdout",
     "output_type": "stream",
     "text": [
      "[[ 6711  1341]\n",
      " [ 5974 39505]]\n",
      "Training CM for BOW\n"
     ]
    },
    {
     "data": {
      "text/plain": [
       "Text(0.5,1,'Confusion Matrix')"
      ]
     },
     "execution_count": 53,
     "metadata": {},
     "output_type": "execute_result"
    },
    {
     "data": {
      "image/png": "[encoded data removed]",
      "text/plain": [
       "<matplotlib.figure.Figure at 0x1cb1472cba8>"
      ]
     },
     "metadata": {},
     "output_type": "display_data"
    }
   ],
   "source": [
    "#https://stackoverflow.com/questions/35572000/how-can-i-plot-a-confusion-matrix\n",
    "import seaborn as sns\n",
    "import matplotlib.pyplot as plt\n",
    "ax= plt.subplot()\n",
    "# Make confusion matrix for y_train vs predicted(X_train_bow)\n",
    "cm = confusion_matrix(y_train, pred_bow_train)\n",
    "print(cm) \n",
    "\n",
    "sns.heatmap(cm, annot=True, ax = ax,cmap=\"summer\", fmt='g')\n",
    "print(\"Training CM for BOW\")\n",
    "# labels, title and ticks\n",
    "ax.set_xlabel('Predicted labels')\n",
    "ax.set_ylabel('True labels')\n",
    "ax.set_title('Confusion Matrix')\n"
   ]
  },
  {
   "cell_type": "code",
   "execution_count": 54,
   "metadata": {
    "ExecuteTime": {
     "end_time": "2019-12-03T05:46:30.138893Z",
     "start_time": "2019-12-03T05:46:29.882790Z"
    }
   },
   "outputs": [
    {
     "name": "stdout",
     "output_type": "stream",
     "text": [
      "==================================================\n",
      "Testing CM for BOW\n",
      "[[ 2183  2816]\n",
      " [ 4966 22810]]\n"
     ]
    },
    {
     "data": {
      "text/plain": [
       "Text(0.5,1,'Confusion Matrix')"
      ]
     },
     "execution_count": 54,
     "metadata": {},
     "output_type": "execute_result"
    },
    {
     "data": {
      "image/png": "[encoded data removed]",
      "text/plain": [
       "<matplotlib.figure.Figure at 0x1cb11b447b8>"
      ]
     },
     "metadata": {},
     "output_type": "display_data"
    }
   ],
   "source": [
    "print(\"=\"*50)\n",
    "print(\"Testing CM for BOW\")\n",
    "ax= plt.subplot()\n",
    "# Make confusion matrix for y_test vs predicted(X_test_bow)\n",
    "cm = confusion_matrix(y_test, pred_bow_test)\n",
    "print(cm) \n",
    "\n",
    "sns.heatmap(cm, annot=True, ax = ax,cmap=\"summer\",fmt='g')\n",
    "# labels, title and ticks\n",
    "ax.set_xlabel('Predicted labels')\n",
    "ax.set_ylabel('True labels')\n",
    "ax.set_title('Confusion Matrix')"
   ]
  },
  {
   "cell_type": "markdown",
   "metadata": {
    "colab_type": "text",
    "id": "WcsQ4_6VN1OQ"
   },
   "source": [
    "#### Top 10 important features of negative and positive class from<font color='red'> SET 1</font>"
   ]
  },
  {
   "cell_type": "code",
   "execution_count": 55,
   "metadata": {
    "ExecuteTime": {
     "end_time": "2019-12-03T05:46:30.608744Z",
     "start_time": "2019-12-03T05:46:30.138893Z"
    }
   },
   "outputs": [
    {
     "name": "stdout",
     "output_type": "stream",
     "text": [
      "107893\n",
      "107893\n"
     ]
    }
   ],
   "source": [
    "#for BOW\n",
    "nb = MultinomialNB(alpha=0.1)# takes the k from the i th list value\n",
    "nb.fit(X_train_bow, y_train)# fit the model\n",
    "\n",
    "# now make a dictionary of all the probabilities fo the weights\n",
    "bow_features_probs = []\n",
    "for a in range(107893):\n",
    "    bow_features_probs.append(nb.feature_log_prob_[0,a] )\n",
    "\n",
    "print(len(bow_features_probs))\n",
    "\n",
    "bow_features_names = []\n",
    "for a in vectorizer1.get_feature_names() :# clean categories\n",
    "    bow_features_names.append(a)\n",
    "for a in vectorizer2.get_feature_names() :# sub categoreis\n",
    "    bow_features_names.append(a)\n",
    "for a in vectorizer3.get_feature_names() :#schooll state\n",
    "    bow_features_names.append(a)\n",
    "for a in vectorizer4.get_feature_names() :# teacher prefix\n",
    "    bow_features_names.append(a)\n",
    "for a in vectorizer5.get_feature_names() :# grade\n",
    "    bow_features_names.append(a)\n",
    "for a in vectorizer6.get_feature_names(): #titles bow\n",
    "    bow_features_names.append(a)\n",
    "for a in vectorizer7.get_feature_names(): # essays bow\n",
    "    bow_features_names.append(a)\n",
    "print( len(bow_features_names))"
   ]
  },
  {
   "cell_type": "code",
   "execution_count": 56,
   "metadata": {
    "ExecuteTime": {
     "end_time": "2019-12-03T05:46:30.672719Z",
     "start_time": "2019-12-03T05:46:30.608744Z"
    }
   },
   "outputs": [
    {
     "data": {
      "text/html": [
       "<div>\n",
       "<style>\n",
       "    .dataframe thead tr:only-child th {\n",
       "        text-align: right;\n",
       "    }\n",
       "\n",
       "    .dataframe thead th {\n",
       "        text-align: left;\n",
       "    }\n",
       "\n",
       "    .dataframe tbody tr th {\n",
       "        vertical-align: top;\n",
       "    }\n",
       "</style>\n",
       "<table border=\"1\" class=\"dataframe\">\n",
       "  <thead>\n",
       "    <tr style=\"text-align: right;\">\n",
       "      <th></th>\n",
       "      <th>feature_names</th>\n",
       "      <th>feature_prob_estimates</th>\n",
       "    </tr>\n",
       "  </thead>\n",
       "  <tbody>\n",
       "    <tr>\n",
       "      <th>99</th>\n",
       "      <td>00</td>\n",
       "      <td>-3.492694</td>\n",
       "    </tr>\n",
       "    <tr>\n",
       "      <th>86593</th>\n",
       "      <td>students 11th</td>\n",
       "      <td>-3.508108</td>\n",
       "    </tr>\n",
       "    <tr>\n",
       "      <th>77700</th>\n",
       "      <td>school 12</td>\n",
       "      <td>-4.608102</td>\n",
       "    </tr>\n",
       "    <tr>\n",
       "      <th>50707</th>\n",
       "      <td>learning 4th</td>\n",
       "      <td>-4.927367</td>\n",
       "    </tr>\n",
       "    <tr>\n",
       "      <th>16294</th>\n",
       "      <td>classroom 15</td>\n",
       "      <td>-5.080501</td>\n",
       "    </tr>\n",
       "    <tr>\n",
       "      <th>62735</th>\n",
       "      <td>not academically</td>\n",
       "      <td>-5.266354</td>\n",
       "    </tr>\n",
       "    <tr>\n",
       "      <th>49531</th>\n",
       "      <td>learn 3d</td>\n",
       "      <td>-5.272821</td>\n",
       "    </tr>\n",
       "    <tr>\n",
       "      <th>41375</th>\n",
       "      <td>help able</td>\n",
       "      <td>-5.302831</td>\n",
       "    </tr>\n",
       "    <tr>\n",
       "      <th>60526</th>\n",
       "      <td>narrative</td>\n",
       "      <td>-5.474316</td>\n",
       "    </tr>\n",
       "    <tr>\n",
       "      <th>56460</th>\n",
       "      <td>many activities</td>\n",
       "      <td>-5.509263</td>\n",
       "    </tr>\n",
       "  </tbody>\n",
       "</table>\n",
       "</div>"
      ],
      "text/plain": [
       "          feature_names  feature_prob_estimates\n",
       "99                   00               -3.492694\n",
       "86593     students 11th               -3.508108\n",
       "77700         school 12               -4.608102\n",
       "50707      learning 4th               -4.927367\n",
       "16294      classroom 15               -5.080501\n",
       "62735  not academically               -5.266354\n",
       "49531          learn 3d               -5.272821\n",
       "41375         help able               -5.302831\n",
       "60526         narrative               -5.474316\n",
       "56460   many activities               -5.509263"
      ]
     },
     "execution_count": 56,
     "metadata": {},
     "output_type": "execute_result"
    }
   ],
   "source": [
    "#top 10 negatives\n",
    "final_bow_features = pd.DataFrame({'feature_prob_estimates' : bow_features_probs, 'feature_names': bow_features_names})\n",
    "a =final_bow_features.sort_values(by = ['feature_prob_estimates'], ascending = False)\n",
    "#print(final_bow_features.head(6))\n",
    "a.head(10)"
   ]
  },
  {
   "cell_type": "code",
   "execution_count": 57,
   "metadata": {
    "ExecuteTime": {
     "end_time": "2019-12-03T05:46:30.892218Z",
     "start_time": "2019-12-03T05:46:30.675718Z"
    }
   },
   "outputs": [
    {
     "data": {
      "text/html": [
       "<div>\n",
       "<style>\n",
       "    .dataframe thead tr:only-child th {\n",
       "        text-align: right;\n",
       "    }\n",
       "\n",
       "    .dataframe thead th {\n",
       "        text-align: left;\n",
       "    }\n",
       "\n",
       "    .dataframe tbody tr th {\n",
       "        vertical-align: top;\n",
       "    }\n",
       "</style>\n",
       "<table border=\"1\" class=\"dataframe\">\n",
       "  <thead>\n",
       "    <tr style=\"text-align: right;\">\n",
       "      <th></th>\n",
       "      <th>feature_names</th>\n",
       "      <th>feature_prob_estimates_pos</th>\n",
       "    </tr>\n",
       "  </thead>\n",
       "  <tbody>\n",
       "    <tr>\n",
       "      <th>99</th>\n",
       "      <td>00</td>\n",
       "      <td>-3.022283</td>\n",
       "    </tr>\n",
       "    <tr>\n",
       "      <th>86593</th>\n",
       "      <td>students 11th</td>\n",
       "      <td>-3.513425</td>\n",
       "    </tr>\n",
       "    <tr>\n",
       "      <th>77700</th>\n",
       "      <td>school 12</td>\n",
       "      <td>-4.657063</td>\n",
       "    </tr>\n",
       "    <tr>\n",
       "      <th>50707</th>\n",
       "      <td>learning 4th</td>\n",
       "      <td>-5.019148</td>\n",
       "    </tr>\n",
       "    <tr>\n",
       "      <th>16294</th>\n",
       "      <td>classroom 15</td>\n",
       "      <td>-5.044793</td>\n",
       "    </tr>\n",
       "    <tr>\n",
       "      <th>62735</th>\n",
       "      <td>not academically</td>\n",
       "      <td>-5.316639</td>\n",
       "    </tr>\n",
       "    <tr>\n",
       "      <th>49531</th>\n",
       "      <td>learn 3d</td>\n",
       "      <td>-5.355976</td>\n",
       "    </tr>\n",
       "    <tr>\n",
       "      <th>41375</th>\n",
       "      <td>help able</td>\n",
       "      <td>-5.389735</td>\n",
       "    </tr>\n",
       "    <tr>\n",
       "      <th>56460</th>\n",
       "      <td>many activities</td>\n",
       "      <td>-5.530494</td>\n",
       "    </tr>\n",
       "    <tr>\n",
       "      <th>60526</th>\n",
       "      <td>narrative</td>\n",
       "      <td>-5.546108</td>\n",
       "    </tr>\n",
       "  </tbody>\n",
       "</table>\n",
       "</div>"
      ],
      "text/plain": [
       "          feature_names  feature_prob_estimates_pos\n",
       "99                   00                   -3.022283\n",
       "86593     students 11th                   -3.513425\n",
       "77700         school 12                   -4.657063\n",
       "50707      learning 4th                   -5.019148\n",
       "16294      classroom 15                   -5.044793\n",
       "62735  not academically                   -5.316639\n",
       "49531          learn 3d                   -5.355976\n",
       "41375         help able                   -5.389735\n",
       "56460   many activities                   -5.530494\n",
       "60526         narrative                   -5.546108"
      ]
     },
     "execution_count": 57,
     "metadata": {},
     "output_type": "execute_result"
    }
   ],
   "source": [
    "#top 10 Positives\n",
    "# now make a dictionary of all the probabilityies fo the weights\n",
    "bow_features_probs_pos = []\n",
    "for a in range(107893):\n",
    "    bow_features_probs_pos.append(nb.feature_log_prob_[1,a] )# negative feature probabilities\n",
    "#len(bow_features_probs)\n",
    "final_bow_features = pd.DataFrame({'feature_prob_estimates_pos' : bow_features_probs_pos,'feature_names' : bow_features_names})\n",
    "a =final_bow_features.sort_values(by = ['feature_prob_estimates_pos'], ascending = False)\n",
    "a.head(10)"
   ]
  },
  {
   "cell_type": "markdown",
   "metadata": {},
   "source": [
    "### Applying Naive Bayes on TFIDF,<font color='red'> SET 2</font>"
   ]
  },
  {
   "cell_type": "markdown",
   "metadata": {},
   "source": [
    "#### Plot ROC_AUC_score VS different Alpha values (Train and CV set)"
   ]
  },
  {
   "cell_type": "code",
   "execution_count": 58,
   "metadata": {
    "ExecuteTime": {
     "end_time": "2019-12-03T05:46:34.986564Z",
     "start_time": "2019-12-03T05:46:30.892218Z"
    },
    "colab": {},
    "colab_type": "code",
    "id": "Tsay467cCypt"
   },
   "outputs": [
    {
     "name": "stderr",
     "output_type": "stream",
     "text": [
      "100%|████████████████████████████████████████████████████████████████████████████████████| 9/9 [00:04<00:00,  2.24it/s]\n"
     ]
    },
    {
     "name": "stdout",
     "output_type": "stream",
     "text": [
      "{1e-05: 0.64300188410186754, 0.0001: 0.64557257120445488, 0.001: 0.64777592787970784, 0.01: 0.6485837146308977, 0.1: 0.6419798004051076, 10: 0.57642272502802916, 100: 0.56409431445455027, 1000: 0.56121781810733284}\n",
      "{1e-05: 0.8870378050816311, 0.0001: 0.87454192677126585, 0.001: 0.85805539488607596, 0.01: 0.83401273284371924, 0.1: 0.78589948798803066, 10: 0.59132559224121028, 100: 0.57043413921998487, 1000: 0.56722502965535693}\n"
     ]
    }
   ],
   "source": [
    "\n",
    "roc_auc_score_cv_tfidf_dict={}\n",
    "roc_auc_score_train_tfidf_dict={}\n",
    "alpha=[0.00001,0.0001,0.001,0.01,0.1,10,100,1000,1000]\n",
    "for i in tqdm(alpha):\n",
    "    # create instance of model\n",
    "    nb=MultinomialNB(alpha=i, class_prior=[0.5, 0.5])\n",
    "\n",
    "     # fitting the model on crossvalidation train\n",
    "    nb.fit(X_train_tfidf, y_train)\n",
    "\n",
    "    # predict the response on the crossvalidation train\n",
    "    pred_tfidf_cv = nb.predict_log_proba(X_cv_tfidf)\n",
    "    \n",
    "    #evaluate CV roc_auc\n",
    "    roc_auc_cv =roc_auc_score(y_cv,pred_tfidf_cv[:,1])\n",
    "    \n",
    "    #insert into dict\n",
    "    roc_auc_score_cv_tfidf_dict[i]=roc_auc_cv\n",
    "    \n",
    "     # fitting the model on crossvalidation train\n",
    "    nb.fit(X_train_tfidf, y_train)\n",
    "\n",
    "    # predict the response on the train\n",
    "    pred_tfidf_train = nb.predict_log_proba(X_train_tfidf)\n",
    "    \n",
    "    #evaluate train roc_auc\n",
    "    roc_auc_train =roc_auc_score(y_train,pred_tfidf_train[:,1])\n",
    "    \n",
    "    #insert into dict\n",
    "    roc_auc_score_train_tfidf_dict[i]=roc_auc_train\n",
    "    \n",
    "    \n",
    "    \n",
    "print(roc_auc_score_cv_tfidf_dict)\n",
    "print(roc_auc_score_train_tfidf_dict)\n"
   ]
  },
  {
   "cell_type": "code",
   "execution_count": 59,
   "metadata": {
    "ExecuteTime": {
     "end_time": "2019-12-03T05:46:35.290590Z",
     "start_time": "2019-12-03T05:46:34.986564Z"
    }
   },
   "outputs": [
    {
     "data": {
      "image/png": "[encoded data removed]",
      "text/plain": [
       "<matplotlib.figure.Figure at 0x1cb166a6470>"
      ]
     },
     "metadata": {},
     "output_type": "display_data"
    }
   ],
   "source": [
    "#https://stackoverflow.com/questions/37266341/plotting-a-python-dict-in-order-of-key-values/37266356\n",
    "import math\n",
    "\n",
    "lists1 = sorted(roc_auc_score_cv_tfidf_dict.items())\n",
    "x1, y1 = zip(*lists1) # unpack a list of pairs into two tuples\n",
    "lists2 = sorted(roc_auc_score_train_tfidf_dict.items())\n",
    "x2, y2 = zip(*lists2) # unpack a list of pairs into two tuples\n",
    "\n",
    "x1=[math.log10(i) for i in list(x1)]\n",
    "x2=[math.log10(i) for i in list(x2)]\n",
    "\n",
    "plt.xlabel('log10(alpha)')\n",
    "plt.ylabel('roc_auc_score')\n",
    "plt.title('Hyper parameter tuning')\n",
    "\n",
    "plt.plot(x1, y1,label=\"CV\")\n",
    "plt.plot(x2, y2,label='Train')\n",
    "\n",
    "plt.scatter(x1, y1, label='CV AUC points')\n",
    "plt.scatter(x2, y2, label='Train AUC points')\n",
    "\n",
    "plt.grid()\n",
    "plt.legend()\n",
    "plt.show()"
   ]
  },
  {
   "cell_type": "markdown",
   "metadata": {},
   "source": [
    "#### Find the best alpha value from the result"
   ]
  },
  {
   "cell_type": "code",
   "execution_count": 60,
   "metadata": {
    "ExecuteTime": {
     "end_time": "2019-12-03T05:46:35.336011Z",
     "start_time": "2019-12-03T05:46:35.290590Z"
    }
   },
   "outputs": [
    {
     "name": "stdout",
     "output_type": "stream",
     "text": [
      "Dictionary Contents-->\n",
      " {1e-05: 0.64300188410186754, 0.0001: 0.64557257120445488, 0.001: 0.64777592787970784, 0.01: 0.6485837146308977, 0.1: 0.6419798004051076, 10: 0.57642272502802916, 100: 0.56409431445455027, 1000: 0.56121781810733284}\n",
      "==================================================\n",
      "Keys in the list are-->\n",
      " [1e-05, 0.0001, 0.001, 0.01, 0.1, 10, 100, 1000]\n",
      "==================================================\n",
      "Values in the list are-->\n",
      " [0.64300188410186754, 0.64557257120445488, 0.64777592787970784, 0.6485837146308977, 0.6419798004051076, 0.57642272502802916, 0.56409431445455027, 0.56121781810733284]\n",
      "==================================================\n",
      "Maximum k is 0.01 \n",
      "==================================================\n",
      "0.01\n"
     ]
    }
   ],
   "source": [
    "print(find_highest_alpha(roc_auc_score_cv_tfidf_dict))"
   ]
  },
  {
   "cell_type": "markdown",
   "metadata": {},
   "source": [
    "#### Train the model on the optimal alpha value and run the Test Dataset\n",
    " \n",
    "    -- Plot the ROC curve for TFIDF using the test and train Dataset"
   ]
  },
  {
   "cell_type": "code",
   "execution_count": 61,
   "metadata": {
    "ExecuteTime": {
     "end_time": "2019-12-03T05:46:36.501451Z",
     "start_time": "2019-12-03T05:46:35.339046Z"
    }
   },
   "outputs": [
    {
     "name": "stdout",
     "output_type": "stream",
     "text": [
      "Dictionary Contents-->\n",
      " {1e-05: 0.64300188410186754, 0.0001: 0.64557257120445488, 0.001: 0.64777592787970784, 0.01: 0.6485837146308977, 0.1: 0.6419798004051076, 10: 0.57642272502802916, 100: 0.56409431445455027, 1000: 0.56121781810733284}\n",
      "==================================================\n",
      "Keys in the list are-->\n",
      " [1e-05, 0.0001, 0.001, 0.01, 0.1, 10, 100, 1000]\n",
      "==================================================\n",
      "Values in the list are-->\n",
      " [0.64300188410186754, 0.64557257120445488, 0.64777592787970784, 0.6485837146308977, 0.6419798004051076, 0.57642272502802916, 0.56409431445455027, 0.56121781810733284]\n",
      "==================================================\n",
      "Maximum k is 0.01 \n",
      "==================================================\n",
      "pred_tfidf_train--> [1 1 1 ..., 0 1 0]\n",
      "pred_tfidf_test--> [1 1 1 ..., 1 0 1]\n",
      "Dictionary Contents-->\n",
      " {1e-05: 0.64300188410186754, 0.0001: 0.64557257120445488, 0.001: 0.64777592787970784, 0.01: 0.6485837146308977, 0.1: 0.6419798004051076, 10: 0.57642272502802916, 100: 0.56409431445455027, 1000: 0.56121781810733284}\n",
      "==================================================\n",
      "Keys in the list are-->\n",
      " [1e-05, 0.0001, 0.001, 0.01, 0.1, 10, 100, 1000]\n",
      "==================================================\n",
      "Values in the list are-->\n",
      " [0.64300188410186754, 0.64557257120445488, 0.64777592787970784, 0.6485837146308977, 0.6419798004051076, 0.57642272502802916, 0.56409431445455027, 0.56121781810733284]\n",
      "==================================================\n",
      "Maximum k is 0.01 \n",
      "==================================================\n"
     ]
    },
    {
     "data": {
      "image/png": "[encoded data removed]",
      "text/plain": [
       "<matplotlib.figure.Figure at 0x1cb168c09e8>"
      ]
     },
     "metadata": {},
     "output_type": "display_data"
    }
   ],
   "source": [
    "# train model on the best k\n",
    "nb = MultinomialNB(alpha=find_highest_alpha(roc_auc_score_cv_tfidf_dict))\n",
    "\n",
    "# fitting the model on crossvalidation train\n",
    "nb.fit(X_train_tfidf, y_train)\n",
    "\n",
    "# predict the response on the crossvalidation train\n",
    "pred_tfidf_test = nb.predict(X_test_tfidf) # we will use this in confusion matrix\n",
    "\n",
    "pred_tfidf_train = nb.predict(X_train_tfidf) # we will use this in confusion matrix\n",
    "\n",
    "print(\"pred_tfidf_train-->\", pred_tfidf_train)\n",
    "\n",
    "print(\"pred_tfidf_test-->\", pred_tfidf_test)\n",
    "\n",
    "#https://stackoverflow.com/questions/52910061/implementing-roc-curves-for-k-nn-machine-learning-algorithm-using-python-and-scip_scores = knn.predict_proba(X_test)\n",
    "pred_tfidf_test_scores=nb.predict_log_proba(X_test_tfidf)\n",
    "pred_tfidf_train_scores=nb.predict_log_proba(X_train_tfidf)\n",
    "\n",
    "fpr_test, tpr_test, threshold_test = roc_curve(y_test, pred_tfidf_test_scores[:, 1])\n",
    "fpr_train, tpr_train, threshold_train = roc_curve(y_train, pred_tfidf_train_scores[:, 1])\n",
    "\n",
    "#calculated AUC\n",
    "roc_auc_test = auc(fpr_test, tpr_test)\n",
    "roc_auc_train = auc(fpr_train, tpr_train)\n",
    "\n",
    "#save ALPHA & roc_auc_test score (AUC of fpr_test and tpr_test) for final summary\n",
    "summary.append(['TFIDF',find_highest_alpha(roc_auc_score_cv_tfidf_dict),roc_auc_test])\n",
    "\n",
    "plt.title('Receiver Operating Characteristic')\n",
    "plt.plot(fpr_test, tpr_test, 'r', label = 'AUC_test = %0.2f' % roc_auc_test)\n",
    "plt.plot(fpr_train, tpr_train, 'b', label = 'AUC_train = %0.2f' % roc_auc_train)\n",
    "plt.legend(loc = 'lower right')\n",
    "plt.plot([0, 1], [0, 1],'g--')\n",
    "plt.xlim([0, 1])\n",
    "plt.ylim([0, 1])\n",
    "plt.ylabel('True Positive Rate')\n",
    "plt.xlabel('False Positive Rate')\n",
    "plt.title('ROC Curve of TFIDF-NB')\n",
    "plt.show()\n"
   ]
  },
  {
   "cell_type": "markdown",
   "metadata": {},
   "source": [
    "#### Get the confusion matrix for the TFIDF - NB"
   ]
  },
  {
   "cell_type": "code",
   "execution_count": 62,
   "metadata": {
    "ExecuteTime": {
     "end_time": "2019-12-03T05:46:36.819755Z",
     "start_time": "2019-12-03T05:46:36.501451Z"
    }
   },
   "outputs": [
    {
     "name": "stdout",
     "output_type": "stream",
     "text": [
      "[[ 6244  1808]\n",
      " [10069 35410]]\n",
      "Training CM for TFID\n"
     ]
    },
    {
     "data": {
      "text/plain": [
       "Text(0.5,1,'Confusion Matrix')"
      ]
     },
     "execution_count": 62,
     "metadata": {},
     "output_type": "execute_result"
    },
    {
     "data": {
      "image/png": "[encoded data removed]",
      "text/plain": [
       "<matplotlib.figure.Figure at 0x1cb1062a860>"
      ]
     },
     "metadata": {},
     "output_type": "display_data"
    }
   ],
   "source": [
    "#https://stackoverflow.com/questions/35572000/how-can-i-plot-a-confusion-matrix\n",
    "import seaborn as sns\n",
    "import matplotlib.pyplot as plt\n",
    "ax= plt.subplot()\n",
    "\n",
    "# Make confusion matrix for y_train vs X_train_tfidf\n",
    "cm = confusion_matrix(y_train, pred_tfidf_train)\n",
    "\n",
    "print(cm) \n",
    "\n",
    "sns.heatmap(cm, annot=True, ax = ax,fmt='g')\n",
    "print(\"Training CM for TFID\")\n",
    "# labels, title and ticks\n",
    "ax.set_xlabel('Predicted labels')\n",
    "ax.set_ylabel('True labels')\n",
    "ax.set_title('Confusion Matrix')"
   ]
  },
  {
   "cell_type": "code",
   "execution_count": 63,
   "metadata": {
    "ExecuteTime": {
     "end_time": "2019-12-03T05:46:37.103002Z",
     "start_time": "2019-12-03T05:46:36.819755Z"
    }
   },
   "outputs": [
    {
     "name": "stdout",
     "output_type": "stream",
     "text": [
      "==================================================\n",
      "Testing CM for TFIDF\n",
      "[[ 2483  2516]\n",
      " [ 7766 20010]]\n"
     ]
    },
    {
     "data": {
      "text/plain": [
       "Text(0.5,1,'Confusion Matrix')"
      ]
     },
     "execution_count": 63,
     "metadata": {},
     "output_type": "execute_result"
    },
    {
     "data": {
      "image/png": "[encoded data removed]",
      "text/plain": [
       "<matplotlib.figure.Figure at 0x1cb118ce550>"
      ]
     },
     "metadata": {},
     "output_type": "display_data"
    }
   ],
   "source": [
    "print(\"=\"*50)\n",
    "print(\"Testing CM for TFIDF\")\n",
    "ax= plt.subplot()\n",
    "\n",
    "# Make confusion matrix for y_test vs predicted(X_test_tfidf)\n",
    "cm = confusion_matrix(y_test, pred_tfidf_test)\n",
    "print(cm)                      \n",
    "sns.heatmap(cm, annot=True, ax = ax,fmt='g')\n",
    "                      \n",
    "# labels, title and ticks\n",
    "ax.set_xlabel('Predicted labels')\n",
    "ax.set_ylabel('True labels')\n",
    "ax.set_title('Confusion Matrix')"
   ]
  },
  {
   "cell_type": "markdown",
   "metadata": {
    "colab_type": "text",
    "id": "RlDghTPlN1Oc"
   },
   "source": [
    "#### Top 10 important features of positive and negative class from<font color='red'> SET 2</font>"
   ]
  },
  {
   "cell_type": "code",
   "execution_count": 64,
   "metadata": {
    "ExecuteTime": {
     "end_time": "2019-12-03T05:46:37.692714Z",
     "start_time": "2019-12-03T05:46:37.107001Z"
    }
   },
   "outputs": [
    {
     "data": {
      "text/html": [
       "<div>\n",
       "<style>\n",
       "    .dataframe thead tr:only-child th {\n",
       "        text-align: right;\n",
       "    }\n",
       "\n",
       "    .dataframe thead th {\n",
       "        text-align: left;\n",
       "    }\n",
       "\n",
       "    .dataframe tbody tr th {\n",
       "        vertical-align: top;\n",
       "    }\n",
       "</style>\n",
       "<table border=\"1\" class=\"dataframe\">\n",
       "  <thead>\n",
       "    <tr style=\"text-align: right;\">\n",
       "      <th></th>\n",
       "      <th>feature_names</th>\n",
       "      <th>feature_prob_estimates</th>\n",
       "    </tr>\n",
       "  </thead>\n",
       "  <tbody>\n",
       "    <tr>\n",
       "      <th>99</th>\n",
       "      <td>00</td>\n",
       "      <td>-1.344570</td>\n",
       "    </tr>\n",
       "    <tr>\n",
       "      <th>92</th>\n",
       "      <td>Mrs</td>\n",
       "      <td>-3.970974</td>\n",
       "    </tr>\n",
       "    <tr>\n",
       "      <th>4</th>\n",
       "      <td>Literacy_Language</td>\n",
       "      <td>-4.143723</td>\n",
       "    </tr>\n",
       "    <tr>\n",
       "      <th>98</th>\n",
       "      <td>Grades_PreK_2</td>\n",
       "      <td>-4.195109</td>\n",
       "    </tr>\n",
       "    <tr>\n",
       "      <th>5</th>\n",
       "      <td>Math_Science</td>\n",
       "      <td>-4.208851</td>\n",
       "    </tr>\n",
       "    <tr>\n",
       "      <th>93</th>\n",
       "      <td>Ms</td>\n",
       "      <td>-4.285283</td>\n",
       "    </tr>\n",
       "    <tr>\n",
       "      <th>95</th>\n",
       "      <td>Grades_3_5</td>\n",
       "      <td>-4.407531</td>\n",
       "    </tr>\n",
       "    <tr>\n",
       "      <th>26</th>\n",
       "      <td>Literacy</td>\n",
       "      <td>-4.638182</td>\n",
       "    </tr>\n",
       "    <tr>\n",
       "      <th>28</th>\n",
       "      <td>Mathematics</td>\n",
       "      <td>-4.654252</td>\n",
       "    </tr>\n",
       "    <tr>\n",
       "      <th>27</th>\n",
       "      <td>Literature_Writing</td>\n",
       "      <td>-4.949653</td>\n",
       "    </tr>\n",
       "  </tbody>\n",
       "</table>\n",
       "</div>"
      ],
      "text/plain": [
       "         feature_names  feature_prob_estimates\n",
       "99                  00               -1.344570\n",
       "92                 Mrs               -3.970974\n",
       "4    Literacy_Language               -4.143723\n",
       "98       Grades_PreK_2               -4.195109\n",
       "5         Math_Science               -4.208851\n",
       "93                  Ms               -4.285283\n",
       "95          Grades_3_5               -4.407531\n",
       "26            Literacy               -4.638182\n",
       "28         Mathematics               -4.654252\n",
       "27  Literature_Writing               -4.949653"
      ]
     },
     "execution_count": 64,
     "metadata": {},
     "output_type": "execute_result"
    }
   ],
   "source": [
    "nb = MultinomialNB(alpha=.01)# takes the k from the i th list value\n",
    "nb.fit(X_train_tfidf, y_train)# fit the model\n",
    "# now make a dictionary of all the probabilityies fo the weights\n",
    "tf_features_probs = []\n",
    "for a in range(107893):# loop till (shape of data)\n",
    " tf_features_probs.append(nb.feature_log_prob_[0,a] )# negative feature probabilities\n",
    "#len(bow_features_probs)\n",
    " tf_features_names = []\n",
    "for a in vectorizer1.get_feature_names() :# clean categories\n",
    " tf_features_names.append(a)\n",
    "for a in vectorizer2.get_feature_names() :# sub categoreis\n",
    " tf_features_names.append(a)\n",
    "for a in vectorizer3.get_feature_names() :#schooll state\n",
    " tf_features_names.append(a)\n",
    "for a in vectorizer4.get_feature_names() :# grade categoreis\n",
    " tf_features_names.append(a)\n",
    "for a in vectorizer5.get_feature_names() :# teacher prefix\n",
    " tf_features_names.append(a)\n",
    "len(tf_features_names)\n",
    "\n",
    "for a in vectorizer6.get_feature_names(): #titles tf_idf\n",
    " tf_features_names.append(a)\n",
    "for a in vectorizer7.get_feature_names(): # essays tf_idf\n",
    " tf_features_names.append(a)\n",
    "\n",
    "\n",
    "# top 10 negatives\n",
    "final_tf_features = pd.DataFrame({'feature_prob_estimates' : tf_features_probs, 'feature_names' :tf_features_names})\n",
    "a =final_tf_features.sort_values(by = ['feature_prob_estimates'], ascending = False)\n",
    "#print(final_bow_features.head(6))\n",
    "a.head(10)"
   ]
  },
  {
   "cell_type": "code",
   "execution_count": 65,
   "metadata": {
    "ExecuteTime": {
     "end_time": "2019-12-03T05:46:37.852760Z",
     "start_time": "2019-12-03T05:46:37.696724Z"
    }
   },
   "outputs": [
    {
     "data": {
      "text/html": [
       "<div>\n",
       "<style>\n",
       "    .dataframe thead tr:only-child th {\n",
       "        text-align: right;\n",
       "    }\n",
       "\n",
       "    .dataframe thead th {\n",
       "        text-align: left;\n",
       "    }\n",
       "\n",
       "    .dataframe tbody tr th {\n",
       "        vertical-align: top;\n",
       "    }\n",
       "</style>\n",
       "<table border=\"1\" class=\"dataframe\">\n",
       "  <thead>\n",
       "    <tr style=\"text-align: right;\">\n",
       "      <th></th>\n",
       "      <th>feature_names</th>\n",
       "      <th>feature_prob_estimates_pos</th>\n",
       "    </tr>\n",
       "  </thead>\n",
       "  <tbody>\n",
       "    <tr>\n",
       "      <th>99</th>\n",
       "      <td>00</td>\n",
       "      <td>-0.981388</td>\n",
       "    </tr>\n",
       "    <tr>\n",
       "      <th>92</th>\n",
       "      <td>Mrs</td>\n",
       "      <td>-4.102413</td>\n",
       "    </tr>\n",
       "    <tr>\n",
       "      <th>4</th>\n",
       "      <td>Literacy_Language</td>\n",
       "      <td>-4.177123</td>\n",
       "    </tr>\n",
       "    <tr>\n",
       "      <th>98</th>\n",
       "      <td>Grades_PreK_2</td>\n",
       "      <td>-4.361510</td>\n",
       "    </tr>\n",
       "    <tr>\n",
       "      <th>5</th>\n",
       "      <td>Math_Science</td>\n",
       "      <td>-4.436572</td>\n",
       "    </tr>\n",
       "    <tr>\n",
       "      <th>93</th>\n",
       "      <td>Ms</td>\n",
       "      <td>-4.490062</td>\n",
       "    </tr>\n",
       "    <tr>\n",
       "      <th>95</th>\n",
       "      <td>Grades_3_5</td>\n",
       "      <td>-4.530156</td>\n",
       "    </tr>\n",
       "    <tr>\n",
       "      <th>26</th>\n",
       "      <td>Literacy</td>\n",
       "      <td>-4.610011</td>\n",
       "    </tr>\n",
       "    <tr>\n",
       "      <th>28</th>\n",
       "      <td>Mathematics</td>\n",
       "      <td>-4.818778</td>\n",
       "    </tr>\n",
       "    <tr>\n",
       "      <th>27</th>\n",
       "      <td>Literature_Writing</td>\n",
       "      <td>-5.036141</td>\n",
       "    </tr>\n",
       "  </tbody>\n",
       "</table>\n",
       "</div>"
      ],
      "text/plain": [
       "         feature_names  feature_prob_estimates_pos\n",
       "99                  00                   -0.981388\n",
       "92                 Mrs                   -4.102413\n",
       "4    Literacy_Language                   -4.177123\n",
       "98       Grades_PreK_2                   -4.361510\n",
       "5         Math_Science                   -4.436572\n",
       "93                  Ms                   -4.490062\n",
       "95          Grades_3_5                   -4.530156\n",
       "26            Literacy                   -4.610011\n",
       "28         Mathematics                   -4.818778\n",
       "27  Literature_Writing                   -5.036141"
      ]
     },
     "execution_count": 65,
     "metadata": {},
     "output_type": "execute_result"
    }
   ],
   "source": [
    "#top 10 Positives\n",
    "# now make a dictionary of all the probabilityies fo the weights\n",
    "bow_features_probs_pos = []\n",
    "for a in range(107893):\n",
    " bow_features_probs_pos.append(nb.feature_log_prob_[1,a] )# negative feature probabilities\n",
    "#len(bow_features_probs)\n",
    "final_bow_features = pd.DataFrame({'feature_prob_estimates_pos' : bow_features_probs_pos,'feature_names' : bow_features_names})\n",
    "a =final_bow_features.sort_values(by = ['feature_prob_estimates_pos'], ascending = False)\n",
    "a.head(10)"
   ]
  },
  {
   "cell_type": "markdown",
   "metadata": {
    "colab_type": "text",
    "id": "vz0LvF7mN1Oi"
   },
   "source": [
    "## Conclusions"
   ]
  },
  {
   "cell_type": "code",
   "execution_count": 66,
   "metadata": {
    "ExecuteTime": {
     "end_time": "2019-12-03T05:46:37.910147Z",
     "start_time": "2019-12-03T05:46:37.852760Z"
    },
    "colab": {},
    "colab_type": "code",
    "id": "nxMjhk9xN1Oi"
   },
   "outputs": [
    {
     "name": "stdout",
     "output_type": "stream",
     "text": [
      "+------------+-----------------------+----------------+\n",
      "| Vectorizer | Hyper parameter-ALPHA |      AUC       |\n",
      "+------------+-----------------------+----------------+\n",
      "|    BOW     |          0.1          | 0.694193047279 |\n",
      "|   TFIDF    |          0.01         | 0.644586128487 |\n",
      "+------------+-----------------------+----------------+\n"
     ]
    }
   ],
   "source": [
    "# Please compare all your models using Prettytable library\n",
    "\n",
    "from prettytable import PrettyTable\n",
    "\n",
    "x = PrettyTable()\n",
    "x.field_names = [\"Vectorizer\", \"Hyper parameter-ALPHA\", \"AUC\"]\n",
    "\n",
    "for each in summary:\n",
    "    x.add_row(each)\n",
    "\n",
    "print(x)"
   ]
  }
 ],
 "metadata": {
  "colab": {
   "collapsed_sections": [
    "hrCuADG4N1M-",
    "-U5bh83MN1NM",
    "_ht9enK1N1NT",
    "sYQKSZ_tN1NX",
    "n4vhAHnMN1Nf",
    "xzli_RRdN1OM",
    "WcsQ4_6VN1OQ",
    "mq21rLlsN1OS",
    "4c1EK-EgN1OZ",
    "RlDghTPlN1Oc",
    "E2F4tscgN1Oe"
   ],
   "name": "4_DonorsChoose_NB.ipynb",
   "provenance": [],
   "version": "0.3.2"
  },
  "kernelspec": {
   "display_name": "Python 3",
   "language": "python",
   "name": "python3"
  },
  "language_info": {
   "codemirror_mode": {
    "name": "ipython",
    "version": 3
   },
   "file_extension": ".py",
   "mimetype": "text/x-python",
   "name": "python",
   "nbconvert_exporter": "python",
   "pygments_lexer": "ipython3",
   "version": "3.6.3"
  },
  "toc": {
   "base_numbering": 1,
   "nav_menu": {},
   "number_sections": true,
   "sideBar": true,
   "skip_h1_title": true,
   "title_cell": "Table of Contents",
   "title_sidebar": "Contents",
   "toc_cell": true,
   "toc_position": {
    "height": "calc(100% - 180px)",
    "left": "10px",
    "top": "150px",
    "width": "398px"
   },
   "toc_section_display": true,
   "toc_window_display": true
  },
  "varInspector": {
   "cols": {
    "lenName": 16,
    "lenType": 16,
    "lenVar": 40
   },
   "kernels_config": {
    "python": {
     "delete_cmd_postfix": "",
     "delete_cmd_prefix": "del ",
     "library": "var_list.py",
     "varRefreshCmd": "print(var_dic_list())"
    },
    "r": {
     "delete_cmd_postfix": ") ",
     "delete_cmd_prefix": "rm(",
     "library": "var_list.r",
     "varRefreshCmd": "cat(var_dic_list()) "
    }
   },
   "types_to_exclude": [
    "module",
    "function",
    "builtin_function_or_method",
    "instance",
    "_Feature"
   ],
   "window_display": false
  }
 },
 "nbformat": 4,
 "nbformat_minor": 1
}
