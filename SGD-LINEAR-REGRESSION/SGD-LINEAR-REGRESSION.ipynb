{
 "cells": [
  {
   "cell_type": "markdown",
   "metadata": {},
   "source": [
    "# Author : Saurabh Singhai"
   ]
  },
  {
   "cell_type": "markdown",
   "metadata": {
    "toc": true
   },
   "source": [
    "<h1>Table of Contents<span class=\"tocSkip\"></span></h1>\n",
    "<div class=\"toc\"><ul class=\"toc-item\"><li><span><a href=\"#Import-Libraries\" data-toc-modified-id=\"Import-Libraries-1\"><span class=\"toc-item-num\">1&nbsp;&nbsp;</span>Import Libraries</a></span></li><li><span><a href=\"#Load-Dataset\" data-toc-modified-id=\"Load-Dataset-2\"><span class=\"toc-item-num\">2&nbsp;&nbsp;</span>Load Dataset</a></span></li><li><span><a href=\"#Read-Target-Coloumn\" data-toc-modified-id=\"Read-Target-Coloumn-3\"><span class=\"toc-item-num\">3&nbsp;&nbsp;</span>Read Target Coloumn</a></span></li><li><span><a href=\"#Find-Null-Values\" data-toc-modified-id=\"Find-Null-Values-4\"><span class=\"toc-item-num\">4&nbsp;&nbsp;</span>Find Null Values</a></span></li><li><span><a href=\"#Train_test_split\" data-toc-modified-id=\"Train_test_split-5\"><span class=\"toc-item-num\">5&nbsp;&nbsp;</span>Train_test_split</a></span></li><li><span><a href=\"#Standardize-the-data\" data-toc-modified-id=\"Standardize-the-data-6\"><span class=\"toc-item-num\">6&nbsp;&nbsp;</span>Standardize the data</a></span></li><li><span><a href=\"#Implement-SGD\" data-toc-modified-id=\"Implement-SGD-7\"><span class=\"toc-item-num\">7&nbsp;&nbsp;</span>Implement SGD</a></span></li><li><span><a href=\"#Use-SKLearn-SGD\" data-toc-modified-id=\"Use-SKLearn-SGD-8\"><span class=\"toc-item-num\">8&nbsp;&nbsp;</span>Use SKLearn SGD</a></span></li><li><span><a href=\"#Conclusion\" data-toc-modified-id=\"Conclusion-9\"><span class=\"toc-item-num\">9&nbsp;&nbsp;</span>Conclusion</a></span></li></ul></div>"
   ]
  },
  {
   "cell_type": "markdown",
   "metadata": {},
   "source": [
    "## Import Libraries"
   ]
  },
  {
   "cell_type": "code",
   "execution_count": 1,
   "metadata": {
    "ExecuteTime": {
     "end_time": "2019-12-23T10:30:51.415345Z",
     "start_time": "2019-12-23T10:30:48.775455Z"
    },
    "collapsed": true
   },
   "outputs": [],
   "source": [
    "import warnings\n",
    "warnings.filterwarnings(\"ignore\")\n",
    "from sklearn.datasets import load_boston\n",
    "from random import seed\n",
    "from random import randrange\n",
    "from csv import reader\n",
    "from math import sqrt\n",
    "from sklearn.preprocessing import StandardScaler\n",
    "import pandas as pd\n",
    "import numpy as np\n",
    "import matplotlib.pyplot as plt\n",
    "from prettytable import PrettyTable\n",
    "from sklearn.linear_model import SGDRegressor\n",
    "from sklearn import preprocessing\n",
    "from sklearn.metrics import mean_squared_error\n",
    "import sklearn\n",
    "import seaborn as sns\n",
    "\n",
    "from collections import Counter\n",
    "from sklearn.metrics import accuracy_score\n",
    "\n",
    "from sklearn.preprocessing import StandardScaler\n",
    "import pandas as pd\n",
    "import math\n",
    "from sklearn.model_selection import train_test_split"
   ]
  },
  {
   "cell_type": "markdown",
   "metadata": {},
   "source": [
    "## Load Dataset"
   ]
  },
  {
   "cell_type": "code",
   "execution_count": 2,
   "metadata": {
    "ExecuteTime": {
     "end_time": "2019-12-23T10:30:51.454699Z",
     "start_time": "2019-12-23T10:30:51.415345Z"
    }
   },
   "outputs": [
    {
     "name": "stdout",
     "output_type": "stream",
     "text": [
      "(506, 13)\n"
     ]
    }
   ],
   "source": [
    "boston = load_boston()\n",
    "# Shape of Boston datasets\n",
    "print(boston.data.shape)"
   ]
  },
  {
   "cell_type": "code",
   "execution_count": 3,
   "metadata": {
    "ExecuteTime": {
     "end_time": "2019-12-23T10:30:51.553646Z",
     "start_time": "2019-12-23T10:30:51.458697Z"
    }
   },
   "outputs": [
    {
     "name": "stdout",
     "output_type": "stream",
     "text": [
      "Boston House Prices dataset\n",
      "===========================\n",
      "\n",
      "Notes\n",
      "------\n",
      "Data Set Characteristics:  \n",
      "\n",
      "    :Number of Instances: 506 \n",
      "\n",
      "    :Number of Attributes: 13 numeric/categorical predictive\n",
      "    \n",
      "    :Median Value (attribute 14) is usually the target\n",
      "\n",
      "    :Attribute Information (in order):\n",
      "        - CRIM     per capita crime rate by town\n",
      "        - ZN       proportion of residential land zoned for lots over 25,000 sq.ft.\n",
      "        - INDUS    proportion of non-retail business acres per town\n",
      "        - CHAS     Charles River dummy variable (= 1 if tract bounds river; 0 otherwise)\n",
      "        - NOX      nitric oxides concentration (parts per 10 million)\n",
      "        - RM       average number of rooms per dwelling\n",
      "        - AGE      proportion of owner-occupied units built prior to 1940\n",
      "        - DIS      weighted distances to five Boston employment centres\n",
      "        - RAD      index of accessibility to radial highways\n",
      "        - TAX      full-value property-tax rate per $10,000\n",
      "        - PTRATIO  pupil-teacher ratio by town\n",
      "        - B        1000(Bk - 0.63)^2 where Bk is the proportion of blacks by town\n",
      "        - LSTAT    % lower status of the population\n",
      "        - MEDV     Median value of owner-occupied homes in $1000's\n",
      "\n",
      "    :Missing Attribute Values: None\n",
      "\n",
      "    :Creator: Harrison, D. and Rubinfeld, D.L.\n",
      "\n",
      "This is a copy of UCI ML housing dataset.\n",
      "http://archive.ics.uci.edu/ml/datasets/Housing\n",
      "\n",
      "\n",
      "This dataset was taken from the StatLib library which is maintained at Carnegie Mellon University.\n",
      "\n",
      "The Boston house-price data of Harrison, D. and Rubinfeld, D.L. 'Hedonic\n",
      "prices and the demand for clean air', J. Environ. Economics & Management,\n",
      "vol.5, 81-102, 1978.   Used in Belsley, Kuh & Welsch, 'Regression diagnostics\n",
      "...', Wiley, 1980.   N.B. Various transformations are used in the table on\n",
      "pages 244-261 of the latter.\n",
      "\n",
      "The Boston house-price data has been used in many machine learning papers that address regression\n",
      "problems.   \n",
      "     \n",
      "**References**\n",
      "\n",
      "   - Belsley, Kuh & Welsch, 'Regression diagnostics: Identifying Influential Data and Sources of Collinearity', Wiley, 1980. 244-261.\n",
      "   - Quinlan,R. (1993). Combining Instance-Based and Model-Based Learning. In Proceedings on the Tenth International Conference of Machine Learning, 236-243, University of Massachusetts, Amherst. Morgan Kaufmann.\n",
      "   - many more! (see http://archive.ics.uci.edu/ml/datasets/Housing)\n",
      "\n"
     ]
    }
   ],
   "source": [
    "print(boston.DESCR)"
   ]
  },
  {
   "cell_type": "code",
   "execution_count": 4,
   "metadata": {
    "ExecuteTime": {
     "end_time": "2019-12-23T10:30:51.659305Z",
     "start_time": "2019-12-23T10:30:51.559649Z"
    }
   },
   "outputs": [
    {
     "data": {
      "text/plain": [
       "dict_values([array([[  6.32000000e-03,   1.80000000e+01,   2.31000000e+00, ...,\n",
       "          1.53000000e+01,   3.96900000e+02,   4.98000000e+00],\n",
       "       [  2.73100000e-02,   0.00000000e+00,   7.07000000e+00, ...,\n",
       "          1.78000000e+01,   3.96900000e+02,   9.14000000e+00],\n",
       "       [  2.72900000e-02,   0.00000000e+00,   7.07000000e+00, ...,\n",
       "          1.78000000e+01,   3.92830000e+02,   4.03000000e+00],\n",
       "       ..., \n",
       "       [  6.07600000e-02,   0.00000000e+00,   1.19300000e+01, ...,\n",
       "          2.10000000e+01,   3.96900000e+02,   5.64000000e+00],\n",
       "       [  1.09590000e-01,   0.00000000e+00,   1.19300000e+01, ...,\n",
       "          2.10000000e+01,   3.93450000e+02,   6.48000000e+00],\n",
       "       [  4.74100000e-02,   0.00000000e+00,   1.19300000e+01, ...,\n",
       "          2.10000000e+01,   3.96900000e+02,   7.88000000e+00]]), array([ 24. ,  21.6,  34.7,  33.4,  36.2,  28.7,  22.9,  27.1,  16.5,\n",
       "        18.9,  15. ,  18.9,  21.7,  20.4,  18.2,  19.9,  23.1,  17.5,\n",
       "        20.2,  18.2,  13.6,  19.6,  15.2,  14.5,  15.6,  13.9,  16.6,\n",
       "        14.8,  18.4,  21. ,  12.7,  14.5,  13.2,  13.1,  13.5,  18.9,\n",
       "        20. ,  21. ,  24.7,  30.8,  34.9,  26.6,  25.3,  24.7,  21.2,\n",
       "        19.3,  20. ,  16.6,  14.4,  19.4,  19.7,  20.5,  25. ,  23.4,\n",
       "        18.9,  35.4,  24.7,  31.6,  23.3,  19.6,  18.7,  16. ,  22.2,\n",
       "        25. ,  33. ,  23.5,  19.4,  22. ,  17.4,  20.9,  24.2,  21.7,\n",
       "        22.8,  23.4,  24.1,  21.4,  20. ,  20.8,  21.2,  20.3,  28. ,\n",
       "        23.9,  24.8,  22.9,  23.9,  26.6,  22.5,  22.2,  23.6,  28.7,\n",
       "        22.6,  22. ,  22.9,  25. ,  20.6,  28.4,  21.4,  38.7,  43.8,\n",
       "        33.2,  27.5,  26.5,  18.6,  19.3,  20.1,  19.5,  19.5,  20.4,\n",
       "        19.8,  19.4,  21.7,  22.8,  18.8,  18.7,  18.5,  18.3,  21.2,\n",
       "        19.2,  20.4,  19.3,  22. ,  20.3,  20.5,  17.3,  18.8,  21.4,\n",
       "        15.7,  16.2,  18. ,  14.3,  19.2,  19.6,  23. ,  18.4,  15.6,\n",
       "        18.1,  17.4,  17.1,  13.3,  17.8,  14. ,  14.4,  13.4,  15.6,\n",
       "        11.8,  13.8,  15.6,  14.6,  17.8,  15.4,  21.5,  19.6,  15.3,\n",
       "        19.4,  17. ,  15.6,  13.1,  41.3,  24.3,  23.3,  27. ,  50. ,\n",
       "        50. ,  50. ,  22.7,  25. ,  50. ,  23.8,  23.8,  22.3,  17.4,\n",
       "        19.1,  23.1,  23.6,  22.6,  29.4,  23.2,  24.6,  29.9,  37.2,\n",
       "        39.8,  36.2,  37.9,  32.5,  26.4,  29.6,  50. ,  32. ,  29.8,\n",
       "        34.9,  37. ,  30.5,  36.4,  31.1,  29.1,  50. ,  33.3,  30.3,\n",
       "        34.6,  34.9,  32.9,  24.1,  42.3,  48.5,  50. ,  22.6,  24.4,\n",
       "        22.5,  24.4,  20. ,  21.7,  19.3,  22.4,  28.1,  23.7,  25. ,\n",
       "        23.3,  28.7,  21.5,  23. ,  26.7,  21.7,  27.5,  30.1,  44.8,\n",
       "        50. ,  37.6,  31.6,  46.7,  31.5,  24.3,  31.7,  41.7,  48.3,\n",
       "        29. ,  24. ,  25.1,  31.5,  23.7,  23.3,  22. ,  20.1,  22.2,\n",
       "        23.7,  17.6,  18.5,  24.3,  20.5,  24.5,  26.2,  24.4,  24.8,\n",
       "        29.6,  42.8,  21.9,  20.9,  44. ,  50. ,  36. ,  30.1,  33.8,\n",
       "        43.1,  48.8,  31. ,  36.5,  22.8,  30.7,  50. ,  43.5,  20.7,\n",
       "        21.1,  25.2,  24.4,  35.2,  32.4,  32. ,  33.2,  33.1,  29.1,\n",
       "        35.1,  45.4,  35.4,  46. ,  50. ,  32.2,  22. ,  20.1,  23.2,\n",
       "        22.3,  24.8,  28.5,  37.3,  27.9,  23.9,  21.7,  28.6,  27.1,\n",
       "        20.3,  22.5,  29. ,  24.8,  22. ,  26.4,  33.1,  36.1,  28.4,\n",
       "        33.4,  28.2,  22.8,  20.3,  16.1,  22.1,  19.4,  21.6,  23.8,\n",
       "        16.2,  17.8,  19.8,  23.1,  21. ,  23.8,  23.1,  20.4,  18.5,\n",
       "        25. ,  24.6,  23. ,  22.2,  19.3,  22.6,  19.8,  17.1,  19.4,\n",
       "        22.2,  20.7,  21.1,  19.5,  18.5,  20.6,  19. ,  18.7,  32.7,\n",
       "        16.5,  23.9,  31.2,  17.5,  17.2,  23.1,  24.5,  26.6,  22.9,\n",
       "        24.1,  18.6,  30.1,  18.2,  20.6,  17.8,  21.7,  22.7,  22.6,\n",
       "        25. ,  19.9,  20.8,  16.8,  21.9,  27.5,  21.9,  23.1,  50. ,\n",
       "        50. ,  50. ,  50. ,  50. ,  13.8,  13.8,  15. ,  13.9,  13.3,\n",
       "        13.1,  10.2,  10.4,  10.9,  11.3,  12.3,   8.8,   7.2,  10.5,\n",
       "         7.4,  10.2,  11.5,  15.1,  23.2,   9.7,  13.8,  12.7,  13.1,\n",
       "        12.5,   8.5,   5. ,   6.3,   5.6,   7.2,  12.1,   8.3,   8.5,\n",
       "         5. ,  11.9,  27.9,  17.2,  27.5,  15. ,  17.2,  17.9,  16.3,\n",
       "         7. ,   7.2,   7.5,  10.4,   8.8,   8.4,  16.7,  14.2,  20.8,\n",
       "        13.4,  11.7,   8.3,  10.2,  10.9,  11. ,   9.5,  14.5,  14.1,\n",
       "        16.1,  14.3,  11.7,  13.4,   9.6,   8.7,   8.4,  12.8,  10.5,\n",
       "        17.1,  18.4,  15.4,  10.8,  11.8,  14.9,  12.6,  14.1,  13. ,\n",
       "        13.4,  15.2,  16.1,  17.8,  14.9,  14.1,  12.7,  13.5,  14.9,\n",
       "        20. ,  16.4,  17.7,  19.5,  20.2,  21.4,  19.9,  19. ,  19.1,\n",
       "        19.1,  20.1,  19.9,  19.6,  23.2,  29.8,  13.8,  13.3,  16.7,\n",
       "        12. ,  14.6,  21.4,  23. ,  23.7,  25. ,  21.8,  20.6,  21.2,\n",
       "        19.1,  20.6,  15.2,   7. ,   8.1,  13.6,  20.1,  21.8,  24.5,\n",
       "        23.1,  19.7,  18.3,  21.2,  17.5,  16.8,  22.4,  20.6,  23.9,\n",
       "        22. ,  11.9]), array(['CRIM', 'ZN', 'INDUS', 'CHAS', 'NOX', 'RM', 'AGE', 'DIS', 'RAD',\n",
       "       'TAX', 'PTRATIO', 'B', 'LSTAT'],\n",
       "      dtype='<U7'), \"Boston House Prices dataset\\n===========================\\n\\nNotes\\n------\\nData Set Characteristics:  \\n\\n    :Number of Instances: 506 \\n\\n    :Number of Attributes: 13 numeric/categorical predictive\\n    \\n    :Median Value (attribute 14) is usually the target\\n\\n    :Attribute Information (in order):\\n        - CRIM     per capita crime rate by town\\n        - ZN       proportion of residential land zoned for lots over 25,000 sq.ft.\\n        - INDUS    proportion of non-retail business acres per town\\n        - CHAS     Charles River dummy variable (= 1 if tract bounds river; 0 otherwise)\\n        - NOX      nitric oxides concentration (parts per 10 million)\\n        - RM       average number of rooms per dwelling\\n        - AGE      proportion of owner-occupied units built prior to 1940\\n        - DIS      weighted distances to five Boston employment centres\\n        - RAD      index of accessibility to radial highways\\n        - TAX      full-value property-tax rate per $10,000\\n        - PTRATIO  pupil-teacher ratio by town\\n        - B        1000(Bk - 0.63)^2 where Bk is the proportion of blacks by town\\n        - LSTAT    % lower status of the population\\n        - MEDV     Median value of owner-occupied homes in $1000's\\n\\n    :Missing Attribute Values: None\\n\\n    :Creator: Harrison, D. and Rubinfeld, D.L.\\n\\nThis is a copy of UCI ML housing dataset.\\nhttp://archive.ics.uci.edu/ml/datasets/Housing\\n\\n\\nThis dataset was taken from the StatLib library which is maintained at Carnegie Mellon University.\\n\\nThe Boston house-price data of Harrison, D. and Rubinfeld, D.L. 'Hedonic\\nprices and the demand for clean air', J. Environ. Economics & Management,\\nvol.5, 81-102, 1978.   Used in Belsley, Kuh & Welsch, 'Regression diagnostics\\n...', Wiley, 1980.   N.B. Various transformations are used in the table on\\npages 244-261 of the latter.\\n\\nThe Boston house-price data has been used in many machine learning papers that address regression\\nproblems.   \\n     \\n**References**\\n\\n   - Belsley, Kuh & Welsch, 'Regression diagnostics: Identifying Influential Data and Sources of Collinearity', Wiley, 1980. 244-261.\\n   - Quinlan,R. (1993). Combining Instance-Based and Model-Based Learning. In Proceedings on the Tenth International Conference of Machine Learning, 236-243, University of Massachusetts, Amherst. Morgan Kaufmann.\\n   - many more! (see http://archive.ics.uci.edu/ml/datasets/Housing)\\n\"])"
      ]
     },
     "execution_count": 4,
     "metadata": {},
     "output_type": "execute_result"
    }
   ],
   "source": [
    "boston.values()"
   ]
  },
  {
   "cell_type": "code",
   "execution_count": 5,
   "metadata": {
    "ExecuteTime": {
     "end_time": "2019-12-23T10:30:52.076675Z",
     "start_time": "2019-12-23T10:30:51.664302Z"
    }
   },
   "outputs": [
    {
     "name": "stdout",
     "output_type": "stream",
     "text": [
      "['CRIM' 'ZN' 'INDUS' 'CHAS' 'NOX' 'RM' 'AGE' 'DIS' 'RAD' 'TAX' 'PTRATIO'\n",
      " 'B' 'LSTAT']\n"
     ]
    }
   ],
   "source": [
    "columnNames = boston.feature_names\n",
    "print(columnNames)\n",
    "Data = pd.DataFrame(boston.data, columns = columnNames)\n"
   ]
  },
  {
   "cell_type": "code",
   "execution_count": 6,
   "metadata": {
    "ExecuteTime": {
     "end_time": "2019-12-23T10:30:52.306965Z",
     "start_time": "2019-12-23T10:30:52.079658Z"
    }
   },
   "outputs": [
    {
     "data": {
      "text/html": [
       "<div>\n",
       "<style>\n",
       "    .dataframe thead tr:only-child th {\n",
       "        text-align: right;\n",
       "    }\n",
       "\n",
       "    .dataframe thead th {\n",
       "        text-align: left;\n",
       "    }\n",
       "\n",
       "    .dataframe tbody tr th {\n",
       "        vertical-align: top;\n",
       "    }\n",
       "</style>\n",
       "<table border=\"1\" class=\"dataframe\">\n",
       "  <thead>\n",
       "    <tr style=\"text-align: right;\">\n",
       "      <th></th>\n",
       "      <th>CRIM</th>\n",
       "      <th>ZN</th>\n",
       "      <th>INDUS</th>\n",
       "      <th>CHAS</th>\n",
       "      <th>NOX</th>\n",
       "      <th>RM</th>\n",
       "      <th>AGE</th>\n",
       "      <th>DIS</th>\n",
       "      <th>RAD</th>\n",
       "      <th>TAX</th>\n",
       "      <th>PTRATIO</th>\n",
       "      <th>B</th>\n",
       "      <th>LSTAT</th>\n",
       "    </tr>\n",
       "  </thead>\n",
       "  <tbody>\n",
       "    <tr>\n",
       "      <th>0</th>\n",
       "      <td>0.00632</td>\n",
       "      <td>18.0</td>\n",
       "      <td>2.31</td>\n",
       "      <td>0.0</td>\n",
       "      <td>0.538</td>\n",
       "      <td>6.575</td>\n",
       "      <td>65.2</td>\n",
       "      <td>4.0900</td>\n",
       "      <td>1.0</td>\n",
       "      <td>296.0</td>\n",
       "      <td>15.3</td>\n",
       "      <td>396.90</td>\n",
       "      <td>4.98</td>\n",
       "    </tr>\n",
       "    <tr>\n",
       "      <th>1</th>\n",
       "      <td>0.02731</td>\n",
       "      <td>0.0</td>\n",
       "      <td>7.07</td>\n",
       "      <td>0.0</td>\n",
       "      <td>0.469</td>\n",
       "      <td>6.421</td>\n",
       "      <td>78.9</td>\n",
       "      <td>4.9671</td>\n",
       "      <td>2.0</td>\n",
       "      <td>242.0</td>\n",
       "      <td>17.8</td>\n",
       "      <td>396.90</td>\n",
       "      <td>9.14</td>\n",
       "    </tr>\n",
       "    <tr>\n",
       "      <th>2</th>\n",
       "      <td>0.02729</td>\n",
       "      <td>0.0</td>\n",
       "      <td>7.07</td>\n",
       "      <td>0.0</td>\n",
       "      <td>0.469</td>\n",
       "      <td>7.185</td>\n",
       "      <td>61.1</td>\n",
       "      <td>4.9671</td>\n",
       "      <td>2.0</td>\n",
       "      <td>242.0</td>\n",
       "      <td>17.8</td>\n",
       "      <td>392.83</td>\n",
       "      <td>4.03</td>\n",
       "    </tr>\n",
       "    <tr>\n",
       "      <th>3</th>\n",
       "      <td>0.03237</td>\n",
       "      <td>0.0</td>\n",
       "      <td>2.18</td>\n",
       "      <td>0.0</td>\n",
       "      <td>0.458</td>\n",
       "      <td>6.998</td>\n",
       "      <td>45.8</td>\n",
       "      <td>6.0622</td>\n",
       "      <td>3.0</td>\n",
       "      <td>222.0</td>\n",
       "      <td>18.7</td>\n",
       "      <td>394.63</td>\n",
       "      <td>2.94</td>\n",
       "    </tr>\n",
       "    <tr>\n",
       "      <th>4</th>\n",
       "      <td>0.06905</td>\n",
       "      <td>0.0</td>\n",
       "      <td>2.18</td>\n",
       "      <td>0.0</td>\n",
       "      <td>0.458</td>\n",
       "      <td>7.147</td>\n",
       "      <td>54.2</td>\n",
       "      <td>6.0622</td>\n",
       "      <td>3.0</td>\n",
       "      <td>222.0</td>\n",
       "      <td>18.7</td>\n",
       "      <td>396.90</td>\n",
       "      <td>5.33</td>\n",
       "    </tr>\n",
       "  </tbody>\n",
       "</table>\n",
       "</div>"
      ],
      "text/plain": [
       "      CRIM    ZN  INDUS  CHAS    NOX     RM   AGE     DIS  RAD    TAX  \\\n",
       "0  0.00632  18.0   2.31   0.0  0.538  6.575  65.2  4.0900  1.0  296.0   \n",
       "1  0.02731   0.0   7.07   0.0  0.469  6.421  78.9  4.9671  2.0  242.0   \n",
       "2  0.02729   0.0   7.07   0.0  0.469  7.185  61.1  4.9671  2.0  242.0   \n",
       "3  0.03237   0.0   2.18   0.0  0.458  6.998  45.8  6.0622  3.0  222.0   \n",
       "4  0.06905   0.0   2.18   0.0  0.458  7.147  54.2  6.0622  3.0  222.0   \n",
       "\n",
       "   PTRATIO       B  LSTAT  \n",
       "0     15.3  396.90   4.98  \n",
       "1     17.8  396.90   9.14  \n",
       "2     17.8  392.83   4.03  \n",
       "3     18.7  394.63   2.94  \n",
       "4     18.7  396.90   5.33  "
      ]
     },
     "execution_count": 6,
     "metadata": {},
     "output_type": "execute_result"
    }
   ],
   "source": [
    "Data.head(5)"
   ]
  },
  {
   "cell_type": "markdown",
   "metadata": {},
   "source": [
    "## Read Target Coloumn"
   ]
  },
  {
   "cell_type": "code",
   "execution_count": 7,
   "metadata": {
    "ExecuteTime": {
     "end_time": "2019-12-23T10:30:52.630849Z",
     "start_time": "2019-12-23T10:30:52.311964Z"
    }
   },
   "outputs": [
    {
     "name": "stdout",
     "output_type": "stream",
     "text": [
      "[ 24.   21.6  34.7  33.4  36.2  28.7  22.9  27.1  16.5  18.9]\n"
     ]
    }
   ],
   "source": [
    "print(boston.target[:10])"
   ]
  },
  {
   "cell_type": "code",
   "execution_count": 8,
   "metadata": {
    "ExecuteTime": {
     "end_time": "2019-12-23T10:30:53.018530Z",
     "start_time": "2019-12-23T10:30:52.641852Z"
    }
   },
   "outputs": [
    {
     "name": "stdout",
     "output_type": "stream",
     "text": [
      "(506, 14)\n",
      "      CRIM    ZN  INDUS  CHAS    NOX     RM   AGE     DIS  RAD    TAX  \\\n",
      "0  0.00632  18.0   2.31   0.0  0.538  6.575  65.2  4.0900  1.0  296.0   \n",
      "1  0.02731   0.0   7.07   0.0  0.469  6.421  78.9  4.9671  2.0  242.0   \n",
      "\n",
      "   PTRATIO      B  LSTAT  PRICE  \n",
      "0     15.3  396.9   4.98   24.0  \n",
      "1     17.8  396.9   9.14   21.6  \n"
     ]
    }
   ],
   "source": [
    "Data_Labels = boston.target\n",
    "Data_Labels.shape\n",
    "Data[\"PRICE\"] = Data_Labels\n",
    "print(Data.shape)\n",
    "print(Data.head(2))"
   ]
  },
  {
   "cell_type": "markdown",
   "metadata": {},
   "source": [
    "## Find Null Values"
   ]
  },
  {
   "cell_type": "code",
   "execution_count": 9,
   "metadata": {
    "ExecuteTime": {
     "end_time": "2019-12-23T10:30:53.117659Z",
     "start_time": "2019-12-23T10:30:53.022455Z"
    }
   },
   "outputs": [
    {
     "data": {
      "text/plain": [
       "CRIM       0\n",
       "ZN         0\n",
       "INDUS      0\n",
       "CHAS       0\n",
       "NOX        0\n",
       "RM         0\n",
       "AGE        0\n",
       "DIS        0\n",
       "RAD        0\n",
       "TAX        0\n",
       "PTRATIO    0\n",
       "B          0\n",
       "LSTAT      0\n",
       "PRICE      0\n",
       "dtype: int64"
      ]
     },
     "execution_count": 9,
     "metadata": {},
     "output_type": "execute_result"
    }
   ],
   "source": [
    "Data.isnull().sum()"
   ]
  },
  {
   "cell_type": "markdown",
   "metadata": {},
   "source": [
    "## Train_test_split"
   ]
  },
  {
   "cell_type": "code",
   "execution_count": 10,
   "metadata": {
    "ExecuteTime": {
     "end_time": "2019-12-23T10:30:53.288855Z",
     "start_time": "2019-12-23T10:30:53.125655Z"
    }
   },
   "outputs": [
    {
     "name": "stdout",
     "output_type": "stream",
     "text": [
      "         CRIM    ZN  INDUS  CHAS    NOX     RM    AGE     DIS   RAD    TAX  \\\n",
      "221   0.40771   0.0   6.20   1.0  0.507  6.164   91.3  3.0480   8.0  307.0   \n",
      "116   0.13158   0.0  10.01   0.0  0.547  6.176   72.5  2.7301   6.0  432.0   \n",
      "74    0.07896   0.0  12.83   0.0  0.437  6.273    6.0  4.2515   5.0  398.0   \n",
      "337   0.03041   0.0   5.19   0.0  0.515  5.895   59.6  5.6150   5.0  224.0   \n",
      "361   3.83684   0.0  18.10   0.0  0.770  6.251   91.1  2.2955  24.0  666.0   \n",
      "504   0.10959   0.0  11.93   0.0  0.573  6.794   89.3  2.3889   1.0  273.0   \n",
      "402   9.59571   0.0  18.10   0.0  0.693  6.404  100.0  1.6390  24.0  666.0   \n",
      "298   0.06466  70.0   2.24   0.0  0.400  6.345   20.1  7.8278   5.0  358.0   \n",
      "438  13.67810   0.0  18.10   0.0  0.740  5.935   87.9  1.8206  24.0  666.0   \n",
      "211   0.37578   0.0  10.59   1.0  0.489  5.404   88.6  3.6650   4.0  277.0   \n",
      "\n",
      "     PTRATIO       B  LSTAT  PRICE  \n",
      "221     17.4  395.24  21.46   21.7  \n",
      "116     17.8  393.30  12.04   21.2  \n",
      "74      18.7  394.92   6.78   24.1  \n",
      "337     20.2  394.81  10.56   18.5  \n",
      "361     20.2  350.65  14.19   19.9  \n",
      "504     21.0  393.45   6.48   22.0  \n",
      "402     20.2  376.11  20.31   12.1  \n",
      "298     14.8  368.24   4.97   22.5  \n",
      "438     20.2   68.95  34.02    8.4  \n",
      "211     18.6  395.24  23.98   19.3  \n"
     ]
    }
   ],
   "source": [
    "X_train, X_test, Y_train, Y_test = train_test_split(Data, Data[\"PRICE\"],test_size = 0.2)\n",
    "\n",
    "print(X_train.head(10))"
   ]
  },
  {
   "cell_type": "code",
   "execution_count": 11,
   "metadata": {
    "ExecuteTime": {
     "end_time": "2019-12-23T10:30:53.431172Z",
     "start_time": "2019-12-23T10:30:53.293853Z"
    }
   },
   "outputs": [
    {
     "data": {
      "text/plain": [
       "((404, 14), (102, 14), (404,), (102,))"
      ]
     },
     "execution_count": 11,
     "metadata": {},
     "output_type": "execute_result"
    }
   ],
   "source": [
    "X_train.shape, X_test.shape, Y_train.shape, Y_test.shape"
   ]
  },
  {
   "cell_type": "markdown",
   "metadata": {},
   "source": [
    "## Standardize the data"
   ]
  },
  {
   "cell_type": "code",
   "execution_count": 12,
   "metadata": {
    "ExecuteTime": {
     "end_time": "2019-12-23T10:30:53.565144Z",
     "start_time": "2019-12-23T10:30:53.438167Z"
    },
    "collapsed": true
   },
   "outputs": [],
   "source": [
    "#First Standadize the data\n",
    "from sklearn import preprocessing\n",
    "scaler=preprocessing.StandardScaler()\n",
    "\n",
    "std_scale = scaler.fit(X_train[['CRIM', 'ZN','INDUS','CHAS','NOX','RM','AGE','DIS','RAD','TAX','PTRATIO','B','LSTAT']])\n",
    "train_standardized= std_scale.transform(X_train[['CRIM', 'ZN','INDUS','CHAS','NOX','RM','AGE','DIS','RAD','TAX','PTRATIO','B','LSTAT']])\n",
    "test_standardized= std_scale.transform(X_test[['CRIM','ZN','INDUS','CHAS','NOX','RM','AGE','DIS','RAD','TAX','PTRATIO','B','LSTAT']])"
   ]
  },
  {
   "cell_type": "code",
   "execution_count": 13,
   "metadata": {
    "ExecuteTime": {
     "end_time": "2019-12-23T10:30:53.646358Z",
     "start_time": "2019-12-23T10:30:53.569143Z"
    }
   },
   "outputs": [
    {
     "name": "stdout",
     "output_type": "stream",
     "text": [
      "==================================================\n",
      "[ 21.7  21.2  24.1  18.5  19.9  22.   12.1  22.5   8.4  19.3  20.4  24.5\n",
      "  18.3  50.   50.   23.8  19.9  20.8  28.4  21.5  17.5  21.9  12.7  23.2\n",
      "  22.9  15.6  23.    7.4  29.   37.6  19.6  43.1  10.2  19.4  29.8  21.4\n",
      "  11.9  22.2  21.8  11.7  27.9  17.8   5.   20.6  33.3  20.5  50.   10.2\n",
      "  18.3  31.5  19.7  17.   23.3  16.6  28.7  15.3  19.3  20.6  22.1  43.5\n",
      "  23.8  25.   20.4  17.8  10.5  19.4  17.6  24.8  42.3  17.5  13.3  18.7\n",
      "  29.    9.7  18.2  22.   35.2  20.7  18.4  14.4  30.1  22.   19.3  29.4\n",
      "  21.   34.7  13.3  31.6  13.1  30.1  17.2  46.   35.4  16.8  32.2  22.\n",
      "  25.   50.   20.1  19.4  18.7  22.2  19.6  21.1  21.   28.1  29.9  19.5\n",
      "  18.4   7.   36.1  21.7  17.4  30.1   7.2  48.5  30.3  41.3  32.5  22.2\n",
      "  21.7  14.6  24.7  22.6  19.5  19.5  19.8   6.3  20.   25.    5.   23.1\n",
      "  23.6  11.5  17.2  31.1  13.4  10.5  20.8  20.4  19.6  11.3  15.   34.9\n",
      "  31.7  26.7  17.8  20.3  11.9  13.4  21.8  20.2  16.1  15.4  18.   19.1\n",
      "  21.1  23.9   8.4   8.8  19.3  31.5  19.1  14.3  25.   16.1  14.9  14.1\n",
      "  20.9  15.1  10.8  29.1  23.2  22.9  15.6  22.   32.   28.   15.2  18.5\n",
      "  21.2  21.6  27.5  21.9  41.7  23.4  16.8  32.7  28.2  12.8  22.5  23.1\n",
      "  23.9  44.8  14.5  12.3  13.8  23.1  21.7  24.   13.2   7.5  18.9  23.7\n",
      "  10.9  16.2  13.9  19.6  18.9  15.6  16.4  34.9  25.   36.4  12.7  24.7\n",
      "  20.6  24.3  19.4  21.2  18.9  17.2  20.   13.8  21.7  22.9  26.6  20.5\n",
      "   9.5  23.7  18.9  16.   24.3  13.4  33.1  33.4  16.7  22.8  22.2  23.9\n",
      "  50.   17.1  21.7  25.2  19.6  15.2  13.8  37.9   8.7  33.   17.5  20.6\n",
      "  17.8  33.2  13.5  10.2  21.5  15.2  26.5  11.8  38.7  14.3  36.2  24.8\n",
      "  22.7  13.8  26.6  27.    8.5  16.7  13.   18.2  19.5  27.9  33.2  48.8\n",
      "  20.   24.   26.2  20.3  50.   17.1  28.6  23.3  27.5  19.1  29.1  20.1\n",
      "  12.5  23.8  23.1  15.6  19.8  20.    7.   25.    8.1  15.6  23.2  18.7\n",
      "  13.5  19.2  22.2  26.6  50.   20.8  22.8  19.   14.9  27.5  24.1  23.3\n",
      "  20.1  23.1  21.7  15.4   5.6  25.1  22.9  24.4  10.9  34.6  18.6  23.6\n",
      "  14.5  11.8  35.1  28.4  10.4   8.3  16.1  13.3  32.4  24.8  22.6  22.8\n",
      "  21.6  24.8  21.9  23.2  43.8  22.6  29.8  23.   23.1  30.8  18.8  16.5\n",
      "  34.9  13.9  14.4  20.3  13.4  11.   15.7  21.2  22.4  19.7  50.    7.2\n",
      "  23.5  20.6  21.2  18.8  24.4  14.1  50.   24.1  22.4  24.4  22.3  23.9\n",
      "  22.   22.7  17.4  24.6  21.4  36.2  50.   35.4  44.   24.5  20.7  23.\n",
      "  50.   18.5  21.4  33.4  24.7  24.4  36.   32.   14.   16.2  23.9  12.6\n",
      "  19.1  29.6  17.7  14.8  28.7  17.3  45.4  14.6]\n",
      "==================================================\n",
      "(404,)\n",
      "==================================================\n",
      "(404, 13)\n"
     ]
    }
   ],
   "source": [
    "X_train_standardized = pd.DataFrame(train_standardized, columns = columnNames)\n",
    "X_test_standardized = pd.DataFrame(test_standardized, columns = columnNames)\n",
    "Y_train=np.array(Y_train)\n",
    "Y_test=np.array(Y_test)\n",
    "\n",
    "print(\"=\"*50)\n",
    "print(Y_train)\n",
    "print(\"=\"*50)\n",
    "print(Y_train.shape)\n",
    "print(\"=\"*50)\n",
    "print(X_train_standardized.shape)"
   ]
  },
  {
   "cell_type": "code",
   "execution_count": 14,
   "metadata": {
    "ExecuteTime": {
     "end_time": "2019-12-23T10:30:53.747933Z",
     "start_time": "2019-12-23T10:30:53.650356Z"
    },
    "collapsed": true
   },
   "outputs": [],
   "source": [
    "X_train_standardized['PRICE']=Y_train\n",
    "X_test_standardized['PRICE']=Y_test"
   ]
  },
  {
   "cell_type": "code",
   "execution_count": 15,
   "metadata": {
    "ExecuteTime": {
     "end_time": "2019-12-23T10:30:53.885932Z",
     "start_time": "2019-12-23T10:30:53.754921Z"
    }
   },
   "outputs": [
    {
     "name": "stdout",
     "output_type": "stream",
     "text": [
      "(404, 14)\n",
      "(102, 14)\n"
     ]
    }
   ],
   "source": [
    "print(X_train_standardized.shape)\n",
    "print(X_test_standardized.shape)"
   ]
  },
  {
   "cell_type": "markdown",
   "metadata": {},
   "source": [
    "## Implement SGD"
   ]
  },
  {
   "cell_type": "code",
   "execution_count": 16,
   "metadata": {
    "ExecuteTime": {
     "end_time": "2019-12-23T10:32:03.503890Z",
     "start_time": "2019-12-23T10:30:53.889933Z"
    }
   },
   "outputs": [
    {
     "name": "stdout",
     "output_type": "stream",
     "text": [
      "404 [ 0.02227997  0.12424859  0.07334289  0.13013477  0.0360016   0.04797156\n",
      "  0.04805543 -0.00959031  0.10509333  0.00672592 -0.09315377 -0.12427005\n",
      "  0.11633426] [-0.05379845] 0.2\n",
      "Weight = [-0.40759152  1.08887901  0.43421475  0.89736121 -1.83728164  2.97616813\n",
      "  0.6330621  -2.16034948  2.24545928 -2.26065628 -1.81281784  1.29698828\n",
      " -3.60069238]\n",
      "b = [ 22.09991046]\n"
     ]
    }
   ],
   "source": [
    "#https://github.com/gauravtheP/Implementing-Stochastic-GradientDescent/blob/master/LinearRegression_SGD_BostonHomePrices.ipynb\n",
    "# First step initilize the weights and b\n",
    "# Slope intercept form s=mx+b.\n",
    "# mx is the weights*x1....weights_d*xd\n",
    "# b is the intercept term\n",
    "\n",
    "m = X_train.shape[0]\n",
    "\n",
    "weight = np.random.randn(13)*np.sqrt(2/m) # defining initial random weight from normal distribution\n",
    "\n",
    "b = np.random.randn(1)*np.sqrt(2/m) # generating initial random y-intercept from normal distribution\n",
    "\n",
    "# initilize learing rate\n",
    "learningRate = 0.2\n",
    "print(m,weight,b,learningRate)\n",
    "\n",
    "\n",
    "for i in range(2000): # running 2000 iterations\n",
    "    Data_batch_10 = X_train_standardized.sample(n = 10) # taking 10 stochastic samples\n",
    "    X_temp = Data_batch_10.drop(\"PRICE\", axis = 1, inplace = False) # DROP the price label, because this is the output label we have to predict.\n",
    "    X=X_temp\n",
    "    Y = Data_batch_10[\"PRICE\"]\n",
    "    PartialGradient = np.empty(13)# in this we store the partial derivate with respect to w...we have 13 features  13 features\n",
    "    sum2 = 0\n",
    "# Update the weights-------------------------------\n",
    "# formula (w0=w1-lr*derivate)in every iteration\n",
    "\n",
    "# STEP#1.\n",
    "#--------\n",
    "#First calculate the derivative\n",
    "    for j in range(13): # as there are 13 dimensions in our dataset and dimensions of weight should also be same as dimension of our dataset\n",
    "        sum1 = 0\n",
    "        for k in range(10):\n",
    "            sum1 += -2 * X.iloc[k][j] * (Y.iloc[k] - np.dot(weight, X.iloc[k]) - b) # this is a derivative of linear regression w.r.t 'w\n",
    "        PartialGradient[j] = sum1\n",
    "        \n",
    "# STEP#2.\n",
    "#--------\n",
    "#multiply with learning rate\n",
    "    PartialGradient *= learningRate\n",
    "    \n",
    "# STEP#3.\n",
    "#--------\n",
    "#Update the weights\n",
    "    for l in range(13):\n",
    "        weight[l] -= PartialGradient[l] # updating weights\n",
    "        \n",
    "# Update the Intercepts or (b's)-------------------------------\n",
    "    for m in range(10):\n",
    "        sum2 += -2 * (Y.iloc[m]- np.dot(weight, X.iloc[m]) - b) # this is the derivative of linear regression w.r.t 'b'\n",
    "    b = b - learningRate * sum2 #updating y-intercept 'b'\n",
    "# in every iteration u have to reduce the learing rate \n",
    "    learningRate = 0.01 / pow(i+1, 0.25) #learning rate at every iteration\n",
    "# just add the regularization term to it\n",
    "    weight = weight + 0.0001*np.dot(weight, weight) #adding l2 regularization\n",
    "    b = b + 0.0001*np.dot(weight, weight) #adding L2 regularization\n",
    "print(\"Weight = \"+str(weight))\n",
    "print(\"b = \"+str(b))"
   ]
  },
  {
   "cell_type": "code",
   "execution_count": 17,
   "metadata": {
    "ExecuteTime": {
     "end_time": "2019-12-23T10:32:03.530393Z",
     "start_time": "2019-12-23T10:32:03.503890Z"
    },
    "collapsed": true
   },
   "outputs": [],
   "source": [
    "# time for testdata.. with our updated weights and coeffcients\n",
    "import math\n",
    "test_temp = X_test_standardized.drop(\"PRICE\", axis = 1, inplace = False)\n",
    "test_data = test_temp\n",
    "test_labels = Y_test\n",
    "y_predicted = []\n",
    "for i in range(102):\n",
    "    test_i = 0\n",
    "    test_i = np.dot(weight, test_data.iloc[i]) + b[0] #making prediction by using optimize values of weights obtained from SGD\n",
    "    y_predicted.append(test_i)"
   ]
  },
  {
   "cell_type": "code",
   "execution_count": 18,
   "metadata": {
    "ExecuteTime": {
     "end_time": "2019-12-23T10:32:03.673805Z",
     "start_time": "2019-12-23T10:32:03.534389Z"
    },
    "collapsed": true
   },
   "outputs": [],
   "source": [
    "#Make the preditions\n",
    "d1 = {'True Labels': Y_test, 'Predicted Labels': y_predicted}\n",
    "df1 = pd.DataFrame(data = d1)"
   ]
  },
  {
   "cell_type": "code",
   "execution_count": 19,
   "metadata": {
    "ExecuteTime": {
     "end_time": "2019-12-23T10:32:03.754207Z",
     "start_time": "2019-12-23T10:32:03.676804Z"
    }
   },
   "outputs": [
    {
     "name": "stdout",
     "output_type": "stream",
     "text": [
      "28.2303459746\n"
     ]
    }
   ],
   "source": [
    "My_Mean_Sq_Error = mean_squared_error(Y_test, y_predicted)\n",
    "print(My_Mean_Sq_Error)"
   ]
  },
  {
   "cell_type": "code",
   "execution_count": 20,
   "metadata": {
    "ExecuteTime": {
     "end_time": "2019-12-23T10:32:04.329056Z",
     "start_time": "2019-12-23T10:32:03.758204Z"
    }
   },
   "outputs": [
    {
     "data": {
      "image/png": "[encoded data removed]",
      "text/plain": [
       "<matplotlib.figure.Figure at 0x1dbdbc5aa90>"
      ]
     },
     "metadata": {},
     "output_type": "display_data"
    }
   ],
   "source": [
    "import seaborn as sns\n",
    "%matplotlib inline\n",
    "lm1 = sns.lmplot(x=\"True Labels\", y=\"Predicted Labels\", data = df1, size = 10)\n",
    "fig1 = lm1.fig\n",
    "fig1.suptitle(\"With Manual Implementation(Without Sklearn)\", fontsize=18)\n",
    "sns.set(font_scale = 1.5)"
   ]
  },
  {
   "cell_type": "markdown",
   "metadata": {},
   "source": [
    "## Use SKLearn SGD"
   ]
  },
  {
   "cell_type": "code",
   "execution_count": 21,
   "metadata": {
    "ExecuteTime": {
     "end_time": "2019-12-23T10:32:04.498612Z",
     "start_time": "2019-12-23T10:32:04.329056Z"
    }
   },
   "outputs": [
    {
     "name": "stdout",
     "output_type": "stream",
     "text": [
      "Weight = [-0.61173094  1.00475583  0.13724696  0.88966024 -2.01484363  2.30659191\n",
      "  0.05914557 -3.12641841  2.39890687 -1.77518791 -2.0349143   0.90127311\n",
      " -4.13311225]\n",
      "Y Intercept = [ 22.3107813]\n"
     ]
    }
   ],
   "source": [
    "#Sklearn implementation\n",
    "X_temp = X_train_standardized.drop(\"PRICE\", axis = 1, inplace = False)\n",
    "X=X_temp\n",
    "Y = Y_train\n",
    "X_test_temp = X_test_standardized.drop(\"PRICE\", axis = 1, inplace = False)\n",
    "X_te=X_test_temp\n",
    "Y_te = Y_test\n",
    "clf = SGDRegressor(shuffle = False, learning_rate= 'invscaling', max_iter = 2000)\n",
    "clf.fit(X, Y)# fir train data\n",
    "Y_pred = clf.predict(X_te)# predict test error\n",
    "print(\"Weight = \"+str(clf.coef_))\n",
    "print(\"Y Intercept = \"+str(clf.intercept_))"
   ]
  },
  {
   "cell_type": "code",
   "execution_count": 22,
   "metadata": {
    "ExecuteTime": {
     "end_time": "2019-12-23T10:32:04.525005Z",
     "start_time": "2019-12-23T10:32:04.502007Z"
    }
   },
   "outputs": [
    {
     "data": {
      "text/html": [
       "<div>\n",
       "<style>\n",
       "    .dataframe thead tr:only-child th {\n",
       "        text-align: right;\n",
       "    }\n",
       "\n",
       "    .dataframe thead th {\n",
       "        text-align: left;\n",
       "    }\n",
       "\n",
       "    .dataframe tbody tr th {\n",
       "        vertical-align: top;\n",
       "    }\n",
       "</style>\n",
       "<table border=\"1\" class=\"dataframe\">\n",
       "  <thead>\n",
       "    <tr style=\"text-align: right;\">\n",
       "      <th></th>\n",
       "      <th>Predicted Labels</th>\n",
       "      <th>True Labels</th>\n",
       "    </tr>\n",
       "  </thead>\n",
       "  <tbody>\n",
       "    <tr>\n",
       "      <th>0</th>\n",
       "      <td>23.815617</td>\n",
       "      <td>19.2</td>\n",
       "    </tr>\n",
       "    <tr>\n",
       "      <th>1</th>\n",
       "      <td>27.231606</td>\n",
       "      <td>22.0</td>\n",
       "    </tr>\n",
       "    <tr>\n",
       "      <th>2</th>\n",
       "      <td>26.614621</td>\n",
       "      <td>22.3</td>\n",
       "    </tr>\n",
       "    <tr>\n",
       "      <th>3</th>\n",
       "      <td>11.623463</td>\n",
       "      <td>12.0</td>\n",
       "    </tr>\n",
       "    <tr>\n",
       "      <th>4</th>\n",
       "      <td>33.630880</td>\n",
       "      <td>37.3</td>\n",
       "    </tr>\n",
       "    <tr>\n",
       "      <th>5</th>\n",
       "      <td>21.399262</td>\n",
       "      <td>20.6</td>\n",
       "    </tr>\n",
       "    <tr>\n",
       "      <th>6</th>\n",
       "      <td>32.442752</td>\n",
       "      <td>37.2</td>\n",
       "    </tr>\n",
       "    <tr>\n",
       "      <th>7</th>\n",
       "      <td>30.454901</td>\n",
       "      <td>30.7</td>\n",
       "    </tr>\n",
       "    <tr>\n",
       "      <th>8</th>\n",
       "      <td>22.459225</td>\n",
       "      <td>20.3</td>\n",
       "    </tr>\n",
       "    <tr>\n",
       "      <th>9</th>\n",
       "      <td>17.094959</td>\n",
       "      <td>17.1</td>\n",
       "    </tr>\n",
       "    <tr>\n",
       "      <th>10</th>\n",
       "      <td>35.311102</td>\n",
       "      <td>36.5</td>\n",
       "    </tr>\n",
       "    <tr>\n",
       "      <th>11</th>\n",
       "      <td>26.978603</td>\n",
       "      <td>23.7</td>\n",
       "    </tr>\n",
       "    <tr>\n",
       "      <th>12</th>\n",
       "      <td>20.059651</td>\n",
       "      <td>20.5</td>\n",
       "    </tr>\n",
       "    <tr>\n",
       "      <th>13</th>\n",
       "      <td>20.148670</td>\n",
       "      <td>23.0</td>\n",
       "    </tr>\n",
       "    <tr>\n",
       "      <th>14</th>\n",
       "      <td>17.092589</td>\n",
       "      <td>18.1</td>\n",
       "    </tr>\n",
       "    <tr>\n",
       "      <th>15</th>\n",
       "      <td>28.763733</td>\n",
       "      <td>42.8</td>\n",
       "    </tr>\n",
       "    <tr>\n",
       "      <th>16</th>\n",
       "      <td>13.990801</td>\n",
       "      <td>13.1</td>\n",
       "    </tr>\n",
       "    <tr>\n",
       "      <th>17</th>\n",
       "      <td>14.195747</td>\n",
       "      <td>9.6</td>\n",
       "    </tr>\n",
       "    <tr>\n",
       "      <th>18</th>\n",
       "      <td>12.824939</td>\n",
       "      <td>18.5</td>\n",
       "    </tr>\n",
       "    <tr>\n",
       "      <th>19</th>\n",
       "      <td>11.410011</td>\n",
       "      <td>13.8</td>\n",
       "    </tr>\n",
       "    <tr>\n",
       "      <th>20</th>\n",
       "      <td>26.981820</td>\n",
       "      <td>23.7</td>\n",
       "    </tr>\n",
       "    <tr>\n",
       "      <th>21</th>\n",
       "      <td>21.340915</td>\n",
       "      <td>20.9</td>\n",
       "    </tr>\n",
       "    <tr>\n",
       "      <th>22</th>\n",
       "      <td>30.018774</td>\n",
       "      <td>32.9</td>\n",
       "    </tr>\n",
       "    <tr>\n",
       "      <th>23</th>\n",
       "      <td>20.139406</td>\n",
       "      <td>13.1</td>\n",
       "    </tr>\n",
       "    <tr>\n",
       "      <th>24</th>\n",
       "      <td>24.870854</td>\n",
       "      <td>24.2</td>\n",
       "    </tr>\n",
       "    <tr>\n",
       "      <th>25</th>\n",
       "      <td>3.687029</td>\n",
       "      <td>8.8</td>\n",
       "    </tr>\n",
       "    <tr>\n",
       "      <th>26</th>\n",
       "      <td>26.982311</td>\n",
       "      <td>27.1</td>\n",
       "    </tr>\n",
       "    <tr>\n",
       "      <th>27</th>\n",
       "      <td>12.184880</td>\n",
       "      <td>13.6</td>\n",
       "    </tr>\n",
       "    <tr>\n",
       "      <th>28</th>\n",
       "      <td>22.759950</td>\n",
       "      <td>20.4</td>\n",
       "    </tr>\n",
       "    <tr>\n",
       "      <th>29</th>\n",
       "      <td>18.874445</td>\n",
       "      <td>27.1</td>\n",
       "    </tr>\n",
       "    <tr>\n",
       "      <th>...</th>\n",
       "      <td>...</td>\n",
       "      <td>...</td>\n",
       "    </tr>\n",
       "    <tr>\n",
       "      <th>72</th>\n",
       "      <td>33.726596</td>\n",
       "      <td>31.0</td>\n",
       "    </tr>\n",
       "    <tr>\n",
       "      <th>73</th>\n",
       "      <td>34.675520</td>\n",
       "      <td>46.7</td>\n",
       "    </tr>\n",
       "    <tr>\n",
       "      <th>74</th>\n",
       "      <td>28.313408</td>\n",
       "      <td>26.4</td>\n",
       "    </tr>\n",
       "    <tr>\n",
       "      <th>75</th>\n",
       "      <td>8.809106</td>\n",
       "      <td>7.2</td>\n",
       "    </tr>\n",
       "    <tr>\n",
       "      <th>76</th>\n",
       "      <td>34.891977</td>\n",
       "      <td>33.1</td>\n",
       "    </tr>\n",
       "    <tr>\n",
       "      <th>77</th>\n",
       "      <td>36.194895</td>\n",
       "      <td>48.3</td>\n",
       "    </tr>\n",
       "    <tr>\n",
       "      <th>78</th>\n",
       "      <td>34.203244</td>\n",
       "      <td>33.8</td>\n",
       "    </tr>\n",
       "    <tr>\n",
       "      <th>79</th>\n",
       "      <td>18.224409</td>\n",
       "      <td>12.7</td>\n",
       "    </tr>\n",
       "    <tr>\n",
       "      <th>80</th>\n",
       "      <td>38.630935</td>\n",
       "      <td>50.0</td>\n",
       "    </tr>\n",
       "    <tr>\n",
       "      <th>81</th>\n",
       "      <td>19.614798</td>\n",
       "      <td>24.3</td>\n",
       "    </tr>\n",
       "    <tr>\n",
       "      <th>82</th>\n",
       "      <td>16.800947</td>\n",
       "      <td>19.4</td>\n",
       "    </tr>\n",
       "    <tr>\n",
       "      <th>83</th>\n",
       "      <td>14.046803</td>\n",
       "      <td>18.2</td>\n",
       "    </tr>\n",
       "    <tr>\n",
       "      <th>84</th>\n",
       "      <td>33.791987</td>\n",
       "      <td>39.8</td>\n",
       "    </tr>\n",
       "    <tr>\n",
       "      <th>85</th>\n",
       "      <td>8.068913</td>\n",
       "      <td>8.5</td>\n",
       "    </tr>\n",
       "    <tr>\n",
       "      <th>86</th>\n",
       "      <td>17.233905</td>\n",
       "      <td>17.4</td>\n",
       "    </tr>\n",
       "    <tr>\n",
       "      <th>87</th>\n",
       "      <td>15.267594</td>\n",
       "      <td>16.6</td>\n",
       "    </tr>\n",
       "    <tr>\n",
       "      <th>88</th>\n",
       "      <td>16.982627</td>\n",
       "      <td>14.9</td>\n",
       "    </tr>\n",
       "    <tr>\n",
       "      <th>89</th>\n",
       "      <td>39.780334</td>\n",
       "      <td>50.0</td>\n",
       "    </tr>\n",
       "    <tr>\n",
       "      <th>90</th>\n",
       "      <td>16.549138</td>\n",
       "      <td>20.1</td>\n",
       "    </tr>\n",
       "    <tr>\n",
       "      <th>91</th>\n",
       "      <td>1.493049</td>\n",
       "      <td>17.9</td>\n",
       "    </tr>\n",
       "    <tr>\n",
       "      <th>92</th>\n",
       "      <td>19.486149</td>\n",
       "      <td>19.4</td>\n",
       "    </tr>\n",
       "    <tr>\n",
       "      <th>93</th>\n",
       "      <td>39.735011</td>\n",
       "      <td>50.0</td>\n",
       "    </tr>\n",
       "    <tr>\n",
       "      <th>94</th>\n",
       "      <td>23.118783</td>\n",
       "      <td>23.8</td>\n",
       "    </tr>\n",
       "    <tr>\n",
       "      <th>95</th>\n",
       "      <td>18.143916</td>\n",
       "      <td>14.2</td>\n",
       "    </tr>\n",
       "    <tr>\n",
       "      <th>96</th>\n",
       "      <td>21.737523</td>\n",
       "      <td>25.0</td>\n",
       "    </tr>\n",
       "    <tr>\n",
       "      <th>97</th>\n",
       "      <td>14.167421</td>\n",
       "      <td>13.6</td>\n",
       "    </tr>\n",
       "    <tr>\n",
       "      <th>98</th>\n",
       "      <td>13.908332</td>\n",
       "      <td>19.0</td>\n",
       "    </tr>\n",
       "    <tr>\n",
       "      <th>99</th>\n",
       "      <td>21.356009</td>\n",
       "      <td>23.3</td>\n",
       "    </tr>\n",
       "    <tr>\n",
       "      <th>100</th>\n",
       "      <td>16.373994</td>\n",
       "      <td>10.4</td>\n",
       "    </tr>\n",
       "    <tr>\n",
       "      <th>101</th>\n",
       "      <td>15.919510</td>\n",
       "      <td>11.7</td>\n",
       "    </tr>\n",
       "  </tbody>\n",
       "</table>\n",
       "<p>102 rows × 2 columns</p>\n",
       "</div>"
      ],
      "text/plain": [
       "     Predicted Labels  True Labels\n",
       "0           23.815617         19.2\n",
       "1           27.231606         22.0\n",
       "2           26.614621         22.3\n",
       "3           11.623463         12.0\n",
       "4           33.630880         37.3\n",
       "5           21.399262         20.6\n",
       "6           32.442752         37.2\n",
       "7           30.454901         30.7\n",
       "8           22.459225         20.3\n",
       "9           17.094959         17.1\n",
       "10          35.311102         36.5\n",
       "11          26.978603         23.7\n",
       "12          20.059651         20.5\n",
       "13          20.148670         23.0\n",
       "14          17.092589         18.1\n",
       "15          28.763733         42.8\n",
       "16          13.990801         13.1\n",
       "17          14.195747          9.6\n",
       "18          12.824939         18.5\n",
       "19          11.410011         13.8\n",
       "20          26.981820         23.7\n",
       "21          21.340915         20.9\n",
       "22          30.018774         32.9\n",
       "23          20.139406         13.1\n",
       "24          24.870854         24.2\n",
       "25           3.687029          8.8\n",
       "26          26.982311         27.1\n",
       "27          12.184880         13.6\n",
       "28          22.759950         20.4\n",
       "29          18.874445         27.1\n",
       "..                ...          ...\n",
       "72          33.726596         31.0\n",
       "73          34.675520         46.7\n",
       "74          28.313408         26.4\n",
       "75           8.809106          7.2\n",
       "76          34.891977         33.1\n",
       "77          36.194895         48.3\n",
       "78          34.203244         33.8\n",
       "79          18.224409         12.7\n",
       "80          38.630935         50.0\n",
       "81          19.614798         24.3\n",
       "82          16.800947         19.4\n",
       "83          14.046803         18.2\n",
       "84          33.791987         39.8\n",
       "85           8.068913          8.5\n",
       "86          17.233905         17.4\n",
       "87          15.267594         16.6\n",
       "88          16.982627         14.9\n",
       "89          39.780334         50.0\n",
       "90          16.549138         20.1\n",
       "91           1.493049         17.9\n",
       "92          19.486149         19.4\n",
       "93          39.735011         50.0\n",
       "94          23.118783         23.8\n",
       "95          18.143916         14.2\n",
       "96          21.737523         25.0\n",
       "97          14.167421         13.6\n",
       "98          13.908332         19.0\n",
       "99          21.356009         23.3\n",
       "100         16.373994         10.4\n",
       "101         15.919510         11.7\n",
       "\n",
       "[102 rows x 2 columns]"
      ]
     },
     "execution_count": 22,
     "metadata": {},
     "output_type": "execute_result"
    }
   ],
   "source": [
    "d2 = {'True Labels': Y_te, 'Predicted Labels': Y_pred}\n",
    "df2 = pd.DataFrame(data = d2)\n",
    "df2\n"
   ]
  },
  {
   "cell_type": "code",
   "execution_count": 23,
   "metadata": {
    "ExecuteTime": {
     "end_time": "2019-12-23T10:32:04.773683Z",
     "start_time": "2019-12-23T10:32:04.528004Z"
    }
   },
   "outputs": [
    {
     "data": {
      "text/plain": [
       "28.240640661030529"
      ]
     },
     "execution_count": 23,
     "metadata": {},
     "output_type": "execute_result"
    }
   ],
   "source": [
    "Mean_Sq_Error = mean_squared_error(Y_te, Y_pred)\n",
    "Mean_Sq_Error"
   ]
  },
  {
   "cell_type": "code",
   "execution_count": 24,
   "metadata": {
    "ExecuteTime": {
     "end_time": "2019-12-23T10:32:05.263736Z",
     "start_time": "2019-12-23T10:32:04.776681Z"
    }
   },
   "outputs": [
    {
     "data": {
      "image/png": "[encoded data removed]",
      "text/plain": [
       "<matplotlib.figure.Figure at 0x1dbdbf7cba8>"
      ]
     },
     "metadata": {},
     "output_type": "display_data"
    }
   ],
   "source": [
    "lm2 = sns.lmplot(x=\"True Labels\", y=\"Predicted Labels\", data = df2, size = 10)\n",
    "fig2 = lm2.fig\n",
    "# Add a title to the Figure\n",
    "fig2.suptitle(\"With Sklearn's Implementation\", fontsize=18)\n",
    "sns.set(font_scale = 1.5)"
   ]
  },
  {
   "cell_type": "markdown",
   "metadata": {},
   "source": [
    "## Conclusion"
   ]
  },
  {
   "cell_type": "code",
   "execution_count": 25,
   "metadata": {
    "ExecuteTime": {
     "end_time": "2019-12-23T10:32:05.274714Z",
     "start_time": "2019-12-23T10:32:05.263736Z"
    }
   },
   "outputs": [
    {
     "name": "stdout",
     "output_type": "stream",
     "text": [
      "Sklearn SGD Impementation error= 28.240640661\n",
      "**************************************************\n",
      "My SGD Impementation error= 28.2303459746\n"
     ]
    }
   ],
   "source": [
    "print(\"Sklearn SGD Impementation error=\", Mean_Sq_Error)\n",
    "print(\"*\"*50)\n",
    "print(\"My SGD Impementation error=\", My_Mean_Sq_Error)"
   ]
  }
 ],
 "metadata": {
  "kernelspec": {
   "display_name": "Python 3",
   "language": "python",
   "name": "python3"
  },
  "language_info": {
   "codemirror_mode": {
    "name": "ipython",
    "version": 3
   },
   "file_extension": ".py",
   "mimetype": "text/x-python",
   "name": "python",
   "nbconvert_exporter": "python",
   "pygments_lexer": "ipython3",
   "version": "3.6.3"
  },
  "toc": {
   "base_numbering": 1,
   "nav_menu": {},
   "number_sections": true,
   "sideBar": true,
   "skip_h1_title": true,
   "title_cell": "Table of Contents",
   "title_sidebar": "Contents",
   "toc_cell": true,
   "toc_position": {},
   "toc_section_display": true,
   "toc_window_display": true
  },
  "varInspector": {
   "cols": {
    "lenName": 16,
    "lenType": 16,
    "lenVar": 40
   },
   "kernels_config": {
    "python": {
     "delete_cmd_postfix": "",
     "delete_cmd_prefix": "del ",
     "library": "var_list.py",
     "varRefreshCmd": "print(var_dic_list())"
    },
    "r": {
     "delete_cmd_postfix": ") ",
     "delete_cmd_prefix": "rm(",
     "library": "var_list.r",
     "varRefreshCmd": "cat(var_dic_list()) "
    }
   },
   "types_to_exclude": [
    "module",
    "function",
    "builtin_function_or_method",
    "instance",
    "_Feature"
   ],
   "window_display": false
  }
 },
 "nbformat": 4,
 "nbformat_minor": 2
}
